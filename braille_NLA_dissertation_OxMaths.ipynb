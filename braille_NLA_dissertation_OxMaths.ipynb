{
  "nbformat": 4,
  "nbformat_minor": 0,
  "metadata": {
    "colab": {
      "name": "braille_NLA_dissertation_OxMaths.ipynb",
      "provenance": [],
      "collapsed_sections": [],
      "mount_file_id": "16QMfSLhdY-1b29wNf7CF-vIN2S4N4Jz_",
      "authorship_tag": "ABX9TyOIvB+nw6UMVnq3YDxSq1oY",
      "include_colab_link": true
    },
    "kernelspec": {
      "name": "python3",
      "display_name": "Python 3"
    },
    "language_info": {
      "name": "python"
    }
  },
  "cells": [
    {
      "cell_type": "markdown",
      "metadata": {
        "id": "view-in-github",
        "colab_type": "text"
      },
      "source": [
        "<a href=\"https://colab.research.google.com/github/braille-NLA-dissertation-OxfordMaths/braille-NLA-code-master-final/blob/main/braille_NLA_dissertation_OxMaths.ipynb\" target=\"_parent\"><img src=\"https://colab.research.google.com/assets/colab-badge.svg\" alt=\"Open In Colab\"/></a>"
      ]
    },
    {
      "cell_type": "markdown",
      "source": [
        "**Importing initial set up of required library packages**"
      ],
      "metadata": {
        "id": "8DOtgLkrINtE"
      }
    },
    {
      "cell_type": "code",
      "execution_count": null,
      "metadata": {
        "id": "LWOa5bsM76KJ"
      },
      "outputs": [],
      "source": [
        "# Import NumPy #\n",
        "import numpy as np\n",
        "# Import all comps stats packages from SciPy's tutorial on LA #\n",
        "import time \n",
        "import os\n",
        "import sys\n",
        "import glob\n",
        "import matplotlib\n",
        "import matplotlib.pyplot as plt\n",
        "import pandas as pd\n",
        "import math\n",
        "import seaborn as sns\n",
        "\n",
        "# Import all Linear Algebra tools in numpy including SVD #\n",
        "from numpy.linalg import svd\n",
        "from numpy.linalg import matrix_rank as rank\n",
        "from scipy.linalg import diagsvd\n",
        "\n",
        "%matplotlib inline\n",
        "%precision 4\n",
        "plt.style.use('ggplot')"
      ]
    },
    {
      "cell_type": "markdown",
      "source": [
        "**How many combinations of unique Braille cells are there in total?**"
      ],
      "metadata": {
        "id": "mShpJeWJvycX"
      }
    },
    {
      "cell_type": "code",
      "source": [
        "## Number of combinations of unique Braille cells ##\n",
        "\n",
        "comb = [0] *7\n",
        "n = 6\n",
        "c = 0\n",
        "\n",
        "while(c<7):\n",
        "  for i in range(7):\n",
        "    comb[c] = math.factorial(n)/(math.factorial(i)*math.factorial(n - i))\n",
        "    c = c + 1\n",
        "\n",
        "print(\"\\033[1;36;47m\")\n",
        "print(\"Combinations list: \", comb, \"\\n\")\n",
        "print(\"Total number of unqiue Braille cells : \", round(sum(comb)))"
      ],
      "metadata": {
        "colab": {
          "base_uri": "https://localhost:8080/"
        },
        "id": "7mSwETnRNXgG",
        "outputId": "3c5188d8-9bca-4bdb-da8e-a401815222ff"
      },
      "execution_count": null,
      "outputs": [
        {
          "output_type": "stream",
          "name": "stdout",
          "text": [
            "\u001b[1;36;47m\n",
            "Combinations list:  [1.0, 6.0, 15.0, 20.0, 15.0, 6.0, 1.0] \n",
            "\n",
            "Total number of unqiue Braille cells :  64\n"
          ]
        }
      ]
    },
    {
      "cell_type": "markdown",
      "source": [
        "**Creating own set of matrix grids for visualisation**"
      ],
      "metadata": {
        "id": "yRxj8JAzv4NY"
      }
    },
    {
      "cell_type": "code",
      "source": [
        "def matrixGrid(x):\n",
        "  x_round = x.round(decimals=0)\n",
        "  x_int = x_round.astype(int)\n",
        "  dataFrame = pd.DataFrame(x_int)\n",
        "  dataFrameStyle = dataFrame.style.background_gradient(cmap=plt.cm.prism, \n",
        "                                                       axis=None)\n",
        "  display(dataFrameStyle)\n",
        "\n",
        "def matrixGridSolType1(x):\n",
        "  x_round = x.round(decimals=0)\n",
        "  x_int = x_round.astype(int)\n",
        "  dataFrame = pd.DataFrame(x_int)\n",
        "  dataFrameStyle = dataFrame.style.background_gradient(cmap=plt.cm.flag, \n",
        "                                                       axis=None)\n",
        "  display(dataFrameStyle)\n",
        "\n",
        "def matrixGridSolType2(x):\n",
        "  x_round = x.round(decimals=0)\n",
        "  x_int = x_round.astype(int)\n",
        "  dataFrame = pd.DataFrame(x_int)\n",
        "  dataFrameStyle = dataFrame.style.background_gradient(cmap=plt.cm.rainbow_r, \n",
        "                                                       axis=None)\n",
        "  display(dataFrameStyle)\n",
        "\n",
        "def matrixGridRound(x):\n",
        "  x_round = x.round(decimals=3)\n",
        "  dataFrame = pd.DataFrame(x_round)\n",
        "  dataFrameStyle = dataFrame.style.background_gradient(cmap=plt.cm.prism, \n",
        "                                                       axis=None)\n",
        "  display(dataFrameStyle)\n",
        "\n",
        "def matrixGridRoundCol(x):\n",
        "  x_round = x.round(decimals=3)\n",
        "  dataFrame = pd.DataFrame(x_round)\n",
        "  dataFrameStyle = dataFrame.style.background_gradient(cmap=plt.cm.seismic_r, \n",
        "                                                       axis=None)\n",
        "  display(dataFrameStyle)"
      ],
      "metadata": {
        "id": "kqrY9zNMF9Fk"
      },
      "execution_count": null,
      "outputs": []
    },
    {
      "cell_type": "code",
      "source": [
        "def gameLayout_colFlag(x):\n",
        "  fig_x = plt.imshow(x, cmap = plt.cm.flag)\n",
        "  plt.axis('off')\n",
        "  fig_x.axes.get_xaxis().set_visible(False)\n",
        "  fig_x.axes.get_yaxis().set_visible(False)\n",
        "\n",
        "def gameLayout_colRainbow(x):\n",
        "  fig_x = plt.imshow(x, cmap = plt.cm.rainbow)\n",
        "  plt.axis('off')\n",
        "  fig_x.axes.get_xaxis().set_visible(False)\n",
        "  fig_x.axes.get_yaxis().set_visible(False)\n",
        "\n",
        "def gameLayout_colCubehelix(x):\n",
        "  fig_x = plt.imshow(x, cmap = plt.cm.cubehelix_r)\n",
        "  plt.axis('off')\n",
        "  fig_x.axes.get_xaxis().set_visible(False)\n",
        "  fig_x.axes.get_yaxis().set_visible(False)\n",
        "\n",
        "def gameLayout_colTerrain(x):\n",
        "  fig_x = plt.imshow(x, cmap = plt.cm.terrain_r)\n",
        "  plt.axis('off')\n",
        "  fig_x.axes.get_xaxis().set_visible(False)\n",
        "  fig_x.axes.get_yaxis().set_visible(False)\n",
        "\n",
        "def gameLayout_colRainbowR(x):\n",
        "  fig_x = plt.imshow(x, cmap = plt.cm.gist_rainbow)\n",
        "  plt.axis('off')\n",
        "  fig_x.axes.get_xaxis().set_visible(False)\n",
        "  fig_x.axes.get_yaxis().set_visible(False)"
      ],
      "metadata": {
        "id": "uN9FTUIQHXnT"
      },
      "execution_count": null,
      "outputs": []
    },
    {
      "cell_type": "markdown",
      "source": [
        "**Teaching mathematics in Braille** \n",
        "\n",
        "*   Corresponds to ***Section 2.2*** in dissertation\n",
        "\n",
        "*   Corresponds to ***Section 3.1*** in dissertation\n",
        "  \n",
        "\n",
        "\n",
        "\n",
        "\n",
        "\n"
      ],
      "metadata": {
        "id": "24DttHWIMbWA"
      }
    },
    {
      "cell_type": "code",
      "source": [
        "## Constructing Braille Nemeth code numbers as dense matrices ## \n",
        "cell_11 = np.array([1, 1])\n",
        "cell_21 = np.array([2, 1])\n",
        "cell_12 = np.array([1, 2])\n",
        "cell_22 = np.array([2, 2])\n",
        "\n",
        "zero = np.array([cell_11, cell_12, cell_22])\n",
        "one = np.array([cell_11, cell_21, cell_11])\n",
        "two = np.array([cell_11, cell_21, cell_21])\n",
        "three = np.array([cell_11, cell_22, cell_11])\n",
        "four = np.array([cell_11, cell_22, cell_12])\n",
        "five = np.array([cell_11, cell_21, cell_12])\n",
        "six = np.array([cell_11, cell_22, cell_21])\n",
        "seven = np.array([cell_11, cell_22, cell_22])\n",
        "eight = np.array([cell_11, cell_21, cell_22])\n",
        "nine = np.array([cell_11, cell_12, cell_21])\n",
        "\n",
        "# Constructing list 'numbers' that includes all the numbers #\n",
        "numbers = [zero, one, two, three, four, five, six, seven, eight, nine]\n",
        "\n",
        "# Showing examples for number '0' and '10' #\n",
        "print(\"\\033[1;33;40m Key: \\033[0;32;47m Green shaded numbers - \"\n",
        "\"\\033[0;30;47m raised Braille dot | \\033[0;31;47m Red shaded numbers - \"\n",
        "\"\\033[0;30;47m not raised \\n\")\n",
        "\n",
        "print(\"\\033[1;36;47m Example 1: matrix for number \\033[1;34;47m 0 \\n\")\n",
        "matrixGrid(numbers[0])\n",
        "\n",
        "print(\"\\n \\033[1;36;47m Example 2: matrix for number \\033[1;34;47m 10 \\n\")\n",
        "matrixGrid(np.hstack((numbers[1], numbers[0])))"
      ],
      "metadata": {
        "colab": {
          "base_uri": "https://localhost:8080/",
          "height": 397
        },
        "id": "_2qcHBjEt_kW",
        "outputId": "c65c3697-d2fb-4e23-9580-65728a937ece"
      },
      "execution_count": null,
      "outputs": [
        {
          "output_type": "stream",
          "name": "stdout",
          "text": [
            "\u001b[1;33;40m Key: \u001b[0;32;47m Green shaded numbers - \u001b[0;30;47m raised Braille dot | \u001b[0;31;47m Red shaded numbers - \u001b[0;30;47m not raised \n",
            "\n",
            "\u001b[1;36;47m Example 1: matrix for number \u001b[1;34;47m 0 \n",
            "\n"
          ]
        },
        {
          "output_type": "display_data",
          "data": {
            "text/plain": [
              "<pandas.io.formats.style.Styler at 0x7fc11800fad0>"
            ],
            "text/html": [
              "<style type=\"text/css\">\n",
              "#T_9b75f_row0_col0, #T_9b75f_row0_col1, #T_9b75f_row1_col0 {\n",
              "  background-color: #ff0000;\n",
              "  color: #f1f1f1;\n",
              "}\n",
              "#T_9b75f_row1_col1, #T_9b75f_row2_col0, #T_9b75f_row2_col1 {\n",
              "  background-color: #54ff00;\n",
              "  color: #000000;\n",
              "}\n",
              "</style>\n",
              "<table id=\"T_9b75f_\" class=\"dataframe\">\n",
              "  <thead>\n",
              "    <tr>\n",
              "      <th class=\"blank level0\" >&nbsp;</th>\n",
              "      <th class=\"col_heading level0 col0\" >0</th>\n",
              "      <th class=\"col_heading level0 col1\" >1</th>\n",
              "    </tr>\n",
              "  </thead>\n",
              "  <tbody>\n",
              "    <tr>\n",
              "      <th id=\"T_9b75f_level0_row0\" class=\"row_heading level0 row0\" >0</th>\n",
              "      <td id=\"T_9b75f_row0_col0\" class=\"data row0 col0\" >1</td>\n",
              "      <td id=\"T_9b75f_row0_col1\" class=\"data row0 col1\" >1</td>\n",
              "    </tr>\n",
              "    <tr>\n",
              "      <th id=\"T_9b75f_level0_row1\" class=\"row_heading level0 row1\" >1</th>\n",
              "      <td id=\"T_9b75f_row1_col0\" class=\"data row1 col0\" >1</td>\n",
              "      <td id=\"T_9b75f_row1_col1\" class=\"data row1 col1\" >2</td>\n",
              "    </tr>\n",
              "    <tr>\n",
              "      <th id=\"T_9b75f_level0_row2\" class=\"row_heading level0 row2\" >2</th>\n",
              "      <td id=\"T_9b75f_row2_col0\" class=\"data row2 col0\" >2</td>\n",
              "      <td id=\"T_9b75f_row2_col1\" class=\"data row2 col1\" >2</td>\n",
              "    </tr>\n",
              "  </tbody>\n",
              "</table>\n"
            ]
          },
          "metadata": {}
        },
        {
          "output_type": "stream",
          "name": "stdout",
          "text": [
            "\n",
            " \u001b[1;36;47m Example 2: matrix for number \u001b[1;34;47m 10 \n",
            "\n"
          ]
        },
        {
          "output_type": "display_data",
          "data": {
            "text/plain": [
              "<pandas.io.formats.style.Styler at 0x7fc117517bd0>"
            ],
            "text/html": [
              "<style type=\"text/css\">\n",
              "#T_449a7_row0_col0, #T_449a7_row0_col1, #T_449a7_row0_col2, #T_449a7_row0_col3, #T_449a7_row1_col1, #T_449a7_row1_col2, #T_449a7_row2_col0, #T_449a7_row2_col1 {\n",
              "  background-color: #ff0000;\n",
              "  color: #f1f1f1;\n",
              "}\n",
              "#T_449a7_row1_col0, #T_449a7_row1_col3, #T_449a7_row2_col2, #T_449a7_row2_col3 {\n",
              "  background-color: #54ff00;\n",
              "  color: #000000;\n",
              "}\n",
              "</style>\n",
              "<table id=\"T_449a7_\" class=\"dataframe\">\n",
              "  <thead>\n",
              "    <tr>\n",
              "      <th class=\"blank level0\" >&nbsp;</th>\n",
              "      <th class=\"col_heading level0 col0\" >0</th>\n",
              "      <th class=\"col_heading level0 col1\" >1</th>\n",
              "      <th class=\"col_heading level0 col2\" >2</th>\n",
              "      <th class=\"col_heading level0 col3\" >3</th>\n",
              "    </tr>\n",
              "  </thead>\n",
              "  <tbody>\n",
              "    <tr>\n",
              "      <th id=\"T_449a7_level0_row0\" class=\"row_heading level0 row0\" >0</th>\n",
              "      <td id=\"T_449a7_row0_col0\" class=\"data row0 col0\" >1</td>\n",
              "      <td id=\"T_449a7_row0_col1\" class=\"data row0 col1\" >1</td>\n",
              "      <td id=\"T_449a7_row0_col2\" class=\"data row0 col2\" >1</td>\n",
              "      <td id=\"T_449a7_row0_col3\" class=\"data row0 col3\" >1</td>\n",
              "    </tr>\n",
              "    <tr>\n",
              "      <th id=\"T_449a7_level0_row1\" class=\"row_heading level0 row1\" >1</th>\n",
              "      <td id=\"T_449a7_row1_col0\" class=\"data row1 col0\" >2</td>\n",
              "      <td id=\"T_449a7_row1_col1\" class=\"data row1 col1\" >1</td>\n",
              "      <td id=\"T_449a7_row1_col2\" class=\"data row1 col2\" >1</td>\n",
              "      <td id=\"T_449a7_row1_col3\" class=\"data row1 col3\" >2</td>\n",
              "    </tr>\n",
              "    <tr>\n",
              "      <th id=\"T_449a7_level0_row2\" class=\"row_heading level0 row2\" >2</th>\n",
              "      <td id=\"T_449a7_row2_col0\" class=\"data row2 col0\" >1</td>\n",
              "      <td id=\"T_449a7_row2_col1\" class=\"data row2 col1\" >1</td>\n",
              "      <td id=\"T_449a7_row2_col2\" class=\"data row2 col2\" >2</td>\n",
              "      <td id=\"T_449a7_row2_col3\" class=\"data row2 col3\" >2</td>\n",
              "    </tr>\n",
              "  </tbody>\n",
              "</table>\n"
            ]
          },
          "metadata": {}
        }
      ]
    },
    {
      "cell_type": "code",
      "source": [
        "## Arithmetic (add, subtract, multiply, divide) via Braille Nemeth code ##\n",
        "\n",
        "# equals, plus, minus, multiply, divide signs from Nemeth Braille → matrices #\n",
        "\n",
        "equals = np.hstack((np.array([cell_12, cell_11, cell_12]), \n",
        "                    np.array([cell_21, cell_11, cell_21])))\n",
        "plus = np.array([cell_12, cell_11, cell_22])\n",
        "minus = np.array([cell_11, cell_11, cell_22])\n",
        "multiply = np.hstack((np.array([cell_12, cell_11, cell_11]), \n",
        "                    np.array([cell_21, cell_11, cell_12])))\n",
        "divide = np.hstack((np.array([cell_12, cell_11, cell_12]), \n",
        "                    np.array([cell_12, cell_11, cell_21])))\n",
        "\n",
        "# Key for diagrams # \n",
        "print(\"\\033[1;33;40m Key:\")\n",
        "print(\"\\033[0;32;47m Green shaded numbers - \\033[0;34;47m raised Braille dot\")\n",
        "print(\"\\033[0;31;47m Red shaded numbers - \\033[0;34;47m not raised \\n\")\n",
        "\n",
        "# Add '0 + 4' written using Braille Nemeth code #\n",
        "plus_04_nemeth = np.hstack((numbers[0], plus, numbers[4]))\n",
        "print(\"\\033[1;34;47m' 0 + 4 ' \\033[1;32;47m in Braille Nemeth code: \\n\")\n",
        "matrixGrid(plus_04_nemeth)\n",
        "gameLayout_colFlag(plus_04_nemeth)\n",
        "plt.savefig('plus_04_nemeth.png', bbox_inches='tight', pad_inches = 0)\n",
        "\n",
        "# Subtract '8 - 5' using Braille Nemeth code #\n",
        "minus_85_nemeth = np.hstack((numbers[8], minus, numbers[5]))\n",
        "print(\" \\n \\033[1;34;47m' 8 - 5 ' \\033[1;32;47m in Braille Nemeth code: \\n\")\n",
        "matrixGrid(minus_85_nemeth)\n",
        "gameLayout_colFlag(minus_85_nemeth)\n",
        "plt.savefig('minus_85_nemeth.png', bbox_inches='tight', pad_inches = 0)\n",
        "\n",
        "# Multiply '1 x 2' using Braille Nemeth code  #\n",
        "multiply_12_nemeth = np.hstack((numbers[1], multiply, numbers[2]))\n",
        "print(\"\\n \\033[1;34;47m' 1 x 2 ' \\033[1;32;47m in Braille Nemeth code: \\n\")\n",
        "matrixGrid(multiply_12_nemeth)\n",
        "gameLayout_colFlag(multiply_12_nemeth)\n",
        "plt.savefig('multiply_12_nemeth.png', bbox_inches='tight', pad_inches = 0)\n",
        "\n",
        "# Divide '2 ÷ 1' Braille Nemeth code #\n",
        "divide_21_nemeth = np.hstack((numbers[2], divide, numbers[1]))\n",
        "print(\"\\n \\033[1;34;47m' 2 ÷ 1 ' \\033[1;32;47m in Braille Nemeth code: \\n\")\n",
        "matrixGrid(divide_21_nemeth)\n",
        "gameLayout_colFlag(divide_21_nemeth)\n",
        "plt.savefig('divide_21_nemeth.png', bbox_inches='tight', pad_inches = 0)\n",
        "\n",
        "# Add '100 + 100' as example why SVD is better as math level advances # \n",
        "plus_100_100_nemeth = np.hstack((numbers[1], numbers[0], numbers[0], \n",
        "                               plus, numbers[1], numbers[0], numbers[0]))\n",
        "print(\"\\n \\033[1;34;47m' 100 + 100 ' \\033[1;32;47m in Braille Nemeth code: \\n\")\n",
        "matrixGrid(plus_100_100_nemeth)\n",
        "gameLayout_colFlag(plus_100_100_nemeth)\n",
        "plt.savefig('plus_100_100_nemeth.png', bbox_inches='tight', pad_inches = 0)\n",
        "\n",
        "# Multiply '100 x 100' as example of 'x' and '÷' workaround for Hadamard # \n",
        "multiply_100x100_nemeth = np.hstack((numbers[1], numbers[0], numbers[0], \n",
        "                               multiply, numbers[1], numbers[0], numbers[0]))\n",
        "print(\"\\n \\033[1;34;47m' 100 x 100 ' \\033[1;32;47m in Braille Nemeth code: \\n\")\n",
        "matrixGrid(multiply_100x100_nemeth)\n",
        "gameLayout_colFlag(multiply_100x100_nemeth)\n",
        "plt.savefig('multiply_100x100_nemeth.png', bbox_inches='tight', pad_inches = 0)"
      ],
      "metadata": {
        "id": "HglIUReFuCId",
        "colab": {
          "base_uri": "https://localhost:8080/",
          "height": 1000
        },
        "outputId": "103c5deb-8578-4357-eb45-b71e72572336"
      },
      "execution_count": null,
      "outputs": [
        {
          "output_type": "stream",
          "name": "stdout",
          "text": [
            "\u001b[1;33;40m Key:\n",
            "\u001b[0;32;47m Green shaded numbers - \u001b[0;34;47m raised Braille dot\n",
            "\u001b[0;31;47m Red shaded numbers - \u001b[0;34;47m not raised \n",
            "\n",
            "\u001b[1;34;47m' 0 + 4 ' \u001b[1;32;47m in Braille Nemeth code: \n",
            "\n"
          ]
        },
        {
          "output_type": "display_data",
          "data": {
            "text/plain": [
              "<pandas.io.formats.style.Styler at 0x7fc1174b8590>"
            ],
            "text/html": [
              "<style type=\"text/css\">\n",
              "#T_d16fb_row0_col0, #T_d16fb_row0_col1, #T_d16fb_row0_col2, #T_d16fb_row0_col4, #T_d16fb_row0_col5, #T_d16fb_row1_col0, #T_d16fb_row1_col2, #T_d16fb_row1_col3, #T_d16fb_row2_col4 {\n",
              "  background-color: #ff0000;\n",
              "  color: #f1f1f1;\n",
              "}\n",
              "#T_d16fb_row0_col3, #T_d16fb_row1_col1, #T_d16fb_row1_col4, #T_d16fb_row1_col5, #T_d16fb_row2_col0, #T_d16fb_row2_col1, #T_d16fb_row2_col2, #T_d16fb_row2_col3, #T_d16fb_row2_col5 {\n",
              "  background-color: #54ff00;\n",
              "  color: #000000;\n",
              "}\n",
              "</style>\n",
              "<table id=\"T_d16fb_\" class=\"dataframe\">\n",
              "  <thead>\n",
              "    <tr>\n",
              "      <th class=\"blank level0\" >&nbsp;</th>\n",
              "      <th class=\"col_heading level0 col0\" >0</th>\n",
              "      <th class=\"col_heading level0 col1\" >1</th>\n",
              "      <th class=\"col_heading level0 col2\" >2</th>\n",
              "      <th class=\"col_heading level0 col3\" >3</th>\n",
              "      <th class=\"col_heading level0 col4\" >4</th>\n",
              "      <th class=\"col_heading level0 col5\" >5</th>\n",
              "    </tr>\n",
              "  </thead>\n",
              "  <tbody>\n",
              "    <tr>\n",
              "      <th id=\"T_d16fb_level0_row0\" class=\"row_heading level0 row0\" >0</th>\n",
              "      <td id=\"T_d16fb_row0_col0\" class=\"data row0 col0\" >1</td>\n",
              "      <td id=\"T_d16fb_row0_col1\" class=\"data row0 col1\" >1</td>\n",
              "      <td id=\"T_d16fb_row0_col2\" class=\"data row0 col2\" >1</td>\n",
              "      <td id=\"T_d16fb_row0_col3\" class=\"data row0 col3\" >2</td>\n",
              "      <td id=\"T_d16fb_row0_col4\" class=\"data row0 col4\" >1</td>\n",
              "      <td id=\"T_d16fb_row0_col5\" class=\"data row0 col5\" >1</td>\n",
              "    </tr>\n",
              "    <tr>\n",
              "      <th id=\"T_d16fb_level0_row1\" class=\"row_heading level0 row1\" >1</th>\n",
              "      <td id=\"T_d16fb_row1_col0\" class=\"data row1 col0\" >1</td>\n",
              "      <td id=\"T_d16fb_row1_col1\" class=\"data row1 col1\" >2</td>\n",
              "      <td id=\"T_d16fb_row1_col2\" class=\"data row1 col2\" >1</td>\n",
              "      <td id=\"T_d16fb_row1_col3\" class=\"data row1 col3\" >1</td>\n",
              "      <td id=\"T_d16fb_row1_col4\" class=\"data row1 col4\" >2</td>\n",
              "      <td id=\"T_d16fb_row1_col5\" class=\"data row1 col5\" >2</td>\n",
              "    </tr>\n",
              "    <tr>\n",
              "      <th id=\"T_d16fb_level0_row2\" class=\"row_heading level0 row2\" >2</th>\n",
              "      <td id=\"T_d16fb_row2_col0\" class=\"data row2 col0\" >2</td>\n",
              "      <td id=\"T_d16fb_row2_col1\" class=\"data row2 col1\" >2</td>\n",
              "      <td id=\"T_d16fb_row2_col2\" class=\"data row2 col2\" >2</td>\n",
              "      <td id=\"T_d16fb_row2_col3\" class=\"data row2 col3\" >2</td>\n",
              "      <td id=\"T_d16fb_row2_col4\" class=\"data row2 col4\" >1</td>\n",
              "      <td id=\"T_d16fb_row2_col5\" class=\"data row2 col5\" >2</td>\n",
              "    </tr>\n",
              "  </tbody>\n",
              "</table>\n"
            ]
          },
          "metadata": {}
        },
        {
          "output_type": "stream",
          "name": "stdout",
          "text": [
            " \n",
            " \u001b[1;34;47m' 8 - 5 ' \u001b[1;32;47m in Braille Nemeth code: \n",
            "\n"
          ]
        },
        {
          "output_type": "display_data",
          "data": {
            "text/plain": [
              "<pandas.io.formats.style.Styler at 0x7fc117457e50>"
            ],
            "text/html": [
              "<style type=\"text/css\">\n",
              "#T_34631_row0_col0, #T_34631_row0_col1, #T_34631_row0_col2, #T_34631_row0_col3, #T_34631_row0_col4, #T_34631_row0_col5, #T_34631_row1_col1, #T_34631_row1_col2, #T_34631_row1_col3, #T_34631_row1_col5, #T_34631_row2_col4 {\n",
              "  background-color: #ff0000;\n",
              "  color: #f1f1f1;\n",
              "}\n",
              "#T_34631_row1_col0, #T_34631_row1_col4, #T_34631_row2_col0, #T_34631_row2_col1, #T_34631_row2_col2, #T_34631_row2_col3, #T_34631_row2_col5 {\n",
              "  background-color: #54ff00;\n",
              "  color: #000000;\n",
              "}\n",
              "</style>\n",
              "<table id=\"T_34631_\" class=\"dataframe\">\n",
              "  <thead>\n",
              "    <tr>\n",
              "      <th class=\"blank level0\" >&nbsp;</th>\n",
              "      <th class=\"col_heading level0 col0\" >0</th>\n",
              "      <th class=\"col_heading level0 col1\" >1</th>\n",
              "      <th class=\"col_heading level0 col2\" >2</th>\n",
              "      <th class=\"col_heading level0 col3\" >3</th>\n",
              "      <th class=\"col_heading level0 col4\" >4</th>\n",
              "      <th class=\"col_heading level0 col5\" >5</th>\n",
              "    </tr>\n",
              "  </thead>\n",
              "  <tbody>\n",
              "    <tr>\n",
              "      <th id=\"T_34631_level0_row0\" class=\"row_heading level0 row0\" >0</th>\n",
              "      <td id=\"T_34631_row0_col0\" class=\"data row0 col0\" >1</td>\n",
              "      <td id=\"T_34631_row0_col1\" class=\"data row0 col1\" >1</td>\n",
              "      <td id=\"T_34631_row0_col2\" class=\"data row0 col2\" >1</td>\n",
              "      <td id=\"T_34631_row0_col3\" class=\"data row0 col3\" >1</td>\n",
              "      <td id=\"T_34631_row0_col4\" class=\"data row0 col4\" >1</td>\n",
              "      <td id=\"T_34631_row0_col5\" class=\"data row0 col5\" >1</td>\n",
              "    </tr>\n",
              "    <tr>\n",
              "      <th id=\"T_34631_level0_row1\" class=\"row_heading level0 row1\" >1</th>\n",
              "      <td id=\"T_34631_row1_col0\" class=\"data row1 col0\" >2</td>\n",
              "      <td id=\"T_34631_row1_col1\" class=\"data row1 col1\" >1</td>\n",
              "      <td id=\"T_34631_row1_col2\" class=\"data row1 col2\" >1</td>\n",
              "      <td id=\"T_34631_row1_col3\" class=\"data row1 col3\" >1</td>\n",
              "      <td id=\"T_34631_row1_col4\" class=\"data row1 col4\" >2</td>\n",
              "      <td id=\"T_34631_row1_col5\" class=\"data row1 col5\" >1</td>\n",
              "    </tr>\n",
              "    <tr>\n",
              "      <th id=\"T_34631_level0_row2\" class=\"row_heading level0 row2\" >2</th>\n",
              "      <td id=\"T_34631_row2_col0\" class=\"data row2 col0\" >2</td>\n",
              "      <td id=\"T_34631_row2_col1\" class=\"data row2 col1\" >2</td>\n",
              "      <td id=\"T_34631_row2_col2\" class=\"data row2 col2\" >2</td>\n",
              "      <td id=\"T_34631_row2_col3\" class=\"data row2 col3\" >2</td>\n",
              "      <td id=\"T_34631_row2_col4\" class=\"data row2 col4\" >1</td>\n",
              "      <td id=\"T_34631_row2_col5\" class=\"data row2 col5\" >2</td>\n",
              "    </tr>\n",
              "  </tbody>\n",
              "</table>\n"
            ]
          },
          "metadata": {}
        },
        {
          "output_type": "stream",
          "name": "stdout",
          "text": [
            "\n",
            " \u001b[1;34;47m' 1 x 2 ' \u001b[1;32;47m in Braille Nemeth code: \n",
            "\n"
          ]
        },
        {
          "output_type": "display_data",
          "data": {
            "text/plain": [
              "<pandas.io.formats.style.Styler at 0x7fc1174131d0>"
            ],
            "text/html": [
              "<style type=\"text/css\">\n",
              "#T_172d5_row0_col0, #T_172d5_row0_col1, #T_172d5_row0_col2, #T_172d5_row0_col5, #T_172d5_row0_col6, #T_172d5_row0_col7, #T_172d5_row1_col1, #T_172d5_row1_col2, #T_172d5_row1_col3, #T_172d5_row1_col4, #T_172d5_row1_col5, #T_172d5_row1_col7, #T_172d5_row2_col0, #T_172d5_row2_col1, #T_172d5_row2_col2, #T_172d5_row2_col3, #T_172d5_row2_col4, #T_172d5_row2_col7 {\n",
              "  background-color: #ff0000;\n",
              "  color: #f1f1f1;\n",
              "}\n",
              "#T_172d5_row0_col3, #T_172d5_row0_col4, #T_172d5_row1_col0, #T_172d5_row1_col6, #T_172d5_row2_col5, #T_172d5_row2_col6 {\n",
              "  background-color: #54ff00;\n",
              "  color: #000000;\n",
              "}\n",
              "</style>\n",
              "<table id=\"T_172d5_\" class=\"dataframe\">\n",
              "  <thead>\n",
              "    <tr>\n",
              "      <th class=\"blank level0\" >&nbsp;</th>\n",
              "      <th class=\"col_heading level0 col0\" >0</th>\n",
              "      <th class=\"col_heading level0 col1\" >1</th>\n",
              "      <th class=\"col_heading level0 col2\" >2</th>\n",
              "      <th class=\"col_heading level0 col3\" >3</th>\n",
              "      <th class=\"col_heading level0 col4\" >4</th>\n",
              "      <th class=\"col_heading level0 col5\" >5</th>\n",
              "      <th class=\"col_heading level0 col6\" >6</th>\n",
              "      <th class=\"col_heading level0 col7\" >7</th>\n",
              "    </tr>\n",
              "  </thead>\n",
              "  <tbody>\n",
              "    <tr>\n",
              "      <th id=\"T_172d5_level0_row0\" class=\"row_heading level0 row0\" >0</th>\n",
              "      <td id=\"T_172d5_row0_col0\" class=\"data row0 col0\" >1</td>\n",
              "      <td id=\"T_172d5_row0_col1\" class=\"data row0 col1\" >1</td>\n",
              "      <td id=\"T_172d5_row0_col2\" class=\"data row0 col2\" >1</td>\n",
              "      <td id=\"T_172d5_row0_col3\" class=\"data row0 col3\" >2</td>\n",
              "      <td id=\"T_172d5_row0_col4\" class=\"data row0 col4\" >2</td>\n",
              "      <td id=\"T_172d5_row0_col5\" class=\"data row0 col5\" >1</td>\n",
              "      <td id=\"T_172d5_row0_col6\" class=\"data row0 col6\" >1</td>\n",
              "      <td id=\"T_172d5_row0_col7\" class=\"data row0 col7\" >1</td>\n",
              "    </tr>\n",
              "    <tr>\n",
              "      <th id=\"T_172d5_level0_row1\" class=\"row_heading level0 row1\" >1</th>\n",
              "      <td id=\"T_172d5_row1_col0\" class=\"data row1 col0\" >2</td>\n",
              "      <td id=\"T_172d5_row1_col1\" class=\"data row1 col1\" >1</td>\n",
              "      <td id=\"T_172d5_row1_col2\" class=\"data row1 col2\" >1</td>\n",
              "      <td id=\"T_172d5_row1_col3\" class=\"data row1 col3\" >1</td>\n",
              "      <td id=\"T_172d5_row1_col4\" class=\"data row1 col4\" >1</td>\n",
              "      <td id=\"T_172d5_row1_col5\" class=\"data row1 col5\" >1</td>\n",
              "      <td id=\"T_172d5_row1_col6\" class=\"data row1 col6\" >2</td>\n",
              "      <td id=\"T_172d5_row1_col7\" class=\"data row1 col7\" >1</td>\n",
              "    </tr>\n",
              "    <tr>\n",
              "      <th id=\"T_172d5_level0_row2\" class=\"row_heading level0 row2\" >2</th>\n",
              "      <td id=\"T_172d5_row2_col0\" class=\"data row2 col0\" >1</td>\n",
              "      <td id=\"T_172d5_row2_col1\" class=\"data row2 col1\" >1</td>\n",
              "      <td id=\"T_172d5_row2_col2\" class=\"data row2 col2\" >1</td>\n",
              "      <td id=\"T_172d5_row2_col3\" class=\"data row2 col3\" >1</td>\n",
              "      <td id=\"T_172d5_row2_col4\" class=\"data row2 col4\" >1</td>\n",
              "      <td id=\"T_172d5_row2_col5\" class=\"data row2 col5\" >2</td>\n",
              "      <td id=\"T_172d5_row2_col6\" class=\"data row2 col6\" >2</td>\n",
              "      <td id=\"T_172d5_row2_col7\" class=\"data row2 col7\" >1</td>\n",
              "    </tr>\n",
              "  </tbody>\n",
              "</table>\n"
            ]
          },
          "metadata": {}
        },
        {
          "output_type": "stream",
          "name": "stdout",
          "text": [
            "\n",
            " \u001b[1;34;47m' 2 ÷ 1 ' \u001b[1;32;47m in Braille Nemeth code: \n",
            "\n"
          ]
        },
        {
          "output_type": "display_data",
          "data": {
            "text/plain": [
              "<pandas.io.formats.style.Styler at 0x7fc11741c0d0>"
            ],
            "text/html": [
              "<style type=\"text/css\">\n",
              "#T_59a5d_row0_col0, #T_59a5d_row0_col1, #T_59a5d_row0_col2, #T_59a5d_row0_col4, #T_59a5d_row0_col6, #T_59a5d_row0_col7, #T_59a5d_row1_col1, #T_59a5d_row1_col2, #T_59a5d_row1_col3, #T_59a5d_row1_col4, #T_59a5d_row1_col5, #T_59a5d_row1_col7, #T_59a5d_row2_col1, #T_59a5d_row2_col2, #T_59a5d_row2_col5, #T_59a5d_row2_col6, #T_59a5d_row2_col7 {\n",
              "  background-color: #ff0000;\n",
              "  color: #f1f1f1;\n",
              "}\n",
              "#T_59a5d_row0_col3, #T_59a5d_row0_col5, #T_59a5d_row1_col0, #T_59a5d_row1_col6, #T_59a5d_row2_col0, #T_59a5d_row2_col3, #T_59a5d_row2_col4 {\n",
              "  background-color: #54ff00;\n",
              "  color: #000000;\n",
              "}\n",
              "</style>\n",
              "<table id=\"T_59a5d_\" class=\"dataframe\">\n",
              "  <thead>\n",
              "    <tr>\n",
              "      <th class=\"blank level0\" >&nbsp;</th>\n",
              "      <th class=\"col_heading level0 col0\" >0</th>\n",
              "      <th class=\"col_heading level0 col1\" >1</th>\n",
              "      <th class=\"col_heading level0 col2\" >2</th>\n",
              "      <th class=\"col_heading level0 col3\" >3</th>\n",
              "      <th class=\"col_heading level0 col4\" >4</th>\n",
              "      <th class=\"col_heading level0 col5\" >5</th>\n",
              "      <th class=\"col_heading level0 col6\" >6</th>\n",
              "      <th class=\"col_heading level0 col7\" >7</th>\n",
              "    </tr>\n",
              "  </thead>\n",
              "  <tbody>\n",
              "    <tr>\n",
              "      <th id=\"T_59a5d_level0_row0\" class=\"row_heading level0 row0\" >0</th>\n",
              "      <td id=\"T_59a5d_row0_col0\" class=\"data row0 col0\" >1</td>\n",
              "      <td id=\"T_59a5d_row0_col1\" class=\"data row0 col1\" >1</td>\n",
              "      <td id=\"T_59a5d_row0_col2\" class=\"data row0 col2\" >1</td>\n",
              "      <td id=\"T_59a5d_row0_col3\" class=\"data row0 col3\" >2</td>\n",
              "      <td id=\"T_59a5d_row0_col4\" class=\"data row0 col4\" >1</td>\n",
              "      <td id=\"T_59a5d_row0_col5\" class=\"data row0 col5\" >2</td>\n",
              "      <td id=\"T_59a5d_row0_col6\" class=\"data row0 col6\" >1</td>\n",
              "      <td id=\"T_59a5d_row0_col7\" class=\"data row0 col7\" >1</td>\n",
              "    </tr>\n",
              "    <tr>\n",
              "      <th id=\"T_59a5d_level0_row1\" class=\"row_heading level0 row1\" >1</th>\n",
              "      <td id=\"T_59a5d_row1_col0\" class=\"data row1 col0\" >2</td>\n",
              "      <td id=\"T_59a5d_row1_col1\" class=\"data row1 col1\" >1</td>\n",
              "      <td id=\"T_59a5d_row1_col2\" class=\"data row1 col2\" >1</td>\n",
              "      <td id=\"T_59a5d_row1_col3\" class=\"data row1 col3\" >1</td>\n",
              "      <td id=\"T_59a5d_row1_col4\" class=\"data row1 col4\" >1</td>\n",
              "      <td id=\"T_59a5d_row1_col5\" class=\"data row1 col5\" >1</td>\n",
              "      <td id=\"T_59a5d_row1_col6\" class=\"data row1 col6\" >2</td>\n",
              "      <td id=\"T_59a5d_row1_col7\" class=\"data row1 col7\" >1</td>\n",
              "    </tr>\n",
              "    <tr>\n",
              "      <th id=\"T_59a5d_level0_row2\" class=\"row_heading level0 row2\" >2</th>\n",
              "      <td id=\"T_59a5d_row2_col0\" class=\"data row2 col0\" >2</td>\n",
              "      <td id=\"T_59a5d_row2_col1\" class=\"data row2 col1\" >1</td>\n",
              "      <td id=\"T_59a5d_row2_col2\" class=\"data row2 col2\" >1</td>\n",
              "      <td id=\"T_59a5d_row2_col3\" class=\"data row2 col3\" >2</td>\n",
              "      <td id=\"T_59a5d_row2_col4\" class=\"data row2 col4\" >2</td>\n",
              "      <td id=\"T_59a5d_row2_col5\" class=\"data row2 col5\" >1</td>\n",
              "      <td id=\"T_59a5d_row2_col6\" class=\"data row2 col6\" >1</td>\n",
              "      <td id=\"T_59a5d_row2_col7\" class=\"data row2 col7\" >1</td>\n",
              "    </tr>\n",
              "  </tbody>\n",
              "</table>\n"
            ]
          },
          "metadata": {}
        },
        {
          "output_type": "stream",
          "name": "stdout",
          "text": [
            "\n",
            " \u001b[1;34;47m' 100 + 100 ' \u001b[1;32;47m in Braille Nemeth code: \n",
            "\n"
          ]
        },
        {
          "output_type": "display_data",
          "data": {
            "text/plain": [
              "<pandas.io.formats.style.Styler at 0x7fc117420f50>"
            ],
            "text/html": [
              "<style type=\"text/css\">\n",
              "#T_cd4c9_row0_col0, #T_cd4c9_row0_col1, #T_cd4c9_row0_col2, #T_cd4c9_row0_col3, #T_cd4c9_row0_col4, #T_cd4c9_row0_col5, #T_cd4c9_row0_col6, #T_cd4c9_row0_col8, #T_cd4c9_row0_col9, #T_cd4c9_row0_col10, #T_cd4c9_row0_col11, #T_cd4c9_row0_col12, #T_cd4c9_row0_col13, #T_cd4c9_row1_col1, #T_cd4c9_row1_col2, #T_cd4c9_row1_col4, #T_cd4c9_row1_col6, #T_cd4c9_row1_col7, #T_cd4c9_row1_col9, #T_cd4c9_row1_col10, #T_cd4c9_row1_col12, #T_cd4c9_row2_col0, #T_cd4c9_row2_col1, #T_cd4c9_row2_col8, #T_cd4c9_row2_col9 {\n",
              "  background-color: #ff0000;\n",
              "  color: #f1f1f1;\n",
              "}\n",
              "#T_cd4c9_row0_col7, #T_cd4c9_row1_col0, #T_cd4c9_row1_col3, #T_cd4c9_row1_col5, #T_cd4c9_row1_col8, #T_cd4c9_row1_col11, #T_cd4c9_row1_col13, #T_cd4c9_row2_col2, #T_cd4c9_row2_col3, #T_cd4c9_row2_col4, #T_cd4c9_row2_col5, #T_cd4c9_row2_col6, #T_cd4c9_row2_col7, #T_cd4c9_row2_col10, #T_cd4c9_row2_col11, #T_cd4c9_row2_col12, #T_cd4c9_row2_col13 {\n",
              "  background-color: #54ff00;\n",
              "  color: #000000;\n",
              "}\n",
              "</style>\n",
              "<table id=\"T_cd4c9_\" class=\"dataframe\">\n",
              "  <thead>\n",
              "    <tr>\n",
              "      <th class=\"blank level0\" >&nbsp;</th>\n",
              "      <th class=\"col_heading level0 col0\" >0</th>\n",
              "      <th class=\"col_heading level0 col1\" >1</th>\n",
              "      <th class=\"col_heading level0 col2\" >2</th>\n",
              "      <th class=\"col_heading level0 col3\" >3</th>\n",
              "      <th class=\"col_heading level0 col4\" >4</th>\n",
              "      <th class=\"col_heading level0 col5\" >5</th>\n",
              "      <th class=\"col_heading level0 col6\" >6</th>\n",
              "      <th class=\"col_heading level0 col7\" >7</th>\n",
              "      <th class=\"col_heading level0 col8\" >8</th>\n",
              "      <th class=\"col_heading level0 col9\" >9</th>\n",
              "      <th class=\"col_heading level0 col10\" >10</th>\n",
              "      <th class=\"col_heading level0 col11\" >11</th>\n",
              "      <th class=\"col_heading level0 col12\" >12</th>\n",
              "      <th class=\"col_heading level0 col13\" >13</th>\n",
              "    </tr>\n",
              "  </thead>\n",
              "  <tbody>\n",
              "    <tr>\n",
              "      <th id=\"T_cd4c9_level0_row0\" class=\"row_heading level0 row0\" >0</th>\n",
              "      <td id=\"T_cd4c9_row0_col0\" class=\"data row0 col0\" >1</td>\n",
              "      <td id=\"T_cd4c9_row0_col1\" class=\"data row0 col1\" >1</td>\n",
              "      <td id=\"T_cd4c9_row0_col2\" class=\"data row0 col2\" >1</td>\n",
              "      <td id=\"T_cd4c9_row0_col3\" class=\"data row0 col3\" >1</td>\n",
              "      <td id=\"T_cd4c9_row0_col4\" class=\"data row0 col4\" >1</td>\n",
              "      <td id=\"T_cd4c9_row0_col5\" class=\"data row0 col5\" >1</td>\n",
              "      <td id=\"T_cd4c9_row0_col6\" class=\"data row0 col6\" >1</td>\n",
              "      <td id=\"T_cd4c9_row0_col7\" class=\"data row0 col7\" >2</td>\n",
              "      <td id=\"T_cd4c9_row0_col8\" class=\"data row0 col8\" >1</td>\n",
              "      <td id=\"T_cd4c9_row0_col9\" class=\"data row0 col9\" >1</td>\n",
              "      <td id=\"T_cd4c9_row0_col10\" class=\"data row0 col10\" >1</td>\n",
              "      <td id=\"T_cd4c9_row0_col11\" class=\"data row0 col11\" >1</td>\n",
              "      <td id=\"T_cd4c9_row0_col12\" class=\"data row0 col12\" >1</td>\n",
              "      <td id=\"T_cd4c9_row0_col13\" class=\"data row0 col13\" >1</td>\n",
              "    </tr>\n",
              "    <tr>\n",
              "      <th id=\"T_cd4c9_level0_row1\" class=\"row_heading level0 row1\" >1</th>\n",
              "      <td id=\"T_cd4c9_row1_col0\" class=\"data row1 col0\" >2</td>\n",
              "      <td id=\"T_cd4c9_row1_col1\" class=\"data row1 col1\" >1</td>\n",
              "      <td id=\"T_cd4c9_row1_col2\" class=\"data row1 col2\" >1</td>\n",
              "      <td id=\"T_cd4c9_row1_col3\" class=\"data row1 col3\" >2</td>\n",
              "      <td id=\"T_cd4c9_row1_col4\" class=\"data row1 col4\" >1</td>\n",
              "      <td id=\"T_cd4c9_row1_col5\" class=\"data row1 col5\" >2</td>\n",
              "      <td id=\"T_cd4c9_row1_col6\" class=\"data row1 col6\" >1</td>\n",
              "      <td id=\"T_cd4c9_row1_col7\" class=\"data row1 col7\" >1</td>\n",
              "      <td id=\"T_cd4c9_row1_col8\" class=\"data row1 col8\" >2</td>\n",
              "      <td id=\"T_cd4c9_row1_col9\" class=\"data row1 col9\" >1</td>\n",
              "      <td id=\"T_cd4c9_row1_col10\" class=\"data row1 col10\" >1</td>\n",
              "      <td id=\"T_cd4c9_row1_col11\" class=\"data row1 col11\" >2</td>\n",
              "      <td id=\"T_cd4c9_row1_col12\" class=\"data row1 col12\" >1</td>\n",
              "      <td id=\"T_cd4c9_row1_col13\" class=\"data row1 col13\" >2</td>\n",
              "    </tr>\n",
              "    <tr>\n",
              "      <th id=\"T_cd4c9_level0_row2\" class=\"row_heading level0 row2\" >2</th>\n",
              "      <td id=\"T_cd4c9_row2_col0\" class=\"data row2 col0\" >1</td>\n",
              "      <td id=\"T_cd4c9_row2_col1\" class=\"data row2 col1\" >1</td>\n",
              "      <td id=\"T_cd4c9_row2_col2\" class=\"data row2 col2\" >2</td>\n",
              "      <td id=\"T_cd4c9_row2_col3\" class=\"data row2 col3\" >2</td>\n",
              "      <td id=\"T_cd4c9_row2_col4\" class=\"data row2 col4\" >2</td>\n",
              "      <td id=\"T_cd4c9_row2_col5\" class=\"data row2 col5\" >2</td>\n",
              "      <td id=\"T_cd4c9_row2_col6\" class=\"data row2 col6\" >2</td>\n",
              "      <td id=\"T_cd4c9_row2_col7\" class=\"data row2 col7\" >2</td>\n",
              "      <td id=\"T_cd4c9_row2_col8\" class=\"data row2 col8\" >1</td>\n",
              "      <td id=\"T_cd4c9_row2_col9\" class=\"data row2 col9\" >1</td>\n",
              "      <td id=\"T_cd4c9_row2_col10\" class=\"data row2 col10\" >2</td>\n",
              "      <td id=\"T_cd4c9_row2_col11\" class=\"data row2 col11\" >2</td>\n",
              "      <td id=\"T_cd4c9_row2_col12\" class=\"data row2 col12\" >2</td>\n",
              "      <td id=\"T_cd4c9_row2_col13\" class=\"data row2 col13\" >2</td>\n",
              "    </tr>\n",
              "  </tbody>\n",
              "</table>\n"
            ]
          },
          "metadata": {}
        },
        {
          "output_type": "stream",
          "name": "stdout",
          "text": [
            "\n",
            " \u001b[1;34;47m' 100 x 100 ' \u001b[1;32;47m in Braille Nemeth code: \n",
            "\n"
          ]
        },
        {
          "output_type": "display_data",
          "data": {
            "text/plain": [
              "<pandas.io.formats.style.Styler at 0x7fc1173f2ed0>"
            ],
            "text/html": [
              "<style type=\"text/css\">\n",
              "#T_2494d_row0_col0, #T_2494d_row0_col1, #T_2494d_row0_col2, #T_2494d_row0_col3, #T_2494d_row0_col4, #T_2494d_row0_col5, #T_2494d_row0_col6, #T_2494d_row0_col9, #T_2494d_row0_col10, #T_2494d_row0_col11, #T_2494d_row0_col12, #T_2494d_row0_col13, #T_2494d_row0_col14, #T_2494d_row0_col15, #T_2494d_row1_col1, #T_2494d_row1_col2, #T_2494d_row1_col4, #T_2494d_row1_col6, #T_2494d_row1_col7, #T_2494d_row1_col8, #T_2494d_row1_col9, #T_2494d_row1_col11, #T_2494d_row1_col12, #T_2494d_row1_col14, #T_2494d_row2_col0, #T_2494d_row2_col1, #T_2494d_row2_col6, #T_2494d_row2_col7, #T_2494d_row2_col8, #T_2494d_row2_col10, #T_2494d_row2_col11 {\n",
              "  background-color: #ff0000;\n",
              "  color: #f1f1f1;\n",
              "}\n",
              "#T_2494d_row0_col7, #T_2494d_row0_col8, #T_2494d_row1_col0, #T_2494d_row1_col3, #T_2494d_row1_col5, #T_2494d_row1_col10, #T_2494d_row1_col13, #T_2494d_row1_col15, #T_2494d_row2_col2, #T_2494d_row2_col3, #T_2494d_row2_col4, #T_2494d_row2_col5, #T_2494d_row2_col9, #T_2494d_row2_col12, #T_2494d_row2_col13, #T_2494d_row2_col14, #T_2494d_row2_col15 {\n",
              "  background-color: #54ff00;\n",
              "  color: #000000;\n",
              "}\n",
              "</style>\n",
              "<table id=\"T_2494d_\" class=\"dataframe\">\n",
              "  <thead>\n",
              "    <tr>\n",
              "      <th class=\"blank level0\" >&nbsp;</th>\n",
              "      <th class=\"col_heading level0 col0\" >0</th>\n",
              "      <th class=\"col_heading level0 col1\" >1</th>\n",
              "      <th class=\"col_heading level0 col2\" >2</th>\n",
              "      <th class=\"col_heading level0 col3\" >3</th>\n",
              "      <th class=\"col_heading level0 col4\" >4</th>\n",
              "      <th class=\"col_heading level0 col5\" >5</th>\n",
              "      <th class=\"col_heading level0 col6\" >6</th>\n",
              "      <th class=\"col_heading level0 col7\" >7</th>\n",
              "      <th class=\"col_heading level0 col8\" >8</th>\n",
              "      <th class=\"col_heading level0 col9\" >9</th>\n",
              "      <th class=\"col_heading level0 col10\" >10</th>\n",
              "      <th class=\"col_heading level0 col11\" >11</th>\n",
              "      <th class=\"col_heading level0 col12\" >12</th>\n",
              "      <th class=\"col_heading level0 col13\" >13</th>\n",
              "      <th class=\"col_heading level0 col14\" >14</th>\n",
              "      <th class=\"col_heading level0 col15\" >15</th>\n",
              "    </tr>\n",
              "  </thead>\n",
              "  <tbody>\n",
              "    <tr>\n",
              "      <th id=\"T_2494d_level0_row0\" class=\"row_heading level0 row0\" >0</th>\n",
              "      <td id=\"T_2494d_row0_col0\" class=\"data row0 col0\" >1</td>\n",
              "      <td id=\"T_2494d_row0_col1\" class=\"data row0 col1\" >1</td>\n",
              "      <td id=\"T_2494d_row0_col2\" class=\"data row0 col2\" >1</td>\n",
              "      <td id=\"T_2494d_row0_col3\" class=\"data row0 col3\" >1</td>\n",
              "      <td id=\"T_2494d_row0_col4\" class=\"data row0 col4\" >1</td>\n",
              "      <td id=\"T_2494d_row0_col5\" class=\"data row0 col5\" >1</td>\n",
              "      <td id=\"T_2494d_row0_col6\" class=\"data row0 col6\" >1</td>\n",
              "      <td id=\"T_2494d_row0_col7\" class=\"data row0 col7\" >2</td>\n",
              "      <td id=\"T_2494d_row0_col8\" class=\"data row0 col8\" >2</td>\n",
              "      <td id=\"T_2494d_row0_col9\" class=\"data row0 col9\" >1</td>\n",
              "      <td id=\"T_2494d_row0_col10\" class=\"data row0 col10\" >1</td>\n",
              "      <td id=\"T_2494d_row0_col11\" class=\"data row0 col11\" >1</td>\n",
              "      <td id=\"T_2494d_row0_col12\" class=\"data row0 col12\" >1</td>\n",
              "      <td id=\"T_2494d_row0_col13\" class=\"data row0 col13\" >1</td>\n",
              "      <td id=\"T_2494d_row0_col14\" class=\"data row0 col14\" >1</td>\n",
              "      <td id=\"T_2494d_row0_col15\" class=\"data row0 col15\" >1</td>\n",
              "    </tr>\n",
              "    <tr>\n",
              "      <th id=\"T_2494d_level0_row1\" class=\"row_heading level0 row1\" >1</th>\n",
              "      <td id=\"T_2494d_row1_col0\" class=\"data row1 col0\" >2</td>\n",
              "      <td id=\"T_2494d_row1_col1\" class=\"data row1 col1\" >1</td>\n",
              "      <td id=\"T_2494d_row1_col2\" class=\"data row1 col2\" >1</td>\n",
              "      <td id=\"T_2494d_row1_col3\" class=\"data row1 col3\" >2</td>\n",
              "      <td id=\"T_2494d_row1_col4\" class=\"data row1 col4\" >1</td>\n",
              "      <td id=\"T_2494d_row1_col5\" class=\"data row1 col5\" >2</td>\n",
              "      <td id=\"T_2494d_row1_col6\" class=\"data row1 col6\" >1</td>\n",
              "      <td id=\"T_2494d_row1_col7\" class=\"data row1 col7\" >1</td>\n",
              "      <td id=\"T_2494d_row1_col8\" class=\"data row1 col8\" >1</td>\n",
              "      <td id=\"T_2494d_row1_col9\" class=\"data row1 col9\" >1</td>\n",
              "      <td id=\"T_2494d_row1_col10\" class=\"data row1 col10\" >2</td>\n",
              "      <td id=\"T_2494d_row1_col11\" class=\"data row1 col11\" >1</td>\n",
              "      <td id=\"T_2494d_row1_col12\" class=\"data row1 col12\" >1</td>\n",
              "      <td id=\"T_2494d_row1_col13\" class=\"data row1 col13\" >2</td>\n",
              "      <td id=\"T_2494d_row1_col14\" class=\"data row1 col14\" >1</td>\n",
              "      <td id=\"T_2494d_row1_col15\" class=\"data row1 col15\" >2</td>\n",
              "    </tr>\n",
              "    <tr>\n",
              "      <th id=\"T_2494d_level0_row2\" class=\"row_heading level0 row2\" >2</th>\n",
              "      <td id=\"T_2494d_row2_col0\" class=\"data row2 col0\" >1</td>\n",
              "      <td id=\"T_2494d_row2_col1\" class=\"data row2 col1\" >1</td>\n",
              "      <td id=\"T_2494d_row2_col2\" class=\"data row2 col2\" >2</td>\n",
              "      <td id=\"T_2494d_row2_col3\" class=\"data row2 col3\" >2</td>\n",
              "      <td id=\"T_2494d_row2_col4\" class=\"data row2 col4\" >2</td>\n",
              "      <td id=\"T_2494d_row2_col5\" class=\"data row2 col5\" >2</td>\n",
              "      <td id=\"T_2494d_row2_col6\" class=\"data row2 col6\" >1</td>\n",
              "      <td id=\"T_2494d_row2_col7\" class=\"data row2 col7\" >1</td>\n",
              "      <td id=\"T_2494d_row2_col8\" class=\"data row2 col8\" >1</td>\n",
              "      <td id=\"T_2494d_row2_col9\" class=\"data row2 col9\" >2</td>\n",
              "      <td id=\"T_2494d_row2_col10\" class=\"data row2 col10\" >1</td>\n",
              "      <td id=\"T_2494d_row2_col11\" class=\"data row2 col11\" >1</td>\n",
              "      <td id=\"T_2494d_row2_col12\" class=\"data row2 col12\" >2</td>\n",
              "      <td id=\"T_2494d_row2_col13\" class=\"data row2 col13\" >2</td>\n",
              "      <td id=\"T_2494d_row2_col14\" class=\"data row2 col14\" >2</td>\n",
              "      <td id=\"T_2494d_row2_col15\" class=\"data row2 col15\" >2</td>\n",
              "    </tr>\n",
              "  </tbody>\n",
              "</table>\n"
            ]
          },
          "metadata": {}
        },
        {
          "output_type": "display_data",
          "data": {
            "text/plain": [
              "<Figure size 432x288 with 1 Axes>"
            ],
            "image/png": "[encoded data removed]"
          },
          "metadata": {
            "needs_background": "light"
          }
        }
      ]
    },
    {
      "cell_type": "code",
      "source": [
        "#print(\" \\033[1;32;47m Matrix representation of Braille '+' sign:\")\n",
        "matrixGrid(plus)\n",
        "\n",
        "#print(\"\\n \\033[1;32;47m Matrix representation of Braille '-' sign:\")\n",
        "matrixGrid(minus)\n",
        "\n",
        "#print(\"\\n \\033[1;32;47m Matrix representation of Braille 'x' sign:\")\n",
        "matrixGrid(multiply)\n",
        "\n",
        "#print(\"\\n \\033[1;32;47m Matrix representation of Braille '÷' sign:\")\n",
        "matrixGrid(divide)\n",
        "\n",
        "#print(\"\\n \\033[1;32;47m Matrix representation of Braille '=' sign:\")\n",
        "matrixGrid(equals)"
      ],
      "metadata": {
        "id": "RzwK_zu_as6f"
      },
      "execution_count": null,
      "outputs": []
    },
    {
      "cell_type": "code",
      "source": [
        "## Solution via Braille Nemeth code ## \n",
        "\n",
        "# SOLUTION: Add 0 + 4 using Braille Nemeth code #\n",
        "plus_04_sol = np.hstack((equals, numbers[4]))\n",
        "print(\"\\033[1;31;47m Solution to 0 + 4: \\033[1;34;47m ' = 4 ' \\033[1;31;47m in \" \n",
        "      \"Braille Nemeth code: \\n\")\n",
        "matrixGrid(plus_04_sol)\n",
        "gameLayout_colFlag(plus_04_sol)\n",
        "plt.savefig('plus_04_sol.png', bbox_inches='tight', pad_inches = 0)\n",
        "\n",
        "# SOLUTION: Subtract 8 - 5 using Braille Nemeth code #\n",
        "minus_85_sol = np.hstack((equals, numbers[3]))\n",
        "print(\"\\n \\033[1;31;47m Solution to 8 - 5: \\033[1;34;47m ' = 3 ' \\033[1;31;47m \"\n",
        "      \"in Braille Nemeth code: \\n\")\n",
        "matrixGrid(minus_85_sol)\n",
        "gameLayout_colFlag(minus_85_sol)\n",
        "plt.savefig('minus_85_sol.png', bbox_inches='tight', pad_inches = 0)\n",
        "\n",
        "# Multiply 1 x 2 using Braille Nemeth code #\n",
        "multiply_12_sol = np.hstack((equals, plus, numbers[2]))\n",
        "print(\"\\n \\033[1;31;47m Solution to 1 x 2:\\033[1;34;47m ' = + 2 ' \\033[1;31;47m \" \n",
        "      \"in Braille Nemeth code: \\n\")\n",
        "matrixGrid(multiply_12_sol)\n",
        "gameLayout_colFlag(multiply_12_sol)\n",
        "plt.savefig('multiply_12_sol.png', bbox_inches='tight', pad_inches = 0)\n",
        "\n",
        "# Divide 2 ÷ 1 using Braille Nemeth code #\n",
        "divide_21_sol = np.hstack((equals, plus, numbers[2]))\n",
        "print(\"\\n \\033[1;31;47m Solution to 2 ÷ 1:\\033[1;34;47m ' = + 2 ' \\033[1;31;47m \" \n",
        "      \"in Braille Nemeth code: \\n\")\n",
        "matrixGrid(divide_21_sol)\n",
        "gameLayout_colFlag(divide_21_sol)\n",
        "plt.savefig('divide_21_sol.png', bbox_inches='tight', pad_inches = 0)\n",
        "\n",
        "# Add '100 + 100' as example why SVD is better as math level advances # \n",
        "plus_100_100_sol = np.hstack((equals, numbers[2], numbers[0], numbers[0]))\n",
        "print(\"\\n \\033[1;31;47m Solution to 100 + 100: \\033[1;34;47m' = 200 ' \" \n",
        "      \"\\033[1;31;47m in Braille Nemeth code: \\n\")\n",
        "matrixGrid(plus_100_100_sol)\n",
        "gameLayout_colFlag(plus_100_100_sol)\n",
        "plt.savefig('plus_100_100_sol.png', bbox_inches='tight', pad_inches = 0)\n",
        "\n",
        "# Multiply '100 x 100' as example of 'x' and '÷' workaround for Hadamard # \n",
        "multiply_100x100_sol = np.hstack((equals, plus, numbers[1], numbers[0], \n",
        "                                  numbers[0], numbers[0], numbers[0]))\n",
        "print(\"\\n \\033[1;31;47m Solution to 100 x 100: \\033[1;34;47m' = + 10,000 ' \" \n",
        "      \"\\033[1;31;47m in Braille Nemeth code: \\n\")\n",
        "matrixGrid(multiply_100x100_sol)\n",
        "gameLayout_colFlag(multiply_100x100_sol)\n",
        "plt.savefig('multiply_100x100_sol.png', bbox_inches='tight', pad_inches = 0)"
      ],
      "metadata": {
        "colab": {
          "base_uri": "https://localhost:8080/",
          "height": 1000
        },
        "id": "JShAZ8xH74KD",
        "outputId": "8015554a-80ed-4b9b-e660-fc07f0ca43b7"
      },
      "execution_count": null,
      "outputs": [
        {
          "output_type": "stream",
          "name": "stdout",
          "text": [
            "\u001b[1;31;47m Solution to 0 + 4: \u001b[1;34;47m ' = 4 ' \u001b[1;31;47m in Braille Nemeth code: \n",
            "\n"
          ]
        },
        {
          "output_type": "display_data",
          "data": {
            "text/plain": [
              "<pandas.io.formats.style.Styler at 0x7f5b0acf1210>"
            ],
            "text/html": [
              "<style type=\"text/css\">\n",
              "#T_4e836_row0_col0, #T_4e836_row0_col3, #T_4e836_row0_col4, #T_4e836_row0_col5, #T_4e836_row1_col0, #T_4e836_row1_col1, #T_4e836_row1_col2, #T_4e836_row1_col3, #T_4e836_row2_col0, #T_4e836_row2_col3, #T_4e836_row2_col4 {\n",
              "  background-color: #ff0000;\n",
              "  color: #f1f1f1;\n",
              "}\n",
              "#T_4e836_row0_col1, #T_4e836_row0_col2, #T_4e836_row1_col4, #T_4e836_row1_col5, #T_4e836_row2_col1, #T_4e836_row2_col2, #T_4e836_row2_col5 {\n",
              "  background-color: #54ff00;\n",
              "  color: #000000;\n",
              "}\n",
              "</style>\n",
              "<table id=\"T_4e836_\" class=\"dataframe\">\n",
              "  <thead>\n",
              "    <tr>\n",
              "      <th class=\"blank level0\" >&nbsp;</th>\n",
              "      <th class=\"col_heading level0 col0\" >0</th>\n",
              "      <th class=\"col_heading level0 col1\" >1</th>\n",
              "      <th class=\"col_heading level0 col2\" >2</th>\n",
              "      <th class=\"col_heading level0 col3\" >3</th>\n",
              "      <th class=\"col_heading level0 col4\" >4</th>\n",
              "      <th class=\"col_heading level0 col5\" >5</th>\n",
              "    </tr>\n",
              "  </thead>\n",
              "  <tbody>\n",
              "    <tr>\n",
              "      <th id=\"T_4e836_level0_row0\" class=\"row_heading level0 row0\" >0</th>\n",
              "      <td id=\"T_4e836_row0_col0\" class=\"data row0 col0\" >1</td>\n",
              "      <td id=\"T_4e836_row0_col1\" class=\"data row0 col1\" >2</td>\n",
              "      <td id=\"T_4e836_row0_col2\" class=\"data row0 col2\" >2</td>\n",
              "      <td id=\"T_4e836_row0_col3\" class=\"data row0 col3\" >1</td>\n",
              "      <td id=\"T_4e836_row0_col4\" class=\"data row0 col4\" >1</td>\n",
              "      <td id=\"T_4e836_row0_col5\" class=\"data row0 col5\" >1</td>\n",
              "    </tr>\n",
              "    <tr>\n",
              "      <th id=\"T_4e836_level0_row1\" class=\"row_heading level0 row1\" >1</th>\n",
              "      <td id=\"T_4e836_row1_col0\" class=\"data row1 col0\" >1</td>\n",
              "      <td id=\"T_4e836_row1_col1\" class=\"data row1 col1\" >1</td>\n",
              "      <td id=\"T_4e836_row1_col2\" class=\"data row1 col2\" >1</td>\n",
              "      <td id=\"T_4e836_row1_col3\" class=\"data row1 col3\" >1</td>\n",
              "      <td id=\"T_4e836_row1_col4\" class=\"data row1 col4\" >2</td>\n",
              "      <td id=\"T_4e836_row1_col5\" class=\"data row1 col5\" >2</td>\n",
              "    </tr>\n",
              "    <tr>\n",
              "      <th id=\"T_4e836_level0_row2\" class=\"row_heading level0 row2\" >2</th>\n",
              "      <td id=\"T_4e836_row2_col0\" class=\"data row2 col0\" >1</td>\n",
              "      <td id=\"T_4e836_row2_col1\" class=\"data row2 col1\" >2</td>\n",
              "      <td id=\"T_4e836_row2_col2\" class=\"data row2 col2\" >2</td>\n",
              "      <td id=\"T_4e836_row2_col3\" class=\"data row2 col3\" >1</td>\n",
              "      <td id=\"T_4e836_row2_col4\" class=\"data row2 col4\" >1</td>\n",
              "      <td id=\"T_4e836_row2_col5\" class=\"data row2 col5\" >2</td>\n",
              "    </tr>\n",
              "  </tbody>\n",
              "</table>\n"
            ]
          },
          "metadata": {}
        },
        {
          "output_type": "stream",
          "name": "stdout",
          "text": [
            "\n",
            " \u001b[1;31;47m Solution to 8 - 5: \u001b[1;34;47m ' = 3 ' \u001b[1;31;47m in Braille Nemeth code: \n",
            "\n"
          ]
        },
        {
          "output_type": "display_data",
          "data": {
            "text/plain": [
              "<pandas.io.formats.style.Styler at 0x7f5b0a3ede10>"
            ],
            "text/html": [
              "<style type=\"text/css\">\n",
              "#T_bb0fb_row0_col0, #T_bb0fb_row0_col3, #T_bb0fb_row0_col4, #T_bb0fb_row0_col5, #T_bb0fb_row1_col0, #T_bb0fb_row1_col1, #T_bb0fb_row1_col2, #T_bb0fb_row1_col3, #T_bb0fb_row2_col0, #T_bb0fb_row2_col3, #T_bb0fb_row2_col4, #T_bb0fb_row2_col5 {\n",
              "  background-color: #ff0000;\n",
              "  color: #f1f1f1;\n",
              "}\n",
              "#T_bb0fb_row0_col1, #T_bb0fb_row0_col2, #T_bb0fb_row1_col4, #T_bb0fb_row1_col5, #T_bb0fb_row2_col1, #T_bb0fb_row2_col2 {\n",
              "  background-color: #54ff00;\n",
              "  color: #000000;\n",
              "}\n",
              "</style>\n",
              "<table id=\"T_bb0fb_\" class=\"dataframe\">\n",
              "  <thead>\n",
              "    <tr>\n",
              "      <th class=\"blank level0\" >&nbsp;</th>\n",
              "      <th class=\"col_heading level0 col0\" >0</th>\n",
              "      <th class=\"col_heading level0 col1\" >1</th>\n",
              "      <th class=\"col_heading level0 col2\" >2</th>\n",
              "      <th class=\"col_heading level0 col3\" >3</th>\n",
              "      <th class=\"col_heading level0 col4\" >4</th>\n",
              "      <th class=\"col_heading level0 col5\" >5</th>\n",
              "    </tr>\n",
              "  </thead>\n",
              "  <tbody>\n",
              "    <tr>\n",
              "      <th id=\"T_bb0fb_level0_row0\" class=\"row_heading level0 row0\" >0</th>\n",
              "      <td id=\"T_bb0fb_row0_col0\" class=\"data row0 col0\" >1</td>\n",
              "      <td id=\"T_bb0fb_row0_col1\" class=\"data row0 col1\" >2</td>\n",
              "      <td id=\"T_bb0fb_row0_col2\" class=\"data row0 col2\" >2</td>\n",
              "      <td id=\"T_bb0fb_row0_col3\" class=\"data row0 col3\" >1</td>\n",
              "      <td id=\"T_bb0fb_row0_col4\" class=\"data row0 col4\" >1</td>\n",
              "      <td id=\"T_bb0fb_row0_col5\" class=\"data row0 col5\" >1</td>\n",
              "    </tr>\n",
              "    <tr>\n",
              "      <th id=\"T_bb0fb_level0_row1\" class=\"row_heading level0 row1\" >1</th>\n",
              "      <td id=\"T_bb0fb_row1_col0\" class=\"data row1 col0\" >1</td>\n",
              "      <td id=\"T_bb0fb_row1_col1\" class=\"data row1 col1\" >1</td>\n",
              "      <td id=\"T_bb0fb_row1_col2\" class=\"data row1 col2\" >1</td>\n",
              "      <td id=\"T_bb0fb_row1_col3\" class=\"data row1 col3\" >1</td>\n",
              "      <td id=\"T_bb0fb_row1_col4\" class=\"data row1 col4\" >2</td>\n",
              "      <td id=\"T_bb0fb_row1_col5\" class=\"data row1 col5\" >2</td>\n",
              "    </tr>\n",
              "    <tr>\n",
              "      <th id=\"T_bb0fb_level0_row2\" class=\"row_heading level0 row2\" >2</th>\n",
              "      <td id=\"T_bb0fb_row2_col0\" class=\"data row2 col0\" >1</td>\n",
              "      <td id=\"T_bb0fb_row2_col1\" class=\"data row2 col1\" >2</td>\n",
              "      <td id=\"T_bb0fb_row2_col2\" class=\"data row2 col2\" >2</td>\n",
              "      <td id=\"T_bb0fb_row2_col3\" class=\"data row2 col3\" >1</td>\n",
              "      <td id=\"T_bb0fb_row2_col4\" class=\"data row2 col4\" >1</td>\n",
              "      <td id=\"T_bb0fb_row2_col5\" class=\"data row2 col5\" >1</td>\n",
              "    </tr>\n",
              "  </tbody>\n",
              "</table>\n"
            ]
          },
          "metadata": {}
        },
        {
          "output_type": "stream",
          "name": "stdout",
          "text": [
            "\n",
            " \u001b[1;31;47m Solution to 1 x 2:\u001b[1;34;47m ' = + 2 ' \u001b[1;31;47m in Braille Nemeth code: \n",
            "\n"
          ]
        },
        {
          "output_type": "display_data",
          "data": {
            "text/plain": [
              "<pandas.io.formats.style.Styler at 0x7f5b0a40a050>"
            ],
            "text/html": [
              "<style type=\"text/css\">\n",
              "#T_f02b6_row0_col0, #T_f02b6_row0_col3, #T_f02b6_row0_col4, #T_f02b6_row0_col6, #T_f02b6_row0_col7, #T_f02b6_row1_col0, #T_f02b6_row1_col1, #T_f02b6_row1_col2, #T_f02b6_row1_col3, #T_f02b6_row1_col4, #T_f02b6_row1_col5, #T_f02b6_row1_col7, #T_f02b6_row2_col0, #T_f02b6_row2_col3, #T_f02b6_row2_col7 {\n",
              "  background-color: #ff0000;\n",
              "  color: #f1f1f1;\n",
              "}\n",
              "#T_f02b6_row0_col1, #T_f02b6_row0_col2, #T_f02b6_row0_col5, #T_f02b6_row1_col6, #T_f02b6_row2_col1, #T_f02b6_row2_col2, #T_f02b6_row2_col4, #T_f02b6_row2_col5, #T_f02b6_row2_col6 {\n",
              "  background-color: #54ff00;\n",
              "  color: #000000;\n",
              "}\n",
              "</style>\n",
              "<table id=\"T_f02b6_\" class=\"dataframe\">\n",
              "  <thead>\n",
              "    <tr>\n",
              "      <th class=\"blank level0\" >&nbsp;</th>\n",
              "      <th class=\"col_heading level0 col0\" >0</th>\n",
              "      <th class=\"col_heading level0 col1\" >1</th>\n",
              "      <th class=\"col_heading level0 col2\" >2</th>\n",
              "      <th class=\"col_heading level0 col3\" >3</th>\n",
              "      <th class=\"col_heading level0 col4\" >4</th>\n",
              "      <th class=\"col_heading level0 col5\" >5</th>\n",
              "      <th class=\"col_heading level0 col6\" >6</th>\n",
              "      <th class=\"col_heading level0 col7\" >7</th>\n",
              "    </tr>\n",
              "  </thead>\n",
              "  <tbody>\n",
              "    <tr>\n",
              "      <th id=\"T_f02b6_level0_row0\" class=\"row_heading level0 row0\" >0</th>\n",
              "      <td id=\"T_f02b6_row0_col0\" class=\"data row0 col0\" >1</td>\n",
              "      <td id=\"T_f02b6_row0_col1\" class=\"data row0 col1\" >2</td>\n",
              "      <td id=\"T_f02b6_row0_col2\" class=\"data row0 col2\" >2</td>\n",
              "      <td id=\"T_f02b6_row0_col3\" class=\"data row0 col3\" >1</td>\n",
              "      <td id=\"T_f02b6_row0_col4\" class=\"data row0 col4\" >1</td>\n",
              "      <td id=\"T_f02b6_row0_col5\" class=\"data row0 col5\" >2</td>\n",
              "      <td id=\"T_f02b6_row0_col6\" class=\"data row0 col6\" >1</td>\n",
              "      <td id=\"T_f02b6_row0_col7\" class=\"data row0 col7\" >1</td>\n",
              "    </tr>\n",
              "    <tr>\n",
              "      <th id=\"T_f02b6_level0_row1\" class=\"row_heading level0 row1\" >1</th>\n",
              "      <td id=\"T_f02b6_row1_col0\" class=\"data row1 col0\" >1</td>\n",
              "      <td id=\"T_f02b6_row1_col1\" class=\"data row1 col1\" >1</td>\n",
              "      <td id=\"T_f02b6_row1_col2\" class=\"data row1 col2\" >1</td>\n",
              "      <td id=\"T_f02b6_row1_col3\" class=\"data row1 col3\" >1</td>\n",
              "      <td id=\"T_f02b6_row1_col4\" class=\"data row1 col4\" >1</td>\n",
              "      <td id=\"T_f02b6_row1_col5\" class=\"data row1 col5\" >1</td>\n",
              "      <td id=\"T_f02b6_row1_col6\" class=\"data row1 col6\" >2</td>\n",
              "      <td id=\"T_f02b6_row1_col7\" class=\"data row1 col7\" >1</td>\n",
              "    </tr>\n",
              "    <tr>\n",
              "      <th id=\"T_f02b6_level0_row2\" class=\"row_heading level0 row2\" >2</th>\n",
              "      <td id=\"T_f02b6_row2_col0\" class=\"data row2 col0\" >1</td>\n",
              "      <td id=\"T_f02b6_row2_col1\" class=\"data row2 col1\" >2</td>\n",
              "      <td id=\"T_f02b6_row2_col2\" class=\"data row2 col2\" >2</td>\n",
              "      <td id=\"T_f02b6_row2_col3\" class=\"data row2 col3\" >1</td>\n",
              "      <td id=\"T_f02b6_row2_col4\" class=\"data row2 col4\" >2</td>\n",
              "      <td id=\"T_f02b6_row2_col5\" class=\"data row2 col5\" >2</td>\n",
              "      <td id=\"T_f02b6_row2_col6\" class=\"data row2 col6\" >2</td>\n",
              "      <td id=\"T_f02b6_row2_col7\" class=\"data row2 col7\" >1</td>\n",
              "    </tr>\n",
              "  </tbody>\n",
              "</table>\n"
            ]
          },
          "metadata": {}
        },
        {
          "output_type": "stream",
          "name": "stdout",
          "text": [
            "\n",
            " \u001b[1;31;47m Solution to 2 ÷ 1:\u001b[1;34;47m ' = + 2 ' \u001b[1;31;47m in Braille Nemeth code: \n",
            "\n"
          ]
        },
        {
          "output_type": "display_data",
          "data": {
            "text/plain": [
              "<pandas.io.formats.style.Styler at 0x7f5b0a4070d0>"
            ],
            "text/html": [
              "<style type=\"text/css\">\n",
              "#T_cabbc_row0_col0, #T_cabbc_row0_col3, #T_cabbc_row0_col4, #T_cabbc_row0_col6, #T_cabbc_row0_col7, #T_cabbc_row1_col0, #T_cabbc_row1_col1, #T_cabbc_row1_col2, #T_cabbc_row1_col3, #T_cabbc_row1_col4, #T_cabbc_row1_col5, #T_cabbc_row1_col7, #T_cabbc_row2_col0, #T_cabbc_row2_col3, #T_cabbc_row2_col7 {\n",
              "  background-color: #ff0000;\n",
              "  color: #f1f1f1;\n",
              "}\n",
              "#T_cabbc_row0_col1, #T_cabbc_row0_col2, #T_cabbc_row0_col5, #T_cabbc_row1_col6, #T_cabbc_row2_col1, #T_cabbc_row2_col2, #T_cabbc_row2_col4, #T_cabbc_row2_col5, #T_cabbc_row2_col6 {\n",
              "  background-color: #54ff00;\n",
              "  color: #000000;\n",
              "}\n",
              "</style>\n",
              "<table id=\"T_cabbc_\" class=\"dataframe\">\n",
              "  <thead>\n",
              "    <tr>\n",
              "      <th class=\"blank level0\" >&nbsp;</th>\n",
              "      <th class=\"col_heading level0 col0\" >0</th>\n",
              "      <th class=\"col_heading level0 col1\" >1</th>\n",
              "      <th class=\"col_heading level0 col2\" >2</th>\n",
              "      <th class=\"col_heading level0 col3\" >3</th>\n",
              "      <th class=\"col_heading level0 col4\" >4</th>\n",
              "      <th class=\"col_heading level0 col5\" >5</th>\n",
              "      <th class=\"col_heading level0 col6\" >6</th>\n",
              "      <th class=\"col_heading level0 col7\" >7</th>\n",
              "    </tr>\n",
              "  </thead>\n",
              "  <tbody>\n",
              "    <tr>\n",
              "      <th id=\"T_cabbc_level0_row0\" class=\"row_heading level0 row0\" >0</th>\n",
              "      <td id=\"T_cabbc_row0_col0\" class=\"data row0 col0\" >1</td>\n",
              "      <td id=\"T_cabbc_row0_col1\" class=\"data row0 col1\" >2</td>\n",
              "      <td id=\"T_cabbc_row0_col2\" class=\"data row0 col2\" >2</td>\n",
              "      <td id=\"T_cabbc_row0_col3\" class=\"data row0 col3\" >1</td>\n",
              "      <td id=\"T_cabbc_row0_col4\" class=\"data row0 col4\" >1</td>\n",
              "      <td id=\"T_cabbc_row0_col5\" class=\"data row0 col5\" >2</td>\n",
              "      <td id=\"T_cabbc_row0_col6\" class=\"data row0 col6\" >1</td>\n",
              "      <td id=\"T_cabbc_row0_col7\" class=\"data row0 col7\" >1</td>\n",
              "    </tr>\n",
              "    <tr>\n",
              "      <th id=\"T_cabbc_level0_row1\" class=\"row_heading level0 row1\" >1</th>\n",
              "      <td id=\"T_cabbc_row1_col0\" class=\"data row1 col0\" >1</td>\n",
              "      <td id=\"T_cabbc_row1_col1\" class=\"data row1 col1\" >1</td>\n",
              "      <td id=\"T_cabbc_row1_col2\" class=\"data row1 col2\" >1</td>\n",
              "      <td id=\"T_cabbc_row1_col3\" class=\"data row1 col3\" >1</td>\n",
              "      <td id=\"T_cabbc_row1_col4\" class=\"data row1 col4\" >1</td>\n",
              "      <td id=\"T_cabbc_row1_col5\" class=\"data row1 col5\" >1</td>\n",
              "      <td id=\"T_cabbc_row1_col6\" class=\"data row1 col6\" >2</td>\n",
              "      <td id=\"T_cabbc_row1_col7\" class=\"data row1 col7\" >1</td>\n",
              "    </tr>\n",
              "    <tr>\n",
              "      <th id=\"T_cabbc_level0_row2\" class=\"row_heading level0 row2\" >2</th>\n",
              "      <td id=\"T_cabbc_row2_col0\" class=\"data row2 col0\" >1</td>\n",
              "      <td id=\"T_cabbc_row2_col1\" class=\"data row2 col1\" >2</td>\n",
              "      <td id=\"T_cabbc_row2_col2\" class=\"data row2 col2\" >2</td>\n",
              "      <td id=\"T_cabbc_row2_col3\" class=\"data row2 col3\" >1</td>\n",
              "      <td id=\"T_cabbc_row2_col4\" class=\"data row2 col4\" >2</td>\n",
              "      <td id=\"T_cabbc_row2_col5\" class=\"data row2 col5\" >2</td>\n",
              "      <td id=\"T_cabbc_row2_col6\" class=\"data row2 col6\" >2</td>\n",
              "      <td id=\"T_cabbc_row2_col7\" class=\"data row2 col7\" >1</td>\n",
              "    </tr>\n",
              "  </tbody>\n",
              "</table>\n"
            ]
          },
          "metadata": {}
        },
        {
          "output_type": "stream",
          "name": "stdout",
          "text": [
            "\n",
            " \u001b[1;31;47m Solution to 100 + 100: \u001b[1;34;47m' = 200 ' \u001b[1;31;47m in Braille Nemeth code: \n",
            "\n"
          ]
        },
        {
          "output_type": "display_data",
          "data": {
            "text/plain": [
              "<pandas.io.formats.style.Styler at 0x7f5b0a3fe8d0>"
            ],
            "text/html": [
              "<style type=\"text/css\">\n",
              "#T_36392_row0_col0, #T_36392_row0_col3, #T_36392_row0_col4, #T_36392_row0_col5, #T_36392_row0_col6, #T_36392_row0_col7, #T_36392_row0_col8, #T_36392_row0_col9, #T_36392_row1_col0, #T_36392_row1_col1, #T_36392_row1_col2, #T_36392_row1_col3, #T_36392_row1_col5, #T_36392_row1_col6, #T_36392_row1_col8, #T_36392_row2_col0, #T_36392_row2_col3, #T_36392_row2_col5 {\n",
              "  background-color: #ff0000;\n",
              "  color: #f1f1f1;\n",
              "}\n",
              "#T_36392_row0_col1, #T_36392_row0_col2, #T_36392_row1_col4, #T_36392_row1_col7, #T_36392_row1_col9, #T_36392_row2_col1, #T_36392_row2_col2, #T_36392_row2_col4, #T_36392_row2_col6, #T_36392_row2_col7, #T_36392_row2_col8, #T_36392_row2_col9 {\n",
              "  background-color: #54ff00;\n",
              "  color: #000000;\n",
              "}\n",
              "</style>\n",
              "<table id=\"T_36392_\" class=\"dataframe\">\n",
              "  <thead>\n",
              "    <tr>\n",
              "      <th class=\"blank level0\" >&nbsp;</th>\n",
              "      <th class=\"col_heading level0 col0\" >0</th>\n",
              "      <th class=\"col_heading level0 col1\" >1</th>\n",
              "      <th class=\"col_heading level0 col2\" >2</th>\n",
              "      <th class=\"col_heading level0 col3\" >3</th>\n",
              "      <th class=\"col_heading level0 col4\" >4</th>\n",
              "      <th class=\"col_heading level0 col5\" >5</th>\n",
              "      <th class=\"col_heading level0 col6\" >6</th>\n",
              "      <th class=\"col_heading level0 col7\" >7</th>\n",
              "      <th class=\"col_heading level0 col8\" >8</th>\n",
              "      <th class=\"col_heading level0 col9\" >9</th>\n",
              "    </tr>\n",
              "  </thead>\n",
              "  <tbody>\n",
              "    <tr>\n",
              "      <th id=\"T_36392_level0_row0\" class=\"row_heading level0 row0\" >0</th>\n",
              "      <td id=\"T_36392_row0_col0\" class=\"data row0 col0\" >1</td>\n",
              "      <td id=\"T_36392_row0_col1\" class=\"data row0 col1\" >2</td>\n",
              "      <td id=\"T_36392_row0_col2\" class=\"data row0 col2\" >2</td>\n",
              "      <td id=\"T_36392_row0_col3\" class=\"data row0 col3\" >1</td>\n",
              "      <td id=\"T_36392_row0_col4\" class=\"data row0 col4\" >1</td>\n",
              "      <td id=\"T_36392_row0_col5\" class=\"data row0 col5\" >1</td>\n",
              "      <td id=\"T_36392_row0_col6\" class=\"data row0 col6\" >1</td>\n",
              "      <td id=\"T_36392_row0_col7\" class=\"data row0 col7\" >1</td>\n",
              "      <td id=\"T_36392_row0_col8\" class=\"data row0 col8\" >1</td>\n",
              "      <td id=\"T_36392_row0_col9\" class=\"data row0 col9\" >1</td>\n",
              "    </tr>\n",
              "    <tr>\n",
              "      <th id=\"T_36392_level0_row1\" class=\"row_heading level0 row1\" >1</th>\n",
              "      <td id=\"T_36392_row1_col0\" class=\"data row1 col0\" >1</td>\n",
              "      <td id=\"T_36392_row1_col1\" class=\"data row1 col1\" >1</td>\n",
              "      <td id=\"T_36392_row1_col2\" class=\"data row1 col2\" >1</td>\n",
              "      <td id=\"T_36392_row1_col3\" class=\"data row1 col3\" >1</td>\n",
              "      <td id=\"T_36392_row1_col4\" class=\"data row1 col4\" >2</td>\n",
              "      <td id=\"T_36392_row1_col5\" class=\"data row1 col5\" >1</td>\n",
              "      <td id=\"T_36392_row1_col6\" class=\"data row1 col6\" >1</td>\n",
              "      <td id=\"T_36392_row1_col7\" class=\"data row1 col7\" >2</td>\n",
              "      <td id=\"T_36392_row1_col8\" class=\"data row1 col8\" >1</td>\n",
              "      <td id=\"T_36392_row1_col9\" class=\"data row1 col9\" >2</td>\n",
              "    </tr>\n",
              "    <tr>\n",
              "      <th id=\"T_36392_level0_row2\" class=\"row_heading level0 row2\" >2</th>\n",
              "      <td id=\"T_36392_row2_col0\" class=\"data row2 col0\" >1</td>\n",
              "      <td id=\"T_36392_row2_col1\" class=\"data row2 col1\" >2</td>\n",
              "      <td id=\"T_36392_row2_col2\" class=\"data row2 col2\" >2</td>\n",
              "      <td id=\"T_36392_row2_col3\" class=\"data row2 col3\" >1</td>\n",
              "      <td id=\"T_36392_row2_col4\" class=\"data row2 col4\" >2</td>\n",
              "      <td id=\"T_36392_row2_col5\" class=\"data row2 col5\" >1</td>\n",
              "      <td id=\"T_36392_row2_col6\" class=\"data row2 col6\" >2</td>\n",
              "      <td id=\"T_36392_row2_col7\" class=\"data row2 col7\" >2</td>\n",
              "      <td id=\"T_36392_row2_col8\" class=\"data row2 col8\" >2</td>\n",
              "      <td id=\"T_36392_row2_col9\" class=\"data row2 col9\" >2</td>\n",
              "    </tr>\n",
              "  </tbody>\n",
              "</table>\n"
            ]
          },
          "metadata": {}
        },
        {
          "output_type": "stream",
          "name": "stdout",
          "text": [
            "\n",
            " \u001b[1;31;47m Solution to 100 x 100: \u001b[1;34;47m' = + 10,000 ' \u001b[1;31;47m in Braille Nemeth code: \n",
            "\n"
          ]
        },
        {
          "output_type": "display_data",
          "data": {
            "text/plain": [
              "<pandas.io.formats.style.Styler at 0x7f5b0a40a950>"
            ],
            "text/html": [
              "<style type=\"text/css\">\n",
              "#T_e31dc_row0_col0, #T_e31dc_row0_col3, #T_e31dc_row0_col4, #T_e31dc_row0_col6, #T_e31dc_row0_col7, #T_e31dc_row0_col8, #T_e31dc_row0_col9, #T_e31dc_row0_col10, #T_e31dc_row0_col11, #T_e31dc_row0_col12, #T_e31dc_row0_col13, #T_e31dc_row0_col14, #T_e31dc_row0_col15, #T_e31dc_row1_col0, #T_e31dc_row1_col1, #T_e31dc_row1_col2, #T_e31dc_row1_col3, #T_e31dc_row1_col4, #T_e31dc_row1_col5, #T_e31dc_row1_col7, #T_e31dc_row1_col8, #T_e31dc_row1_col10, #T_e31dc_row1_col12, #T_e31dc_row1_col14, #T_e31dc_row2_col0, #T_e31dc_row2_col3, #T_e31dc_row2_col6, #T_e31dc_row2_col7 {\n",
              "  background-color: #ff0000;\n",
              "  color: #f1f1f1;\n",
              "}\n",
              "#T_e31dc_row0_col1, #T_e31dc_row0_col2, #T_e31dc_row0_col5, #T_e31dc_row1_col6, #T_e31dc_row1_col9, #T_e31dc_row1_col11, #T_e31dc_row1_col13, #T_e31dc_row1_col15, #T_e31dc_row2_col1, #T_e31dc_row2_col2, #T_e31dc_row2_col4, #T_e31dc_row2_col5, #T_e31dc_row2_col8, #T_e31dc_row2_col9, #T_e31dc_row2_col10, #T_e31dc_row2_col11, #T_e31dc_row2_col12, #T_e31dc_row2_col13, #T_e31dc_row2_col14, #T_e31dc_row2_col15 {\n",
              "  background-color: #54ff00;\n",
              "  color: #000000;\n",
              "}\n",
              "</style>\n",
              "<table id=\"T_e31dc_\" class=\"dataframe\">\n",
              "  <thead>\n",
              "    <tr>\n",
              "      <th class=\"blank level0\" >&nbsp;</th>\n",
              "      <th class=\"col_heading level0 col0\" >0</th>\n",
              "      <th class=\"col_heading level0 col1\" >1</th>\n",
              "      <th class=\"col_heading level0 col2\" >2</th>\n",
              "      <th class=\"col_heading level0 col3\" >3</th>\n",
              "      <th class=\"col_heading level0 col4\" >4</th>\n",
              "      <th class=\"col_heading level0 col5\" >5</th>\n",
              "      <th class=\"col_heading level0 col6\" >6</th>\n",
              "      <th class=\"col_heading level0 col7\" >7</th>\n",
              "      <th class=\"col_heading level0 col8\" >8</th>\n",
              "      <th class=\"col_heading level0 col9\" >9</th>\n",
              "      <th class=\"col_heading level0 col10\" >10</th>\n",
              "      <th class=\"col_heading level0 col11\" >11</th>\n",
              "      <th class=\"col_heading level0 col12\" >12</th>\n",
              "      <th class=\"col_heading level0 col13\" >13</th>\n",
              "      <th class=\"col_heading level0 col14\" >14</th>\n",
              "      <th class=\"col_heading level0 col15\" >15</th>\n",
              "    </tr>\n",
              "  </thead>\n",
              "  <tbody>\n",
              "    <tr>\n",
              "      <th id=\"T_e31dc_level0_row0\" class=\"row_heading level0 row0\" >0</th>\n",
              "      <td id=\"T_e31dc_row0_col0\" class=\"data row0 col0\" >1</td>\n",
              "      <td id=\"T_e31dc_row0_col1\" class=\"data row0 col1\" >2</td>\n",
              "      <td id=\"T_e31dc_row0_col2\" class=\"data row0 col2\" >2</td>\n",
              "      <td id=\"T_e31dc_row0_col3\" class=\"data row0 col3\" >1</td>\n",
              "      <td id=\"T_e31dc_row0_col4\" class=\"data row0 col4\" >1</td>\n",
              "      <td id=\"T_e31dc_row0_col5\" class=\"data row0 col5\" >2</td>\n",
              "      <td id=\"T_e31dc_row0_col6\" class=\"data row0 col6\" >1</td>\n",
              "      <td id=\"T_e31dc_row0_col7\" class=\"data row0 col7\" >1</td>\n",
              "      <td id=\"T_e31dc_row0_col8\" class=\"data row0 col8\" >1</td>\n",
              "      <td id=\"T_e31dc_row0_col9\" class=\"data row0 col9\" >1</td>\n",
              "      <td id=\"T_e31dc_row0_col10\" class=\"data row0 col10\" >1</td>\n",
              "      <td id=\"T_e31dc_row0_col11\" class=\"data row0 col11\" >1</td>\n",
              "      <td id=\"T_e31dc_row0_col12\" class=\"data row0 col12\" >1</td>\n",
              "      <td id=\"T_e31dc_row0_col13\" class=\"data row0 col13\" >1</td>\n",
              "      <td id=\"T_e31dc_row0_col14\" class=\"data row0 col14\" >1</td>\n",
              "      <td id=\"T_e31dc_row0_col15\" class=\"data row0 col15\" >1</td>\n",
              "    </tr>\n",
              "    <tr>\n",
              "      <th id=\"T_e31dc_level0_row1\" class=\"row_heading level0 row1\" >1</th>\n",
              "      <td id=\"T_e31dc_row1_col0\" class=\"data row1 col0\" >1</td>\n",
              "      <td id=\"T_e31dc_row1_col1\" class=\"data row1 col1\" >1</td>\n",
              "      <td id=\"T_e31dc_row1_col2\" class=\"data row1 col2\" >1</td>\n",
              "      <td id=\"T_e31dc_row1_col3\" class=\"data row1 col3\" >1</td>\n",
              "      <td id=\"T_e31dc_row1_col4\" class=\"data row1 col4\" >1</td>\n",
              "      <td id=\"T_e31dc_row1_col5\" class=\"data row1 col5\" >1</td>\n",
              "      <td id=\"T_e31dc_row1_col6\" class=\"data row1 col6\" >2</td>\n",
              "      <td id=\"T_e31dc_row1_col7\" class=\"data row1 col7\" >1</td>\n",
              "      <td id=\"T_e31dc_row1_col8\" class=\"data row1 col8\" >1</td>\n",
              "      <td id=\"T_e31dc_row1_col9\" class=\"data row1 col9\" >2</td>\n",
              "      <td id=\"T_e31dc_row1_col10\" class=\"data row1 col10\" >1</td>\n",
              "      <td id=\"T_e31dc_row1_col11\" class=\"data row1 col11\" >2</td>\n",
              "      <td id=\"T_e31dc_row1_col12\" class=\"data row1 col12\" >1</td>\n",
              "      <td id=\"T_e31dc_row1_col13\" class=\"data row1 col13\" >2</td>\n",
              "      <td id=\"T_e31dc_row1_col14\" class=\"data row1 col14\" >1</td>\n",
              "      <td id=\"T_e31dc_row1_col15\" class=\"data row1 col15\" >2</td>\n",
              "    </tr>\n",
              "    <tr>\n",
              "      <th id=\"T_e31dc_level0_row2\" class=\"row_heading level0 row2\" >2</th>\n",
              "      <td id=\"T_e31dc_row2_col0\" class=\"data row2 col0\" >1</td>\n",
              "      <td id=\"T_e31dc_row2_col1\" class=\"data row2 col1\" >2</td>\n",
              "      <td id=\"T_e31dc_row2_col2\" class=\"data row2 col2\" >2</td>\n",
              "      <td id=\"T_e31dc_row2_col3\" class=\"data row2 col3\" >1</td>\n",
              "      <td id=\"T_e31dc_row2_col4\" class=\"data row2 col4\" >2</td>\n",
              "      <td id=\"T_e31dc_row2_col5\" class=\"data row2 col5\" >2</td>\n",
              "      <td id=\"T_e31dc_row2_col6\" class=\"data row2 col6\" >1</td>\n",
              "      <td id=\"T_e31dc_row2_col7\" class=\"data row2 col7\" >1</td>\n",
              "      <td id=\"T_e31dc_row2_col8\" class=\"data row2 col8\" >2</td>\n",
              "      <td id=\"T_e31dc_row2_col9\" class=\"data row2 col9\" >2</td>\n",
              "      <td id=\"T_e31dc_row2_col10\" class=\"data row2 col10\" >2</td>\n",
              "      <td id=\"T_e31dc_row2_col11\" class=\"data row2 col11\" >2</td>\n",
              "      <td id=\"T_e31dc_row2_col12\" class=\"data row2 col12\" >2</td>\n",
              "      <td id=\"T_e31dc_row2_col13\" class=\"data row2 col13\" >2</td>\n",
              "      <td id=\"T_e31dc_row2_col14\" class=\"data row2 col14\" >2</td>\n",
              "      <td id=\"T_e31dc_row2_col15\" class=\"data row2 col15\" >2</td>\n",
              "    </tr>\n",
              "  </tbody>\n",
              "</table>\n"
            ]
          },
          "metadata": {}
        },
        {
          "output_type": "display_data",
          "data": {
            "text/plain": [
              "<Figure size 432x288 with 1 Axes>"
            ],
            "image/png": "[encoded data removed]"
          },
          "metadata": {
            "needs_background": "light"
          }
        }
      ]
    },
    {
      "cell_type": "code",
      "source": [
        "## Method 1 - via Hadamard element-wise operations ##\n",
        "\n",
        "# ADDITION: 0 + 4 solution #  \n",
        "x_had_plus_04 = np.divide(plus_04_sol, plus_04_nemeth) # Hadamard division\n",
        "\n",
        "print(\"\\033[1;30;47m Example \\033[1;34;47m'x' \\033[1;30;47m solution for \" \n",
        "      \"Hadamard solving \\033[1;34;47m Ax=b, where A=['0+4'] and b=['=4']\")\n",
        "matrixGridRound(x_had_plus_04)\n",
        "\n",
        "solHadamard_plus_04 = np.multiply(x_had_plus_04, plus_04_nemeth) # Hadamard prod \n",
        "if np.all(solHadamard_plus_04 == plus_04_sol):\n",
        "  check_plus_04 = \"Correct\"\n",
        "\n",
        "for i in range(10):\n",
        "  if np.all(numbers[i] == solHadamard_plus_04[:,[4,5]]):\n",
        "    print(\"\\n \\033[1;30;47m Solution via Hadamard operations for ' 0 + 4 ' is \\033[1;34;47m\",\n",
        "          check_plus_04,\": ' equals\", i,\"'\")\n",
        "matrixGridSolType1(solHadamard_plus_04)\n",
        "gameLayout_colCubehelix(solHadamard_plus_04)\n",
        "plt.savefig('solHadamard_plus_04.png', bbox_inches='tight', pad_inches = 0)\n",
        "\n",
        "# SUBTRACTION: 8 - 5 solution # \n",
        "x_had_minus_85 = np.divide(minus_85_sol, minus_85_nemeth)\n",
        "\n",
        "solHadamard_minus_85 = np.multiply(x_had_minus_85, minus_85_nemeth)\n",
        "if np.all(solHadamard_minus_85 == minus_85_sol):\n",
        "  check_minus_85 = \"Correct\"\n",
        "\n",
        "for i in range(10):\n",
        "  if np.all(numbers[i] == solHadamard_minus_85[:,[4, 5]]):\n",
        "    print(\"\\n \\033[1;30;47m Solution via Hadamard operations for ' 8 - 5 ' is \\033[1;34;47m\", \n",
        "          check_minus_85,\": ' equals\", i, \"'\")\n",
        "matrixGridSolType1(solHadamard_minus_85)\n",
        "gameLayout_colCubehelix(solHadamard_minus_85)\n",
        "plt.savefig('solHadamard_minus_85.png', bbox_inches='tight', pad_inches = 0)\n",
        "\n",
        "# MULTIPLICATION: 1 x 2 solution # \n",
        "x_had_mult_12 = np.divide(multiply_12_sol, multiply_12_nemeth)\n",
        "\n",
        "solHadamard_mult_12 = np.multiply(x_had_mult_12, multiply_12_nemeth)\n",
        "if np.all(solHadamard_mult_12 == multiply_12_sol):\n",
        "  check_mult_12 = \"Correct\"\n",
        "\n",
        "for i in range(10):\n",
        "  if np.all(numbers[i] == solHadamard_mult_12[:,[6,7]]):\n",
        "    print(\"\\n \\033[1;30;47m Solution via Hadamard operations for ' 1 x 2 ' is \\033[1;34;47m\", \n",
        "          check_mult_12,\": ' equals +\", i, \"'\")\n",
        "matrixGridSolType1(solHadamard_mult_12)\n",
        "gameLayout_colCubehelix(solHadamard_mult_12)\n",
        "plt.savefig('solHadamard_mult_12.png', bbox_inches='tight', pad_inches = 0)\n",
        "\n",
        "# DIVISION: 2 ÷ 1 solution # \n",
        "x_had_div_21 = np.divide(divide_21_sol, divide_21_nemeth)\n",
        "\n",
        "solHadamard_div_21 = np.multiply(x_had_div_21, divide_21_nemeth)\n",
        "if np.all(solHadamard_div_21 == divide_21_sol):\n",
        "  check_div_21 = \"Correct\"\n",
        "\n",
        "for i in range(10):\n",
        "  if np.all(numbers[i] == solHadamard_div_21[:,[6,7]]):\n",
        "    print(\"\\n \\033[1;30;47m Solution via Hadamard operations for ' 2 ÷ 1 ' is \\033[1;34;47m\", \n",
        "          check_div_21,\": ' equals +\", i, \"'\")\n",
        "matrixGridSolType1(solHadamard_div_21)\n",
        "gameLayout_colCubehelix(solHadamard_div_21)\n",
        "plt.savefig('solHadamard_div_21.png', bbox_inches='tight', pad_inches = 0)\n",
        "\n",
        "# MULTIPLICATION: 100 x 100 solution # \n",
        "x_had_mult_100x100 = np.divide(multiply_100x100_sol, multiply_100x100_nemeth)\n",
        "\n",
        "solHadamard_mult_100x100 = np.multiply(x_had_mult_100x100, \n",
        "                                       multiply_100x100_nemeth)\n",
        "if np.all(solHadamard_mult_100x100 == multiply_100x100_sol):\n",
        "  check_mult_100x100 = \"Correct\"\n",
        "\n",
        "for i in range(10):\n",
        "  if np.all(np.hstack((numbers[i],numbers[0],numbers[0], numbers[0], numbers[0]\n",
        "                )) == solHadamard_mult_100x100[:,[6,7,8,9,10,11,12,13,14,15]]):\n",
        "    print(\"\\n \\033[1;30;47m Solution via Hadamard operations for ' 100 x 100 ' is \\033[1;34;47m\", \n",
        "          check_mult_100x100,\": ' equals +\", i*10000, \"'\")\n",
        "matrixGridSolType1(solHadamard_mult_100x100)\n",
        "gameLayout_colCubehelix(solHadamard_mult_100x100)\n",
        "plt.savefig('solHadamard_mult_100x100.png', bbox_inches='tight', pad_inches = 0)"
      ],
      "metadata": {
        "colab": {
          "base_uri": "https://localhost:8080/",
          "height": 1000
        },
        "id": "X-h0VuRq8WH9",
        "outputId": "c938ed78-daf2-49a4-a3af-64495016b036"
      },
      "execution_count": null,
      "outputs": [
        {
          "output_type": "stream",
          "name": "stdout",
          "text": [
            "\u001b[1;30;47m Example \u001b[1;34;47m'x' \u001b[1;30;47m solution for Hadamard solving \u001b[1;34;47m Ax=b, where A=['0+4'] and b=['=4']\n"
          ]
        },
        {
          "output_type": "display_data",
          "data": {
            "text/plain": [
              "<pandas.io.formats.style.Styler at 0x7fc66eea82d0>"
            ],
            "text/html": [
              "<style type=\"text/css\">\n",
              "#T_894d9_row0_col0, #T_894d9_row0_col4, #T_894d9_row0_col5, #T_894d9_row1_col0, #T_894d9_row1_col2, #T_894d9_row1_col3, #T_894d9_row1_col4, #T_894d9_row1_col5, #T_894d9_row2_col1, #T_894d9_row2_col2, #T_894d9_row2_col4, #T_894d9_row2_col5 {\n",
              "  background-color: #32e900;\n",
              "  color: #000000;\n",
              "}\n",
              "#T_894d9_row0_col1, #T_894d9_row0_col2 {\n",
              "  background-color: #54ff00;\n",
              "  color: #000000;\n",
              "}\n",
              "#T_894d9_row0_col3, #T_894d9_row1_col1, #T_894d9_row2_col0, #T_894d9_row2_col3 {\n",
              "  background-color: #ff0000;\n",
              "  color: #f1f1f1;\n",
              "}\n",
              "</style>\n",
              "<table id=\"T_894d9_\" class=\"dataframe\">\n",
              "  <thead>\n",
              "    <tr>\n",
              "      <th class=\"blank level0\" >&nbsp;</th>\n",
              "      <th class=\"col_heading level0 col0\" >0</th>\n",
              "      <th class=\"col_heading level0 col1\" >1</th>\n",
              "      <th class=\"col_heading level0 col2\" >2</th>\n",
              "      <th class=\"col_heading level0 col3\" >3</th>\n",
              "      <th class=\"col_heading level0 col4\" >4</th>\n",
              "      <th class=\"col_heading level0 col5\" >5</th>\n",
              "    </tr>\n",
              "  </thead>\n",
              "  <tbody>\n",
              "    <tr>\n",
              "      <th id=\"T_894d9_level0_row0\" class=\"row_heading level0 row0\" >0</th>\n",
              "      <td id=\"T_894d9_row0_col0\" class=\"data row0 col0\" >1.000000</td>\n",
              "      <td id=\"T_894d9_row0_col1\" class=\"data row0 col1\" >2.000000</td>\n",
              "      <td id=\"T_894d9_row0_col2\" class=\"data row0 col2\" >2.000000</td>\n",
              "      <td id=\"T_894d9_row0_col3\" class=\"data row0 col3\" >0.500000</td>\n",
              "      <td id=\"T_894d9_row0_col4\" class=\"data row0 col4\" >1.000000</td>\n",
              "      <td id=\"T_894d9_row0_col5\" class=\"data row0 col5\" >1.000000</td>\n",
              "    </tr>\n",
              "    <tr>\n",
              "      <th id=\"T_894d9_level0_row1\" class=\"row_heading level0 row1\" >1</th>\n",
              "      <td id=\"T_894d9_row1_col0\" class=\"data row1 col0\" >1.000000</td>\n",
              "      <td id=\"T_894d9_row1_col1\" class=\"data row1 col1\" >0.500000</td>\n",
              "      <td id=\"T_894d9_row1_col2\" class=\"data row1 col2\" >1.000000</td>\n",
              "      <td id=\"T_894d9_row1_col3\" class=\"data row1 col3\" >1.000000</td>\n",
              "      <td id=\"T_894d9_row1_col4\" class=\"data row1 col4\" >1.000000</td>\n",
              "      <td id=\"T_894d9_row1_col5\" class=\"data row1 col5\" >1.000000</td>\n",
              "    </tr>\n",
              "    <tr>\n",
              "      <th id=\"T_894d9_level0_row2\" class=\"row_heading level0 row2\" >2</th>\n",
              "      <td id=\"T_894d9_row2_col0\" class=\"data row2 col0\" >0.500000</td>\n",
              "      <td id=\"T_894d9_row2_col1\" class=\"data row2 col1\" >1.000000</td>\n",
              "      <td id=\"T_894d9_row2_col2\" class=\"data row2 col2\" >1.000000</td>\n",
              "      <td id=\"T_894d9_row2_col3\" class=\"data row2 col3\" >0.500000</td>\n",
              "      <td id=\"T_894d9_row2_col4\" class=\"data row2 col4\" >1.000000</td>\n",
              "      <td id=\"T_894d9_row2_col5\" class=\"data row2 col5\" >1.000000</td>\n",
              "    </tr>\n",
              "  </tbody>\n",
              "</table>\n"
            ]
          },
          "metadata": {}
        },
        {
          "output_type": "stream",
          "name": "stdout",
          "text": [
            "\n",
            " \u001b[1;30;47m Solution via Hadamard operations for ' 0 + 4 ' is \u001b[1;34;47m Correct : ' equals 4 '\n"
          ]
        },
        {
          "output_type": "display_data",
          "data": {
            "text/plain": [
              "<pandas.io.formats.style.Styler at 0x7fc66eea8dd0>"
            ],
            "text/html": [
              "<style type=\"text/css\">\n",
              "#T_19293_row0_col0, #T_19293_row0_col3, #T_19293_row0_col4, #T_19293_row0_col5, #T_19293_row1_col0, #T_19293_row1_col1, #T_19293_row1_col2, #T_19293_row1_col3, #T_19293_row2_col0, #T_19293_row2_col3, #T_19293_row2_col4 {\n",
              "  background-color: #ff0000;\n",
              "  color: #f1f1f1;\n",
              "}\n",
              "#T_19293_row0_col1, #T_19293_row0_col2, #T_19293_row1_col4, #T_19293_row1_col5, #T_19293_row2_col1, #T_19293_row2_col2, #T_19293_row2_col5 {\n",
              "  background-color: #000000;\n",
              "  color: #f1f1f1;\n",
              "}\n",
              "</style>\n",
              "<table id=\"T_19293_\" class=\"dataframe\">\n",
              "  <thead>\n",
              "    <tr>\n",
              "      <th class=\"blank level0\" >&nbsp;</th>\n",
              "      <th class=\"col_heading level0 col0\" >0</th>\n",
              "      <th class=\"col_heading level0 col1\" >1</th>\n",
              "      <th class=\"col_heading level0 col2\" >2</th>\n",
              "      <th class=\"col_heading level0 col3\" >3</th>\n",
              "      <th class=\"col_heading level0 col4\" >4</th>\n",
              "      <th class=\"col_heading level0 col5\" >5</th>\n",
              "    </tr>\n",
              "  </thead>\n",
              "  <tbody>\n",
              "    <tr>\n",
              "      <th id=\"T_19293_level0_row0\" class=\"row_heading level0 row0\" >0</th>\n",
              "      <td id=\"T_19293_row0_col0\" class=\"data row0 col0\" >1</td>\n",
              "      <td id=\"T_19293_row0_col1\" class=\"data row0 col1\" >2</td>\n",
              "      <td id=\"T_19293_row0_col2\" class=\"data row0 col2\" >2</td>\n",
              "      <td id=\"T_19293_row0_col3\" class=\"data row0 col3\" >1</td>\n",
              "      <td id=\"T_19293_row0_col4\" class=\"data row0 col4\" >1</td>\n",
              "      <td id=\"T_19293_row0_col5\" class=\"data row0 col5\" >1</td>\n",
              "    </tr>\n",
              "    <tr>\n",
              "      <th id=\"T_19293_level0_row1\" class=\"row_heading level0 row1\" >1</th>\n",
              "      <td id=\"T_19293_row1_col0\" class=\"data row1 col0\" >1</td>\n",
              "      <td id=\"T_19293_row1_col1\" class=\"data row1 col1\" >1</td>\n",
              "      <td id=\"T_19293_row1_col2\" class=\"data row1 col2\" >1</td>\n",
              "      <td id=\"T_19293_row1_col3\" class=\"data row1 col3\" >1</td>\n",
              "      <td id=\"T_19293_row1_col4\" class=\"data row1 col4\" >2</td>\n",
              "      <td id=\"T_19293_row1_col5\" class=\"data row1 col5\" >2</td>\n",
              "    </tr>\n",
              "    <tr>\n",
              "      <th id=\"T_19293_level0_row2\" class=\"row_heading level0 row2\" >2</th>\n",
              "      <td id=\"T_19293_row2_col0\" class=\"data row2 col0\" >1</td>\n",
              "      <td id=\"T_19293_row2_col1\" class=\"data row2 col1\" >2</td>\n",
              "      <td id=\"T_19293_row2_col2\" class=\"data row2 col2\" >2</td>\n",
              "      <td id=\"T_19293_row2_col3\" class=\"data row2 col3\" >1</td>\n",
              "      <td id=\"T_19293_row2_col4\" class=\"data row2 col4\" >1</td>\n",
              "      <td id=\"T_19293_row2_col5\" class=\"data row2 col5\" >2</td>\n",
              "    </tr>\n",
              "  </tbody>\n",
              "</table>\n"
            ]
          },
          "metadata": {}
        },
        {
          "output_type": "stream",
          "name": "stdout",
          "text": [
            "\n",
            " \u001b[1;30;47m Solution via Hadamard operations for ' 8 - 5 ' is \u001b[1;34;47m Correct : ' equals 3 '\n"
          ]
        },
        {
          "output_type": "display_data",
          "data": {
            "text/plain": [
              "<pandas.io.formats.style.Styler at 0x7fc66ee4ae50>"
            ],
            "text/html": [
              "<style type=\"text/css\">\n",
              "#T_8b655_row0_col0, #T_8b655_row0_col3, #T_8b655_row0_col4, #T_8b655_row0_col5, #T_8b655_row1_col0, #T_8b655_row1_col1, #T_8b655_row1_col2, #T_8b655_row1_col3, #T_8b655_row2_col0, #T_8b655_row2_col3, #T_8b655_row2_col4, #T_8b655_row2_col5 {\n",
              "  background-color: #ff0000;\n",
              "  color: #f1f1f1;\n",
              "}\n",
              "#T_8b655_row0_col1, #T_8b655_row0_col2, #T_8b655_row1_col4, #T_8b655_row1_col5, #T_8b655_row2_col1, #T_8b655_row2_col2 {\n",
              "  background-color: #000000;\n",
              "  color: #f1f1f1;\n",
              "}\n",
              "</style>\n",
              "<table id=\"T_8b655_\" class=\"dataframe\">\n",
              "  <thead>\n",
              "    <tr>\n",
              "      <th class=\"blank level0\" >&nbsp;</th>\n",
              "      <th class=\"col_heading level0 col0\" >0</th>\n",
              "      <th class=\"col_heading level0 col1\" >1</th>\n",
              "      <th class=\"col_heading level0 col2\" >2</th>\n",
              "      <th class=\"col_heading level0 col3\" >3</th>\n",
              "      <th class=\"col_heading level0 col4\" >4</th>\n",
              "      <th class=\"col_heading level0 col5\" >5</th>\n",
              "    </tr>\n",
              "  </thead>\n",
              "  <tbody>\n",
              "    <tr>\n",
              "      <th id=\"T_8b655_level0_row0\" class=\"row_heading level0 row0\" >0</th>\n",
              "      <td id=\"T_8b655_row0_col0\" class=\"data row0 col0\" >1</td>\n",
              "      <td id=\"T_8b655_row0_col1\" class=\"data row0 col1\" >2</td>\n",
              "      <td id=\"T_8b655_row0_col2\" class=\"data row0 col2\" >2</td>\n",
              "      <td id=\"T_8b655_row0_col3\" class=\"data row0 col3\" >1</td>\n",
              "      <td id=\"T_8b655_row0_col4\" class=\"data row0 col4\" >1</td>\n",
              "      <td id=\"T_8b655_row0_col5\" class=\"data row0 col5\" >1</td>\n",
              "    </tr>\n",
              "    <tr>\n",
              "      <th id=\"T_8b655_level0_row1\" class=\"row_heading level0 row1\" >1</th>\n",
              "      <td id=\"T_8b655_row1_col0\" class=\"data row1 col0\" >1</td>\n",
              "      <td id=\"T_8b655_row1_col1\" class=\"data row1 col1\" >1</td>\n",
              "      <td id=\"T_8b655_row1_col2\" class=\"data row1 col2\" >1</td>\n",
              "      <td id=\"T_8b655_row1_col3\" class=\"data row1 col3\" >1</td>\n",
              "      <td id=\"T_8b655_row1_col4\" class=\"data row1 col4\" >2</td>\n",
              "      <td id=\"T_8b655_row1_col5\" class=\"data row1 col5\" >2</td>\n",
              "    </tr>\n",
              "    <tr>\n",
              "      <th id=\"T_8b655_level0_row2\" class=\"row_heading level0 row2\" >2</th>\n",
              "      <td id=\"T_8b655_row2_col0\" class=\"data row2 col0\" >1</td>\n",
              "      <td id=\"T_8b655_row2_col1\" class=\"data row2 col1\" >2</td>\n",
              "      <td id=\"T_8b655_row2_col2\" class=\"data row2 col2\" >2</td>\n",
              "      <td id=\"T_8b655_row2_col3\" class=\"data row2 col3\" >1</td>\n",
              "      <td id=\"T_8b655_row2_col4\" class=\"data row2 col4\" >1</td>\n",
              "      <td id=\"T_8b655_row2_col5\" class=\"data row2 col5\" >1</td>\n",
              "    </tr>\n",
              "  </tbody>\n",
              "</table>\n"
            ]
          },
          "metadata": {}
        },
        {
          "output_type": "stream",
          "name": "stdout",
          "text": [
            "\n",
            " \u001b[1;30;47m Solution via Hadamard operations for ' 1 x 2 ' is \u001b[1;34;47m Correct : ' equals + 2 '\n"
          ]
        },
        {
          "output_type": "display_data",
          "data": {
            "text/plain": [
              "<pandas.io.formats.style.Styler at 0x7fc66ee46290>"
            ],
            "text/html": [
              "<style type=\"text/css\">\n",
              "#T_2bfe7_row0_col0, #T_2bfe7_row0_col3, #T_2bfe7_row0_col4, #T_2bfe7_row0_col6, #T_2bfe7_row0_col7, #T_2bfe7_row1_col0, #T_2bfe7_row1_col1, #T_2bfe7_row1_col2, #T_2bfe7_row1_col3, #T_2bfe7_row1_col4, #T_2bfe7_row1_col5, #T_2bfe7_row1_col7, #T_2bfe7_row2_col0, #T_2bfe7_row2_col3, #T_2bfe7_row2_col7 {\n",
              "  background-color: #ff0000;\n",
              "  color: #f1f1f1;\n",
              "}\n",
              "#T_2bfe7_row0_col1, #T_2bfe7_row0_col2, #T_2bfe7_row0_col5, #T_2bfe7_row1_col6, #T_2bfe7_row2_col1, #T_2bfe7_row2_col2, #T_2bfe7_row2_col4, #T_2bfe7_row2_col5, #T_2bfe7_row2_col6 {\n",
              "  background-color: #000000;\n",
              "  color: #f1f1f1;\n",
              "}\n",
              "</style>\n",
              "<table id=\"T_2bfe7_\" class=\"dataframe\">\n",
              "  <thead>\n",
              "    <tr>\n",
              "      <th class=\"blank level0\" >&nbsp;</th>\n",
              "      <th class=\"col_heading level0 col0\" >0</th>\n",
              "      <th class=\"col_heading level0 col1\" >1</th>\n",
              "      <th class=\"col_heading level0 col2\" >2</th>\n",
              "      <th class=\"col_heading level0 col3\" >3</th>\n",
              "      <th class=\"col_heading level0 col4\" >4</th>\n",
              "      <th class=\"col_heading level0 col5\" >5</th>\n",
              "      <th class=\"col_heading level0 col6\" >6</th>\n",
              "      <th class=\"col_heading level0 col7\" >7</th>\n",
              "    </tr>\n",
              "  </thead>\n",
              "  <tbody>\n",
              "    <tr>\n",
              "      <th id=\"T_2bfe7_level0_row0\" class=\"row_heading level0 row0\" >0</th>\n",
              "      <td id=\"T_2bfe7_row0_col0\" class=\"data row0 col0\" >1</td>\n",
              "      <td id=\"T_2bfe7_row0_col1\" class=\"data row0 col1\" >2</td>\n",
              "      <td id=\"T_2bfe7_row0_col2\" class=\"data row0 col2\" >2</td>\n",
              "      <td id=\"T_2bfe7_row0_col3\" class=\"data row0 col3\" >1</td>\n",
              "      <td id=\"T_2bfe7_row0_col4\" class=\"data row0 col4\" >1</td>\n",
              "      <td id=\"T_2bfe7_row0_col5\" class=\"data row0 col5\" >2</td>\n",
              "      <td id=\"T_2bfe7_row0_col6\" class=\"data row0 col6\" >1</td>\n",
              "      <td id=\"T_2bfe7_row0_col7\" class=\"data row0 col7\" >1</td>\n",
              "    </tr>\n",
              "    <tr>\n",
              "      <th id=\"T_2bfe7_level0_row1\" class=\"row_heading level0 row1\" >1</th>\n",
              "      <td id=\"T_2bfe7_row1_col0\" class=\"data row1 col0\" >1</td>\n",
              "      <td id=\"T_2bfe7_row1_col1\" class=\"data row1 col1\" >1</td>\n",
              "      <td id=\"T_2bfe7_row1_col2\" class=\"data row1 col2\" >1</td>\n",
              "      <td id=\"T_2bfe7_row1_col3\" class=\"data row1 col3\" >1</td>\n",
              "      <td id=\"T_2bfe7_row1_col4\" class=\"data row1 col4\" >1</td>\n",
              "      <td id=\"T_2bfe7_row1_col5\" class=\"data row1 col5\" >1</td>\n",
              "      <td id=\"T_2bfe7_row1_col6\" class=\"data row1 col6\" >2</td>\n",
              "      <td id=\"T_2bfe7_row1_col7\" class=\"data row1 col7\" >1</td>\n",
              "    </tr>\n",
              "    <tr>\n",
              "      <th id=\"T_2bfe7_level0_row2\" class=\"row_heading level0 row2\" >2</th>\n",
              "      <td id=\"T_2bfe7_row2_col0\" class=\"data row2 col0\" >1</td>\n",
              "      <td id=\"T_2bfe7_row2_col1\" class=\"data row2 col1\" >2</td>\n",
              "      <td id=\"T_2bfe7_row2_col2\" class=\"data row2 col2\" >2</td>\n",
              "      <td id=\"T_2bfe7_row2_col3\" class=\"data row2 col3\" >1</td>\n",
              "      <td id=\"T_2bfe7_row2_col4\" class=\"data row2 col4\" >2</td>\n",
              "      <td id=\"T_2bfe7_row2_col5\" class=\"data row2 col5\" >2</td>\n",
              "      <td id=\"T_2bfe7_row2_col6\" class=\"data row2 col6\" >2</td>\n",
              "      <td id=\"T_2bfe7_row2_col7\" class=\"data row2 col7\" >1</td>\n",
              "    </tr>\n",
              "  </tbody>\n",
              "</table>\n"
            ]
          },
          "metadata": {}
        },
        {
          "output_type": "stream",
          "name": "stdout",
          "text": [
            "\n",
            " \u001b[1;30;47m Solution via Hadamard operations for ' 2 ÷ 1 ' is \u001b[1;34;47m Correct : ' equals + 2 '\n"
          ]
        },
        {
          "output_type": "display_data",
          "data": {
            "text/plain": [
              "<pandas.io.formats.style.Styler at 0x7fc66ee46890>"
            ],
            "text/html": [
              "<style type=\"text/css\">\n",
              "#T_adbd0_row0_col0, #T_adbd0_row0_col3, #T_adbd0_row0_col4, #T_adbd0_row0_col6, #T_adbd0_row0_col7, #T_adbd0_row1_col0, #T_adbd0_row1_col1, #T_adbd0_row1_col2, #T_adbd0_row1_col3, #T_adbd0_row1_col4, #T_adbd0_row1_col5, #T_adbd0_row1_col7, #T_adbd0_row2_col0, #T_adbd0_row2_col3, #T_adbd0_row2_col7 {\n",
              "  background-color: #ff0000;\n",
              "  color: #f1f1f1;\n",
              "}\n",
              "#T_adbd0_row0_col1, #T_adbd0_row0_col2, #T_adbd0_row0_col5, #T_adbd0_row1_col6, #T_adbd0_row2_col1, #T_adbd0_row2_col2, #T_adbd0_row2_col4, #T_adbd0_row2_col5, #T_adbd0_row2_col6 {\n",
              "  background-color: #000000;\n",
              "  color: #f1f1f1;\n",
              "}\n",
              "</style>\n",
              "<table id=\"T_adbd0_\" class=\"dataframe\">\n",
              "  <thead>\n",
              "    <tr>\n",
              "      <th class=\"blank level0\" >&nbsp;</th>\n",
              "      <th class=\"col_heading level0 col0\" >0</th>\n",
              "      <th class=\"col_heading level0 col1\" >1</th>\n",
              "      <th class=\"col_heading level0 col2\" >2</th>\n",
              "      <th class=\"col_heading level0 col3\" >3</th>\n",
              "      <th class=\"col_heading level0 col4\" >4</th>\n",
              "      <th class=\"col_heading level0 col5\" >5</th>\n",
              "      <th class=\"col_heading level0 col6\" >6</th>\n",
              "      <th class=\"col_heading level0 col7\" >7</th>\n",
              "    </tr>\n",
              "  </thead>\n",
              "  <tbody>\n",
              "    <tr>\n",
              "      <th id=\"T_adbd0_level0_row0\" class=\"row_heading level0 row0\" >0</th>\n",
              "      <td id=\"T_adbd0_row0_col0\" class=\"data row0 col0\" >1</td>\n",
              "      <td id=\"T_adbd0_row0_col1\" class=\"data row0 col1\" >2</td>\n",
              "      <td id=\"T_adbd0_row0_col2\" class=\"data row0 col2\" >2</td>\n",
              "      <td id=\"T_adbd0_row0_col3\" class=\"data row0 col3\" >1</td>\n",
              "      <td id=\"T_adbd0_row0_col4\" class=\"data row0 col4\" >1</td>\n",
              "      <td id=\"T_adbd0_row0_col5\" class=\"data row0 col5\" >2</td>\n",
              "      <td id=\"T_adbd0_row0_col6\" class=\"data row0 col6\" >1</td>\n",
              "      <td id=\"T_adbd0_row0_col7\" class=\"data row0 col7\" >1</td>\n",
              "    </tr>\n",
              "    <tr>\n",
              "      <th id=\"T_adbd0_level0_row1\" class=\"row_heading level0 row1\" >1</th>\n",
              "      <td id=\"T_adbd0_row1_col0\" class=\"data row1 col0\" >1</td>\n",
              "      <td id=\"T_adbd0_row1_col1\" class=\"data row1 col1\" >1</td>\n",
              "      <td id=\"T_adbd0_row1_col2\" class=\"data row1 col2\" >1</td>\n",
              "      <td id=\"T_adbd0_row1_col3\" class=\"data row1 col3\" >1</td>\n",
              "      <td id=\"T_adbd0_row1_col4\" class=\"data row1 col4\" >1</td>\n",
              "      <td id=\"T_adbd0_row1_col5\" class=\"data row1 col5\" >1</td>\n",
              "      <td id=\"T_adbd0_row1_col6\" class=\"data row1 col6\" >2</td>\n",
              "      <td id=\"T_adbd0_row1_col7\" class=\"data row1 col7\" >1</td>\n",
              "    </tr>\n",
              "    <tr>\n",
              "      <th id=\"T_adbd0_level0_row2\" class=\"row_heading level0 row2\" >2</th>\n",
              "      <td id=\"T_adbd0_row2_col0\" class=\"data row2 col0\" >1</td>\n",
              "      <td id=\"T_adbd0_row2_col1\" class=\"data row2 col1\" >2</td>\n",
              "      <td id=\"T_adbd0_row2_col2\" class=\"data row2 col2\" >2</td>\n",
              "      <td id=\"T_adbd0_row2_col3\" class=\"data row2 col3\" >1</td>\n",
              "      <td id=\"T_adbd0_row2_col4\" class=\"data row2 col4\" >2</td>\n",
              "      <td id=\"T_adbd0_row2_col5\" class=\"data row2 col5\" >2</td>\n",
              "      <td id=\"T_adbd0_row2_col6\" class=\"data row2 col6\" >2</td>\n",
              "      <td id=\"T_adbd0_row2_col7\" class=\"data row2 col7\" >1</td>\n",
              "    </tr>\n",
              "  </tbody>\n",
              "</table>\n"
            ]
          },
          "metadata": {}
        },
        {
          "output_type": "stream",
          "name": "stdout",
          "text": [
            "\n",
            " \u001b[1;30;47m Solution via Hadamard operations for ' 100 x 100 ' is \u001b[1;34;47m Correct : ' equals + 10000 '\n"
          ]
        },
        {
          "output_type": "display_data",
          "data": {
            "text/plain": [
              "<pandas.io.formats.style.Styler at 0x7fc66ede8850>"
            ],
            "text/html": [
              "<style type=\"text/css\">\n",
              "#T_57670_row0_col0, #T_57670_row0_col3, #T_57670_row0_col4, #T_57670_row0_col6, #T_57670_row0_col7, #T_57670_row0_col8, #T_57670_row0_col9, #T_57670_row0_col10, #T_57670_row0_col11, #T_57670_row0_col12, #T_57670_row0_col13, #T_57670_row0_col14, #T_57670_row0_col15, #T_57670_row1_col0, #T_57670_row1_col1, #T_57670_row1_col2, #T_57670_row1_col3, #T_57670_row1_col4, #T_57670_row1_col5, #T_57670_row1_col7, #T_57670_row1_col8, #T_57670_row1_col10, #T_57670_row1_col12, #T_57670_row1_col14, #T_57670_row2_col0, #T_57670_row2_col3, #T_57670_row2_col6, #T_57670_row2_col7 {\n",
              "  background-color: #ff0000;\n",
              "  color: #f1f1f1;\n",
              "}\n",
              "#T_57670_row0_col1, #T_57670_row0_col2, #T_57670_row0_col5, #T_57670_row1_col6, #T_57670_row1_col9, #T_57670_row1_col11, #T_57670_row1_col13, #T_57670_row1_col15, #T_57670_row2_col1, #T_57670_row2_col2, #T_57670_row2_col4, #T_57670_row2_col5, #T_57670_row2_col8, #T_57670_row2_col9, #T_57670_row2_col10, #T_57670_row2_col11, #T_57670_row2_col12, #T_57670_row2_col13, #T_57670_row2_col14, #T_57670_row2_col15 {\n",
              "  background-color: #000000;\n",
              "  color: #f1f1f1;\n",
              "}\n",
              "</style>\n",
              "<table id=\"T_57670_\" class=\"dataframe\">\n",
              "  <thead>\n",
              "    <tr>\n",
              "      <th class=\"blank level0\" >&nbsp;</th>\n",
              "      <th class=\"col_heading level0 col0\" >0</th>\n",
              "      <th class=\"col_heading level0 col1\" >1</th>\n",
              "      <th class=\"col_heading level0 col2\" >2</th>\n",
              "      <th class=\"col_heading level0 col3\" >3</th>\n",
              "      <th class=\"col_heading level0 col4\" >4</th>\n",
              "      <th class=\"col_heading level0 col5\" >5</th>\n",
              "      <th class=\"col_heading level0 col6\" >6</th>\n",
              "      <th class=\"col_heading level0 col7\" >7</th>\n",
              "      <th class=\"col_heading level0 col8\" >8</th>\n",
              "      <th class=\"col_heading level0 col9\" >9</th>\n",
              "      <th class=\"col_heading level0 col10\" >10</th>\n",
              "      <th class=\"col_heading level0 col11\" >11</th>\n",
              "      <th class=\"col_heading level0 col12\" >12</th>\n",
              "      <th class=\"col_heading level0 col13\" >13</th>\n",
              "      <th class=\"col_heading level0 col14\" >14</th>\n",
              "      <th class=\"col_heading level0 col15\" >15</th>\n",
              "    </tr>\n",
              "  </thead>\n",
              "  <tbody>\n",
              "    <tr>\n",
              "      <th id=\"T_57670_level0_row0\" class=\"row_heading level0 row0\" >0</th>\n",
              "      <td id=\"T_57670_row0_col0\" class=\"data row0 col0\" >1</td>\n",
              "      <td id=\"T_57670_row0_col1\" class=\"data row0 col1\" >2</td>\n",
              "      <td id=\"T_57670_row0_col2\" class=\"data row0 col2\" >2</td>\n",
              "      <td id=\"T_57670_row0_col3\" class=\"data row0 col3\" >1</td>\n",
              "      <td id=\"T_57670_row0_col4\" class=\"data row0 col4\" >1</td>\n",
              "      <td id=\"T_57670_row0_col5\" class=\"data row0 col5\" >2</td>\n",
              "      <td id=\"T_57670_row0_col6\" class=\"data row0 col6\" >1</td>\n",
              "      <td id=\"T_57670_row0_col7\" class=\"data row0 col7\" >1</td>\n",
              "      <td id=\"T_57670_row0_col8\" class=\"data row0 col8\" >1</td>\n",
              "      <td id=\"T_57670_row0_col9\" class=\"data row0 col9\" >1</td>\n",
              "      <td id=\"T_57670_row0_col10\" class=\"data row0 col10\" >1</td>\n",
              "      <td id=\"T_57670_row0_col11\" class=\"data row0 col11\" >1</td>\n",
              "      <td id=\"T_57670_row0_col12\" class=\"data row0 col12\" >1</td>\n",
              "      <td id=\"T_57670_row0_col13\" class=\"data row0 col13\" >1</td>\n",
              "      <td id=\"T_57670_row0_col14\" class=\"data row0 col14\" >1</td>\n",
              "      <td id=\"T_57670_row0_col15\" class=\"data row0 col15\" >1</td>\n",
              "    </tr>\n",
              "    <tr>\n",
              "      <th id=\"T_57670_level0_row1\" class=\"row_heading level0 row1\" >1</th>\n",
              "      <td id=\"T_57670_row1_col0\" class=\"data row1 col0\" >1</td>\n",
              "      <td id=\"T_57670_row1_col1\" class=\"data row1 col1\" >1</td>\n",
              "      <td id=\"T_57670_row1_col2\" class=\"data row1 col2\" >1</td>\n",
              "      <td id=\"T_57670_row1_col3\" class=\"data row1 col3\" >1</td>\n",
              "      <td id=\"T_57670_row1_col4\" class=\"data row1 col4\" >1</td>\n",
              "      <td id=\"T_57670_row1_col5\" class=\"data row1 col5\" >1</td>\n",
              "      <td id=\"T_57670_row1_col6\" class=\"data row1 col6\" >2</td>\n",
              "      <td id=\"T_57670_row1_col7\" class=\"data row1 col7\" >1</td>\n",
              "      <td id=\"T_57670_row1_col8\" class=\"data row1 col8\" >1</td>\n",
              "      <td id=\"T_57670_row1_col9\" class=\"data row1 col9\" >2</td>\n",
              "      <td id=\"T_57670_row1_col10\" class=\"data row1 col10\" >1</td>\n",
              "      <td id=\"T_57670_row1_col11\" class=\"data row1 col11\" >2</td>\n",
              "      <td id=\"T_57670_row1_col12\" class=\"data row1 col12\" >1</td>\n",
              "      <td id=\"T_57670_row1_col13\" class=\"data row1 col13\" >2</td>\n",
              "      <td id=\"T_57670_row1_col14\" class=\"data row1 col14\" >1</td>\n",
              "      <td id=\"T_57670_row1_col15\" class=\"data row1 col15\" >2</td>\n",
              "    </tr>\n",
              "    <tr>\n",
              "      <th id=\"T_57670_level0_row2\" class=\"row_heading level0 row2\" >2</th>\n",
              "      <td id=\"T_57670_row2_col0\" class=\"data row2 col0\" >1</td>\n",
              "      <td id=\"T_57670_row2_col1\" class=\"data row2 col1\" >2</td>\n",
              "      <td id=\"T_57670_row2_col2\" class=\"data row2 col2\" >2</td>\n",
              "      <td id=\"T_57670_row2_col3\" class=\"data row2 col3\" >1</td>\n",
              "      <td id=\"T_57670_row2_col4\" class=\"data row2 col4\" >2</td>\n",
              "      <td id=\"T_57670_row2_col5\" class=\"data row2 col5\" >2</td>\n",
              "      <td id=\"T_57670_row2_col6\" class=\"data row2 col6\" >1</td>\n",
              "      <td id=\"T_57670_row2_col7\" class=\"data row2 col7\" >1</td>\n",
              "      <td id=\"T_57670_row2_col8\" class=\"data row2 col8\" >2</td>\n",
              "      <td id=\"T_57670_row2_col9\" class=\"data row2 col9\" >2</td>\n",
              "      <td id=\"T_57670_row2_col10\" class=\"data row2 col10\" >2</td>\n",
              "      <td id=\"T_57670_row2_col11\" class=\"data row2 col11\" >2</td>\n",
              "      <td id=\"T_57670_row2_col12\" class=\"data row2 col12\" >2</td>\n",
              "      <td id=\"T_57670_row2_col13\" class=\"data row2 col13\" >2</td>\n",
              "      <td id=\"T_57670_row2_col14\" class=\"data row2 col14\" >2</td>\n",
              "      <td id=\"T_57670_row2_col15\" class=\"data row2 col15\" >2</td>\n",
              "    </tr>\n",
              "  </tbody>\n",
              "</table>\n"
            ]
          },
          "metadata": {}
        },
        {
          "output_type": "display_data",
          "data": {
            "text/plain": [
              "<Figure size 432x288 with 1 Axes>"
            ],
            "image/png": "[encoded data removed]"
          },
          "metadata": {}
        }
      ]
    },
    {
      "cell_type": "code",
      "source": [
        "## Define SVD function using linalg module ##\n",
        "# u,sigma,vt = svd(A)#\n",
        "def PseudoInv(A):\n",
        "  u,sigma,vt = svd(A)\n",
        "  r = rank(A)\n",
        "  sigma[:r] = 1/sigma[:r]\n",
        "  m, n = A.shape\n",
        "  sigma_inv = diagsvd(sigma, m, n).T\n",
        "  PseudoInv = vt.T.dot(sigma_inv).dot(u.T)\n",
        "  return PseudoInv\n",
        "\n",
        "def sol_svd(A, b):\n",
        "  x_svd = PseudoInv(A).dot(b)\n",
        "  return x_svd"
      ],
      "metadata": {
        "id": "hZb4GHbPtovz"
      },
      "execution_count": null,
      "outputs": []
    },
    {
      "cell_type": "code",
      "source": [
        "## Method 2 - Solve via SVD ##\n",
        "\n",
        "# ADDITION: 0 + 4 solution #  \n",
        "x_svd_plus_04 = sol_svd(plus_04_nemeth, plus_04_sol)\n",
        "print(\"\\033[1;30;47m Example \\033[1;34;47m'x' \\033[1;30;47m solution for \" \n",
        "      \"SVD solving \\033[1;34;47m Ax=b, where A=['0+4'] and b=['=4']\")\n",
        "matrixGridRound(x_svd_plus_04)\n",
        "solSVD_plus_04 = np.matmul(plus_04_nemeth, x_svd_plus_04)\n",
        "\n",
        "if np.all(solSVD_plus_04.round(decimals=0) == plus_04_sol):\n",
        "  checkSVD_plus_04 = \"Correct\"\n",
        "\n",
        "for i in range(10):\n",
        "  if np.all(numbers[i] == solSVD_plus_04[:,[4,5]].round(decimals=0)):\n",
        "    print(\"\\n \\033[1;30;47m Solution via SVD for ' 0 + 4 ' is \\033[1;34;47m\", \n",
        "          checkSVD_plus_04,\": ' equals \", i, \"'\")\n",
        "\n",
        "matrixGridSolType2(solSVD_plus_04)\n",
        "gameLayout_colTerrain(solSVD_plus_04)\n",
        "plt.savefig('solSVD_plus_04.png', bbox_inches='tight', pad_inches = 0)\n",
        "\n",
        "# SUBTRACTION: 8 - 5 solution # \n",
        "x_svd_minus_85 = sol_svd(minus_85_nemeth, minus_85_sol)\n",
        "solSVD_minus_85 = np.matmul(minus_85_nemeth, x_svd_minus_85)\n",
        "\n",
        "if np.all(solSVD_minus_85.round(decimals=0) == minus_85_sol):\n",
        "  checkSVD_minus_85 = \"Correct\"\n",
        "\n",
        "for i in range(10):\n",
        "  if np.all(numbers[i] == solSVD_minus_85[:,[4,5]].round(decimals=0)):\n",
        "    print(\"\\n \\033[1;30;47m  Solution via SVD for ' 8 - 5 ' is \\033[1;34;47m\", \n",
        "          checkSVD_minus_85,\": ' equals \", i, \"'\")\n",
        "\n",
        "matrixGridSolType2(solSVD_minus_85)\n",
        "gameLayout_colTerrain(solSVD_minus_85)\n",
        "plt.savefig('solSVD_minus_85.png', bbox_inches='tight', pad_inches = 0)\n",
        "\n",
        "# MULTIPLICATION: 1 x 2 solution # \n",
        "x_svd_mult_12 = sol_svd(multiply_12_nemeth, multiply_12_sol)\n",
        "solSVD_mult_12 = np.matmul(multiply_12_nemeth, x_svd_mult_12)\n",
        "\n",
        "if np.all(solSVD_mult_12.round(decimals=0) == multiply_12_sol):\n",
        "  checkSVD_mult_12 = \"Correct\"\n",
        "\n",
        "for i in range(10):\n",
        "  if np.all(numbers[i] == solSVD_mult_12[:,[6,7]].round(decimals=0)):\n",
        "    print(\"\\n \\033[1;30;47m Solution via SVD for ' 1 x 2 ' is \\033[1;34;47m\", \n",
        "          checkSVD_mult_12,\": ' equals +\", i, \"'\")\n",
        "\n",
        "matrixGridSolType2(solSVD_mult_12)\n",
        "gameLayout_colTerrain(solSVD_mult_12)\n",
        "plt.savefig('solSVD_mult_12.png', bbox_inches='tight', pad_inches = 0)\n",
        "\n",
        "# DIVISION: 2 ÷ 1 solution # \n",
        "x_svd_div_21 = sol_svd(divide_21_nemeth, divide_21_sol)\n",
        "solSVD_div_21 = np.matmul(divide_21_nemeth, x_svd_div_21)\n",
        "\n",
        "if np.all(solSVD_div_21.round(decimals=0) == divide_21_sol):\n",
        "  checkSVD_div_21 = \"Correct\"\n",
        "\n",
        "for i in range(10):\n",
        "  if np.all(numbers[i] == solSVD_div_21[:,[6,7]].round(decimals=0)):\n",
        "    print(\"\\n \\033[1;30;47m Solution via SVD for ' 2 ÷ 1 ' is \\033[1;34;47m\", \n",
        "          checkSVD_div_21,\": ' equals +\", i, \"'\")\n",
        "\n",
        "matrixGridSolType2(solSVD_div_21)\n",
        "gameLayout_colTerrain(solSVD_div_21)\n",
        "plt.savefig('solSVD_div_21.png', bbox_inches='tight', pad_inches = 0)\n",
        "\n",
        "# MULTIPLICATION: 100 x 100 solution # \n",
        "# Remove '+' as SVD works in all cases, no constraint on row/col length #\n",
        "multiply_100x100_sol_svd = np.hstack((equals, numbers[1], numbers[0], \n",
        "                                  numbers[0], numbers[0], numbers[0]))\n",
        "\n",
        "x_svd_mult_100 = sol_svd(multiply_100x100_nemeth, multiply_100x100_sol_svd)\n",
        "solSVD_mult_100 = np.matmul(multiply_100x100_nemeth, x_svd_mult_100)\n",
        "\n",
        "if np.all(solSVD_mult_100.round(decimals=0) == multiply_100x100_sol_svd):\n",
        "  checkSVD_mult_100 = \"Correct\"\n",
        "\n",
        "for i in range(10):\n",
        "  if np.all(np.hstack((numbers[i],numbers[0],numbers[0], numbers[0], numbers[0]\n",
        "        )) == solSVD_mult_100[:,[4,5,6,7,8,9,10,11,12,13]].round(decimals=0)):\n",
        "    print(\"\\n \\033[1;30;47m Solution via SVD for ' 100 x 100 ' is \\033[1;34;47m\", \n",
        "          checkSVD_mult_100,\": ' equals\", i*10000, \"'\")\n",
        "\n",
        "matrixGridSolType2(solSVD_mult_100)\n",
        "gameLayout_colTerrain(solSVD_mult_100)\n",
        "plt.savefig('solSVD_mult_100.png', bbox_inches='tight', pad_inches = 0)\n",
        "\n",
        "# ADDITION: 100 + 100 solution #  \n",
        "x_svd_plus_100 = sol_svd(plus_100_100_nemeth, plus_100_100_sol)\n",
        "solSVD_plus_100 = np.matmul(plus_100_100_nemeth, x_svd_plus_100)\n",
        "\n",
        "if np.all(solSVD_plus_100.round(decimals=0) == plus_100_100_sol):\n",
        "  checkSVD_plus_100 = \"Correct\"\n",
        "\n",
        "for i in range(10):\n",
        "  if np.all(numbers[i] == solSVD_plus_100[:,[4,5]].round(decimals=0)):\n",
        "    print(\"\\n \\033[1;30;47m Solution via SVD for ' 100 + 100 ' is \\033[1;34;47m\", \n",
        "          checkSVD_plus_100,\": ' equals \", i*100, \"'\")\n",
        "\n",
        "matrixGridSolType2(solSVD_plus_100)\n",
        "gameLayout_colTerrain(solSVD_plus_100)\n",
        "plt.savefig('solSVD_plus_100.png', bbox_inches='tight', pad_inches = 0)"
      ],
      "metadata": {
        "colab": {
          "base_uri": "https://localhost:8080/",
          "height": 1000
        },
        "id": "_TnII4i99hUt",
        "outputId": "4a426613-4d49-4261-d79c-10fc50d975e7"
      },
      "execution_count": null,
      "outputs": [
        {
          "output_type": "stream",
          "name": "stdout",
          "text": [
            "\u001b[1;30;47m Example \u001b[1;34;47m'x' \u001b[1;30;47m solution for SVD solving \u001b[1;34;47m Ax=b, where A=['0+4'] and b=['=4']\n"
          ]
        },
        {
          "output_type": "display_data",
          "data": {
            "text/plain": [
              "<pandas.io.formats.style.Styler at 0x7f5b0a3a3750>"
            ],
            "text/html": [
              "<style type=\"text/css\">\n",
              "#T_7ff67_row0_col0, #T_7ff67_row0_col3, #T_7ff67_row2_col0, #T_7ff67_row2_col3 {\n",
              "  background-color: #0074a2;\n",
              "  color: #f1f1f1;\n",
              "}\n",
              "#T_7ff67_row0_col1, #T_7ff67_row0_col2, #T_7ff67_row2_col1, #T_7ff67_row2_col2 {\n",
              "  background-color: #d40097;\n",
              "  color: #f1f1f1;\n",
              "}\n",
              "#T_7ff67_row0_col4, #T_7ff67_row1_col5, #T_7ff67_row2_col4, #T_7ff67_row5_col5 {\n",
              "  background-color: #ff0000;\n",
              "  color: #f1f1f1;\n",
              "}\n",
              "#T_7ff67_row0_col5, #T_7ff67_row2_col5 {\n",
              "  background-color: #8bff00;\n",
              "  color: #000000;\n",
              "}\n",
              "#T_7ff67_row1_col0, #T_7ff67_row1_col3, #T_7ff67_row5_col0, #T_7ff67_row5_col3 {\n",
              "  background-color: #ffdf00;\n",
              "  color: #000000;\n",
              "}\n",
              "#T_7ff67_row1_col1, #T_7ff67_row1_col2, #T_7ff67_row3_col5, #T_7ff67_row5_col1, #T_7ff67_row5_col2 {\n",
              "  background-color: #fa0063;\n",
              "  color: #f1f1f1;\n",
              "}\n",
              "#T_7ff67_row1_col4, #T_7ff67_row4_col5, #T_7ff67_row5_col4 {\n",
              "  background-color: #c100af;\n",
              "  color: #f1f1f1;\n",
              "}\n",
              "#T_7ff67_row3_col0, #T_7ff67_row3_col3 {\n",
              "  background-color: #ffb000;\n",
              "  color: #000000;\n",
              "}\n",
              "#T_7ff67_row3_col1, #T_7ff67_row3_col2 {\n",
              "  background-color: #54ff00;\n",
              "  color: #000000;\n",
              "}\n",
              "#T_7ff67_row3_col4, #T_7ff67_row4_col1, #T_7ff67_row4_col2 {\n",
              "  background-color: #ffd000;\n",
              "  color: #000000;\n",
              "}\n",
              "#T_7ff67_row4_col0, #T_7ff67_row4_col3 {\n",
              "  background-color: #01ac55;\n",
              "  color: #f1f1f1;\n",
              "}\n",
              "#T_7ff67_row4_col4 {\n",
              "  background-color: #33e900;\n",
              "  color: #000000;\n",
              "}\n",
              "</style>\n",
              "<table id=\"T_7ff67_\" class=\"dataframe\">\n",
              "  <thead>\n",
              "    <tr>\n",
              "      <th class=\"blank level0\" >&nbsp;</th>\n",
              "      <th class=\"col_heading level0 col0\" >0</th>\n",
              "      <th class=\"col_heading level0 col1\" >1</th>\n",
              "      <th class=\"col_heading level0 col2\" >2</th>\n",
              "      <th class=\"col_heading level0 col3\" >3</th>\n",
              "      <th class=\"col_heading level0 col4\" >4</th>\n",
              "      <th class=\"col_heading level0 col5\" >5</th>\n",
              "    </tr>\n",
              "  </thead>\n",
              "  <tbody>\n",
              "    <tr>\n",
              "      <th id=\"T_7ff67_level0_row0\" class=\"row_heading level0 row0\" >0</th>\n",
              "      <td id=\"T_7ff67_row0_col0\" class=\"data row0 col0\" >-0.036000</td>\n",
              "      <td id=\"T_7ff67_row0_col1\" class=\"data row0 col1\" >0.107000</td>\n",
              "      <td id=\"T_7ff67_row0_col2\" class=\"data row0 col2\" >0.107000</td>\n",
              "      <td id=\"T_7ff67_row0_col3\" class=\"data row0 col3\" >-0.036000</td>\n",
              "      <td id=\"T_7ff67_row0_col4\" class=\"data row0 col4\" >-0.214000</td>\n",
              "      <td id=\"T_7ff67_row0_col5\" class=\"data row0 col5\" >0.161000</td>\n",
              "    </tr>\n",
              "    <tr>\n",
              "      <th id=\"T_7ff67_level0_row1\" class=\"row_heading level0 row1\" >1</th>\n",
              "      <td id=\"T_7ff67_row1_col0\" class=\"data row1 col0\" >0.036000</td>\n",
              "      <td id=\"T_7ff67_row1_col1\" class=\"data row1 col1\" >-0.107000</td>\n",
              "      <td id=\"T_7ff67_row1_col2\" class=\"data row1 col2\" >-0.107000</td>\n",
              "      <td id=\"T_7ff67_row1_col3\" class=\"data row1 col3\" >0.036000</td>\n",
              "      <td id=\"T_7ff67_row1_col4\" class=\"data row1 col4\" >0.214000</td>\n",
              "      <td id=\"T_7ff67_row1_col5\" class=\"data row1 col5\" >0.339000</td>\n",
              "    </tr>\n",
              "    <tr>\n",
              "      <th id=\"T_7ff67_level0_row2\" class=\"row_heading level0 row2\" >2</th>\n",
              "      <td id=\"T_7ff67_row2_col0\" class=\"data row2 col0\" >-0.036000</td>\n",
              "      <td id=\"T_7ff67_row2_col1\" class=\"data row2 col1\" >0.107000</td>\n",
              "      <td id=\"T_7ff67_row2_col2\" class=\"data row2 col2\" >0.107000</td>\n",
              "      <td id=\"T_7ff67_row2_col3\" class=\"data row2 col3\" >-0.036000</td>\n",
              "      <td id=\"T_7ff67_row2_col4\" class=\"data row2 col4\" >-0.214000</td>\n",
              "      <td id=\"T_7ff67_row2_col5\" class=\"data row2 col5\" >0.161000</td>\n",
              "    </tr>\n",
              "    <tr>\n",
              "      <th id=\"T_7ff67_level0_row3\" class=\"row_heading level0 row3\" >3</th>\n",
              "      <td id=\"T_7ff67_row3_col0\" class=\"data row3 col0\" >0.357000</td>\n",
              "      <td id=\"T_7ff67_row3_col1\" class=\"data row3 col1\" >0.929000</td>\n",
              "      <td id=\"T_7ff67_row3_col2\" class=\"data row3 col2\" >0.929000</td>\n",
              "      <td id=\"T_7ff67_row3_col3\" class=\"data row3 col3\" >0.357000</td>\n",
              "      <td id=\"T_7ff67_row3_col4\" class=\"data row3 col4\" >0.143000</td>\n",
              "      <td id=\"T_7ff67_row3_col5\" class=\"data row3 col5\" >-0.107000</td>\n",
              "    </tr>\n",
              "    <tr>\n",
              "      <th id=\"T_7ff67_level0_row4\" class=\"row_heading level0 row4\" >4</th>\n",
              "      <td id=\"T_7ff67_row4_col0\" class=\"data row4 col0\" >0.286000</td>\n",
              "      <td id=\"T_7ff67_row4_col1\" class=\"data row4 col1\" >0.143000</td>\n",
              "      <td id=\"T_7ff67_row4_col2\" class=\"data row4 col2\" >0.143000</td>\n",
              "      <td id=\"T_7ff67_row4_col3\" class=\"data row4 col3\" >0.286000</td>\n",
              "      <td id=\"T_7ff67_row4_col4\" class=\"data row4 col4\" >0.714000</td>\n",
              "      <td id=\"T_7ff67_row4_col5\" class=\"data row4 col5\" >0.214000</td>\n",
              "    </tr>\n",
              "    <tr>\n",
              "      <th id=\"T_7ff67_level0_row5\" class=\"row_heading level0 row5\" >5</th>\n",
              "      <td id=\"T_7ff67_row5_col0\" class=\"data row5 col0\" >0.036000</td>\n",
              "      <td id=\"T_7ff67_row5_col1\" class=\"data row5 col1\" >-0.107000</td>\n",
              "      <td id=\"T_7ff67_row5_col2\" class=\"data row5 col2\" >-0.107000</td>\n",
              "      <td id=\"T_7ff67_row5_col3\" class=\"data row5 col3\" >0.036000</td>\n",
              "      <td id=\"T_7ff67_row5_col4\" class=\"data row5 col4\" >0.214000</td>\n",
              "      <td id=\"T_7ff67_row5_col5\" class=\"data row5 col5\" >0.339000</td>\n",
              "    </tr>\n",
              "  </tbody>\n",
              "</table>\n"
            ]
          },
          "metadata": {}
        },
        {
          "output_type": "stream",
          "name": "stdout",
          "text": [
            "\n",
            " \u001b[1;30;47m Solution via SVD for ' 0 + 4 ' is \u001b[1;34;47m Correct : ' equals  4 '\n"
          ]
        },
        {
          "output_type": "display_data",
          "data": {
            "text/plain": [
              "<pandas.io.formats.style.Styler at 0x7f5b0a2b5710>"
            ],
            "text/html": [
              "<style type=\"text/css\">\n",
              "#T_fad46_row0_col0, #T_fad46_row0_col3, #T_fad46_row0_col4, #T_fad46_row0_col5, #T_fad46_row1_col0, #T_fad46_row1_col1, #T_fad46_row1_col2, #T_fad46_row1_col3, #T_fad46_row2_col0, #T_fad46_row2_col3, #T_fad46_row2_col4 {\n",
              "  background-color: #ff0000;\n",
              "  color: #f1f1f1;\n",
              "}\n",
              "#T_fad46_row0_col1, #T_fad46_row0_col2, #T_fad46_row1_col4, #T_fad46_row1_col5, #T_fad46_row2_col1, #T_fad46_row2_col2, #T_fad46_row2_col5 {\n",
              "  background-color: #8000ff;\n",
              "  color: #f1f1f1;\n",
              "}\n",
              "</style>\n",
              "<table id=\"T_fad46_\" class=\"dataframe\">\n",
              "  <thead>\n",
              "    <tr>\n",
              "      <th class=\"blank level0\" >&nbsp;</th>\n",
              "      <th class=\"col_heading level0 col0\" >0</th>\n",
              "      <th class=\"col_heading level0 col1\" >1</th>\n",
              "      <th class=\"col_heading level0 col2\" >2</th>\n",
              "      <th class=\"col_heading level0 col3\" >3</th>\n",
              "      <th class=\"col_heading level0 col4\" >4</th>\n",
              "      <th class=\"col_heading level0 col5\" >5</th>\n",
              "    </tr>\n",
              "  </thead>\n",
              "  <tbody>\n",
              "    <tr>\n",
              "      <th id=\"T_fad46_level0_row0\" class=\"row_heading level0 row0\" >0</th>\n",
              "      <td id=\"T_fad46_row0_col0\" class=\"data row0 col0\" >1</td>\n",
              "      <td id=\"T_fad46_row0_col1\" class=\"data row0 col1\" >2</td>\n",
              "      <td id=\"T_fad46_row0_col2\" class=\"data row0 col2\" >2</td>\n",
              "      <td id=\"T_fad46_row0_col3\" class=\"data row0 col3\" >1</td>\n",
              "      <td id=\"T_fad46_row0_col4\" class=\"data row0 col4\" >1</td>\n",
              "      <td id=\"T_fad46_row0_col5\" class=\"data row0 col5\" >1</td>\n",
              "    </tr>\n",
              "    <tr>\n",
              "      <th id=\"T_fad46_level0_row1\" class=\"row_heading level0 row1\" >1</th>\n",
              "      <td id=\"T_fad46_row1_col0\" class=\"data row1 col0\" >1</td>\n",
              "      <td id=\"T_fad46_row1_col1\" class=\"data row1 col1\" >1</td>\n",
              "      <td id=\"T_fad46_row1_col2\" class=\"data row1 col2\" >1</td>\n",
              "      <td id=\"T_fad46_row1_col3\" class=\"data row1 col3\" >1</td>\n",
              "      <td id=\"T_fad46_row1_col4\" class=\"data row1 col4\" >2</td>\n",
              "      <td id=\"T_fad46_row1_col5\" class=\"data row1 col5\" >2</td>\n",
              "    </tr>\n",
              "    <tr>\n",
              "      <th id=\"T_fad46_level0_row2\" class=\"row_heading level0 row2\" >2</th>\n",
              "      <td id=\"T_fad46_row2_col0\" class=\"data row2 col0\" >1</td>\n",
              "      <td id=\"T_fad46_row2_col1\" class=\"data row2 col1\" >2</td>\n",
              "      <td id=\"T_fad46_row2_col2\" class=\"data row2 col2\" >2</td>\n",
              "      <td id=\"T_fad46_row2_col3\" class=\"data row2 col3\" >1</td>\n",
              "      <td id=\"T_fad46_row2_col4\" class=\"data row2 col4\" >1</td>\n",
              "      <td id=\"T_fad46_row2_col5\" class=\"data row2 col5\" >2</td>\n",
              "    </tr>\n",
              "  </tbody>\n",
              "</table>\n"
            ]
          },
          "metadata": {}
        },
        {
          "output_type": "stream",
          "name": "stdout",
          "text": [
            "\n",
            " \u001b[1;30;47m  Solution via SVD for ' 8 - 5 ' is \u001b[1;34;47m Correct : ' equals  3 '\n"
          ]
        },
        {
          "output_type": "display_data",
          "data": {
            "text/plain": [
              "<pandas.io.formats.style.Styler at 0x7f5b0a274710>"
            ],
            "text/html": [
              "<style type=\"text/css\">\n",
              "#T_adef2_row0_col0, #T_adef2_row0_col3, #T_adef2_row0_col4, #T_adef2_row0_col5, #T_adef2_row1_col0, #T_adef2_row1_col1, #T_adef2_row1_col2, #T_adef2_row1_col3, #T_adef2_row2_col0, #T_adef2_row2_col3, #T_adef2_row2_col4, #T_adef2_row2_col5 {\n",
              "  background-color: #ff0000;\n",
              "  color: #f1f1f1;\n",
              "}\n",
              "#T_adef2_row0_col1, #T_adef2_row0_col2, #T_adef2_row1_col4, #T_adef2_row1_col5, #T_adef2_row2_col1, #T_adef2_row2_col2 {\n",
              "  background-color: #8000ff;\n",
              "  color: #f1f1f1;\n",
              "}\n",
              "</style>\n",
              "<table id=\"T_adef2_\" class=\"dataframe\">\n",
              "  <thead>\n",
              "    <tr>\n",
              "      <th class=\"blank level0\" >&nbsp;</th>\n",
              "      <th class=\"col_heading level0 col0\" >0</th>\n",
              "      <th class=\"col_heading level0 col1\" >1</th>\n",
              "      <th class=\"col_heading level0 col2\" >2</th>\n",
              "      <th class=\"col_heading level0 col3\" >3</th>\n",
              "      <th class=\"col_heading level0 col4\" >4</th>\n",
              "      <th class=\"col_heading level0 col5\" >5</th>\n",
              "    </tr>\n",
              "  </thead>\n",
              "  <tbody>\n",
              "    <tr>\n",
              "      <th id=\"T_adef2_level0_row0\" class=\"row_heading level0 row0\" >0</th>\n",
              "      <td id=\"T_adef2_row0_col0\" class=\"data row0 col0\" >1</td>\n",
              "      <td id=\"T_adef2_row0_col1\" class=\"data row0 col1\" >2</td>\n",
              "      <td id=\"T_adef2_row0_col2\" class=\"data row0 col2\" >2</td>\n",
              "      <td id=\"T_adef2_row0_col3\" class=\"data row0 col3\" >1</td>\n",
              "      <td id=\"T_adef2_row0_col4\" class=\"data row0 col4\" >1</td>\n",
              "      <td id=\"T_adef2_row0_col5\" class=\"data row0 col5\" >1</td>\n",
              "    </tr>\n",
              "    <tr>\n",
              "      <th id=\"T_adef2_level0_row1\" class=\"row_heading level0 row1\" >1</th>\n",
              "      <td id=\"T_adef2_row1_col0\" class=\"data row1 col0\" >1</td>\n",
              "      <td id=\"T_adef2_row1_col1\" class=\"data row1 col1\" >1</td>\n",
              "      <td id=\"T_adef2_row1_col2\" class=\"data row1 col2\" >1</td>\n",
              "      <td id=\"T_adef2_row1_col3\" class=\"data row1 col3\" >1</td>\n",
              "      <td id=\"T_adef2_row1_col4\" class=\"data row1 col4\" >2</td>\n",
              "      <td id=\"T_adef2_row1_col5\" class=\"data row1 col5\" >2</td>\n",
              "    </tr>\n",
              "    <tr>\n",
              "      <th id=\"T_adef2_level0_row2\" class=\"row_heading level0 row2\" >2</th>\n",
              "      <td id=\"T_adef2_row2_col0\" class=\"data row2 col0\" >1</td>\n",
              "      <td id=\"T_adef2_row2_col1\" class=\"data row2 col1\" >2</td>\n",
              "      <td id=\"T_adef2_row2_col2\" class=\"data row2 col2\" >2</td>\n",
              "      <td id=\"T_adef2_row2_col3\" class=\"data row2 col3\" >1</td>\n",
              "      <td id=\"T_adef2_row2_col4\" class=\"data row2 col4\" >1</td>\n",
              "      <td id=\"T_adef2_row2_col5\" class=\"data row2 col5\" >1</td>\n",
              "    </tr>\n",
              "  </tbody>\n",
              "</table>\n"
            ]
          },
          "metadata": {}
        },
        {
          "output_type": "stream",
          "name": "stdout",
          "text": [
            "\n",
            " \u001b[1;30;47m Solution via SVD for ' 1 x 2 ' is \u001b[1;34;47m Correct : ' equals + 2 '\n"
          ]
        },
        {
          "output_type": "display_data",
          "data": {
            "text/plain": [
              "<pandas.io.formats.style.Styler at 0x7f5b0a28e250>"
            ],
            "text/html": [
              "<style type=\"text/css\">\n",
              "#T_b7d8b_row0_col0, #T_b7d8b_row0_col3, #T_b7d8b_row0_col4, #T_b7d8b_row0_col6, #T_b7d8b_row0_col7, #T_b7d8b_row1_col0, #T_b7d8b_row1_col1, #T_b7d8b_row1_col2, #T_b7d8b_row1_col3, #T_b7d8b_row1_col4, #T_b7d8b_row1_col5, #T_b7d8b_row1_col7, #T_b7d8b_row2_col0, #T_b7d8b_row2_col3, #T_b7d8b_row2_col7 {\n",
              "  background-color: #ff0000;\n",
              "  color: #f1f1f1;\n",
              "}\n",
              "#T_b7d8b_row0_col1, #T_b7d8b_row0_col2, #T_b7d8b_row0_col5, #T_b7d8b_row1_col6, #T_b7d8b_row2_col1, #T_b7d8b_row2_col2, #T_b7d8b_row2_col4, #T_b7d8b_row2_col5, #T_b7d8b_row2_col6 {\n",
              "  background-color: #8000ff;\n",
              "  color: #f1f1f1;\n",
              "}\n",
              "</style>\n",
              "<table id=\"T_b7d8b_\" class=\"dataframe\">\n",
              "  <thead>\n",
              "    <tr>\n",
              "      <th class=\"blank level0\" >&nbsp;</th>\n",
              "      <th class=\"col_heading level0 col0\" >0</th>\n",
              "      <th class=\"col_heading level0 col1\" >1</th>\n",
              "      <th class=\"col_heading level0 col2\" >2</th>\n",
              "      <th class=\"col_heading level0 col3\" >3</th>\n",
              "      <th class=\"col_heading level0 col4\" >4</th>\n",
              "      <th class=\"col_heading level0 col5\" >5</th>\n",
              "      <th class=\"col_heading level0 col6\" >6</th>\n",
              "      <th class=\"col_heading level0 col7\" >7</th>\n",
              "    </tr>\n",
              "  </thead>\n",
              "  <tbody>\n",
              "    <tr>\n",
              "      <th id=\"T_b7d8b_level0_row0\" class=\"row_heading level0 row0\" >0</th>\n",
              "      <td id=\"T_b7d8b_row0_col0\" class=\"data row0 col0\" >1</td>\n",
              "      <td id=\"T_b7d8b_row0_col1\" class=\"data row0 col1\" >2</td>\n",
              "      <td id=\"T_b7d8b_row0_col2\" class=\"data row0 col2\" >2</td>\n",
              "      <td id=\"T_b7d8b_row0_col3\" class=\"data row0 col3\" >1</td>\n",
              "      <td id=\"T_b7d8b_row0_col4\" class=\"data row0 col4\" >1</td>\n",
              "      <td id=\"T_b7d8b_row0_col5\" class=\"data row0 col5\" >2</td>\n",
              "      <td id=\"T_b7d8b_row0_col6\" class=\"data row0 col6\" >1</td>\n",
              "      <td id=\"T_b7d8b_row0_col7\" class=\"data row0 col7\" >1</td>\n",
              "    </tr>\n",
              "    <tr>\n",
              "      <th id=\"T_b7d8b_level0_row1\" class=\"row_heading level0 row1\" >1</th>\n",
              "      <td id=\"T_b7d8b_row1_col0\" class=\"data row1 col0\" >1</td>\n",
              "      <td id=\"T_b7d8b_row1_col1\" class=\"data row1 col1\" >1</td>\n",
              "      <td id=\"T_b7d8b_row1_col2\" class=\"data row1 col2\" >1</td>\n",
              "      <td id=\"T_b7d8b_row1_col3\" class=\"data row1 col3\" >1</td>\n",
              "      <td id=\"T_b7d8b_row1_col4\" class=\"data row1 col4\" >1</td>\n",
              "      <td id=\"T_b7d8b_row1_col5\" class=\"data row1 col5\" >1</td>\n",
              "      <td id=\"T_b7d8b_row1_col6\" class=\"data row1 col6\" >2</td>\n",
              "      <td id=\"T_b7d8b_row1_col7\" class=\"data row1 col7\" >1</td>\n",
              "    </tr>\n",
              "    <tr>\n",
              "      <th id=\"T_b7d8b_level0_row2\" class=\"row_heading level0 row2\" >2</th>\n",
              "      <td id=\"T_b7d8b_row2_col0\" class=\"data row2 col0\" >1</td>\n",
              "      <td id=\"T_b7d8b_row2_col1\" class=\"data row2 col1\" >2</td>\n",
              "      <td id=\"T_b7d8b_row2_col2\" class=\"data row2 col2\" >2</td>\n",
              "      <td id=\"T_b7d8b_row2_col3\" class=\"data row2 col3\" >1</td>\n",
              "      <td id=\"T_b7d8b_row2_col4\" class=\"data row2 col4\" >2</td>\n",
              "      <td id=\"T_b7d8b_row2_col5\" class=\"data row2 col5\" >2</td>\n",
              "      <td id=\"T_b7d8b_row2_col6\" class=\"data row2 col6\" >2</td>\n",
              "      <td id=\"T_b7d8b_row2_col7\" class=\"data row2 col7\" >1</td>\n",
              "    </tr>\n",
              "  </tbody>\n",
              "</table>\n"
            ]
          },
          "metadata": {}
        },
        {
          "output_type": "stream",
          "name": "stdout",
          "text": [
            "\n",
            " \u001b[1;30;47m Solution via SVD for ' 2 ÷ 1 ' is \u001b[1;34;47m Correct : ' equals + 2 '\n"
          ]
        },
        {
          "output_type": "display_data",
          "data": {
            "text/plain": [
              "<pandas.io.formats.style.Styler at 0x7f5b0a419150>"
            ],
            "text/html": [
              "<style type=\"text/css\">\n",
              "#T_73564_row0_col0, #T_73564_row0_col3, #T_73564_row0_col4, #T_73564_row0_col6, #T_73564_row0_col7, #T_73564_row1_col0, #T_73564_row1_col1, #T_73564_row1_col2, #T_73564_row1_col3, #T_73564_row1_col4, #T_73564_row1_col5, #T_73564_row1_col7, #T_73564_row2_col0, #T_73564_row2_col3, #T_73564_row2_col7 {\n",
              "  background-color: #ff0000;\n",
              "  color: #f1f1f1;\n",
              "}\n",
              "#T_73564_row0_col1, #T_73564_row0_col2, #T_73564_row0_col5, #T_73564_row1_col6, #T_73564_row2_col1, #T_73564_row2_col2, #T_73564_row2_col4, #T_73564_row2_col5, #T_73564_row2_col6 {\n",
              "  background-color: #8000ff;\n",
              "  color: #f1f1f1;\n",
              "}\n",
              "</style>\n",
              "<table id=\"T_73564_\" class=\"dataframe\">\n",
              "  <thead>\n",
              "    <tr>\n",
              "      <th class=\"blank level0\" >&nbsp;</th>\n",
              "      <th class=\"col_heading level0 col0\" >0</th>\n",
              "      <th class=\"col_heading level0 col1\" >1</th>\n",
              "      <th class=\"col_heading level0 col2\" >2</th>\n",
              "      <th class=\"col_heading level0 col3\" >3</th>\n",
              "      <th class=\"col_heading level0 col4\" >4</th>\n",
              "      <th class=\"col_heading level0 col5\" >5</th>\n",
              "      <th class=\"col_heading level0 col6\" >6</th>\n",
              "      <th class=\"col_heading level0 col7\" >7</th>\n",
              "    </tr>\n",
              "  </thead>\n",
              "  <tbody>\n",
              "    <tr>\n",
              "      <th id=\"T_73564_level0_row0\" class=\"row_heading level0 row0\" >0</th>\n",
              "      <td id=\"T_73564_row0_col0\" class=\"data row0 col0\" >1</td>\n",
              "      <td id=\"T_73564_row0_col1\" class=\"data row0 col1\" >2</td>\n",
              "      <td id=\"T_73564_row0_col2\" class=\"data row0 col2\" >2</td>\n",
              "      <td id=\"T_73564_row0_col3\" class=\"data row0 col3\" >1</td>\n",
              "      <td id=\"T_73564_row0_col4\" class=\"data row0 col4\" >1</td>\n",
              "      <td id=\"T_73564_row0_col5\" class=\"data row0 col5\" >2</td>\n",
              "      <td id=\"T_73564_row0_col6\" class=\"data row0 col6\" >1</td>\n",
              "      <td id=\"T_73564_row0_col7\" class=\"data row0 col7\" >1</td>\n",
              "    </tr>\n",
              "    <tr>\n",
              "      <th id=\"T_73564_level0_row1\" class=\"row_heading level0 row1\" >1</th>\n",
              "      <td id=\"T_73564_row1_col0\" class=\"data row1 col0\" >1</td>\n",
              "      <td id=\"T_73564_row1_col1\" class=\"data row1 col1\" >1</td>\n",
              "      <td id=\"T_73564_row1_col2\" class=\"data row1 col2\" >1</td>\n",
              "      <td id=\"T_73564_row1_col3\" class=\"data row1 col3\" >1</td>\n",
              "      <td id=\"T_73564_row1_col4\" class=\"data row1 col4\" >1</td>\n",
              "      <td id=\"T_73564_row1_col5\" class=\"data row1 col5\" >1</td>\n",
              "      <td id=\"T_73564_row1_col6\" class=\"data row1 col6\" >2</td>\n",
              "      <td id=\"T_73564_row1_col7\" class=\"data row1 col7\" >1</td>\n",
              "    </tr>\n",
              "    <tr>\n",
              "      <th id=\"T_73564_level0_row2\" class=\"row_heading level0 row2\" >2</th>\n",
              "      <td id=\"T_73564_row2_col0\" class=\"data row2 col0\" >1</td>\n",
              "      <td id=\"T_73564_row2_col1\" class=\"data row2 col1\" >2</td>\n",
              "      <td id=\"T_73564_row2_col2\" class=\"data row2 col2\" >2</td>\n",
              "      <td id=\"T_73564_row2_col3\" class=\"data row2 col3\" >1</td>\n",
              "      <td id=\"T_73564_row2_col4\" class=\"data row2 col4\" >2</td>\n",
              "      <td id=\"T_73564_row2_col5\" class=\"data row2 col5\" >2</td>\n",
              "      <td id=\"T_73564_row2_col6\" class=\"data row2 col6\" >2</td>\n",
              "      <td id=\"T_73564_row2_col7\" class=\"data row2 col7\" >1</td>\n",
              "    </tr>\n",
              "  </tbody>\n",
              "</table>\n"
            ]
          },
          "metadata": {}
        },
        {
          "output_type": "stream",
          "name": "stdout",
          "text": [
            "\n",
            " \u001b[1;30;47m Solution via SVD for ' 100 x 100 ' is \u001b[1;34;47m Correct : ' equals 10000 '\n"
          ]
        },
        {
          "output_type": "display_data",
          "data": {
            "text/plain": [
              "<pandas.io.formats.style.Styler at 0x7f5b0a284410>"
            ],
            "text/html": [
              "<style type=\"text/css\">\n",
              "#T_f0cda_row0_col0, #T_f0cda_row0_col3, #T_f0cda_row0_col4, #T_f0cda_row0_col5, #T_f0cda_row0_col6, #T_f0cda_row0_col7, #T_f0cda_row0_col8, #T_f0cda_row0_col9, #T_f0cda_row0_col10, #T_f0cda_row0_col11, #T_f0cda_row0_col12, #T_f0cda_row0_col13, #T_f0cda_row1_col0, #T_f0cda_row1_col1, #T_f0cda_row1_col2, #T_f0cda_row1_col3, #T_f0cda_row1_col5, #T_f0cda_row1_col6, #T_f0cda_row1_col8, #T_f0cda_row1_col10, #T_f0cda_row1_col12, #T_f0cda_row2_col0, #T_f0cda_row2_col3, #T_f0cda_row2_col4, #T_f0cda_row2_col5 {\n",
              "  background-color: #ff0000;\n",
              "  color: #f1f1f1;\n",
              "}\n",
              "#T_f0cda_row0_col1, #T_f0cda_row0_col2, #T_f0cda_row1_col4, #T_f0cda_row1_col7, #T_f0cda_row1_col9, #T_f0cda_row1_col11, #T_f0cda_row1_col13, #T_f0cda_row2_col1, #T_f0cda_row2_col2, #T_f0cda_row2_col6, #T_f0cda_row2_col7, #T_f0cda_row2_col8, #T_f0cda_row2_col9, #T_f0cda_row2_col10, #T_f0cda_row2_col11, #T_f0cda_row2_col12, #T_f0cda_row2_col13 {\n",
              "  background-color: #8000ff;\n",
              "  color: #f1f1f1;\n",
              "}\n",
              "</style>\n",
              "<table id=\"T_f0cda_\" class=\"dataframe\">\n",
              "  <thead>\n",
              "    <tr>\n",
              "      <th class=\"blank level0\" >&nbsp;</th>\n",
              "      <th class=\"col_heading level0 col0\" >0</th>\n",
              "      <th class=\"col_heading level0 col1\" >1</th>\n",
              "      <th class=\"col_heading level0 col2\" >2</th>\n",
              "      <th class=\"col_heading level0 col3\" >3</th>\n",
              "      <th class=\"col_heading level0 col4\" >4</th>\n",
              "      <th class=\"col_heading level0 col5\" >5</th>\n",
              "      <th class=\"col_heading level0 col6\" >6</th>\n",
              "      <th class=\"col_heading level0 col7\" >7</th>\n",
              "      <th class=\"col_heading level0 col8\" >8</th>\n",
              "      <th class=\"col_heading level0 col9\" >9</th>\n",
              "      <th class=\"col_heading level0 col10\" >10</th>\n",
              "      <th class=\"col_heading level0 col11\" >11</th>\n",
              "      <th class=\"col_heading level0 col12\" >12</th>\n",
              "      <th class=\"col_heading level0 col13\" >13</th>\n",
              "    </tr>\n",
              "  </thead>\n",
              "  <tbody>\n",
              "    <tr>\n",
              "      <th id=\"T_f0cda_level0_row0\" class=\"row_heading level0 row0\" >0</th>\n",
              "      <td id=\"T_f0cda_row0_col0\" class=\"data row0 col0\" >1</td>\n",
              "      <td id=\"T_f0cda_row0_col1\" class=\"data row0 col1\" >2</td>\n",
              "      <td id=\"T_f0cda_row0_col2\" class=\"data row0 col2\" >2</td>\n",
              "      <td id=\"T_f0cda_row0_col3\" class=\"data row0 col3\" >1</td>\n",
              "      <td id=\"T_f0cda_row0_col4\" class=\"data row0 col4\" >1</td>\n",
              "      <td id=\"T_f0cda_row0_col5\" class=\"data row0 col5\" >1</td>\n",
              "      <td id=\"T_f0cda_row0_col6\" class=\"data row0 col6\" >1</td>\n",
              "      <td id=\"T_f0cda_row0_col7\" class=\"data row0 col7\" >1</td>\n",
              "      <td id=\"T_f0cda_row0_col8\" class=\"data row0 col8\" >1</td>\n",
              "      <td id=\"T_f0cda_row0_col9\" class=\"data row0 col9\" >1</td>\n",
              "      <td id=\"T_f0cda_row0_col10\" class=\"data row0 col10\" >1</td>\n",
              "      <td id=\"T_f0cda_row0_col11\" class=\"data row0 col11\" >1</td>\n",
              "      <td id=\"T_f0cda_row0_col12\" class=\"data row0 col12\" >1</td>\n",
              "      <td id=\"T_f0cda_row0_col13\" class=\"data row0 col13\" >1</td>\n",
              "    </tr>\n",
              "    <tr>\n",
              "      <th id=\"T_f0cda_level0_row1\" class=\"row_heading level0 row1\" >1</th>\n",
              "      <td id=\"T_f0cda_row1_col0\" class=\"data row1 col0\" >1</td>\n",
              "      <td id=\"T_f0cda_row1_col1\" class=\"data row1 col1\" >1</td>\n",
              "      <td id=\"T_f0cda_row1_col2\" class=\"data row1 col2\" >1</td>\n",
              "      <td id=\"T_f0cda_row1_col3\" class=\"data row1 col3\" >1</td>\n",
              "      <td id=\"T_f0cda_row1_col4\" class=\"data row1 col4\" >2</td>\n",
              "      <td id=\"T_f0cda_row1_col5\" class=\"data row1 col5\" >1</td>\n",
              "      <td id=\"T_f0cda_row1_col6\" class=\"data row1 col6\" >1</td>\n",
              "      <td id=\"T_f0cda_row1_col7\" class=\"data row1 col7\" >2</td>\n",
              "      <td id=\"T_f0cda_row1_col8\" class=\"data row1 col8\" >1</td>\n",
              "      <td id=\"T_f0cda_row1_col9\" class=\"data row1 col9\" >2</td>\n",
              "      <td id=\"T_f0cda_row1_col10\" class=\"data row1 col10\" >1</td>\n",
              "      <td id=\"T_f0cda_row1_col11\" class=\"data row1 col11\" >2</td>\n",
              "      <td id=\"T_f0cda_row1_col12\" class=\"data row1 col12\" >1</td>\n",
              "      <td id=\"T_f0cda_row1_col13\" class=\"data row1 col13\" >2</td>\n",
              "    </tr>\n",
              "    <tr>\n",
              "      <th id=\"T_f0cda_level0_row2\" class=\"row_heading level0 row2\" >2</th>\n",
              "      <td id=\"T_f0cda_row2_col0\" class=\"data row2 col0\" >1</td>\n",
              "      <td id=\"T_f0cda_row2_col1\" class=\"data row2 col1\" >2</td>\n",
              "      <td id=\"T_f0cda_row2_col2\" class=\"data row2 col2\" >2</td>\n",
              "      <td id=\"T_f0cda_row2_col3\" class=\"data row2 col3\" >1</td>\n",
              "      <td id=\"T_f0cda_row2_col4\" class=\"data row2 col4\" >1</td>\n",
              "      <td id=\"T_f0cda_row2_col5\" class=\"data row2 col5\" >1</td>\n",
              "      <td id=\"T_f0cda_row2_col6\" class=\"data row2 col6\" >2</td>\n",
              "      <td id=\"T_f0cda_row2_col7\" class=\"data row2 col7\" >2</td>\n",
              "      <td id=\"T_f0cda_row2_col8\" class=\"data row2 col8\" >2</td>\n",
              "      <td id=\"T_f0cda_row2_col9\" class=\"data row2 col9\" >2</td>\n",
              "      <td id=\"T_f0cda_row2_col10\" class=\"data row2 col10\" >2</td>\n",
              "      <td id=\"T_f0cda_row2_col11\" class=\"data row2 col11\" >2</td>\n",
              "      <td id=\"T_f0cda_row2_col12\" class=\"data row2 col12\" >2</td>\n",
              "      <td id=\"T_f0cda_row2_col13\" class=\"data row2 col13\" >2</td>\n",
              "    </tr>\n",
              "  </tbody>\n",
              "</table>\n"
            ]
          },
          "metadata": {}
        },
        {
          "output_type": "stream",
          "name": "stdout",
          "text": [
            "\n",
            " \u001b[1;30;47m Solution via SVD for ' 100 + 100 ' is \u001b[1;34;47m Correct : ' equals  200 '\n"
          ]
        },
        {
          "output_type": "display_data",
          "data": {
            "text/plain": [
              "<pandas.io.formats.style.Styler at 0x7f5b0a299210>"
            ],
            "text/html": [
              "<style type=\"text/css\">\n",
              "#T_0eedc_row0_col0, #T_0eedc_row0_col3, #T_0eedc_row0_col4, #T_0eedc_row0_col5, #T_0eedc_row0_col6, #T_0eedc_row0_col7, #T_0eedc_row0_col8, #T_0eedc_row0_col9, #T_0eedc_row1_col0, #T_0eedc_row1_col1, #T_0eedc_row1_col2, #T_0eedc_row1_col3, #T_0eedc_row1_col5, #T_0eedc_row1_col6, #T_0eedc_row1_col8, #T_0eedc_row2_col0, #T_0eedc_row2_col3, #T_0eedc_row2_col5 {\n",
              "  background-color: #ff0000;\n",
              "  color: #f1f1f1;\n",
              "}\n",
              "#T_0eedc_row0_col1, #T_0eedc_row0_col2, #T_0eedc_row1_col4, #T_0eedc_row1_col7, #T_0eedc_row1_col9, #T_0eedc_row2_col1, #T_0eedc_row2_col2, #T_0eedc_row2_col4, #T_0eedc_row2_col6, #T_0eedc_row2_col7, #T_0eedc_row2_col8, #T_0eedc_row2_col9 {\n",
              "  background-color: #8000ff;\n",
              "  color: #f1f1f1;\n",
              "}\n",
              "</style>\n",
              "<table id=\"T_0eedc_\" class=\"dataframe\">\n",
              "  <thead>\n",
              "    <tr>\n",
              "      <th class=\"blank level0\" >&nbsp;</th>\n",
              "      <th class=\"col_heading level0 col0\" >0</th>\n",
              "      <th class=\"col_heading level0 col1\" >1</th>\n",
              "      <th class=\"col_heading level0 col2\" >2</th>\n",
              "      <th class=\"col_heading level0 col3\" >3</th>\n",
              "      <th class=\"col_heading level0 col4\" >4</th>\n",
              "      <th class=\"col_heading level0 col5\" >5</th>\n",
              "      <th class=\"col_heading level0 col6\" >6</th>\n",
              "      <th class=\"col_heading level0 col7\" >7</th>\n",
              "      <th class=\"col_heading level0 col8\" >8</th>\n",
              "      <th class=\"col_heading level0 col9\" >9</th>\n",
              "    </tr>\n",
              "  </thead>\n",
              "  <tbody>\n",
              "    <tr>\n",
              "      <th id=\"T_0eedc_level0_row0\" class=\"row_heading level0 row0\" >0</th>\n",
              "      <td id=\"T_0eedc_row0_col0\" class=\"data row0 col0\" >1</td>\n",
              "      <td id=\"T_0eedc_row0_col1\" class=\"data row0 col1\" >2</td>\n",
              "      <td id=\"T_0eedc_row0_col2\" class=\"data row0 col2\" >2</td>\n",
              "      <td id=\"T_0eedc_row0_col3\" class=\"data row0 col3\" >1</td>\n",
              "      <td id=\"T_0eedc_row0_col4\" class=\"data row0 col4\" >1</td>\n",
              "      <td id=\"T_0eedc_row0_col5\" class=\"data row0 col5\" >1</td>\n",
              "      <td id=\"T_0eedc_row0_col6\" class=\"data row0 col6\" >1</td>\n",
              "      <td id=\"T_0eedc_row0_col7\" class=\"data row0 col7\" >1</td>\n",
              "      <td id=\"T_0eedc_row0_col8\" class=\"data row0 col8\" >1</td>\n",
              "      <td id=\"T_0eedc_row0_col9\" class=\"data row0 col9\" >1</td>\n",
              "    </tr>\n",
              "    <tr>\n",
              "      <th id=\"T_0eedc_level0_row1\" class=\"row_heading level0 row1\" >1</th>\n",
              "      <td id=\"T_0eedc_row1_col0\" class=\"data row1 col0\" >1</td>\n",
              "      <td id=\"T_0eedc_row1_col1\" class=\"data row1 col1\" >1</td>\n",
              "      <td id=\"T_0eedc_row1_col2\" class=\"data row1 col2\" >1</td>\n",
              "      <td id=\"T_0eedc_row1_col3\" class=\"data row1 col3\" >1</td>\n",
              "      <td id=\"T_0eedc_row1_col4\" class=\"data row1 col4\" >2</td>\n",
              "      <td id=\"T_0eedc_row1_col5\" class=\"data row1 col5\" >1</td>\n",
              "      <td id=\"T_0eedc_row1_col6\" class=\"data row1 col6\" >1</td>\n",
              "      <td id=\"T_0eedc_row1_col7\" class=\"data row1 col7\" >2</td>\n",
              "      <td id=\"T_0eedc_row1_col8\" class=\"data row1 col8\" >1</td>\n",
              "      <td id=\"T_0eedc_row1_col9\" class=\"data row1 col9\" >2</td>\n",
              "    </tr>\n",
              "    <tr>\n",
              "      <th id=\"T_0eedc_level0_row2\" class=\"row_heading level0 row2\" >2</th>\n",
              "      <td id=\"T_0eedc_row2_col0\" class=\"data row2 col0\" >1</td>\n",
              "      <td id=\"T_0eedc_row2_col1\" class=\"data row2 col1\" >2</td>\n",
              "      <td id=\"T_0eedc_row2_col2\" class=\"data row2 col2\" >2</td>\n",
              "      <td id=\"T_0eedc_row2_col3\" class=\"data row2 col3\" >1</td>\n",
              "      <td id=\"T_0eedc_row2_col4\" class=\"data row2 col4\" >2</td>\n",
              "      <td id=\"T_0eedc_row2_col5\" class=\"data row2 col5\" >1</td>\n",
              "      <td id=\"T_0eedc_row2_col6\" class=\"data row2 col6\" >2</td>\n",
              "      <td id=\"T_0eedc_row2_col7\" class=\"data row2 col7\" >2</td>\n",
              "      <td id=\"T_0eedc_row2_col8\" class=\"data row2 col8\" >2</td>\n",
              "      <td id=\"T_0eedc_row2_col9\" class=\"data row2 col9\" >2</td>\n",
              "    </tr>\n",
              "  </tbody>\n",
              "</table>\n"
            ]
          },
          "metadata": {}
        },
        {
          "output_type": "display_data",
          "data": {
            "text/plain": [
              "<Figure size 432x288 with 1 Axes>"
            ],
            "image/png": "[encoded data removed]"
          },
          "metadata": {
            "needs_background": "light"
          }
        }
      ]
    },
    {
      "cell_type": "markdown",
      "source": [
        "**Data compression and storage savings with low-rank SVD and randomised SVD**\n",
        "*   Corresponds to ***Section 3.1*** in dissertation"
      ],
      "metadata": {
        "id": "Db8leqt6r3xF"
      }
    },
    {
      "cell_type": "code",
      "source": [
        "## Example of A=['0+4'] matrix ##\n",
        "# Find shape #\n",
        "plus_04_nemeth.shape"
      ],
      "metadata": {
        "colab": {
          "base_uri": "https://localhost:8080/"
        },
        "id": "zoV5zIucAf-k",
        "outputId": "58e83fc4-493b-4182-83f7-ca535c28bec7"
      },
      "execution_count": null,
      "outputs": [
        {
          "output_type": "execute_result",
          "data": {
            "text/plain": [
              "(3, 6)"
            ]
          },
          "metadata": {},
          "execution_count": 138
        }
      ]
    },
    {
      "cell_type": "code",
      "source": [
        "## Full SVD for A=['0+4'] as example, easily replicable ##\n",
        "u, sigma, vt = svd(plus_04_nemeth)\n",
        "print(\"\\033[1;33;40m Full SVD decomposition\")\n",
        "print(\"\\033[1;34;47m Total size in element counts: \", \n",
        "      (u.size + sigma.size + vt.size))\n",
        "print(\"\\033[1;34;47m Total bytes count: \", \n",
        "      (sys.getsizeof(u) + sys.getsizeof(sigma) + sys.getsizeof(vt)))\n",
        "print(\"\\n \\033[1;30;47m u: \\033[1;35;47m {size in element counts:\", u.size, \n",
        "      \"| size in bytes: \", sys.getsizeof(u),\"}\")\n",
        "matrixGridRoundCol(u)\n",
        "print(\"\\n\\033[1;30;47m sigma: \\033[1;35;47m(non-zero) {size in element counts:\",\n",
        "      sigma.size, \"| size in bytes:\", sys.getsizeof(sigma),\"}\")\n",
        "matrixGridRoundCol(S)\n",
        "print(\"\\n \\033[1;30;47m vt: \\033[1;35;47m {size in element counts:\", vt.size, \n",
        "      \"| size in bytes:\", sys.getsizeof(vt),\"}\")\n",
        "matrixGridRoundCol(vt)\n",
        "\n",
        "## Low-rank SVD / truncated SVD ##\n",
        "r = rank(plus_04_nemeth)\n",
        "m, n = plus_04_nemeth.shape\n",
        "u_lowR = u[:,0:r]\n",
        "S = diagsvd(sigma, m, n)\n",
        "s_lowR = S[0:r,0:r]\n",
        "vt_lowR = vt[0:r, :]\n",
        "print(\"\\n\\033[1;33;40m Low-rank SVD decomposition\")\n",
        "print(\"\\033[1;34;47m Total size in element counts: \", \n",
        "      (u_lowR.size + sigma.size + vt_lowR.size))\n",
        "print(\"\\033[1;34;47m Total bytes count: \", \n",
        "      (sys.getsizeof(u_lowR) + sys.getsizeof(sigma) + sys.getsizeof(vt_lowR)))\n",
        "print(\"\\n \\033[1;30;47m u_lowR: \\033[1;35;47m {size in element counts:\", \n",
        "      u_lowR.size, \"| size in bytes:\", sys.getsizeof(u_lowR),\"}\")\n",
        "matrixGridRoundCol(u_lowR)\n",
        "print(\"\\n\\033[1;30;47m sigma: \\033[1;35;47m(non-zero) {size in element counts:\", \n",
        "      sigma.size, \"| size in bytes:\", sys.getsizeof(sigma),\"}\")\n",
        "matrixGridRoundCol(s_lowR)\n",
        "print(\"\\n \\033[1;30;47m vt_lowR: \\033[1;35;47m {size in element counts:\", \n",
        "      vt_lowR.size, \"| size in bytes:\", sys.getsizeof(vt_lowR),\"}\")\n",
        "matrixGridRoundCol(vt_lowR)\n",
        "\n",
        "## Ramdonised SVD by HMT ##\n",
        "from sklearn.utils.extmath import randomized_svd\n",
        "r = rank(plus_04_nemeth)\n",
        "u_rand, s_rand, vt_rand = randomized_svd(plus_04_nemeth, r, random_state=None)\n",
        "S_rand = diagsvd(s_rand, r, r)\n",
        "print(\"\\n\\033[1;33;40m Ramdonised SVD decomposition\")\n",
        "print(\"\\033[1;34;47m Total size in element counts: \", \n",
        "      (u_rand.size + s_rand.size + vt_rand.size))\n",
        "print(\"\\033[1;34;47m Total bytes count: \", \n",
        "      (sys.getsizeof(u_rand) + sys.getsizeof(s_rand) + sys.getsizeof(vt_rand)))\n",
        "print(\"\\n \\033[1;30;47m u_rand: \\033[1;35;47m {size in element counts:\", \n",
        "      u_rand.size, \"| size in bytes:\", sys.getsizeof(u_rand),\"}\")\n",
        "matrixGridRoundCol(u_rand)\n",
        "print(\"\\n\\033[1;30;47m s_rand: \\033[1;35;47m(non-zero) {size in element counts:\", \n",
        "  s_rand.size, \"| size in bytes:\", sys.getsizeof(s_rand),\"}\")\n",
        "matrixGridRoundCol(S_rand)\n",
        "print(\"\\n \\033[1;30;47m vt_rand: \\033[1;35;47m {size in element counts:\", \n",
        "      vt_rand.size, \"| size in bytes:\", sys.getsizeof(vt_rand),\"}\")\n",
        "matrixGridRoundCol(vt_rand)"
      ],
      "metadata": {
        "colab": {
          "base_uri": "https://localhost:8080/",
          "height": 1000
        },
        "id": "fBWcPojQAXS3",
        "outputId": "3426a9fd-57a9-4a9a-ec5d-9ff694553a93"
      },
      "execution_count": null,
      "outputs": [
        {
          "output_type": "stream",
          "name": "stdout",
          "text": [
            "\u001b[1;33;40m Full SVD decomposition\n",
            "\u001b[1;34;47m Total size in element counts:  48\n",
            "\u001b[1;34;47m Total bytes count:  728\n",
            "\n",
            " \u001b[1;30;47m u: \u001b[1;35;47m {size in element counts: 9 | size in bytes:  192 }\n"
          ]
        },
        {
          "output_type": "display_data",
          "data": {
            "text/plain": [
              "<pandas.io.formats.style.Styler at 0x7fc66ef29950>"
            ],
            "text/html": [
              "<style type=\"text/css\">\n",
              "#T_66107_row0_col0 {\n",
              "  background-color: #ff1111;\n",
              "  color: #f1f1f1;\n",
              "}\n",
              "#T_66107_row0_col1, #T_66107_row2_col1 {\n",
              "  background-color: #0000a9;\n",
              "  color: #f1f1f1;\n",
              "}\n",
              "#T_66107_row0_col2 {\n",
              "  background-color: #860000;\n",
              "  color: #f1f1f1;\n",
              "}\n",
              "#T_66107_row1_col0 {\n",
              "  background-color: #da0000;\n",
              "  color: #f1f1f1;\n",
              "}\n",
              "#T_66107_row1_col1 {\n",
              "  background-color: #800000;\n",
              "  color: #f1f1f1;\n",
              "}\n",
              "#T_66107_row1_col2 {\n",
              "  background-color: #f9f9ff;\n",
              "  color: #000000;\n",
              "}\n",
              "#T_66107_row2_col0 {\n",
              "  background-color: #ac0000;\n",
              "  color: #f1f1f1;\n",
              "}\n",
              "#T_66107_row2_col2 {\n",
              "  background-color: #00004c;\n",
              "  color: #f1f1f1;\n",
              "}\n",
              "</style>\n",
              "<table id=\"T_66107_\" class=\"dataframe\">\n",
              "  <thead>\n",
              "    <tr>\n",
              "      <th class=\"blank level0\" >&nbsp;</th>\n",
              "      <th class=\"col_heading level0 col0\" >0</th>\n",
              "      <th class=\"col_heading level0 col1\" >1</th>\n",
              "      <th class=\"col_heading level0 col2\" >2</th>\n",
              "    </tr>\n",
              "  </thead>\n",
              "  <tbody>\n",
              "    <tr>\n",
              "      <th id=\"T_66107_level0_row0\" class=\"row_heading level0 row0\" >0</th>\n",
              "      <td id=\"T_66107_row0_col0\" class=\"data row0 col0\" >-0.441000</td>\n",
              "      <td id=\"T_66107_row0_col1\" class=\"data row0 col1\" >0.408000</td>\n",
              "      <td id=\"T_66107_row0_col2\" class=\"data row0 col2\" >-0.799000</td>\n",
              "    </tr>\n",
              "    <tr>\n",
              "      <th id=\"T_66107_level0_row1\" class=\"row_heading level0 row1\" >1</th>\n",
              "      <td id=\"T_66107_row1_col0\" class=\"data row1 col0\" >-0.568000</td>\n",
              "      <td id=\"T_66107_row1_col1\" class=\"data row1 col1\" >-0.816000</td>\n",
              "      <td id=\"T_66107_row1_col2\" class=\"data row1 col2\" >-0.103000</td>\n",
              "    </tr>\n",
              "    <tr>\n",
              "      <th id=\"T_66107_level0_row2\" class=\"row_heading level0 row2\" >2</th>\n",
              "      <td id=\"T_66107_row2_col0\" class=\"data row2 col0\" >-0.695000</td>\n",
              "      <td id=\"T_66107_row2_col1\" class=\"data row2 col1\" >0.408000</td>\n",
              "      <td id=\"T_66107_row2_col2\" class=\"data row2 col2\" >0.592000</td>\n",
              "    </tr>\n",
              "  </tbody>\n",
              "</table>\n"
            ]
          },
          "metadata": {}
        },
        {
          "output_type": "stream",
          "name": "stdout",
          "text": [
            "\n",
            "\u001b[1;30;47m sigma: \u001b[1;35;47m(non-zero) {size in element counts: 3 | size in bytes: 128 }\n"
          ]
        },
        {
          "output_type": "display_data",
          "data": {
            "text/plain": [
              "<pandas.io.formats.style.Styler at 0x7fc66ef29990>"
            ],
            "text/html": [
              "<style type=\"text/css\">\n",
              "#T_e77ff_row0_col0 {\n",
              "  background-color: #00004c;\n",
              "  color: #f1f1f1;\n",
              "}\n",
              "#T_e77ff_row0_col1, #T_e77ff_row0_col2, #T_e77ff_row0_col3, #T_e77ff_row0_col4, #T_e77ff_row0_col5, #T_e77ff_row1_col0, #T_e77ff_row1_col2, #T_e77ff_row1_col3, #T_e77ff_row1_col4, #T_e77ff_row1_col5, #T_e77ff_row2_col0, #T_e77ff_row2_col1, #T_e77ff_row2_col3, #T_e77ff_row2_col4, #T_e77ff_row2_col5 {\n",
              "  background-color: #800000;\n",
              "  color: #f1f1f1;\n",
              "}\n",
              "#T_e77ff_row1_col1 {\n",
              "  background-color: #ee0000;\n",
              "  color: #f1f1f1;\n",
              "}\n",
              "#T_e77ff_row2_col2 {\n",
              "  background-color: #be0000;\n",
              "  color: #f1f1f1;\n",
              "}\n",
              "</style>\n",
              "<table id=\"T_e77ff_\" class=\"dataframe\">\n",
              "  <thead>\n",
              "    <tr>\n",
              "      <th class=\"blank level0\" >&nbsp;</th>\n",
              "      <th class=\"col_heading level0 col0\" >0</th>\n",
              "      <th class=\"col_heading level0 col1\" >1</th>\n",
              "      <th class=\"col_heading level0 col2\" >2</th>\n",
              "      <th class=\"col_heading level0 col3\" >3</th>\n",
              "      <th class=\"col_heading level0 col4\" >4</th>\n",
              "      <th class=\"col_heading level0 col5\" >5</th>\n",
              "    </tr>\n",
              "  </thead>\n",
              "  <tbody>\n",
              "    <tr>\n",
              "      <th id=\"T_e77ff_level0_row0\" class=\"row_heading level0 row0\" >0</th>\n",
              "      <td id=\"T_e77ff_row0_col0\" class=\"data row0 col0\" >6.507000</td>\n",
              "      <td id=\"T_e77ff_row0_col1\" class=\"data row0 col1\" >0.000000</td>\n",
              "      <td id=\"T_e77ff_row0_col2\" class=\"data row0 col2\" >0.000000</td>\n",
              "      <td id=\"T_e77ff_row0_col3\" class=\"data row0 col3\" >0.000000</td>\n",
              "      <td id=\"T_e77ff_row0_col4\" class=\"data row0 col4\" >0.000000</td>\n",
              "      <td id=\"T_e77ff_row0_col5\" class=\"data row0 col5\" >0.000000</td>\n",
              "    </tr>\n",
              "    <tr>\n",
              "      <th id=\"T_e77ff_level0_row1\" class=\"row_heading level0 row1\" >1</th>\n",
              "      <td id=\"T_e77ff_row1_col0\" class=\"data row1 col0\" >0.000000</td>\n",
              "      <td id=\"T_e77ff_row1_col1\" class=\"data row1 col1\" >1.414000</td>\n",
              "      <td id=\"T_e77ff_row1_col2\" class=\"data row1 col2\" >0.000000</td>\n",
              "      <td id=\"T_e77ff_row1_col3\" class=\"data row1 col3\" >0.000000</td>\n",
              "      <td id=\"T_e77ff_row1_col4\" class=\"data row1 col4\" >0.000000</td>\n",
              "      <td id=\"T_e77ff_row1_col5\" class=\"data row1 col5\" >0.000000</td>\n",
              "    </tr>\n",
              "    <tr>\n",
              "      <th id=\"T_e77ff_level0_row2\" class=\"row_heading level0 row2\" >2</th>\n",
              "      <td id=\"T_e77ff_row2_col0\" class=\"data row2 col0\" >0.000000</td>\n",
              "      <td id=\"T_e77ff_row2_col1\" class=\"data row2 col1\" >0.000000</td>\n",
              "      <td id=\"T_e77ff_row2_col2\" class=\"data row2 col2\" >0.813000</td>\n",
              "      <td id=\"T_e77ff_row2_col3\" class=\"data row2 col3\" >0.000000</td>\n",
              "      <td id=\"T_e77ff_row2_col4\" class=\"data row2 col4\" >0.000000</td>\n",
              "      <td id=\"T_e77ff_row2_col5\" class=\"data row2 col5\" >0.000000</td>\n",
              "    </tr>\n",
              "  </tbody>\n",
              "</table>\n"
            ]
          },
          "metadata": {}
        },
        {
          "output_type": "stream",
          "name": "stdout",
          "text": [
            "\n",
            " \u001b[1;30;47m vt: \u001b[1;35;47m {size in element counts: 36 | size in bytes: 408 }\n"
          ]
        },
        {
          "output_type": "display_data",
          "data": {
            "text/plain": [
              "<pandas.io.formats.style.Styler at 0x7fc66edf0390>"
            ],
            "text/html": [
              "<style type=\"text/css\">\n",
              "#T_7a39d_row0_col0, #T_7a39d_row0_col2 {\n",
              "  background-color: #ff0505;\n",
              "  color: #f1f1f1;\n",
              "}\n",
              "#T_7a39d_row0_col1, #T_7a39d_row0_col5 {\n",
              "  background-color: #e60000;\n",
              "  color: #f1f1f1;\n",
              "}\n",
              "#T_7a39d_row0_col3 {\n",
              "  background-color: #ec0000;\n",
              "  color: #f1f1f1;\n",
              "}\n",
              "#T_7a39d_row0_col4 {\n",
              "  background-color: #ff1515;\n",
              "  color: #f1f1f1;\n",
              "}\n",
              "#T_7a39d_row1_col0, #T_7a39d_row1_col2 {\n",
              "  background-color: #4949ff;\n",
              "  color: #f1f1f1;\n",
              "}\n",
              "#T_7a39d_row1_col1, #T_7a39d_row1_col5 {\n",
              "  background-color: #ff3939;\n",
              "  color: #f1f1f1;\n",
              "}\n",
              "#T_7a39d_row1_col3 {\n",
              "  background-color: #0000b1;\n",
              "  color: #f1f1f1;\n",
              "}\n",
              "#T_7a39d_row1_col4 {\n",
              "  background-color: #be0000;\n",
              "  color: #f1f1f1;\n",
              "}\n",
              "#T_7a39d_row2_col0, #T_7a39d_row2_col2 {\n",
              "  background-color: #2525ff;\n",
              "  color: #f1f1f1;\n",
              "}\n",
              "#T_7a39d_row2_col1, #T_7a39d_row2_col5 {\n",
              "  background-color: #7979ff;\n",
              "  color: #f1f1f1;\n",
              "}\n",
              "#T_7a39d_row2_col3 {\n",
              "  background-color: #ac0000;\n",
              "  color: #f1f1f1;\n",
              "}\n",
              "#T_7a39d_row2_col4 {\n",
              "  background-color: #d60000;\n",
              "  color: #f1f1f1;\n",
              "}\n",
              "#T_7a39d_row3_col0 {\n",
              "  background-color: #800000;\n",
              "  color: #f1f1f1;\n",
              "}\n",
              "#T_7a39d_row3_col1 {\n",
              "  background-color: #0000f2;\n",
              "  color: #f1f1f1;\n",
              "}\n",
              "#T_7a39d_row3_col2 {\n",
              "  background-color: #3131ff;\n",
              "  color: #f1f1f1;\n",
              "}\n",
              "#T_7a39d_row3_col3 {\n",
              "  background-color: #a5a5ff;\n",
              "  color: #000000;\n",
              "}\n",
              "#T_7a39d_row3_col4 {\n",
              "  background-color: #ff3535;\n",
              "  color: #f1f1f1;\n",
              "}\n",
              "#T_7a39d_row3_col5 {\n",
              "  background-color: #fdfdff;\n",
              "  color: #000000;\n",
              "}\n",
              "#T_7a39d_row4_col0 {\n",
              "  background-color: #ff9d9d;\n",
              "  color: #000000;\n",
              "}\n",
              "#T_7a39d_row4_col1 {\n",
              "  background-color: #e80000;\n",
              "  color: #f1f1f1;\n",
              "}\n",
              "#T_7a39d_row4_col2 {\n",
              "  background-color: #000066;\n",
              "  color: #f1f1f1;\n",
              "}\n",
              "#T_7a39d_row4_col3 {\n",
              "  background-color: #ff7575;\n",
              "  color: #f1f1f1;\n",
              "}\n",
              "#T_7a39d_row4_col4 {\n",
              "  background-color: #0101ff;\n",
              "  color: #f1f1f1;\n",
              "}\n",
              "#T_7a39d_row4_col5 {\n",
              "  background-color: #ff9595;\n",
              "  color: #000000;\n",
              "}\n",
              "#T_7a39d_row5_col0 {\n",
              "  background-color: #ff6d6d;\n",
              "  color: #f1f1f1;\n",
              "}\n",
              "#T_7a39d_row5_col1 {\n",
              "  background-color: #d20000;\n",
              "  color: #f1f1f1;\n",
              "}\n",
              "#T_7a39d_row5_col2 {\n",
              "  background-color: #ffcdcd;\n",
              "  color: #000000;\n",
              "}\n",
              "#T_7a39d_row5_col3 {\n",
              "  background-color: #c9c9ff;\n",
              "  color: #000000;\n",
              "}\n",
              "#T_7a39d_row5_col4 {\n",
              "  background-color: #ff7d7d;\n",
              "  color: #f1f1f1;\n",
              "}\n",
              "#T_7a39d_row5_col5 {\n",
              "  background-color: #00004c;\n",
              "  color: #f1f1f1;\n",
              "}\n",
              "</style>\n",
              "<table id=\"T_7a39d_\" class=\"dataframe\">\n",
              "  <thead>\n",
              "    <tr>\n",
              "      <th class=\"blank level0\" >&nbsp;</th>\n",
              "      <th class=\"col_heading level0 col0\" >0</th>\n",
              "      <th class=\"col_heading level0 col1\" >1</th>\n",
              "      <th class=\"col_heading level0 col2\" >2</th>\n",
              "      <th class=\"col_heading level0 col3\" >3</th>\n",
              "      <th class=\"col_heading level0 col4\" >4</th>\n",
              "      <th class=\"col_heading level0 col5\" >5</th>\n",
              "    </tr>\n",
              "  </thead>\n",
              "  <tbody>\n",
              "    <tr>\n",
              "      <th id=\"T_7a39d_level0_row0\" class=\"row_heading level0 row0\" >0</th>\n",
              "      <td id=\"T_7a39d_row0_col0\" class=\"data row0 col0\" >-0.369000</td>\n",
              "      <td id=\"T_7a39d_row0_col1\" class=\"data row0 col1\" >-0.456000</td>\n",
              "      <td id=\"T_7a39d_row0_col2\" class=\"data row0 col2\" >-0.369000</td>\n",
              "      <td id=\"T_7a39d_row0_col3\" class=\"data row0 col3\" >-0.436000</td>\n",
              "      <td id=\"T_7a39d_row0_col4\" class=\"data row0 col4\" >-0.349000</td>\n",
              "      <td id=\"T_7a39d_row0_col5\" class=\"data row0 col5\" >-0.456000</td>\n",
              "    </tr>\n",
              "    <tr>\n",
              "      <th id=\"T_7a39d_level0_row1\" class=\"row_heading level0 row1\" >1</th>\n",
              "      <td id=\"T_7a39d_row1_col0\" class=\"data row1 col0\" >0.289000</td>\n",
              "      <td id=\"T_7a39d_row1_col1\" class=\"data row1 col1\" >-0.289000</td>\n",
              "      <td id=\"T_7a39d_row1_col2\" class=\"data row1 col2\" >0.289000</td>\n",
              "      <td id=\"T_7a39d_row1_col3\" class=\"data row1 col3\" >0.577000</td>\n",
              "      <td id=\"T_7a39d_row1_col4\" class=\"data row1 col4\" >-0.577000</td>\n",
              "      <td id=\"T_7a39d_row1_col5\" class=\"data row1 col5\" >-0.289000</td>\n",
              "    </tr>\n",
              "    <tr>\n",
              "      <th id=\"T_7a39d_level0_row2\" class=\"row_heading level0 row2\" >2</th>\n",
              "      <td id=\"T_7a39d_row2_col0\" class=\"data row2 col0\" >0.346000</td>\n",
              "      <td id=\"T_7a39d_row2_col1\" class=\"data row2 col1\" >0.219000</td>\n",
              "      <td id=\"T_7a39d_row2_col2\" class=\"data row2 col2\" >0.346000</td>\n",
              "      <td id=\"T_7a39d_row2_col3\" class=\"data row2 col3\" >-0.636000</td>\n",
              "      <td id=\"T_7a39d_row2_col4\" class=\"data row2 col4\" >-0.509000</td>\n",
              "      <td id=\"T_7a39d_row2_col5\" class=\"data row2 col5\" >0.219000</td>\n",
              "    </tr>\n",
              "    <tr>\n",
              "      <th id=\"T_7a39d_level0_row3\" class=\"row_heading level0 row3\" >3</th>\n",
              "      <td id=\"T_7a39d_row3_col0\" class=\"data row3 col0\" >-0.773000</td>\n",
              "      <td id=\"T_7a39d_row3_col1\" class=\"data row3 col1\" >0.431000</td>\n",
              "      <td id=\"T_7a39d_row3_col2\" class=\"data row3 col2\" >0.326000</td>\n",
              "      <td id=\"T_7a39d_row3_col3\" class=\"data row3 col3\" >0.149000</td>\n",
              "      <td id=\"T_7a39d_row3_col4\" class=\"data row3 col4\" >-0.298000</td>\n",
              "      <td id=\"T_7a39d_row3_col5\" class=\"data row3 col5\" >0.016000</td>\n",
              "    </tr>\n",
              "    <tr>\n",
              "      <th id=\"T_7a39d_level0_row4\" class=\"row_heading level0 row4\" >4</th>\n",
              "      <td id=\"T_7a39d_row4_col0\" class=\"data row4 col0\" >-0.137000</td>\n",
              "      <td id=\"T_7a39d_row4_col1\" class=\"data row4 col1\" >-0.453000</td>\n",
              "      <td id=\"T_7a39d_row4_col2\" class=\"data row4 col2\" >0.742000</td>\n",
              "      <td id=\"T_7a39d_row4_col3\" class=\"data row4 col3\" >-0.202000</td>\n",
              "      <td id=\"T_7a39d_row4_col4\" class=\"data row4 col4\" >0.403000</td>\n",
              "      <td id=\"T_7a39d_row4_col5\" class=\"data row4 col5\" >-0.152000</td>\n",
              "    </tr>\n",
              "    <tr>\n",
              "      <th id=\"T_7a39d_level0_row5\" class=\"row_heading level0 row5\" >5</th>\n",
              "      <td id=\"T_7a39d_row5_col0\" class=\"data row5 col0\" >-0.212000</td>\n",
              "      <td id=\"T_7a39d_row5_col1\" class=\"data row5 col1\" >-0.520000</td>\n",
              "      <td id=\"T_7a39d_row5_col2\" class=\"data row5 col2\" >-0.067000</td>\n",
              "      <td id=\"T_7a39d_row5_col3\" class=\"data row5 col3\" >0.093000</td>\n",
              "      <td id=\"T_7a39d_row5_col4\" class=\"data row5 col4\" >-0.186000</td>\n",
              "      <td id=\"T_7a39d_row5_col5\" class=\"data row5 col5\" >0.798000</td>\n",
              "    </tr>\n",
              "  </tbody>\n",
              "</table>\n"
            ]
          },
          "metadata": {}
        },
        {
          "output_type": "stream",
          "name": "stdout",
          "text": [
            "\n",
            "\u001b[1;33;40m Low-rank SVD decomposition\n",
            "\u001b[1;34;47m Total size in element counts:  30\n",
            "\u001b[1;34;47m Total bytes count:  368\n",
            "\n",
            " \u001b[1;30;47m u_lowR: \u001b[1;35;47m {size in element counts: 9 | size in bytes: 120 }\n"
          ]
        },
        {
          "output_type": "display_data",
          "data": {
            "text/plain": [
              "<pandas.io.formats.style.Styler at 0x7fc66edc0310>"
            ],
            "text/html": [
              "<style type=\"text/css\">\n",
              "#T_927b1_row0_col0 {\n",
              "  background-color: #ff1111;\n",
              "  color: #f1f1f1;\n",
              "}\n",
              "#T_927b1_row0_col1, #T_927b1_row2_col1 {\n",
              "  background-color: #0000a9;\n",
              "  color: #f1f1f1;\n",
              "}\n",
              "#T_927b1_row0_col2 {\n",
              "  background-color: #860000;\n",
              "  color: #f1f1f1;\n",
              "}\n",
              "#T_927b1_row1_col0 {\n",
              "  background-color: #da0000;\n",
              "  color: #f1f1f1;\n",
              "}\n",
              "#T_927b1_row1_col1 {\n",
              "  background-color: #800000;\n",
              "  color: #f1f1f1;\n",
              "}\n",
              "#T_927b1_row1_col2 {\n",
              "  background-color: #f9f9ff;\n",
              "  color: #000000;\n",
              "}\n",
              "#T_927b1_row2_col0 {\n",
              "  background-color: #ac0000;\n",
              "  color: #f1f1f1;\n",
              "}\n",
              "#T_927b1_row2_col2 {\n",
              "  background-color: #00004c;\n",
              "  color: #f1f1f1;\n",
              "}\n",
              "</style>\n",
              "<table id=\"T_927b1_\" class=\"dataframe\">\n",
              "  <thead>\n",
              "    <tr>\n",
              "      <th class=\"blank level0\" >&nbsp;</th>\n",
              "      <th class=\"col_heading level0 col0\" >0</th>\n",
              "      <th class=\"col_heading level0 col1\" >1</th>\n",
              "      <th class=\"col_heading level0 col2\" >2</th>\n",
              "    </tr>\n",
              "  </thead>\n",
              "  <tbody>\n",
              "    <tr>\n",
              "      <th id=\"T_927b1_level0_row0\" class=\"row_heading level0 row0\" >0</th>\n",
              "      <td id=\"T_927b1_row0_col0\" class=\"data row0 col0\" >-0.441000</td>\n",
              "      <td id=\"T_927b1_row0_col1\" class=\"data row0 col1\" >0.408000</td>\n",
              "      <td id=\"T_927b1_row0_col2\" class=\"data row0 col2\" >-0.799000</td>\n",
              "    </tr>\n",
              "    <tr>\n",
              "      <th id=\"T_927b1_level0_row1\" class=\"row_heading level0 row1\" >1</th>\n",
              "      <td id=\"T_927b1_row1_col0\" class=\"data row1 col0\" >-0.568000</td>\n",
              "      <td id=\"T_927b1_row1_col1\" class=\"data row1 col1\" >-0.816000</td>\n",
              "      <td id=\"T_927b1_row1_col2\" class=\"data row1 col2\" >-0.103000</td>\n",
              "    </tr>\n",
              "    <tr>\n",
              "      <th id=\"T_927b1_level0_row2\" class=\"row_heading level0 row2\" >2</th>\n",
              "      <td id=\"T_927b1_row2_col0\" class=\"data row2 col0\" >-0.695000</td>\n",
              "      <td id=\"T_927b1_row2_col1\" class=\"data row2 col1\" >0.408000</td>\n",
              "      <td id=\"T_927b1_row2_col2\" class=\"data row2 col2\" >0.592000</td>\n",
              "    </tr>\n",
              "  </tbody>\n",
              "</table>\n"
            ]
          },
          "metadata": {}
        },
        {
          "output_type": "stream",
          "name": "stdout",
          "text": [
            "\n",
            "\u001b[1;30;47m sigma: \u001b[1;35;47m(non-zero) {size in element counts: 3 | size in bytes: 128 }\n"
          ]
        },
        {
          "output_type": "display_data",
          "data": {
            "text/plain": [
              "<pandas.io.formats.style.Styler at 0x7fc66eefe910>"
            ],
            "text/html": [
              "<style type=\"text/css\">\n",
              "#T_65647_row0_col0 {\n",
              "  background-color: #00004c;\n",
              "  color: #f1f1f1;\n",
              "}\n",
              "#T_65647_row0_col1, #T_65647_row0_col2, #T_65647_row1_col0, #T_65647_row1_col2, #T_65647_row2_col0, #T_65647_row2_col1 {\n",
              "  background-color: #800000;\n",
              "  color: #f1f1f1;\n",
              "}\n",
              "#T_65647_row1_col1 {\n",
              "  background-color: #ee0000;\n",
              "  color: #f1f1f1;\n",
              "}\n",
              "#T_65647_row2_col2 {\n",
              "  background-color: #be0000;\n",
              "  color: #f1f1f1;\n",
              "}\n",
              "</style>\n",
              "<table id=\"T_65647_\" class=\"dataframe\">\n",
              "  <thead>\n",
              "    <tr>\n",
              "      <th class=\"blank level0\" >&nbsp;</th>\n",
              "      <th class=\"col_heading level0 col0\" >0</th>\n",
              "      <th class=\"col_heading level0 col1\" >1</th>\n",
              "      <th class=\"col_heading level0 col2\" >2</th>\n",
              "    </tr>\n",
              "  </thead>\n",
              "  <tbody>\n",
              "    <tr>\n",
              "      <th id=\"T_65647_level0_row0\" class=\"row_heading level0 row0\" >0</th>\n",
              "      <td id=\"T_65647_row0_col0\" class=\"data row0 col0\" >6.507000</td>\n",
              "      <td id=\"T_65647_row0_col1\" class=\"data row0 col1\" >0.000000</td>\n",
              "      <td id=\"T_65647_row0_col2\" class=\"data row0 col2\" >0.000000</td>\n",
              "    </tr>\n",
              "    <tr>\n",
              "      <th id=\"T_65647_level0_row1\" class=\"row_heading level0 row1\" >1</th>\n",
              "      <td id=\"T_65647_row1_col0\" class=\"data row1 col0\" >0.000000</td>\n",
              "      <td id=\"T_65647_row1_col1\" class=\"data row1 col1\" >1.414000</td>\n",
              "      <td id=\"T_65647_row1_col2\" class=\"data row1 col2\" >0.000000</td>\n",
              "    </tr>\n",
              "    <tr>\n",
              "      <th id=\"T_65647_level0_row2\" class=\"row_heading level0 row2\" >2</th>\n",
              "      <td id=\"T_65647_row2_col0\" class=\"data row2 col0\" >0.000000</td>\n",
              "      <td id=\"T_65647_row2_col1\" class=\"data row2 col1\" >0.000000</td>\n",
              "      <td id=\"T_65647_row2_col2\" class=\"data row2 col2\" >0.813000</td>\n",
              "    </tr>\n",
              "  </tbody>\n",
              "</table>\n"
            ]
          },
          "metadata": {}
        },
        {
          "output_type": "stream",
          "name": "stdout",
          "text": [
            "\n",
            " \u001b[1;30;47m vt_lowR: \u001b[1;35;47m {size in element counts: 18 | size in bytes: 120 }\n"
          ]
        },
        {
          "output_type": "display_data",
          "data": {
            "text/plain": [
              "<pandas.io.formats.style.Styler at 0x7fc66eefee90>"
            ],
            "text/html": [
              "<style type=\"text/css\">\n",
              "#T_fde34_row0_col0, #T_fde34_row0_col2 {\n",
              "  background-color: #f00000;\n",
              "  color: #f1f1f1;\n",
              "}\n",
              "#T_fde34_row0_col1, #T_fde34_row0_col5 {\n",
              "  background-color: #ca0000;\n",
              "  color: #f1f1f1;\n",
              "}\n",
              "#T_fde34_row0_col3 {\n",
              "  background-color: #d30000;\n",
              "  color: #f1f1f1;\n",
              "}\n",
              "#T_fde34_row0_col4 {\n",
              "  background-color: #f80000;\n",
              "  color: #f1f1f1;\n",
              "}\n",
              "#T_fde34_row1_col0, #T_fde34_row1_col2 {\n",
              "  background-color: #0000f4;\n",
              "  color: #f1f1f1;\n",
              "}\n",
              "#T_fde34_row1_col1, #T_fde34_row1_col5 {\n",
              "  background-color: #ff2525;\n",
              "  color: #f1f1f1;\n",
              "}\n",
              "#T_fde34_row1_col3 {\n",
              "  background-color: #00004c;\n",
              "  color: #f1f1f1;\n",
              "}\n",
              "#T_fde34_row1_col4 {\n",
              "  background-color: #980000;\n",
              "  color: #f1f1f1;\n",
              "}\n",
              "#T_fde34_row2_col0, #T_fde34_row2_col2 {\n",
              "  background-color: #0000d3;\n",
              "  color: #f1f1f1;\n",
              "}\n",
              "#T_fde34_row2_col1, #T_fde34_row2_col5 {\n",
              "  background-color: #2d2dff;\n",
              "  color: #f1f1f1;\n",
              "}\n",
              "#T_fde34_row2_col3 {\n",
              "  background-color: #800000;\n",
              "  color: #f1f1f1;\n",
              "}\n",
              "#T_fde34_row2_col4 {\n",
              "  background-color: #b30000;\n",
              "  color: #f1f1f1;\n",
              "}\n",
              "</style>\n",
              "<table id=\"T_fde34_\" class=\"dataframe\">\n",
              "  <thead>\n",
              "    <tr>\n",
              "      <th class=\"blank level0\" >&nbsp;</th>\n",
              "      <th class=\"col_heading level0 col0\" >0</th>\n",
              "      <th class=\"col_heading level0 col1\" >1</th>\n",
              "      <th class=\"col_heading level0 col2\" >2</th>\n",
              "      <th class=\"col_heading level0 col3\" >3</th>\n",
              "      <th class=\"col_heading level0 col4\" >4</th>\n",
              "      <th class=\"col_heading level0 col5\" >5</th>\n",
              "    </tr>\n",
              "  </thead>\n",
              "  <tbody>\n",
              "    <tr>\n",
              "      <th id=\"T_fde34_level0_row0\" class=\"row_heading level0 row0\" >0</th>\n",
              "      <td id=\"T_fde34_row0_col0\" class=\"data row0 col0\" >-0.369000</td>\n",
              "      <td id=\"T_fde34_row0_col1\" class=\"data row0 col1\" >-0.456000</td>\n",
              "      <td id=\"T_fde34_row0_col2\" class=\"data row0 col2\" >-0.369000</td>\n",
              "      <td id=\"T_fde34_row0_col3\" class=\"data row0 col3\" >-0.436000</td>\n",
              "      <td id=\"T_fde34_row0_col4\" class=\"data row0 col4\" >-0.349000</td>\n",
              "      <td id=\"T_fde34_row0_col5\" class=\"data row0 col5\" >-0.456000</td>\n",
              "    </tr>\n",
              "    <tr>\n",
              "      <th id=\"T_fde34_level0_row1\" class=\"row_heading level0 row1\" >1</th>\n",
              "      <td id=\"T_fde34_row1_col0\" class=\"data row1 col0\" >0.289000</td>\n",
              "      <td id=\"T_fde34_row1_col1\" class=\"data row1 col1\" >-0.289000</td>\n",
              "      <td id=\"T_fde34_row1_col2\" class=\"data row1 col2\" >0.289000</td>\n",
              "      <td id=\"T_fde34_row1_col3\" class=\"data row1 col3\" >0.577000</td>\n",
              "      <td id=\"T_fde34_row1_col4\" class=\"data row1 col4\" >-0.577000</td>\n",
              "      <td id=\"T_fde34_row1_col5\" class=\"data row1 col5\" >-0.289000</td>\n",
              "    </tr>\n",
              "    <tr>\n",
              "      <th id=\"T_fde34_level0_row2\" class=\"row_heading level0 row2\" >2</th>\n",
              "      <td id=\"T_fde34_row2_col0\" class=\"data row2 col0\" >0.346000</td>\n",
              "      <td id=\"T_fde34_row2_col1\" class=\"data row2 col1\" >0.219000</td>\n",
              "      <td id=\"T_fde34_row2_col2\" class=\"data row2 col2\" >0.346000</td>\n",
              "      <td id=\"T_fde34_row2_col3\" class=\"data row2 col3\" >-0.636000</td>\n",
              "      <td id=\"T_fde34_row2_col4\" class=\"data row2 col4\" >-0.509000</td>\n",
              "      <td id=\"T_fde34_row2_col5\" class=\"data row2 col5\" >0.219000</td>\n",
              "    </tr>\n",
              "  </tbody>\n",
              "</table>\n"
            ]
          },
          "metadata": {}
        },
        {
          "output_type": "stream",
          "name": "stdout",
          "text": [
            "\n",
            "\u001b[1;33;40m Ramdonised SVD decomposition\n",
            "\u001b[1;34;47m Total size in element counts:  30\n",
            "\u001b[1;34;47m Total bytes count:  344\n",
            "\n",
            " \u001b[1;30;47m u_rand: \u001b[1;35;47m {size in element counts: 9 | size in bytes: 120 }\n"
          ]
        },
        {
          "output_type": "display_data",
          "data": {
            "text/plain": [
              "<pandas.io.formats.style.Styler at 0x7fc66edd14d0>"
            ],
            "text/html": [
              "<style type=\"text/css\">\n",
              "#T_34872_row0_col0 {\n",
              "  background-color: #1111ff;\n",
              "  color: #f1f1f1;\n",
              "}\n",
              "#T_34872_row0_col1, #T_34872_row2_col1 {\n",
              "  background-color: #c20000;\n",
              "  color: #f1f1f1;\n",
              "}\n",
              "#T_34872_row0_col2 {\n",
              "  background-color: #000055;\n",
              "  color: #f1f1f1;\n",
              "}\n",
              "#T_34872_row1_col0 {\n",
              "  background-color: #0000cb;\n",
              "  color: #f1f1f1;\n",
              "}\n",
              "#T_34872_row1_col1 {\n",
              "  background-color: #00004c;\n",
              "  color: #f1f1f1;\n",
              "}\n",
              "#T_34872_row1_col2 {\n",
              "  background-color: #fff9f9;\n",
              "  color: #000000;\n",
              "}\n",
              "#T_34872_row2_col0 {\n",
              "  background-color: #000087;\n",
              "  color: #f1f1f1;\n",
              "}\n",
              "#T_34872_row2_col2 {\n",
              "  background-color: #800000;\n",
              "  color: #f1f1f1;\n",
              "}\n",
              "</style>\n",
              "<table id=\"T_34872_\" class=\"dataframe\">\n",
              "  <thead>\n",
              "    <tr>\n",
              "      <th class=\"blank level0\" >&nbsp;</th>\n",
              "      <th class=\"col_heading level0 col0\" >0</th>\n",
              "      <th class=\"col_heading level0 col1\" >1</th>\n",
              "      <th class=\"col_heading level0 col2\" >2</th>\n",
              "    </tr>\n",
              "  </thead>\n",
              "  <tbody>\n",
              "    <tr>\n",
              "      <th id=\"T_34872_level0_row0\" class=\"row_heading level0 row0\" >0</th>\n",
              "      <td id=\"T_34872_row0_col0\" class=\"data row0 col0\" >0.441000</td>\n",
              "      <td id=\"T_34872_row0_col1\" class=\"data row0 col1\" >-0.408000</td>\n",
              "      <td id=\"T_34872_row0_col2\" class=\"data row0 col2\" >0.799000</td>\n",
              "    </tr>\n",
              "    <tr>\n",
              "      <th id=\"T_34872_level0_row1\" class=\"row_heading level0 row1\" >1</th>\n",
              "      <td id=\"T_34872_row1_col0\" class=\"data row1 col0\" >0.568000</td>\n",
              "      <td id=\"T_34872_row1_col1\" class=\"data row1 col1\" >0.816000</td>\n",
              "      <td id=\"T_34872_row1_col2\" class=\"data row1 col2\" >0.103000</td>\n",
              "    </tr>\n",
              "    <tr>\n",
              "      <th id=\"T_34872_level0_row2\" class=\"row_heading level0 row2\" >2</th>\n",
              "      <td id=\"T_34872_row2_col0\" class=\"data row2 col0\" >0.695000</td>\n",
              "      <td id=\"T_34872_row2_col1\" class=\"data row2 col1\" >-0.408000</td>\n",
              "      <td id=\"T_34872_row2_col2\" class=\"data row2 col2\" >-0.592000</td>\n",
              "    </tr>\n",
              "  </tbody>\n",
              "</table>\n"
            ]
          },
          "metadata": {}
        },
        {
          "output_type": "stream",
          "name": "stdout",
          "text": [
            "\n",
            "\u001b[1;30;47m s_rand: \u001b[1;35;47m(non-zero) {size in element counts: 3 | size in bytes: 104 }\n"
          ]
        },
        {
          "output_type": "display_data",
          "data": {
            "text/plain": [
              "<pandas.io.formats.style.Styler at 0x7fc66ed76210>"
            ],
            "text/html": [
              "<style type=\"text/css\">\n",
              "#T_1baf7_row0_col0 {\n",
              "  background-color: #00004c;\n",
              "  color: #f1f1f1;\n",
              "}\n",
              "#T_1baf7_row0_col1, #T_1baf7_row0_col2, #T_1baf7_row1_col0, #T_1baf7_row1_col2, #T_1baf7_row2_col0, #T_1baf7_row2_col1 {\n",
              "  background-color: #800000;\n",
              "  color: #f1f1f1;\n",
              "}\n",
              "#T_1baf7_row1_col1 {\n",
              "  background-color: #ee0000;\n",
              "  color: #f1f1f1;\n",
              "}\n",
              "#T_1baf7_row2_col2 {\n",
              "  background-color: #be0000;\n",
              "  color: #f1f1f1;\n",
              "}\n",
              "</style>\n",
              "<table id=\"T_1baf7_\" class=\"dataframe\">\n",
              "  <thead>\n",
              "    <tr>\n",
              "      <th class=\"blank level0\" >&nbsp;</th>\n",
              "      <th class=\"col_heading level0 col0\" >0</th>\n",
              "      <th class=\"col_heading level0 col1\" >1</th>\n",
              "      <th class=\"col_heading level0 col2\" >2</th>\n",
              "    </tr>\n",
              "  </thead>\n",
              "  <tbody>\n",
              "    <tr>\n",
              "      <th id=\"T_1baf7_level0_row0\" class=\"row_heading level0 row0\" >0</th>\n",
              "      <td id=\"T_1baf7_row0_col0\" class=\"data row0 col0\" >6.507000</td>\n",
              "      <td id=\"T_1baf7_row0_col1\" class=\"data row0 col1\" >0.000000</td>\n",
              "      <td id=\"T_1baf7_row0_col2\" class=\"data row0 col2\" >0.000000</td>\n",
              "    </tr>\n",
              "    <tr>\n",
              "      <th id=\"T_1baf7_level0_row1\" class=\"row_heading level0 row1\" >1</th>\n",
              "      <td id=\"T_1baf7_row1_col0\" class=\"data row1 col0\" >0.000000</td>\n",
              "      <td id=\"T_1baf7_row1_col1\" class=\"data row1 col1\" >1.414000</td>\n",
              "      <td id=\"T_1baf7_row1_col2\" class=\"data row1 col2\" >0.000000</td>\n",
              "    </tr>\n",
              "    <tr>\n",
              "      <th id=\"T_1baf7_level0_row2\" class=\"row_heading level0 row2\" >2</th>\n",
              "      <td id=\"T_1baf7_row2_col0\" class=\"data row2 col0\" >0.000000</td>\n",
              "      <td id=\"T_1baf7_row2_col1\" class=\"data row2 col1\" >0.000000</td>\n",
              "      <td id=\"T_1baf7_row2_col2\" class=\"data row2 col2\" >0.813000</td>\n",
              "    </tr>\n",
              "  </tbody>\n",
              "</table>\n"
            ]
          },
          "metadata": {}
        },
        {
          "output_type": "stream",
          "name": "stdout",
          "text": [
            "\n",
            " \u001b[1;30;47m vt_rand: \u001b[1;35;47m {size in element counts: 18 | size in bytes: 120 }\n"
          ]
        },
        {
          "output_type": "display_data",
          "data": {
            "text/plain": [
              "<pandas.io.formats.style.Styler at 0x7fc66eea8fd0>"
            ],
            "text/html": [
              "<style type=\"text/css\">\n",
              "#T_e2e44_row0_col0, #T_e2e44_row0_col2 {\n",
              "  background-color: #0000e9;\n",
              "  color: #f1f1f1;\n",
              "}\n",
              "#T_e2e44_row0_col1, #T_e2e44_row0_col5 {\n",
              "  background-color: #0000b4;\n",
              "  color: #f1f1f1;\n",
              "}\n",
              "#T_e2e44_row0_col3 {\n",
              "  background-color: #0000c2;\n",
              "  color: #f1f1f1;\n",
              "}\n",
              "#T_e2e44_row0_col4 {\n",
              "  background-color: #0000f4;\n",
              "  color: #f1f1f1;\n",
              "}\n",
              "#T_e2e44_row1_col0, #T_e2e44_row1_col2 {\n",
              "  background-color: #f80000;\n",
              "  color: #f1f1f1;\n",
              "}\n",
              "#T_e2e44_row1_col1, #T_e2e44_row1_col5 {\n",
              "  background-color: #2525ff;\n",
              "  color: #f1f1f1;\n",
              "}\n",
              "#T_e2e44_row1_col3 {\n",
              "  background-color: #800000;\n",
              "  color: #f1f1f1;\n",
              "}\n",
              "#T_e2e44_row1_col4 {\n",
              "  background-color: #00006e;\n",
              "  color: #f1f1f1;\n",
              "}\n",
              "#T_e2e44_row2_col0, #T_e2e44_row2_col2 {\n",
              "  background-color: #e00000;\n",
              "  color: #f1f1f1;\n",
              "}\n",
              "#T_e2e44_row2_col1, #T_e2e44_row2_col5 {\n",
              "  background-color: #ff2d2d;\n",
              "  color: #f1f1f1;\n",
              "}\n",
              "#T_e2e44_row2_col3 {\n",
              "  background-color: #00004c;\n",
              "  color: #f1f1f1;\n",
              "}\n",
              "#T_e2e44_row2_col4 {\n",
              "  background-color: #000095;\n",
              "  color: #f1f1f1;\n",
              "}\n",
              "</style>\n",
              "<table id=\"T_e2e44_\" class=\"dataframe\">\n",
              "  <thead>\n",
              "    <tr>\n",
              "      <th class=\"blank level0\" >&nbsp;</th>\n",
              "      <th class=\"col_heading level0 col0\" >0</th>\n",
              "      <th class=\"col_heading level0 col1\" >1</th>\n",
              "      <th class=\"col_heading level0 col2\" >2</th>\n",
              "      <th class=\"col_heading level0 col3\" >3</th>\n",
              "      <th class=\"col_heading level0 col4\" >4</th>\n",
              "      <th class=\"col_heading level0 col5\" >5</th>\n",
              "    </tr>\n",
              "  </thead>\n",
              "  <tbody>\n",
              "    <tr>\n",
              "      <th id=\"T_e2e44_level0_row0\" class=\"row_heading level0 row0\" >0</th>\n",
              "      <td id=\"T_e2e44_row0_col0\" class=\"data row0 col0\" >0.369000</td>\n",
              "      <td id=\"T_e2e44_row0_col1\" class=\"data row0 col1\" >0.456000</td>\n",
              "      <td id=\"T_e2e44_row0_col2\" class=\"data row0 col2\" >0.369000</td>\n",
              "      <td id=\"T_e2e44_row0_col3\" class=\"data row0 col3\" >0.436000</td>\n",
              "      <td id=\"T_e2e44_row0_col4\" class=\"data row0 col4\" >0.349000</td>\n",
              "      <td id=\"T_e2e44_row0_col5\" class=\"data row0 col5\" >0.456000</td>\n",
              "    </tr>\n",
              "    <tr>\n",
              "      <th id=\"T_e2e44_level0_row1\" class=\"row_heading level0 row1\" >1</th>\n",
              "      <td id=\"T_e2e44_row1_col0\" class=\"data row1 col0\" >-0.289000</td>\n",
              "      <td id=\"T_e2e44_row1_col1\" class=\"data row1 col1\" >0.289000</td>\n",
              "      <td id=\"T_e2e44_row1_col2\" class=\"data row1 col2\" >-0.289000</td>\n",
              "      <td id=\"T_e2e44_row1_col3\" class=\"data row1 col3\" >-0.577000</td>\n",
              "      <td id=\"T_e2e44_row1_col4\" class=\"data row1 col4\" >0.577000</td>\n",
              "      <td id=\"T_e2e44_row1_col5\" class=\"data row1 col5\" >0.289000</td>\n",
              "    </tr>\n",
              "    <tr>\n",
              "      <th id=\"T_e2e44_level0_row2\" class=\"row_heading level0 row2\" >2</th>\n",
              "      <td id=\"T_e2e44_row2_col0\" class=\"data row2 col0\" >-0.346000</td>\n",
              "      <td id=\"T_e2e44_row2_col1\" class=\"data row2 col1\" >-0.219000</td>\n",
              "      <td id=\"T_e2e44_row2_col2\" class=\"data row2 col2\" >-0.346000</td>\n",
              "      <td id=\"T_e2e44_row2_col3\" class=\"data row2 col3\" >0.636000</td>\n",
              "      <td id=\"T_e2e44_row2_col4\" class=\"data row2 col4\" >0.509000</td>\n",
              "      <td id=\"T_e2e44_row2_col5\" class=\"data row2 col5\" >-0.219000</td>\n",
              "    </tr>\n",
              "  </tbody>\n",
              "</table>\n"
            ]
          },
          "metadata": {}
        }
      ]
    },
    {
      "cell_type": "code",
      "source": [
        "## Why randomised SVD compresses sigma matrix as well (though negligibly) ##\n",
        "from decimal import *\n",
        "print(\"\\033[1;37;40m Randomised SVD (negligibly) compresses sigular values via \"\n",
        "\"approximation \\n\")\n",
        "print(\"\\033[1;34;47m\")\n",
        "print(\"s_rand[0]: \", Decimal(s_rand[0]))\n",
        "print(\"sigma[0]:  \", Decimal(sigma[0]))\n",
        "diff = Decimal(s_rand[0] - sigma[0])\n",
        "print(\"difference:\", f'{diff:.20f}')"
      ],
      "metadata": {
        "colab": {
          "base_uri": "https://localhost:8080/"
        },
        "id": "s1BVCp4N8KKh",
        "outputId": "3dfcc18a-4f56-4735-e329-00e4cc6c95ac"
      },
      "execution_count": null,
      "outputs": [
        {
          "output_type": "stream",
          "name": "stdout",
          "text": [
            "\u001b[1;37;40m Randomised SVD (negligibly) compresses sigular values via approximation \n",
            "\n",
            "\u001b[1;34;47m\n",
            "s_rand[0]:  6.5068168857110730840531687135808169841766357421875\n",
            "sigma[0]:   6.50681688571107041951790961320511996746063232421875\n",
            "difference: 0.00000000000000266454\n"
          ]
        }
      ]
    },
    {
      "cell_type": "code",
      "source": [
        "## Check all methods give you same A=['0+4'] ##\n",
        "print(\"\\033[1;37;40m Check all methods give you same A=['0+4'] \\n\")\n",
        "A_svd = u.dot(S).dot(vt)\n",
        "print(\"\\033[1;30;47m A_svd:\")\n",
        "matrixGrid(A_svd)\n",
        "A_svd_lowR = u_lowR.dot(s_lowR).dot(vt_lowR)\n",
        "print(\"\\n \\033[1;30;47m A_svd_lowRank:\")\n",
        "matrixGridSolType1(A_svd_lowR)\n",
        "A_svd_RandomisedLowR = u_rand.dot(S_rand).dot(vt_rand)\n",
        "print(\"\\n \\033[1;30;47m A_svd_RandomisedLowRank:\")\n",
        "matrixGridSolType2(A_svd_RandomisedLowR)"
      ],
      "metadata": {
        "colab": {
          "base_uri": "https://localhost:8080/",
          "height": 523
        },
        "id": "A6avEDveWMxY",
        "outputId": "eb8806ea-8b0a-41ca-ae14-054c224498d9"
      },
      "execution_count": null,
      "outputs": [
        {
          "output_type": "stream",
          "name": "stdout",
          "text": [
            "\u001b[1;37;40m Check all methods give you same A=['0+4'] \n",
            "\n",
            "\u001b[1;30;47m A_svd:\n"
          ]
        },
        {
          "output_type": "display_data",
          "data": {
            "text/plain": [
              "<pandas.io.formats.style.Styler at 0x7fc66eda94d0>"
            ],
            "text/html": [
              "<style type=\"text/css\">\n",
              "#T_db15c_row0_col0, #T_db15c_row0_col1, #T_db15c_row0_col2, #T_db15c_row0_col4, #T_db15c_row0_col5, #T_db15c_row1_col0, #T_db15c_row1_col2, #T_db15c_row1_col3, #T_db15c_row2_col4 {\n",
              "  background-color: #ff0000;\n",
              "  color: #f1f1f1;\n",
              "}\n",
              "#T_db15c_row0_col3, #T_db15c_row1_col1, #T_db15c_row1_col4, #T_db15c_row1_col5, #T_db15c_row2_col0, #T_db15c_row2_col1, #T_db15c_row2_col2, #T_db15c_row2_col3, #T_db15c_row2_col5 {\n",
              "  background-color: #54ff00;\n",
              "  color: #000000;\n",
              "}\n",
              "</style>\n",
              "<table id=\"T_db15c_\" class=\"dataframe\">\n",
              "  <thead>\n",
              "    <tr>\n",
              "      <th class=\"blank level0\" >&nbsp;</th>\n",
              "      <th class=\"col_heading level0 col0\" >0</th>\n",
              "      <th class=\"col_heading level0 col1\" >1</th>\n",
              "      <th class=\"col_heading level0 col2\" >2</th>\n",
              "      <th class=\"col_heading level0 col3\" >3</th>\n",
              "      <th class=\"col_heading level0 col4\" >4</th>\n",
              "      <th class=\"col_heading level0 col5\" >5</th>\n",
              "    </tr>\n",
              "  </thead>\n",
              "  <tbody>\n",
              "    <tr>\n",
              "      <th id=\"T_db15c_level0_row0\" class=\"row_heading level0 row0\" >0</th>\n",
              "      <td id=\"T_db15c_row0_col0\" class=\"data row0 col0\" >1</td>\n",
              "      <td id=\"T_db15c_row0_col1\" class=\"data row0 col1\" >1</td>\n",
              "      <td id=\"T_db15c_row0_col2\" class=\"data row0 col2\" >1</td>\n",
              "      <td id=\"T_db15c_row0_col3\" class=\"data row0 col3\" >2</td>\n",
              "      <td id=\"T_db15c_row0_col4\" class=\"data row0 col4\" >1</td>\n",
              "      <td id=\"T_db15c_row0_col5\" class=\"data row0 col5\" >1</td>\n",
              "    </tr>\n",
              "    <tr>\n",
              "      <th id=\"T_db15c_level0_row1\" class=\"row_heading level0 row1\" >1</th>\n",
              "      <td id=\"T_db15c_row1_col0\" class=\"data row1 col0\" >1</td>\n",
              "      <td id=\"T_db15c_row1_col1\" class=\"data row1 col1\" >2</td>\n",
              "      <td id=\"T_db15c_row1_col2\" class=\"data row1 col2\" >1</td>\n",
              "      <td id=\"T_db15c_row1_col3\" class=\"data row1 col3\" >1</td>\n",
              "      <td id=\"T_db15c_row1_col4\" class=\"data row1 col4\" >2</td>\n",
              "      <td id=\"T_db15c_row1_col5\" class=\"data row1 col5\" >2</td>\n",
              "    </tr>\n",
              "    <tr>\n",
              "      <th id=\"T_db15c_level0_row2\" class=\"row_heading level0 row2\" >2</th>\n",
              "      <td id=\"T_db15c_row2_col0\" class=\"data row2 col0\" >2</td>\n",
              "      <td id=\"T_db15c_row2_col1\" class=\"data row2 col1\" >2</td>\n",
              "      <td id=\"T_db15c_row2_col2\" class=\"data row2 col2\" >2</td>\n",
              "      <td id=\"T_db15c_row2_col3\" class=\"data row2 col3\" >2</td>\n",
              "      <td id=\"T_db15c_row2_col4\" class=\"data row2 col4\" >1</td>\n",
              "      <td id=\"T_db15c_row2_col5\" class=\"data row2 col5\" >2</td>\n",
              "    </tr>\n",
              "  </tbody>\n",
              "</table>\n"
            ]
          },
          "metadata": {}
        },
        {
          "output_type": "stream",
          "name": "stdout",
          "text": [
            "\n",
            " \u001b[1;30;47m A_svd_lowRank:\n"
          ]
        },
        {
          "output_type": "display_data",
          "data": {
            "text/plain": [
              "<pandas.io.formats.style.Styler at 0x7fc66eea8750>"
            ],
            "text/html": [
              "<style type=\"text/css\">\n",
              "#T_08e58_row0_col0, #T_08e58_row0_col1, #T_08e58_row0_col2, #T_08e58_row0_col4, #T_08e58_row0_col5, #T_08e58_row1_col0, #T_08e58_row1_col2, #T_08e58_row1_col3, #T_08e58_row2_col4 {\n",
              "  background-color: #ff0000;\n",
              "  color: #f1f1f1;\n",
              "}\n",
              "#T_08e58_row0_col3, #T_08e58_row1_col1, #T_08e58_row1_col4, #T_08e58_row1_col5, #T_08e58_row2_col0, #T_08e58_row2_col1, #T_08e58_row2_col2, #T_08e58_row2_col3, #T_08e58_row2_col5 {\n",
              "  background-color: #000000;\n",
              "  color: #f1f1f1;\n",
              "}\n",
              "</style>\n",
              "<table id=\"T_08e58_\" class=\"dataframe\">\n",
              "  <thead>\n",
              "    <tr>\n",
              "      <th class=\"blank level0\" >&nbsp;</th>\n",
              "      <th class=\"col_heading level0 col0\" >0</th>\n",
              "      <th class=\"col_heading level0 col1\" >1</th>\n",
              "      <th class=\"col_heading level0 col2\" >2</th>\n",
              "      <th class=\"col_heading level0 col3\" >3</th>\n",
              "      <th class=\"col_heading level0 col4\" >4</th>\n",
              "      <th class=\"col_heading level0 col5\" >5</th>\n",
              "    </tr>\n",
              "  </thead>\n",
              "  <tbody>\n",
              "    <tr>\n",
              "      <th id=\"T_08e58_level0_row0\" class=\"row_heading level0 row0\" >0</th>\n",
              "      <td id=\"T_08e58_row0_col0\" class=\"data row0 col0\" >1</td>\n",
              "      <td id=\"T_08e58_row0_col1\" class=\"data row0 col1\" >1</td>\n",
              "      <td id=\"T_08e58_row0_col2\" class=\"data row0 col2\" >1</td>\n",
              "      <td id=\"T_08e58_row0_col3\" class=\"data row0 col3\" >2</td>\n",
              "      <td id=\"T_08e58_row0_col4\" class=\"data row0 col4\" >1</td>\n",
              "      <td id=\"T_08e58_row0_col5\" class=\"data row0 col5\" >1</td>\n",
              "    </tr>\n",
              "    <tr>\n",
              "      <th id=\"T_08e58_level0_row1\" class=\"row_heading level0 row1\" >1</th>\n",
              "      <td id=\"T_08e58_row1_col0\" class=\"data row1 col0\" >1</td>\n",
              "      <td id=\"T_08e58_row1_col1\" class=\"data row1 col1\" >2</td>\n",
              "      <td id=\"T_08e58_row1_col2\" class=\"data row1 col2\" >1</td>\n",
              "      <td id=\"T_08e58_row1_col3\" class=\"data row1 col3\" >1</td>\n",
              "      <td id=\"T_08e58_row1_col4\" class=\"data row1 col4\" >2</td>\n",
              "      <td id=\"T_08e58_row1_col5\" class=\"data row1 col5\" >2</td>\n",
              "    </tr>\n",
              "    <tr>\n",
              "      <th id=\"T_08e58_level0_row2\" class=\"row_heading level0 row2\" >2</th>\n",
              "      <td id=\"T_08e58_row2_col0\" class=\"data row2 col0\" >2</td>\n",
              "      <td id=\"T_08e58_row2_col1\" class=\"data row2 col1\" >2</td>\n",
              "      <td id=\"T_08e58_row2_col2\" class=\"data row2 col2\" >2</td>\n",
              "      <td id=\"T_08e58_row2_col3\" class=\"data row2 col3\" >2</td>\n",
              "      <td id=\"T_08e58_row2_col4\" class=\"data row2 col4\" >1</td>\n",
              "      <td id=\"T_08e58_row2_col5\" class=\"data row2 col5\" >2</td>\n",
              "    </tr>\n",
              "  </tbody>\n",
              "</table>\n"
            ]
          },
          "metadata": {}
        },
        {
          "output_type": "stream",
          "name": "stdout",
          "text": [
            "\n",
            " \u001b[1;30;47m A_svd_RandomisedLowRank:\n"
          ]
        },
        {
          "output_type": "display_data",
          "data": {
            "text/plain": [
              "<pandas.io.formats.style.Styler at 0x7fc66ef294d0>"
            ],
            "text/html": [
              "<style type=\"text/css\">\n",
              "#T_6ad7b_row0_col0, #T_6ad7b_row0_col1, #T_6ad7b_row0_col2, #T_6ad7b_row0_col4, #T_6ad7b_row0_col5, #T_6ad7b_row1_col0, #T_6ad7b_row1_col2, #T_6ad7b_row1_col3, #T_6ad7b_row2_col4 {\n",
              "  background-color: #ff0000;\n",
              "  color: #f1f1f1;\n",
              "}\n",
              "#T_6ad7b_row0_col3, #T_6ad7b_row1_col1, #T_6ad7b_row1_col4, #T_6ad7b_row1_col5, #T_6ad7b_row2_col0, #T_6ad7b_row2_col1, #T_6ad7b_row2_col2, #T_6ad7b_row2_col3, #T_6ad7b_row2_col5 {\n",
              "  background-color: #8000ff;\n",
              "  color: #f1f1f1;\n",
              "}\n",
              "</style>\n",
              "<table id=\"T_6ad7b_\" class=\"dataframe\">\n",
              "  <thead>\n",
              "    <tr>\n",
              "      <th class=\"blank level0\" >&nbsp;</th>\n",
              "      <th class=\"col_heading level0 col0\" >0</th>\n",
              "      <th class=\"col_heading level0 col1\" >1</th>\n",
              "      <th class=\"col_heading level0 col2\" >2</th>\n",
              "      <th class=\"col_heading level0 col3\" >3</th>\n",
              "      <th class=\"col_heading level0 col4\" >4</th>\n",
              "      <th class=\"col_heading level0 col5\" >5</th>\n",
              "    </tr>\n",
              "  </thead>\n",
              "  <tbody>\n",
              "    <tr>\n",
              "      <th id=\"T_6ad7b_level0_row0\" class=\"row_heading level0 row0\" >0</th>\n",
              "      <td id=\"T_6ad7b_row0_col0\" class=\"data row0 col0\" >1</td>\n",
              "      <td id=\"T_6ad7b_row0_col1\" class=\"data row0 col1\" >1</td>\n",
              "      <td id=\"T_6ad7b_row0_col2\" class=\"data row0 col2\" >1</td>\n",
              "      <td id=\"T_6ad7b_row0_col3\" class=\"data row0 col3\" >2</td>\n",
              "      <td id=\"T_6ad7b_row0_col4\" class=\"data row0 col4\" >1</td>\n",
              "      <td id=\"T_6ad7b_row0_col5\" class=\"data row0 col5\" >1</td>\n",
              "    </tr>\n",
              "    <tr>\n",
              "      <th id=\"T_6ad7b_level0_row1\" class=\"row_heading level0 row1\" >1</th>\n",
              "      <td id=\"T_6ad7b_row1_col0\" class=\"data row1 col0\" >1</td>\n",
              "      <td id=\"T_6ad7b_row1_col1\" class=\"data row1 col1\" >2</td>\n",
              "      <td id=\"T_6ad7b_row1_col2\" class=\"data row1 col2\" >1</td>\n",
              "      <td id=\"T_6ad7b_row1_col3\" class=\"data row1 col3\" >1</td>\n",
              "      <td id=\"T_6ad7b_row1_col4\" class=\"data row1 col4\" >2</td>\n",
              "      <td id=\"T_6ad7b_row1_col5\" class=\"data row1 col5\" >2</td>\n",
              "    </tr>\n",
              "    <tr>\n",
              "      <th id=\"T_6ad7b_level0_row2\" class=\"row_heading level0 row2\" >2</th>\n",
              "      <td id=\"T_6ad7b_row2_col0\" class=\"data row2 col0\" >2</td>\n",
              "      <td id=\"T_6ad7b_row2_col1\" class=\"data row2 col1\" >2</td>\n",
              "      <td id=\"T_6ad7b_row2_col2\" class=\"data row2 col2\" >2</td>\n",
              "      <td id=\"T_6ad7b_row2_col3\" class=\"data row2 col3\" >2</td>\n",
              "      <td id=\"T_6ad7b_row2_col4\" class=\"data row2 col4\" >1</td>\n",
              "      <td id=\"T_6ad7b_row2_col5\" class=\"data row2 col5\" >2</td>\n",
              "    </tr>\n",
              "  </tbody>\n",
              "</table>\n"
            ]
          },
          "metadata": {}
        }
      ]
    },
    {
      "cell_type": "code",
      "source": [
        "## Example when this becomes more beneficial - long equation ##\n",
        "((((((100*50)+(100*(50-5)+(1000/2)))*1000000)/1000000)*1000000)/1000000)"
      ],
      "metadata": {
        "colab": {
          "base_uri": "https://localhost:8080/"
        },
        "id": "ztwS0wMgOypy",
        "outputId": "40d4fb38-848e-446e-b079-c683f097be98"
      },
      "execution_count": null,
      "outputs": [
        {
          "output_type": "execute_result",
          "data": {
            "text/plain": [
              "10000.0000"
            ]
          },
          "metadata": {},
          "execution_count": 13
        }
      ]
    },
    {
      "cell_type": "code",
      "source": [
        "## CONT. Example when this becomes more beneficial - long equation ##\n",
        "\"\"\" Teaching kid rules of arithmetic & order of operations \n",
        "((((((100*50)+(100*(50-5)+(1000÷2)))*1000000)÷1000000)*1000000)÷1000000)=10,000\n",
        "\"\"\"\n",
        "open_bracket = np.array([cell_21, cell_22, cell_22])\n",
        "close_bracket = np.array([cell_12, cell_22, cell_22])\n",
        "long_A = np.hstack((open_bracket, open_bracket, open_bracket, open_bracket, \n",
        "open_bracket, open_bracket, numbers[1], numbers[0], numbers[0], multiply,\n",
        "numbers[5], numbers[0], close_bracket, plus, open_bracket, numbers[1], \n",
        "numbers[0], numbers[0], multiply, open_bracket, numbers[5], numbers[0], minus,\n",
        "numbers[5], close_bracket, plus, open_bracket, numbers[1], numbers[0], \n",
        "numbers[0], numbers[0], divide, numbers[2], close_bracket, close_bracket, \n",
        "close_bracket, multiply, numbers[1], numbers[0], numbers[0], numbers[0], \n",
        "numbers[0], numbers[0], numbers[0], close_bracket, divide, numbers[1], \n",
        "numbers[0], numbers[0], numbers[0], numbers[0], numbers[0], numbers[0], \n",
        "close_bracket, multiply, numbers[1], numbers[0], numbers[0], numbers[0], \n",
        "numbers[0], numbers[0], numbers[0], close_bracket, divide, numbers[1], \n",
        "numbers[0], numbers[0], numbers[0], numbers[0], numbers[0], numbers[0], \n",
        "close_bracket))\n",
        "print(\"\\033[1;34;47m Order of Ops \" \n",
        "\"'((((((100*50)+(100*(50-5)+(1000÷2)))*1000000)÷1000000)*1000000)÷1000000)'\"\n",
        "\"\\033[1;32;47m \\n In Braille Nemeth code: \\n\")\n",
        "print(\"\\033[1;36;47m matrix size |\", long_A.shape)\n",
        "#matrixGrid(long_A)"
      ],
      "metadata": {
        "colab": {
          "base_uri": "https://localhost:8080/"
        },
        "id": "6qozH1r-KlTN",
        "outputId": "f6152f05-127c-4355-d412-2e1d56aab926"
      },
      "execution_count": null,
      "outputs": [
        {
          "output_type": "stream",
          "name": "stdout",
          "text": [
            "\u001b[1;34;47m Order of Ops '((((((100*50)+(100*(50-5)+(1000÷2)))*1000000)÷1000000)*1000000)÷1000000)'\u001b[1;32;47m \n",
            " In Braille Nemeth code: \n",
            "\n",
            "\u001b[1;36;47m matrix size | (3, 158)\n"
          ]
        }
      ]
    },
    {
      "cell_type": "code",
      "source": [
        "## Full SVD ##\n",
        "print(\"\\033[1;37;40m Example equation:\"\n",
        "\"((((((100*50)+(100*(50-5)+(1000÷2)))*1000000)÷1000000)*1000000)÷1000000)\")\n",
        "u, sigma, vt = svd(long_A)\n",
        "print(\"\\033[1;33;40m Full SVD decomposition\")\n",
        "print(\"\\033[1;34;47m Total size in element counts: \", \n",
        "      (u.size + sigma.size + vt.size))\n",
        "print(\"\\033[1;34;47m Total bytes count: \", \n",
        "      (sys.getsizeof(u) + sys.getsizeof(sigma) + sys.getsizeof(vt)))\n",
        "print(\"\\n \\033[1;30;47m u: \\033[1;35;47m {size in element counts:\", u.size, \n",
        "      \"| size in bytes: \", sys.getsizeof(u),\"}\")\n",
        "print(\"\\033[1;36;47m matrix size |\", u.shape)\n",
        "r = rank(long_A)\n",
        "m, n = long_A.shape\n",
        "S = diagsvd(sigma, m, n)\n",
        "print(\"\\n\\033[1;30;47m sigma: \\033[1;35;47m(non-zero) {size in element counts:\",\n",
        "      sigma.size, \"| size in bytes:\", sys.getsizeof(sigma),\"}\")\n",
        "print(\"\\033[1;36;47m matrix size |\", S.shape)\n",
        "print(\"\\n \\033[1;30;47m vt: \\033[1;35;47m {size in element counts:\", vt.size, \n",
        "      \"| size in bytes:\", sys.getsizeof(vt),\"}\")\n",
        "print(\"\\033[1;36;47m matrix size |\", vt.shape)\n",
        "\n",
        "## Low-rank SVD / truncated SVD ##\n",
        "r = rank(long_A)\n",
        "m, n = long_A.shape\n",
        "u_lowR = u[:,0:r]\n",
        "s_lowR = S[0:r,0:r]\n",
        "vt_lowR = vt[0:r, :]\n",
        "print(\"\\n\\033[1;33;40m Low-rank SVD decomposition\")\n",
        "print(\"\\033[1;34;47m Total size in element counts: \", \n",
        "      (u_lowR.size + sigma.size + vt_lowR.size))\n",
        "print(\"\\033[1;34;47m Total bytes count: \", \n",
        "      (sys.getsizeof(u_lowR) + sys.getsizeof(sigma) + sys.getsizeof(vt_lowR)))\n",
        "print(\"\\n \\033[1;30;47m u_lowR: \\033[1;35;47m {size in element counts:\", \n",
        "      u_lowR.size, \"| size in bytes:\", sys.getsizeof(u_lowR),\"}\")\n",
        "print(\"\\033[1;36;47m matrix size |\", u_lowR.shape)\n",
        "print(\"\\n\\033[1;30;47m sigma: \\033[1;35;47m(non-zero) {size in element counts:\", \n",
        "      sigma.size, \"| size in bytes:\", sys.getsizeof(sigma),\"}\")\n",
        "print(\"\\033[1;36;47m matrix size |\", s_lowR.shape)\n",
        "print(\"\\n \\033[1;30;47m vt_lowR: \\033[1;35;47m {size in element counts:\", \n",
        "      vt_lowR.size, \"| size in bytes:\", sys.getsizeof(vt_lowR),\"}\")\n",
        "print(\"\\033[1;36;47m matrix size |\", vt_lowR.shape)\n",
        "\n",
        "## Ramdonised SVD by HMT ##\n",
        "from sklearn.utils.extmath import randomized_svd\n",
        "u_rand, s_rand, vt_rand = randomized_svd(long_A, r, random_state=None)\n",
        "r = rank(long_A)\n",
        "S_rand = diagsvd(s_rand, r, r)\n",
        "print(\"\\n\\033[1;33;40m Ramdonised SVD decomposition\")\n",
        "print(\"\\033[1;34;47m Total size in element counts: \", \n",
        "      (u_rand.size + s_rand.size + vt_rand.size))\n",
        "print(\"\\033[1;34;47m Total bytes count: \", \n",
        "      (sys.getsizeof(u_rand) + sys.getsizeof(s_rand) + sys.getsizeof(vt_rand)))\n",
        "print(\"\\n \\033[1;30;47m u_rand: \\033[1;35;47m {size in element counts:\", \n",
        "      u_rand.size, \"| size in bytes:\", sys.getsizeof(u_rand),\"}\")\n",
        "print(\"\\033[1;36;47m matrix size |\", u_rand.shape)\n",
        "print(\"\\n\\033[1;30;47m s_rand: \\033[1;35;47m(non-zero) {size in element counts:\", \n",
        "  s_rand.size, \"| size in bytes:\", sys.getsizeof(s_rand),\"}\")\n",
        "print(\"\\033[1;36;47m matrix size |\", S_rand.shape)\n",
        "print(\"\\n \\033[1;30;47m vt_rand: \\033[1;35;47m {size in element counts:\", \n",
        "      vt_rand.size, \"| size in bytes:\", sys.getsizeof(vt_rand),\"}\")\n",
        "print(\"\\033[1;36;47m matrix size |\", vt_rand.shape)"
      ],
      "metadata": {
        "colab": {
          "base_uri": "https://localhost:8080/"
        },
        "id": "039zeriTSH1D",
        "outputId": "54fad588-02f3-446f-de0c-da7e8979c209"
      },
      "execution_count": null,
      "outputs": [
        {
          "output_type": "stream",
          "name": "stdout",
          "text": [
            "\u001b[1;37;40m Example equation:((((((100*50)+(100*(50-5)+(1000÷2)))*1000000)÷1000000)*1000000)÷1000000)\n",
            "\u001b[1;33;40m Full SVD decomposition\n",
            "\u001b[1;34;47m Total size in element counts:  24976\n",
            "\u001b[1;34;47m Total bytes count:  200152\n",
            "\n",
            " \u001b[1;30;47m u: \u001b[1;35;47m {size in element counts: 9 | size in bytes:  192 }\n",
            "\u001b[1;36;47m matrix size | (3, 3)\n",
            "\n",
            "\u001b[1;30;47m sigma: \u001b[1;35;47m(non-zero) {size in element counts: 3 | size in bytes: 128 }\n",
            "\u001b[1;36;47m matrix size | (3, 158)\n",
            "\n",
            " \u001b[1;30;47m vt: \u001b[1;35;47m {size in element counts: 24964 | size in bytes: 199832 }\n",
            "\u001b[1;36;47m matrix size | (158, 158)\n",
            "\n",
            "\u001b[1;33;40m Low-rank SVD decomposition\n",
            "\u001b[1;34;47m Total size in element counts:  486\n",
            "\u001b[1;34;47m Total bytes count:  368\n",
            "\n",
            " \u001b[1;30;47m u_lowR: \u001b[1;35;47m {size in element counts: 9 | size in bytes: 120 }\n",
            "\u001b[1;36;47m matrix size | (3, 3)\n",
            "\n",
            "\u001b[1;30;47m sigma: \u001b[1;35;47m(non-zero) {size in element counts: 3 | size in bytes: 128 }\n",
            "\u001b[1;36;47m matrix size | (3, 3)\n",
            "\n",
            " \u001b[1;30;47m vt_lowR: \u001b[1;35;47m {size in element counts: 474 | size in bytes: 120 }\n",
            "\u001b[1;36;47m matrix size | (3, 158)\n",
            "\n",
            "\u001b[1;33;40m Ramdonised SVD decomposition\n",
            "\u001b[1;34;47m Total size in element counts:  486\n",
            "\u001b[1;34;47m Total bytes count:  344\n",
            "\n",
            " \u001b[1;30;47m u_rand: \u001b[1;35;47m {size in element counts: 9 | size in bytes: 120 }\n",
            "\u001b[1;36;47m matrix size | (3, 3)\n",
            "\n",
            "\u001b[1;30;47m s_rand: \u001b[1;35;47m(non-zero) {size in element counts: 3 | size in bytes: 104 }\n",
            "\u001b[1;36;47m matrix size | (3, 3)\n",
            "\n",
            " \u001b[1;30;47m vt_rand: \u001b[1;35;47m {size in element counts: 474 | size in bytes: 120 }\n",
            "\u001b[1;36;47m matrix size | (3, 158)\n"
          ]
        }
      ]
    },
    {
      "cell_type": "code",
      "source": [
        "## Why we can use Hadamard for MULTIPLY and DIVIDE - number theory proof ## \n",
        "\n",
        "gamma = 1\n",
        "\n",
        "# Check for first 50k numbers # \n",
        "\n",
        "for m in range(1, 500*100, 1):\n",
        "  for n in range(1, 500*100, 1):\n",
        "    d_T = len(str(m)) + len(str(n))\n",
        "    if d_T > len(str(m*n)):\n",
        "      if d_T > (len(str(m*n)) + len(str(gamma))):\n",
        "        print(\"False - not always true! e.g.\", m, n)\n",
        "    elif d_T < len(str(m*n)):\n",
        "      if d_T < (len(str(m*n)) + len(str(gamma))):\n",
        "        print(\"False - not always true! e.g.\", m, n)\n",
        "print(\"\\033[1;37;40m True - equality up to gamma = 1 for\",\n",
        "                                                \" first 50k integers (excl. 0)\")"
      ],
      "metadata": {
        "colab": {
          "base_uri": "https://localhost:8080/"
        },
        "id": "ld77AqO7UfBB",
        "outputId": "18721513-b190-4776-c381-4ed98614c9c7"
      },
      "execution_count": null,
      "outputs": [
        {
          "output_type": "stream",
          "name": "stdout",
          "text": [
            "\u001b[1;37;40m True - equality up to gamma = 1 for first 50k integers (excl. 0)\n"
          ]
        }
      ]
    },
    {
      "cell_type": "markdown",
      "source": [
        "**Numerical Braille Code** \n",
        "\n",
        "*   Corresponds to ***Section 2*** in dissertation"
      ],
      "metadata": {
        "id": "I7sLXX_BTIDj"
      }
    },
    {
      "cell_type": "markdown",
      "source": [
        "**Generating Braille alphabet as matrices**"
      ],
      "metadata": {
        "id": "l9qdcVBrvs5R"
      }
    },
    {
      "cell_type": "code",
      "source": [
        "## Method 1 - Creating each Braille letter as a matrix one by one ##\n",
        "\n",
        "t1 = time.process_time()\n",
        "\n",
        "a = np.array([[1, 0], [0, 0], [0, 0]])\n",
        "b = np.array([[1, 0], [1, 0], [0, 0]])\n",
        "c = np.array([[1, 1], [0, 0], [0, 0]])\n",
        "d = np.array([[1, 1], [0, 1], [0, 0]])\n",
        "e = np.array([[1, 0], [0, 1], [0, 0]])\n",
        "f = np.array([[1, 1], [1, 0], [0, 0]])\n",
        "g = np.array([[1, 1], [1, 1], [0, 0]])\n",
        "h = np.array([[1, 0], [1, 1], [0, 0]])\n",
        "i = np.array([[0, 1], [1, 0], [0, 0]])\n",
        "j = np.array([[0, 1], [1, 1], [0, 0]])\n",
        "k = np.array([[1, 0], [0, 0], [1, 0]])\n",
        "l = np.array([[1, 0], [1, 0], [1, 0]])\n",
        "m = np.array([[1, 1], [0, 0], [1, 0]])\n",
        "n = np.array([[1, 1], [0, 1], [1, 0]])\n",
        "o = np.array([[1, 0], [0, 1], [1, 0]])\n",
        "p = np.array([[1, 1], [1, 0], [1, 0]])\n",
        "q = np.array([[1, 1], [1, 1], [1, 0]])\n",
        "r = np.array([[1, 0], [1, 1], [1, 0]])\n",
        "s = np.array([[0, 1], [1, 0], [1, 0]])\n",
        "t = np.array([[0, 1], [1, 1], [1, 0]])\n",
        "u = np.array([[1, 0], [0, 0], [1, 1]])\n",
        "v = np.array([[1, 0], [1, 0], [1, 1]])\n",
        "w = np.array([[0, 1], [1, 1], [0, 1]])\n",
        "x = np.array([[1, 1], [0, 0], [1, 1]])\n",
        "y = np.array([[1, 1], [0, 1], [1, 1]])\n",
        "z = np.array([[1, 0], [0, 1], [1, 1]])\n",
        "\n",
        "t2 = time.process_time()\n",
        "print('time taken to run:',t2-t1)"
      ],
      "metadata": {
        "colab": {
          "base_uri": "https://localhost:8080/"
        },
        "id": "hTUITZ5cPEoM",
        "outputId": "eea6ca50-6030-456c-e224-48151b7279d5"
      },
      "execution_count": null,
      "outputs": [
        {
          "output_type": "stream",
          "name": "stdout",
          "text": [
            "time taken to run: 0.0006473200000001178\n"
          ]
        }
      ]
    },
    {
      "cell_type": "code",
      "source": [
        "## Method 2 - Using 2x1 arrays and their combinations ##\n",
        "\"\"\" opt method\n",
        "\"\"\"\n",
        "\n",
        "t1 = time.process_time()\n",
        "\n",
        "cell_00 = np.array([0, 0])\n",
        "cell_10 = np.array([1, 0])\n",
        "cell_01 = np.array([0, 1])\n",
        "cell_11 = np.array([1, 1])\n",
        "\n",
        "a_opt = np.array([cell_10, cell_00, cell_00])\n",
        "b_opt = np.array([cell_10, cell_10, cell_00])\n",
        "c_opt = np.array([cell_11, cell_00, cell_00])\n",
        "d_opt = np.array([cell_11, cell_01, cell_00])\n",
        "e_opt = np.array([cell_10, cell_01, cell_00])\n",
        "f_opt = np.array([cell_11, cell_10, cell_00])\n",
        "g_opt = np.array([cell_11, cell_11, cell_00])\n",
        "h_opt = np.array([cell_10, cell_11, cell_00])\n",
        "i_opt = np.array([cell_01, cell_10, cell_00])\n",
        "j_opt = np.array([cell_01, cell_11, cell_00])\n",
        "k_opt = np.array([cell_10, cell_00, cell_10])\n",
        "l_opt = np.array([cell_10, cell_10, cell_10])\n",
        "m_opt = np.array([cell_11, cell_00, cell_10])\n",
        "n_opt = np.array([cell_11, cell_01, cell_10])\n",
        "o_opt = np.array([cell_10, cell_01, cell_10])\n",
        "p_opt = np.array([cell_11, cell_10, cell_10])\n",
        "q_opt = np.array([cell_11, cell_11, cell_10])\n",
        "r_opt = np.array([cell_10, cell_11, cell_10])\n",
        "s_opt = np.array([cell_01, cell_10, cell_10])\n",
        "t_opt = np.array([cell_01, cell_11, cell_10])\n",
        "u_opt = np.array([cell_10, cell_00, cell_11])\n",
        "v_opt = np.array([cell_10, cell_10, cell_11])\n",
        "w_opt = np.array([cell_01, cell_11, cell_01])\n",
        "x_opt = np.array([cell_11, cell_00, cell_11])\n",
        "y_opt = np.array([cell_11, cell_01, cell_11])\n",
        "z_opt = np.array([cell_10, cell_01, cell_11])\n",
        "\n",
        "t2 = time.process_time()\n",
        "print('time taken to run:',t2-t1)"
      ],
      "metadata": {
        "colab": {
          "base_uri": "https://localhost:8080/"
        },
        "id": "ys6zIa14QKnJ",
        "outputId": "ea3a1b16-6700-4e10-e7ab-ab0757ff260b"
      },
      "execution_count": null,
      "outputs": [
        {
          "output_type": "stream",
          "name": "stdout",
          "text": [
            "time taken to run: 0.0006609599999998217\n"
          ]
        }
      ]
    },
    {
      "cell_type": "code",
      "source": [
        "## Method 3 - Using 2x1 matrices and concatenation ##\n",
        "\n",
        "\"\"\" optLA method\n",
        "\"\"\"\n",
        "\n",
        "t1 = time.process_time()\n",
        "\n",
        "cell_00 = np.matrix([0, 0])\n",
        "cell_10 = np.matrix([1, 0])\n",
        "cell_01 = np.matrix([0, 1])\n",
        "cell_11 = np.matrix([1, 1])\n",
        "\n",
        "a_optLA = np.concatenate([cell_10, cell_00, cell_00], axis=0)\n",
        "b_optLA = np.concatenate([cell_10, cell_10, cell_00], axis=0)\n",
        "c_optLA = np.concatenate([cell_11, cell_00, cell_00], axis=0)\n",
        "d_optLA = np.concatenate([cell_11, cell_01, cell_00], axis=0)\n",
        "e_optLA = np.concatenate([cell_10, cell_01, cell_00], axis=0)\n",
        "f_optLA = np.concatenate([cell_11, cell_10, cell_00], axis=0)\n",
        "g_optLA = np.concatenate([cell_11, cell_11, cell_00], axis=0)\n",
        "h_optLA = np.concatenate([cell_10, cell_11, cell_00], axis=0)\n",
        "i_optLA = np.concatenate([cell_01, cell_10, cell_00], axis=0)\n",
        "j_optLA = np.concatenate([cell_01, cell_11, cell_00], axis=0)\n",
        "k_optLA = np.concatenate([cell_10, cell_00, cell_10], axis=0)\n",
        "l_optLA = np.concatenate([cell_10, cell_10, cell_10], axis=0)\n",
        "m_optLA = np.concatenate([cell_11, cell_00, cell_10], axis=0)\n",
        "n_optLA = np.concatenate([cell_11, cell_01, cell_10], axis=0)\n",
        "o_optLA = np.concatenate([cell_10, cell_01, cell_10], axis=0)\n",
        "p_optLA = np.concatenate([cell_11, cell_10, cell_10], axis=0)\n",
        "q_optLA = np.concatenate([cell_11, cell_11, cell_10], axis=0)\n",
        "r_optLA = np.concatenate([cell_10, cell_11, cell_10], axis=0)\n",
        "s_optLA = np.concatenate([cell_01, cell_10, cell_10], axis=0)\n",
        "t_optLA = np.concatenate([cell_01, cell_11, cell_10], axis=0)\n",
        "u_optLA = np.concatenate([cell_10, cell_00, cell_11], axis=0)\n",
        "v_optLA = np.concatenate([cell_10, cell_10, cell_11], axis=0)\n",
        "w_optLA = np.concatenate([cell_01, cell_11, cell_01], axis=0)\n",
        "x_optLA = np.concatenate([cell_11, cell_00, cell_11], axis=0)\n",
        "y_optLA = np.concatenate([cell_11, cell_01, cell_11], axis=0)\n",
        "z_optLA = np.concatenate([cell_10, cell_01, cell_11], axis=0)\n",
        "\n",
        "t2 = time.process_time()\n",
        "print('time taken to run:',t2-t1)"
      ],
      "metadata": {
        "colab": {
          "base_uri": "https://localhost:8080/"
        },
        "id": "UkwgRjxFRU_B",
        "outputId": "40105e55-8528-4759-ef46-9828f0e6be69"
      },
      "execution_count": null,
      "outputs": [
        {
          "output_type": "stream",
          "name": "stdout",
          "text": [
            "time taken to run: 0.0008559909999998894\n"
          ]
        }
      ]
    },
    {
      "cell_type": "code",
      "source": [
        "## Create lists of the Braille Alphabet as matrices ##\n",
        "\n",
        "# Method 1 #\n",
        "alpha = [a, b, c, d, e, f, g, h, i, j, k, l, m, \n",
        "         n, o, p, q, r, s, t, u, v, w, x, y, z]\n",
        "\n",
        "# Method 2 #\n",
        "alpha_opt = [a_opt, b_opt, c_opt, d_opt, e_opt, f_opt, g_opt, h_opt, i_opt, \n",
        "             j_opt, k_opt, l_opt, m_opt, n_opt, o_opt, p_opt, q_opt, r_opt, \n",
        "             s_opt, t_opt, u_opt, v_opt, w_opt, x_opt, y_opt, z_opt]\n",
        "\n",
        "# Method 3 # \n",
        "alpha_optLA = [a_optLA, b_optLA, c_optLA, d_optLA, e_optLA, f_optLA, g_optLA, \n",
        "               h_optLA, i_optLA, j_optLA, k_optLA, l_optLA, m_optLA, n_optLA, \n",
        "               o_optLA, p_optLA, q_optLA, r_optLA, s_optLA, t_optLA, u_optLA, \n",
        "               v_optLA, w_optLA, x_optLA, y_optLA, z_optLA]"
      ],
      "metadata": {
        "id": "HAjeps_cXVp1"
      },
      "execution_count": null,
      "outputs": []
    },
    {
      "cell_type": "code",
      "source": [
        "## Creating list with alphabet letter indexing for identification later ##\n",
        "alpha_index = ['a', 'b', 'c', 'd', 'e', 'f', 'g', 'h', 'i', 'j', 'k', 'l', 'm', \n",
        "               'n', 'o', 'p', 'q', 'r', 's', 't', 'u', 'v', 'w', 'x', 'y', 'z']"
      ],
      "metadata": {
        "id": "_0JSsDPciZVb"
      },
      "execution_count": null,
      "outputs": []
    },
    {
      "cell_type": "markdown",
      "source": [
        "**Generating capital letter Braille alphabet as matrices**"
      ],
      "metadata": {
        "id": "pd08VlG1ZWdp"
      }
    },
    {
      "cell_type": "code",
      "source": [
        "## Create the Capital Letters Alphabet list ## \n",
        "t1 = time.process_time()\n",
        "\n",
        "capital_sign = np.array([[0, 0], [0, 0], [0, 1]])\n",
        "\n",
        "# Append all lists with capital_sign matrix #\n",
        "\n",
        "alpha_capital = [0]*len(alpha)\n",
        "alpha_opt_capital = [0]*len(alpha_opt)\n",
        "alpha_optLA_capital = [0]*len(alpha_optLA)\n",
        "c = 0\n",
        "while(c<len(alpha)):\n",
        "    alpha_capital[c] = np.append(capital_sign, alpha[c], axis = 1)\n",
        "    alpha_opt_capital[c] = np.append(capital_sign, alpha_opt[c], axis = 1)\n",
        "    alpha_optLA_capital[c] = np.append(capital_sign, alpha_optLA[c], axis = 1)\n",
        "    c = c + 1\n",
        "\n",
        "t2 = time.process_time()\n",
        "print('time taken to run:',t2-t1)\n",
        "\n",
        "print(\" \\033[1;32;47m Matrix representation of Braille 'capital letter' sign:\")\n",
        "matrixGrid(capital_sign)\n",
        "\n",
        "print(\"\\n \\033[1;33;40m Key: \\033[0;32;47m Green shaded numbers - \"\n",
        "\"\\033[0;30;47m raised Braille dot | \\033[0;31;47m Red shaded numbers - \"\n",
        "\"\\033[0;30;47m not raised \\n\")\n",
        "\n",
        "print(\"\\033[1;37;40m Capital letter 'A': \\n\")\n",
        "matrixGrid(alpha_capital[0])\n",
        "print(\"\\n \\033[1;37;40m Lowercase letter 'a': \\n\")\n",
        "matrixGrid(alpha[0])"
      ],
      "metadata": {
        "id": "RChROZhYQNKl",
        "colab": {
          "base_uri": "https://localhost:8080/",
          "height": 578
        },
        "outputId": "e47d447f-1af2-40fb-e8fd-b564ad7aab6d"
      },
      "execution_count": null,
      "outputs": [
        {
          "output_type": "stream",
          "name": "stdout",
          "text": [
            "time taken to run: 0.0022589579999987563\n",
            " \u001b[1;32;47m Matrix representation of Braille 'capital letter' sign:\n"
          ]
        },
        {
          "output_type": "display_data",
          "data": {
            "text/plain": [
              "<pandas.io.formats.style.Styler at 0x7fdb669b5c90>"
            ],
            "text/html": [
              "<style type=\"text/css\">\n",
              "#T_84a72_row0_col0, #T_84a72_row0_col1, #T_84a72_row1_col0, #T_84a72_row1_col1, #T_84a72_row2_col0 {\n",
              "  background-color: #ff0000;\n",
              "  color: #f1f1f1;\n",
              "}\n",
              "#T_84a72_row2_col1 {\n",
              "  background-color: #54ff00;\n",
              "  color: #000000;\n",
              "}\n",
              "</style>\n",
              "<table id=\"T_84a72_\" class=\"dataframe\">\n",
              "  <thead>\n",
              "    <tr>\n",
              "      <th class=\"blank level0\" >&nbsp;</th>\n",
              "      <th class=\"col_heading level0 col0\" >0</th>\n",
              "      <th class=\"col_heading level0 col1\" >1</th>\n",
              "    </tr>\n",
              "  </thead>\n",
              "  <tbody>\n",
              "    <tr>\n",
              "      <th id=\"T_84a72_level0_row0\" class=\"row_heading level0 row0\" >0</th>\n",
              "      <td id=\"T_84a72_row0_col0\" class=\"data row0 col0\" >0</td>\n",
              "      <td id=\"T_84a72_row0_col1\" class=\"data row0 col1\" >0</td>\n",
              "    </tr>\n",
              "    <tr>\n",
              "      <th id=\"T_84a72_level0_row1\" class=\"row_heading level0 row1\" >1</th>\n",
              "      <td id=\"T_84a72_row1_col0\" class=\"data row1 col0\" >0</td>\n",
              "      <td id=\"T_84a72_row1_col1\" class=\"data row1 col1\" >0</td>\n",
              "    </tr>\n",
              "    <tr>\n",
              "      <th id=\"T_84a72_level0_row2\" class=\"row_heading level0 row2\" >2</th>\n",
              "      <td id=\"T_84a72_row2_col0\" class=\"data row2 col0\" >0</td>\n",
              "      <td id=\"T_84a72_row2_col1\" class=\"data row2 col1\" >1</td>\n",
              "    </tr>\n",
              "  </tbody>\n",
              "</table>\n"
            ]
          },
          "metadata": {}
        },
        {
          "output_type": "stream",
          "name": "stdout",
          "text": [
            "\n",
            " \u001b[1;33;40m Key: \u001b[0;32;47m Green shaded numbers - \u001b[0;30;47m raised Braille dot | \u001b[0;31;47m Red shaded numbers - \u001b[0;30;47m not raised \n",
            "\n",
            "\u001b[1;37;40m Capital letter 'A': \n",
            "\n"
          ]
        },
        {
          "output_type": "display_data",
          "data": {
            "text/plain": [
              "<pandas.io.formats.style.Styler at 0x7fdb66865490>"
            ],
            "text/html": [
              "<style type=\"text/css\">\n",
              "#T_624c2_row0_col0, #T_624c2_row0_col1, #T_624c2_row0_col3, #T_624c2_row1_col0, #T_624c2_row1_col1, #T_624c2_row1_col2, #T_624c2_row1_col3, #T_624c2_row2_col0, #T_624c2_row2_col2, #T_624c2_row2_col3 {\n",
              "  background-color: #ff0000;\n",
              "  color: #f1f1f1;\n",
              "}\n",
              "#T_624c2_row0_col2, #T_624c2_row2_col1 {\n",
              "  background-color: #54ff00;\n",
              "  color: #000000;\n",
              "}\n",
              "</style>\n",
              "<table id=\"T_624c2_\" class=\"dataframe\">\n",
              "  <thead>\n",
              "    <tr>\n",
              "      <th class=\"blank level0\" >&nbsp;</th>\n",
              "      <th class=\"col_heading level0 col0\" >0</th>\n",
              "      <th class=\"col_heading level0 col1\" >1</th>\n",
              "      <th class=\"col_heading level0 col2\" >2</th>\n",
              "      <th class=\"col_heading level0 col3\" >3</th>\n",
              "    </tr>\n",
              "  </thead>\n",
              "  <tbody>\n",
              "    <tr>\n",
              "      <th id=\"T_624c2_level0_row0\" class=\"row_heading level0 row0\" >0</th>\n",
              "      <td id=\"T_624c2_row0_col0\" class=\"data row0 col0\" >0</td>\n",
              "      <td id=\"T_624c2_row0_col1\" class=\"data row0 col1\" >0</td>\n",
              "      <td id=\"T_624c2_row0_col2\" class=\"data row0 col2\" >1</td>\n",
              "      <td id=\"T_624c2_row0_col3\" class=\"data row0 col3\" >0</td>\n",
              "    </tr>\n",
              "    <tr>\n",
              "      <th id=\"T_624c2_level0_row1\" class=\"row_heading level0 row1\" >1</th>\n",
              "      <td id=\"T_624c2_row1_col0\" class=\"data row1 col0\" >0</td>\n",
              "      <td id=\"T_624c2_row1_col1\" class=\"data row1 col1\" >0</td>\n",
              "      <td id=\"T_624c2_row1_col2\" class=\"data row1 col2\" >0</td>\n",
              "      <td id=\"T_624c2_row1_col3\" class=\"data row1 col3\" >0</td>\n",
              "    </tr>\n",
              "    <tr>\n",
              "      <th id=\"T_624c2_level0_row2\" class=\"row_heading level0 row2\" >2</th>\n",
              "      <td id=\"T_624c2_row2_col0\" class=\"data row2 col0\" >0</td>\n",
              "      <td id=\"T_624c2_row2_col1\" class=\"data row2 col1\" >1</td>\n",
              "      <td id=\"T_624c2_row2_col2\" class=\"data row2 col2\" >0</td>\n",
              "      <td id=\"T_624c2_row2_col3\" class=\"data row2 col3\" >0</td>\n",
              "    </tr>\n",
              "  </tbody>\n",
              "</table>\n"
            ]
          },
          "metadata": {}
        },
        {
          "output_type": "stream",
          "name": "stdout",
          "text": [
            "\n",
            " \u001b[1;37;40m Lowercase letter 'a': \n",
            "\n"
          ]
        },
        {
          "output_type": "display_data",
          "data": {
            "text/plain": [
              "<pandas.io.formats.style.Styler at 0x7fdb66841e50>"
            ],
            "text/html": [
              "<style type=\"text/css\">\n",
              "#T_6ede5_row0_col0 {\n",
              "  background-color: #54ff00;\n",
              "  color: #000000;\n",
              "}\n",
              "#T_6ede5_row0_col1, #T_6ede5_row1_col0, #T_6ede5_row1_col1, #T_6ede5_row2_col0, #T_6ede5_row2_col1 {\n",
              "  background-color: #ff0000;\n",
              "  color: #f1f1f1;\n",
              "}\n",
              "</style>\n",
              "<table id=\"T_6ede5_\" class=\"dataframe\">\n",
              "  <thead>\n",
              "    <tr>\n",
              "      <th class=\"blank level0\" >&nbsp;</th>\n",
              "      <th class=\"col_heading level0 col0\" >0</th>\n",
              "      <th class=\"col_heading level0 col1\" >1</th>\n",
              "    </tr>\n",
              "  </thead>\n",
              "  <tbody>\n",
              "    <tr>\n",
              "      <th id=\"T_6ede5_level0_row0\" class=\"row_heading level0 row0\" >0</th>\n",
              "      <td id=\"T_6ede5_row0_col0\" class=\"data row0 col0\" >1</td>\n",
              "      <td id=\"T_6ede5_row0_col1\" class=\"data row0 col1\" >0</td>\n",
              "    </tr>\n",
              "    <tr>\n",
              "      <th id=\"T_6ede5_level0_row1\" class=\"row_heading level0 row1\" >1</th>\n",
              "      <td id=\"T_6ede5_row1_col0\" class=\"data row1 col0\" >0</td>\n",
              "      <td id=\"T_6ede5_row1_col1\" class=\"data row1 col1\" >0</td>\n",
              "    </tr>\n",
              "    <tr>\n",
              "      <th id=\"T_6ede5_level0_row2\" class=\"row_heading level0 row2\" >2</th>\n",
              "      <td id=\"T_6ede5_row2_col0\" class=\"data row2 col0\" >0</td>\n",
              "      <td id=\"T_6ede5_row2_col1\" class=\"data row2 col1\" >0</td>\n",
              "    </tr>\n",
              "  </tbody>\n",
              "</table>\n"
            ]
          },
          "metadata": {}
        }
      ]
    },
    {
      "cell_type": "code",
      "source": [
        "## Checking if Method 1 and Method 2 produce same matrices using LA ##\n",
        "## Then Method 2 and 3 (Commutative) ##\n",
        "t1 = 0 # tracker 1\n",
        "t2 = 0 # tracker 2\n",
        "for i in range(0,26,1):\n",
        "    check_opt = np.all(alpha_capital[i] == alpha_opt_capital[i])\n",
        "    check_optLA = np.all(alpha_opt_capital[i] == alpha_optLA_capital[i])\n",
        "    if check_opt == False:\n",
        "      t1 = t1 + 1\n",
        "    if check_optLA == False:\n",
        "      t2 = t2 + 1\n",
        "\n",
        "if t1 != 0:\n",
        "  print(check_opt, \"-at least one capital letter in Method 1/2 does not match\")\n",
        "elif t2 !=0:\n",
        "  print(check_optLA,\"-at least one capital letter in Method 2/3 does not match\")\n",
        "else:\n",
        "  print(\"\\033[1;34;47m True - all capital letters match across Methods 1, 2 & 3\"\n",
        "\" when using 'append' algorithm\")"
      ],
      "metadata": {
        "id": "Jq1fVZrrSzzM",
        "colab": {
          "base_uri": "https://localhost:8080/"
        },
        "outputId": "0f672f79-2a0d-48a7-bb71-56888488f0ec"
      },
      "execution_count": null,
      "outputs": [
        {
          "output_type": "stream",
          "name": "stdout",
          "text": [
            "\u001b[1;34;47m True - all capital letters match across Methods 1, 2 & 3 when using 'append' algorithm\n"
          ]
        }
      ]
    },
    {
      "cell_type": "code",
      "source": [
        "## Create the Capital Letters Alphabet using horizontal stack ## \n",
        "t1 = time.process_time()\n",
        "\n",
        "capital_sign = np.array([[0, 0], [0, 0], [0, 1]])\n",
        "\n",
        "# Append all lists with dummy array to allow to be square matrix ##\n",
        "\n",
        "alpha_capital = [0]*len(alpha)\n",
        "alpha_opt_capital = [0]*len(alpha_opt)\n",
        "alpha_optLA_capital = [0]*len(alpha_optLA)\n",
        "\n",
        "c = 0\n",
        "while(c<len(alpha)):\n",
        "    alpha_capital[c] = np.hstack([capital_sign, alpha[c]])\n",
        "    alpha_opt_capital[c] = np.hstack([capital_sign, alpha_opt[c]])\n",
        "    alpha_optLA_capital[c] = np.hstack([capital_sign, alpha_optLA[c]])\n",
        "    c = c + 1\n",
        "\n",
        "t2 = time.process_time()\n",
        "print('time taken to run:',t2-t1)"
      ],
      "metadata": {
        "id": "lVkacGSeVkSU",
        "colab": {
          "base_uri": "https://localhost:8080/"
        },
        "outputId": "ac38b084-a96d-4900-db2f-aafeb5f59b34"
      },
      "execution_count": null,
      "outputs": [
        {
          "output_type": "stream",
          "name": "stdout",
          "text": [
            "time taken to run: 0.002723929000012504\n"
          ]
        }
      ]
    },
    {
      "cell_type": "code",
      "source": [
        "## Checking if Method 1 and Method 2 produce same matrices using LA ##\n",
        "## Then Method 2 and 3 (Commutative) ##\n",
        "t1 = 0 # tracker 1\n",
        "t2 = 0 # tracker 2\n",
        "for i in range(0,26,1):\n",
        "    check_opt = np.all(alpha_capital[i] == alpha_opt_capital[i])\n",
        "    check_optLA = np.all(alpha_opt_capital[i] == alpha_optLA_capital[i])\n",
        "    if check_opt == False:\n",
        "      t1 = t1 + 1\n",
        "    if check_optLA == False:\n",
        "      t2 = t2 + 1\n",
        "\n",
        "if t1 != 0:\n",
        "  print(check_opt, \"-at least one capital letter in Method 1/2 does not match\")\n",
        "elif t2 !=0:\n",
        "  print(check_optLA,\"-at least one capital letter in Method 2/3 does not match\")\n",
        "else:\n",
        "  print(\"\\033[1;34;47m True - all capital letters match across Methods 1, 2 & 3\"\n",
        "\" when using 'horizontal stack' algorithm\")"
      ],
      "metadata": {
        "id": "BQZKaSVwWAeN",
        "colab": {
          "base_uri": "https://localhost:8080/"
        },
        "outputId": "53a81fb3-71d6-431d-9529-466726e59163"
      },
      "execution_count": null,
      "outputs": [
        {
          "output_type": "stream",
          "name": "stdout",
          "text": [
            "\u001b[1;34;47m True - all capital letters match across Methods 1, 2 & 3 when using 'horizontal stack' algorithm\n"
          ]
        }
      ]
    },
    {
      "cell_type": "code",
      "source": [
        "## Creating list with capital letter indexing for identification later ##\n",
        "alpha_capital_index = ['A', 'B', 'C', 'D', 'E', 'F', 'G', 'H', 'I', 'J', 'K', \n",
        "    'L', 'M', 'N', 'O', 'P', 'Q', 'R', 'S', 'T', 'U', 'V', 'W', 'X', 'Y', 'Z']"
      ],
      "metadata": {
        "id": "X2MpKwF635BQ"
      },
      "execution_count": null,
      "outputs": []
    },
    {
      "cell_type": "code",
      "source": [
        "## Showing examples for word 'Oxford' and 'Mathematics' ##\n",
        "print(\"\\033[1;33;40m Key: \\033[0;32;47m Green shaded numbers - \"\n",
        "\"\\033[0;30;47m raised Braille dot | \\033[0;31;47m Red shaded numbers - \"\n",
        "\"\\033[0;30;47m not raised \\n\")\n",
        "\n",
        "print(\"\\033[1;36;47m Example 1: matrix for word \\033[1;34;47m 'Oxford' \\n\")\n",
        "matrixGrid(np.hstack((alpha_capital[14], x, f, o, r, d)))\n",
        "\n",
        "print(\"\\n \\033[1;36;47m Example 2: matrix for word \\033[1;34;47m'Mathematics'\\n\")\n",
        "matrixGrid(np.hstack((alpha_capital[12], a, t, h, e, m, a, t, i, c, s)))"
      ],
      "metadata": {
        "colab": {
          "base_uri": "https://localhost:8080/",
          "height": 397
        },
        "id": "N028gS5IGTLT",
        "outputId": "a661ba1d-9705-439c-8212-ba9a90725bc2"
      },
      "execution_count": null,
      "outputs": [
        {
          "output_type": "stream",
          "name": "stdout",
          "text": [
            "\u001b[1;33;40m Key: \u001b[0;32;47m Green shaded numbers - \u001b[0;30;47m raised Braille dot | \u001b[0;31;47m Red shaded numbers - \u001b[0;30;47m not raised \n",
            "\n",
            "\u001b[1;36;47m Example 1: matrix for word \u001b[1;34;47m 'Oxford' \n",
            "\n"
          ]
        },
        {
          "output_type": "display_data",
          "data": {
            "text/plain": [
              "<pandas.io.formats.style.Styler at 0x7fdb6cd98dd0>"
            ],
            "text/html": [
              "<style type=\"text/css\">\n",
              "#T_698e0_row0_col0, #T_698e0_row0_col1, #T_698e0_row0_col3, #T_698e0_row0_col9, #T_698e0_row0_col11, #T_698e0_row1_col0, #T_698e0_row1_col1, #T_698e0_row1_col2, #T_698e0_row1_col4, #T_698e0_row1_col5, #T_698e0_row1_col7, #T_698e0_row1_col8, #T_698e0_row1_col12, #T_698e0_row2_col0, #T_698e0_row2_col3, #T_698e0_row2_col6, #T_698e0_row2_col7, #T_698e0_row2_col9, #T_698e0_row2_col11, #T_698e0_row2_col12, #T_698e0_row2_col13 {\n",
              "  background-color: #ff0000;\n",
              "  color: #f1f1f1;\n",
              "}\n",
              "#T_698e0_row0_col2, #T_698e0_row0_col4, #T_698e0_row0_col5, #T_698e0_row0_col6, #T_698e0_row0_col7, #T_698e0_row0_col8, #T_698e0_row0_col10, #T_698e0_row0_col12, #T_698e0_row0_col13, #T_698e0_row1_col3, #T_698e0_row1_col6, #T_698e0_row1_col9, #T_698e0_row1_col10, #T_698e0_row1_col11, #T_698e0_row1_col13, #T_698e0_row2_col1, #T_698e0_row2_col2, #T_698e0_row2_col4, #T_698e0_row2_col5, #T_698e0_row2_col8, #T_698e0_row2_col10 {\n",
              "  background-color: #54ff00;\n",
              "  color: #000000;\n",
              "}\n",
              "</style>\n",
              "<table id=\"T_698e0_\" class=\"dataframe\">\n",
              "  <thead>\n",
              "    <tr>\n",
              "      <th class=\"blank level0\" >&nbsp;</th>\n",
              "      <th class=\"col_heading level0 col0\" >0</th>\n",
              "      <th class=\"col_heading level0 col1\" >1</th>\n",
              "      <th class=\"col_heading level0 col2\" >2</th>\n",
              "      <th class=\"col_heading level0 col3\" >3</th>\n",
              "      <th class=\"col_heading level0 col4\" >4</th>\n",
              "      <th class=\"col_heading level0 col5\" >5</th>\n",
              "      <th class=\"col_heading level0 col6\" >6</th>\n",
              "      <th class=\"col_heading level0 col7\" >7</th>\n",
              "      <th class=\"col_heading level0 col8\" >8</th>\n",
              "      <th class=\"col_heading level0 col9\" >9</th>\n",
              "      <th class=\"col_heading level0 col10\" >10</th>\n",
              "      <th class=\"col_heading level0 col11\" >11</th>\n",
              "      <th class=\"col_heading level0 col12\" >12</th>\n",
              "      <th class=\"col_heading level0 col13\" >13</th>\n",
              "    </tr>\n",
              "  </thead>\n",
              "  <tbody>\n",
              "    <tr>\n",
              "      <th id=\"T_698e0_level0_row0\" class=\"row_heading level0 row0\" >0</th>\n",
              "      <td id=\"T_698e0_row0_col0\" class=\"data row0 col0\" >0</td>\n",
              "      <td id=\"T_698e0_row0_col1\" class=\"data row0 col1\" >0</td>\n",
              "      <td id=\"T_698e0_row0_col2\" class=\"data row0 col2\" >1</td>\n",
              "      <td id=\"T_698e0_row0_col3\" class=\"data row0 col3\" >0</td>\n",
              "      <td id=\"T_698e0_row0_col4\" class=\"data row0 col4\" >1</td>\n",
              "      <td id=\"T_698e0_row0_col5\" class=\"data row0 col5\" >1</td>\n",
              "      <td id=\"T_698e0_row0_col6\" class=\"data row0 col6\" >1</td>\n",
              "      <td id=\"T_698e0_row0_col7\" class=\"data row0 col7\" >1</td>\n",
              "      <td id=\"T_698e0_row0_col8\" class=\"data row0 col8\" >1</td>\n",
              "      <td id=\"T_698e0_row0_col9\" class=\"data row0 col9\" >0</td>\n",
              "      <td id=\"T_698e0_row0_col10\" class=\"data row0 col10\" >1</td>\n",
              "      <td id=\"T_698e0_row0_col11\" class=\"data row0 col11\" >0</td>\n",
              "      <td id=\"T_698e0_row0_col12\" class=\"data row0 col12\" >1</td>\n",
              "      <td id=\"T_698e0_row0_col13\" class=\"data row0 col13\" >1</td>\n",
              "    </tr>\n",
              "    <tr>\n",
              "      <th id=\"T_698e0_level0_row1\" class=\"row_heading level0 row1\" >1</th>\n",
              "      <td id=\"T_698e0_row1_col0\" class=\"data row1 col0\" >0</td>\n",
              "      <td id=\"T_698e0_row1_col1\" class=\"data row1 col1\" >0</td>\n",
              "      <td id=\"T_698e0_row1_col2\" class=\"data row1 col2\" >0</td>\n",
              "      <td id=\"T_698e0_row1_col3\" class=\"data row1 col3\" >1</td>\n",
              "      <td id=\"T_698e0_row1_col4\" class=\"data row1 col4\" >0</td>\n",
              "      <td id=\"T_698e0_row1_col5\" class=\"data row1 col5\" >0</td>\n",
              "      <td id=\"T_698e0_row1_col6\" class=\"data row1 col6\" >1</td>\n",
              "      <td id=\"T_698e0_row1_col7\" class=\"data row1 col7\" >0</td>\n",
              "      <td id=\"T_698e0_row1_col8\" class=\"data row1 col8\" >0</td>\n",
              "      <td id=\"T_698e0_row1_col9\" class=\"data row1 col9\" >1</td>\n",
              "      <td id=\"T_698e0_row1_col10\" class=\"data row1 col10\" >1</td>\n",
              "      <td id=\"T_698e0_row1_col11\" class=\"data row1 col11\" >1</td>\n",
              "      <td id=\"T_698e0_row1_col12\" class=\"data row1 col12\" >0</td>\n",
              "      <td id=\"T_698e0_row1_col13\" class=\"data row1 col13\" >1</td>\n",
              "    </tr>\n",
              "    <tr>\n",
              "      <th id=\"T_698e0_level0_row2\" class=\"row_heading level0 row2\" >2</th>\n",
              "      <td id=\"T_698e0_row2_col0\" class=\"data row2 col0\" >0</td>\n",
              "      <td id=\"T_698e0_row2_col1\" class=\"data row2 col1\" >1</td>\n",
              "      <td id=\"T_698e0_row2_col2\" class=\"data row2 col2\" >1</td>\n",
              "      <td id=\"T_698e0_row2_col3\" class=\"data row2 col3\" >0</td>\n",
              "      <td id=\"T_698e0_row2_col4\" class=\"data row2 col4\" >1</td>\n",
              "      <td id=\"T_698e0_row2_col5\" class=\"data row2 col5\" >1</td>\n",
              "      <td id=\"T_698e0_row2_col6\" class=\"data row2 col6\" >0</td>\n",
              "      <td id=\"T_698e0_row2_col7\" class=\"data row2 col7\" >0</td>\n",
              "      <td id=\"T_698e0_row2_col8\" class=\"data row2 col8\" >1</td>\n",
              "      <td id=\"T_698e0_row2_col9\" class=\"data row2 col9\" >0</td>\n",
              "      <td id=\"T_698e0_row2_col10\" class=\"data row2 col10\" >1</td>\n",
              "      <td id=\"T_698e0_row2_col11\" class=\"data row2 col11\" >0</td>\n",
              "      <td id=\"T_698e0_row2_col12\" class=\"data row2 col12\" >0</td>\n",
              "      <td id=\"T_698e0_row2_col13\" class=\"data row2 col13\" >0</td>\n",
              "    </tr>\n",
              "  </tbody>\n",
              "</table>\n"
            ]
          },
          "metadata": {}
        },
        {
          "output_type": "stream",
          "name": "stdout",
          "text": [
            "\n",
            " \u001b[1;36;47m Example 2: matrix for word \u001b[1;34;47m 'Mathematics' \n",
            "\n"
          ]
        },
        {
          "output_type": "display_data",
          "data": {
            "text/plain": [
              "<pandas.io.formats.style.Styler at 0x7fdb70f14750>"
            ],
            "text/html": [
              "<style type=\"text/css\">\n",
              "#T_1f23c_row0_col0, #T_1f23c_row0_col1, #T_1f23c_row0_col5, #T_1f23c_row0_col6, #T_1f23c_row0_col9, #T_1f23c_row0_col11, #T_1f23c_row0_col15, #T_1f23c_row0_col16, #T_1f23c_row0_col18, #T_1f23c_row0_col22, #T_1f23c_row1_col0, #T_1f23c_row1_col1, #T_1f23c_row1_col2, #T_1f23c_row1_col3, #T_1f23c_row1_col4, #T_1f23c_row1_col5, #T_1f23c_row1_col10, #T_1f23c_row1_col12, #T_1f23c_row1_col13, #T_1f23c_row1_col14, #T_1f23c_row1_col15, #T_1f23c_row1_col19, #T_1f23c_row1_col20, #T_1f23c_row1_col21, #T_1f23c_row1_col23, #T_1f23c_row2_col0, #T_1f23c_row2_col3, #T_1f23c_row2_col4, #T_1f23c_row2_col5, #T_1f23c_row2_col7, #T_1f23c_row2_col8, #T_1f23c_row2_col9, #T_1f23c_row2_col10, #T_1f23c_row2_col11, #T_1f23c_row2_col13, #T_1f23c_row2_col14, #T_1f23c_row2_col15, #T_1f23c_row2_col17, #T_1f23c_row2_col18, #T_1f23c_row2_col19, #T_1f23c_row2_col20, #T_1f23c_row2_col21, #T_1f23c_row2_col23 {\n",
              "  background-color: #ff0000;\n",
              "  color: #f1f1f1;\n",
              "}\n",
              "#T_1f23c_row0_col2, #T_1f23c_row0_col3, #T_1f23c_row0_col4, #T_1f23c_row0_col7, #T_1f23c_row0_col8, #T_1f23c_row0_col10, #T_1f23c_row0_col12, #T_1f23c_row0_col13, #T_1f23c_row0_col14, #T_1f23c_row0_col17, #T_1f23c_row0_col19, #T_1f23c_row0_col20, #T_1f23c_row0_col21, #T_1f23c_row0_col23, #T_1f23c_row1_col6, #T_1f23c_row1_col7, #T_1f23c_row1_col8, #T_1f23c_row1_col9, #T_1f23c_row1_col11, #T_1f23c_row1_col16, #T_1f23c_row1_col17, #T_1f23c_row1_col18, #T_1f23c_row1_col22, #T_1f23c_row2_col1, #T_1f23c_row2_col2, #T_1f23c_row2_col6, #T_1f23c_row2_col12, #T_1f23c_row2_col16, #T_1f23c_row2_col22 {\n",
              "  background-color: #54ff00;\n",
              "  color: #000000;\n",
              "}\n",
              "</style>\n",
              "<table id=\"T_1f23c_\" class=\"dataframe\">\n",
              "  <thead>\n",
              "    <tr>\n",
              "      <th class=\"blank level0\" >&nbsp;</th>\n",
              "      <th class=\"col_heading level0 col0\" >0</th>\n",
              "      <th class=\"col_heading level0 col1\" >1</th>\n",
              "      <th class=\"col_heading level0 col2\" >2</th>\n",
              "      <th class=\"col_heading level0 col3\" >3</th>\n",
              "      <th class=\"col_heading level0 col4\" >4</th>\n",
              "      <th class=\"col_heading level0 col5\" >5</th>\n",
              "      <th class=\"col_heading level0 col6\" >6</th>\n",
              "      <th class=\"col_heading level0 col7\" >7</th>\n",
              "      <th class=\"col_heading level0 col8\" >8</th>\n",
              "      <th class=\"col_heading level0 col9\" >9</th>\n",
              "      <th class=\"col_heading level0 col10\" >10</th>\n",
              "      <th class=\"col_heading level0 col11\" >11</th>\n",
              "      <th class=\"col_heading level0 col12\" >12</th>\n",
              "      <th class=\"col_heading level0 col13\" >13</th>\n",
              "      <th class=\"col_heading level0 col14\" >14</th>\n",
              "      <th class=\"col_heading level0 col15\" >15</th>\n",
              "      <th class=\"col_heading level0 col16\" >16</th>\n",
              "      <th class=\"col_heading level0 col17\" >17</th>\n",
              "      <th class=\"col_heading level0 col18\" >18</th>\n",
              "      <th class=\"col_heading level0 col19\" >19</th>\n",
              "      <th class=\"col_heading level0 col20\" >20</th>\n",
              "      <th class=\"col_heading level0 col21\" >21</th>\n",
              "      <th class=\"col_heading level0 col22\" >22</th>\n",
              "      <th class=\"col_heading level0 col23\" >23</th>\n",
              "    </tr>\n",
              "  </thead>\n",
              "  <tbody>\n",
              "    <tr>\n",
              "      <th id=\"T_1f23c_level0_row0\" class=\"row_heading level0 row0\" >0</th>\n",
              "      <td id=\"T_1f23c_row0_col0\" class=\"data row0 col0\" >0</td>\n",
              "      <td id=\"T_1f23c_row0_col1\" class=\"data row0 col1\" >0</td>\n",
              "      <td id=\"T_1f23c_row0_col2\" class=\"data row0 col2\" >1</td>\n",
              "      <td id=\"T_1f23c_row0_col3\" class=\"data row0 col3\" >1</td>\n",
              "      <td id=\"T_1f23c_row0_col4\" class=\"data row0 col4\" >1</td>\n",
              "      <td id=\"T_1f23c_row0_col5\" class=\"data row0 col5\" >0</td>\n",
              "      <td id=\"T_1f23c_row0_col6\" class=\"data row0 col6\" >0</td>\n",
              "      <td id=\"T_1f23c_row0_col7\" class=\"data row0 col7\" >1</td>\n",
              "      <td id=\"T_1f23c_row0_col8\" class=\"data row0 col8\" >1</td>\n",
              "      <td id=\"T_1f23c_row0_col9\" class=\"data row0 col9\" >0</td>\n",
              "      <td id=\"T_1f23c_row0_col10\" class=\"data row0 col10\" >1</td>\n",
              "      <td id=\"T_1f23c_row0_col11\" class=\"data row0 col11\" >0</td>\n",
              "      <td id=\"T_1f23c_row0_col12\" class=\"data row0 col12\" >1</td>\n",
              "      <td id=\"T_1f23c_row0_col13\" class=\"data row0 col13\" >1</td>\n",
              "      <td id=\"T_1f23c_row0_col14\" class=\"data row0 col14\" >1</td>\n",
              "      <td id=\"T_1f23c_row0_col15\" class=\"data row0 col15\" >0</td>\n",
              "      <td id=\"T_1f23c_row0_col16\" class=\"data row0 col16\" >0</td>\n",
              "      <td id=\"T_1f23c_row0_col17\" class=\"data row0 col17\" >1</td>\n",
              "      <td id=\"T_1f23c_row0_col18\" class=\"data row0 col18\" >0</td>\n",
              "      <td id=\"T_1f23c_row0_col19\" class=\"data row0 col19\" >1</td>\n",
              "      <td id=\"T_1f23c_row0_col20\" class=\"data row0 col20\" >1</td>\n",
              "      <td id=\"T_1f23c_row0_col21\" class=\"data row0 col21\" >1</td>\n",
              "      <td id=\"T_1f23c_row0_col22\" class=\"data row0 col22\" >0</td>\n",
              "      <td id=\"T_1f23c_row0_col23\" class=\"data row0 col23\" >1</td>\n",
              "    </tr>\n",
              "    <tr>\n",
              "      <th id=\"T_1f23c_level0_row1\" class=\"row_heading level0 row1\" >1</th>\n",
              "      <td id=\"T_1f23c_row1_col0\" class=\"data row1 col0\" >0</td>\n",
              "      <td id=\"T_1f23c_row1_col1\" class=\"data row1 col1\" >0</td>\n",
              "      <td id=\"T_1f23c_row1_col2\" class=\"data row1 col2\" >0</td>\n",
              "      <td id=\"T_1f23c_row1_col3\" class=\"data row1 col3\" >0</td>\n",
              "      <td id=\"T_1f23c_row1_col4\" class=\"data row1 col4\" >0</td>\n",
              "      <td id=\"T_1f23c_row1_col5\" class=\"data row1 col5\" >0</td>\n",
              "      <td id=\"T_1f23c_row1_col6\" class=\"data row1 col6\" >1</td>\n",
              "      <td id=\"T_1f23c_row1_col7\" class=\"data row1 col7\" >1</td>\n",
              "      <td id=\"T_1f23c_row1_col8\" class=\"data row1 col8\" >1</td>\n",
              "      <td id=\"T_1f23c_row1_col9\" class=\"data row1 col9\" >1</td>\n",
              "      <td id=\"T_1f23c_row1_col10\" class=\"data row1 col10\" >0</td>\n",
              "      <td id=\"T_1f23c_row1_col11\" class=\"data row1 col11\" >1</td>\n",
              "      <td id=\"T_1f23c_row1_col12\" class=\"data row1 col12\" >0</td>\n",
              "      <td id=\"T_1f23c_row1_col13\" class=\"data row1 col13\" >0</td>\n",
              "      <td id=\"T_1f23c_row1_col14\" class=\"data row1 col14\" >0</td>\n",
              "      <td id=\"T_1f23c_row1_col15\" class=\"data row1 col15\" >0</td>\n",
              "      <td id=\"T_1f23c_row1_col16\" class=\"data row1 col16\" >1</td>\n",
              "      <td id=\"T_1f23c_row1_col17\" class=\"data row1 col17\" >1</td>\n",
              "      <td id=\"T_1f23c_row1_col18\" class=\"data row1 col18\" >1</td>\n",
              "      <td id=\"T_1f23c_row1_col19\" class=\"data row1 col19\" >0</td>\n",
              "      <td id=\"T_1f23c_row1_col20\" class=\"data row1 col20\" >0</td>\n",
              "      <td id=\"T_1f23c_row1_col21\" class=\"data row1 col21\" >0</td>\n",
              "      <td id=\"T_1f23c_row1_col22\" class=\"data row1 col22\" >1</td>\n",
              "      <td id=\"T_1f23c_row1_col23\" class=\"data row1 col23\" >0</td>\n",
              "    </tr>\n",
              "    <tr>\n",
              "      <th id=\"T_1f23c_level0_row2\" class=\"row_heading level0 row2\" >2</th>\n",
              "      <td id=\"T_1f23c_row2_col0\" class=\"data row2 col0\" >0</td>\n",
              "      <td id=\"T_1f23c_row2_col1\" class=\"data row2 col1\" >1</td>\n",
              "      <td id=\"T_1f23c_row2_col2\" class=\"data row2 col2\" >1</td>\n",
              "      <td id=\"T_1f23c_row2_col3\" class=\"data row2 col3\" >0</td>\n",
              "      <td id=\"T_1f23c_row2_col4\" class=\"data row2 col4\" >0</td>\n",
              "      <td id=\"T_1f23c_row2_col5\" class=\"data row2 col5\" >0</td>\n",
              "      <td id=\"T_1f23c_row2_col6\" class=\"data row2 col6\" >1</td>\n",
              "      <td id=\"T_1f23c_row2_col7\" class=\"data row2 col7\" >0</td>\n",
              "      <td id=\"T_1f23c_row2_col8\" class=\"data row2 col8\" >0</td>\n",
              "      <td id=\"T_1f23c_row2_col9\" class=\"data row2 col9\" >0</td>\n",
              "      <td id=\"T_1f23c_row2_col10\" class=\"data row2 col10\" >0</td>\n",
              "      <td id=\"T_1f23c_row2_col11\" class=\"data row2 col11\" >0</td>\n",
              "      <td id=\"T_1f23c_row2_col12\" class=\"data row2 col12\" >1</td>\n",
              "      <td id=\"T_1f23c_row2_col13\" class=\"data row2 col13\" >0</td>\n",
              "      <td id=\"T_1f23c_row2_col14\" class=\"data row2 col14\" >0</td>\n",
              "      <td id=\"T_1f23c_row2_col15\" class=\"data row2 col15\" >0</td>\n",
              "      <td id=\"T_1f23c_row2_col16\" class=\"data row2 col16\" >1</td>\n",
              "      <td id=\"T_1f23c_row2_col17\" class=\"data row2 col17\" >0</td>\n",
              "      <td id=\"T_1f23c_row2_col18\" class=\"data row2 col18\" >0</td>\n",
              "      <td id=\"T_1f23c_row2_col19\" class=\"data row2 col19\" >0</td>\n",
              "      <td id=\"T_1f23c_row2_col20\" class=\"data row2 col20\" >0</td>\n",
              "      <td id=\"T_1f23c_row2_col21\" class=\"data row2 col21\" >0</td>\n",
              "      <td id=\"T_1f23c_row2_col22\" class=\"data row2 col22\" >1</td>\n",
              "      <td id=\"T_1f23c_row2_col23\" class=\"data row2 col23\" >0</td>\n",
              "    </tr>\n",
              "  </tbody>\n",
              "</table>\n"
            ]
          },
          "metadata": {}
        }
      ]
    },
    {
      "cell_type": "markdown",
      "source": [
        "**Authentication algorithms to check equality of Braille alphabet generated under Methods 1, 2 & 3**"
      ],
      "metadata": {
        "id": "MANiL06aobGO"
      }
    },
    {
      "cell_type": "markdown",
      "source": [
        "*   Corresponds to ***Section 2.3*** in dissertation\n",
        "  *   **2.3.1 Authentication algorithm 1:** element-wise comparison of two matrices\n",
        "\n",
        "\n",
        "\n"
      ],
      "metadata": {
        "id": "OfpL26M9uL74"
      }
    },
    {
      "cell_type": "code",
      "source": [
        "## Checking if Method 1 and Method 2 produce same matrices using LA ##\n",
        "## Then Method 2 and 3 (commutative property) ##\n",
        "t1 = 0 # tracker 1\n",
        "t2 = 0 # tracker 2\n",
        "for i in range(0,26,1):\n",
        "    check_opt = np.all(alpha[i] == alpha_opt[i])\n",
        "    check_optLA = np.all(alpha_opt[i] == alpha_optLA[i])\n",
        "    if check_opt == False:\n",
        "      t1 = t1 + 1\n",
        "    if check_optLA == False:\n",
        "      t2 = t2 + 1\n",
        "\n",
        "print(\"\\033[1;37;40m Authentication algorithm 1:\")\n",
        "if t1 != 0:\n",
        "  print(check_opt, \" - at least one letter in Method 1/2 does not match\")\n",
        "elif t2 !=0:\n",
        "  print(check_optLA, \"- at least one letter in Method 2/3 does not match\")\n",
        "else:\n",
        "  print(\"\\033[1;34;47m True - all distinct letters match across Methods 1,2&3\")\n",
        "\n",
        "# Bug testing if algorithm detects as expected #\n",
        "bug_test = np.all(alpha[0] == alpha_opt[1])\n",
        "if bug_test == False:\n",
        "  print(\"\\n\\033[1;32;47m Bug test: PASS | elements not equal,\",\"'\",bug_test,\"'\", \n",
        "        \"as expected for different letters!\")\n",
        "else:\n",
        "  print(\"\\n\\033[1;31;47m Bug test: FAIL | \", bug_test, \"please check!\")"
      ],
      "metadata": {
        "id": "J303U1JuW5pz",
        "colab": {
          "base_uri": "https://localhost:8080/"
        },
        "outputId": "5f6c0d31-976d-468a-ead1-704577961715"
      },
      "execution_count": null,
      "outputs": [
        {
          "output_type": "stream",
          "name": "stdout",
          "text": [
            "\u001b[1;37;40m Authentication algorithm 1:\n",
            "\u001b[1;34;47m True - all distinct letters match across Methods 1, 2 & 3\n",
            "\n",
            "\u001b[1;32;47m Bug test: PASS | elements not equal, ' False ' as expected for different letters!\n"
          ]
        }
      ]
    },
    {
      "cell_type": "markdown",
      "source": [
        "*   Corresponds to ***Section 2.3*** in dissertation\n",
        "  *  **2.3.1 Authentication algorithm 2:** Inner product of difference between two matrices"
      ],
      "metadata": {
        "id": "3N_UOC--y8cq"
      }
    },
    {
      "cell_type": "code",
      "source": [
        "## Frobenius inner product | <u,u> >= 0 then no, but = 0 iff u=0 ##\n",
        "t = 0 # tracker\n",
        "diff = [0] * len(alpha)\n",
        "dot_diff = [0] * len(alpha)\n",
        "for i in range(0,26,1):\n",
        "  diff[i] = np.subtract(alpha[i], alpha_opt[i])\n",
        "  dot_diff[i] = np.vdot(diff[i], diff[i])\n",
        "  if dot_diff[i] != 0:\n",
        "    t = t + 1\n",
        "\n",
        "print(\"\\033[1;37;40m Authentication algorithm 2:\")\n",
        "if t != 0:\n",
        "  print(\"False - at least one letter does not match\")\n",
        "else:\n",
        "  print(\"\\033[1;34;47m True - all distinct letters match across Methods 1,2&3\")\n",
        "\n",
        "# Bug testing if algorithm detects as expected #\n",
        "bug_test = np.subtract(alpha[0], alpha_opt[1])\n",
        "dot_diff_bug_test = np.vdot(bug_test, bug_test)\n",
        "if dot_diff_bug_test == 0:\n",
        "  print(\"\\n\\033[1;31;47m Bug test: FAIL | \", dot_diff_bug_test, \"please check!\")\n",
        "else:\n",
        "  print(\"\\n\\033[1;32;47m Bug test: PASS | inner product ≠ 0 (it is = \", \n",
        "        dot_diff_bug_test,\"), as expected for different letters!\")"
      ],
      "metadata": {
        "colab": {
          "base_uri": "https://localhost:8080/"
        },
        "id": "WVBuJmJrxLdz",
        "outputId": "fbf0e349-8cba-4ef7-f0f9-b30555b1e26e"
      },
      "execution_count": null,
      "outputs": [
        {
          "output_type": "stream",
          "name": "stdout",
          "text": [
            "\u001b[1;37;40m Authentication algorithm 2:\n",
            "\u001b[1;34;47m True - all distinct letters match across Methods 1, 2 & 3\n",
            "\n",
            "\u001b[1;32;47m Bug test: PASS | inner product ≠ 0 (it is =  1 ), as expected for different letters!\n"
          ]
        }
      ]
    },
    {
      "cell_type": "markdown",
      "source": [
        "*   Corresponds to ***Section 2.3*** in dissertation\n",
        "  *   **2.3.3 Authentication algorithm 3:** \n",
        "      1. Convert into square matrix via concatenation with dummy array of zeros\n",
        "      2. Check equality of eigenvalues if matrices are similar"
      ],
      "metadata": {
        "id": "qFTIejG0uFGY"
      }
    },
    {
      "cell_type": "code",
      "source": [
        "## Dummy zeros array to append to each those in alpha ## \n",
        "t1 = time.process_time()\n",
        "\n",
        "dummy_array = np.zeros((3, 1), dtype=int)\n",
        "\n",
        "# Append all lists with dummy array to allow to be square matrix ##\n",
        "\n",
        "c = 0\n",
        "while(c<len(alpha)):\n",
        "    alpha[c] = np.append(alpha[c], dummy_array, axis = 1)\n",
        "    alpha_opt[c] = np.append(alpha_opt[c], dummy_array, axis = 1)\n",
        "    alpha_optLA[c] = np.append(alpha_optLA[c], dummy_array, axis = 1)\n",
        "    c = c + 1\n",
        "\n",
        "t2 = time.process_time()\n",
        "print('time taken to run:',t2-t1)"
      ],
      "metadata": {
        "id": "tEwZNgO5pBwK",
        "colab": {
          "base_uri": "https://localhost:8080/"
        },
        "outputId": "7811f936-38a6-44fc-9826-ad056dd5f9e0"
      },
      "execution_count": null,
      "outputs": [
        {
          "output_type": "stream",
          "name": "stdout",
          "text": [
            "time taken to run: 0.0025211079999998276\n"
          ]
        }
      ]
    },
    {
      "cell_type": "code",
      "source": [
        "# # Checking if Method 1 and Method 2 produce same matrices ##\n",
        "## Loop check for Method 1, 2 and 3 ##\n",
        "from numpy import linalg as LA\n",
        "\n",
        "c = 0\n",
        "w_alpha = [0] * len(alpha)\n",
        "v_alpha = [0] * len(alpha)\n",
        "w_alpha_opt = [0] * len(alpha)\n",
        "v_alpha_opt = [0] * len(alpha)\n",
        "w_alpha_optLA = [0] * len(alpha)\n",
        "v_alpha_optLA = [0] * len(alpha)\n",
        "\n",
        "while(c<len(alpha)):\n",
        "  w_alpha[c], v_alpha[c] = LA.eig(alpha[c])\n",
        "  w_alpha_opt[c], v_alpha_opt[c] = LA.eig(alpha_opt[c])\n",
        "  w_alpha_optLA[c], v_alpha_optLA[c] = LA.eig(alpha_optLA[c])\n",
        "  c = c + 1"
      ],
      "metadata": {
        "id": "I8Dq-w7C9Kzv"
      },
      "execution_count": null,
      "outputs": []
    },
    {
      "cell_type": "code",
      "source": [
        "## Checking All Methods Commutative Rule ##\n",
        "t = 0 # tracker\n",
        "for i in range(0,26,1):\n",
        "    check_w_opt = np.all(w_alpha[i] == w_alpha_opt[i])\n",
        "    if check_w_opt == False:\n",
        "      t = t + 1\n",
        "    check_v_opt = np.all(v_alpha[i] == v_alpha_opt[i])\n",
        "    if check_v_opt == False:\n",
        "      t = t + 1\n",
        "    check_w_optLA = np.all(w_alpha_opt[i] == w_alpha_optLA[i])\n",
        "    if check_w_optLA == False:\n",
        "      t = t + 1\n",
        "    check_v_optLA = np.all(v_alpha_opt[i] == v_alpha_optLA[i])\n",
        "    if check_v_optLA == False:\n",
        "      t = t + 1\n",
        "\n",
        "print(\"\\033[1;37;40m Authentication algorithm 3:\")\n",
        "if t != 0:\n",
        "  print(\"False - at least one letter does not match\")\n",
        "else:\n",
        "  print(\"\\033[1;34;47m True - equality of both eigenvalues and eigenvectors |\"\n",
        "  \" all distinct letters match across Methods 1, 2 & 3\")\n",
        "\n",
        "# Bug testing if algorithm detects as expected #\n",
        "bug_test_w = np.all(w_alpha[0] == w_alpha_opt[1])\n",
        "bug_test_v = np.all(v_alpha[0] == v_alpha_opt[1])\n",
        "if bug_test_w == True:\n",
        "  if bug_test_v == True:\n",
        "    print(\"\\n\\033[1;31;47m Bug test: FAIL | please check!\")\n",
        "else:\n",
        "  print(\"\\n\\033[1;32;47m Bug test: PASS | different eigenvalues or eigenvectors,\",\n",
        "        \"as expected for different letters!\")"
      ],
      "metadata": {
        "id": "VNMcQryxEYAv",
        "colab": {
          "base_uri": "https://localhost:8080/"
        },
        "outputId": "72705b49-5898-4232-a678-bb73a6497f55"
      },
      "execution_count": null,
      "outputs": [
        {
          "output_type": "stream",
          "name": "stdout",
          "text": [
            "\u001b[1;37;40m Authentication algorithm 3:\n",
            "\u001b[1;34;47m True - equality of both eigenvalues and eigenvectors | all distinct letters match across Methods 1, 2 & 3\n",
            "\n",
            "\u001b[1;32;47m Bug test: PASS | different eigenvalues or eigenvectors, as expected for different letters!\n"
          ]
        }
      ]
    },
    {
      "cell_type": "code",
      "source": [
        "## Is checking equality of eigenvals and eigenvecs generalizable? ## \n",
        "## Only works a priori if all Braille alphabet matrices are diagonalisable ##\n",
        "\"\"\" Diagonalisation Theorem: a 'm x m' matrix is diagonalisable, \n",
        "    iff it has 'm' linearly independent eigenvectors\n",
        "\"\"\"\n",
        "from sympy.matrices import Matrix \n",
        "\n",
        "# Check if all Braille matrices are diagonalisable #\n",
        "non_diag_index = [-1] * len(alpha)\n",
        "for i in range(0,26,1):\n",
        "    if Matrix(alpha[i]).is_diagonalizable() == True:\n",
        "      print(\"\\033[1;32;47m PASS |\", alpha_index[i], \"= diagonalizable!\")\n",
        "    else:\n",
        "      non_diag_index[i] = i\n",
        "      print(\"\\033[1;31;47m FAIL |\",alpha_index[i],\"= NOT diagonalizable!\", \n",
        "            \"alpha index:\", i)\n",
        "\n",
        "non_diag_index_list = [x for x in non_diag_index if x > 0]\n",
        "print(\"\\n\\033[1;34;47m non-diagonalisable index list:\", non_diag_index_list)"
      ],
      "metadata": {
        "colab": {
          "base_uri": "https://localhost:8080/"
        },
        "id": "6GUMYO8UoN-x",
        "outputId": "b068ae6c-b001-4f8c-8846-96bf4d326450"
      },
      "execution_count": null,
      "outputs": [
        {
          "output_type": "stream",
          "name": "stdout",
          "text": [
            "\u001b[1;32;47m PASS | a = diagonalizable!\n",
            "\u001b[1;32;47m PASS | b = diagonalizable!\n",
            "\u001b[1;32;47m PASS | c = diagonalizable!\n",
            "\u001b[1;31;47m FAIL | d = NOT diagonalizable! alpha index: 3\n",
            "\u001b[1;32;47m PASS | e = diagonalizable!\n",
            "\u001b[1;32;47m PASS | f = diagonalizable!\n",
            "\u001b[1;32;47m PASS | g = diagonalizable!\n",
            "\u001b[1;31;47m FAIL | h = NOT diagonalizable! alpha index: 7\n",
            "\u001b[1;32;47m PASS | i = diagonalizable!\n",
            "\u001b[1;32;47m PASS | j = diagonalizable!\n",
            "\u001b[1;32;47m PASS | k = diagonalizable!\n",
            "\u001b[1;32;47m PASS | l = diagonalizable!\n",
            "\u001b[1;31;47m FAIL | m = NOT diagonalizable! alpha index: 12\n",
            "\u001b[1;31;47m FAIL | n = NOT diagonalizable! alpha index: 13\n",
            "\u001b[1;32;47m PASS | o = diagonalizable!\n",
            "\u001b[1;32;47m PASS | p = diagonalizable!\n",
            "\u001b[1;31;47m FAIL | q = NOT diagonalizable! alpha index: 16\n",
            "\u001b[1;31;47m FAIL | r = NOT diagonalizable! alpha index: 17\n",
            "\u001b[1;32;47m PASS | s = diagonalizable!\n",
            "\u001b[1;32;47m PASS | t = diagonalizable!\n",
            "\u001b[1;31;47m FAIL | u = NOT diagonalizable! alpha index: 20\n",
            "\u001b[1;31;47m FAIL | v = NOT diagonalizable! alpha index: 21\n",
            "\u001b[1;32;47m PASS | w = diagonalizable!\n",
            "\u001b[1;32;47m PASS | x = diagonalizable!\n",
            "\u001b[1;31;47m FAIL | y = NOT diagonalizable! alpha index: 24\n",
            "\u001b[1;32;47m PASS | z = diagonalizable!\n",
            "\n",
            "\u001b[1;34;47m non-diagonalisable index list: [3, 7, 12, 13, 16, 17, 20, 21, 24]\n"
          ]
        }
      ]
    },
    {
      "cell_type": "code",
      "source": [
        "t = 0 # tracker\n",
        "print(\"\\033[1;37;40m Authentication algorithm 3: Concept Check\")\n",
        "for i in range(0,26,1):\n",
        "  for j in range(len(non_diag_index_list)):\n",
        "    if i != non_diag_index_list[j]:\n",
        "      check_v = np.all(v_alpha[i] == v_alpha[non_diag_index_list[j]])\n",
        "      if check_v == True:\n",
        "        check_w = np.all(w_alpha[i] == w_alpha[non_diag_index_list[j]])\n",
        "        if check_w == True:\n",
        "          t = t + 1\n",
        "          print(\"\\033[1;34;47m FAIL - both eigenvalues & eigenvectors are equal\"\n",
        "        \" for distinct letters | alpha_index: \", i, \"non_diag_index: \", \n",
        "        non_diag_index_list[j])\n",
        "if t == 0:\n",
        "  print(\"\\033[1;34;47m PASS - at least either eigenvalues or eigenvectors are \"\n",
        "  \"different for distinct letters\")"
      ],
      "metadata": {
        "colab": {
          "base_uri": "https://localhost:8080/"
        },
        "id": "PM0NARIHyEWs",
        "outputId": "b703e038-335b-4816-ed94-c20c1780daf7"
      },
      "execution_count": null,
      "outputs": [
        {
          "output_type": "stream",
          "name": "stdout",
          "text": [
            "\u001b[1;37;40m Authentication algorithm 3: Concept Check\n",
            "\u001b[1;34;47m PASS - at least either eigenvalues or eigenvectors are different for distinct letters\n"
          ]
        }
      ]
    },
    {
      "cell_type": "code",
      "source": [
        "from scipy.sparse.sputils import matrix\n",
        "# Test visualisation for eigenvalues and eigenvectors #\n",
        "\n",
        "w_alpha_test , v_alpha_test = LA.eig(alpha[1])\n",
        "print(\"\\033[1;37;40m Testing letter |\", alpha_index[1], \n",
        "      \"| diagonalisable \")\n",
        "print(\"\\n\\033[1;35;47m eigenvalues:\")\n",
        "matrixGridRoundCol(w_alpha_test)\n",
        "print(\"\\n\\033[1;34;47m eigenvectors: all 3 eigvecs linearly independent\")\n",
        "matrixGridRoundCol(v_alpha_test)\n",
        "\n",
        "w_alpha_opt_test , v_alpha_opt_test = LA.eig(alpha_opt[5])\n",
        "print(\"\\n\\033[1;37;40m Testing letter |\", alpha_index[5], \n",
        "      \"| diagonalisable \")\n",
        "print(\"\\n\\033[1;35;47m eigenvalues:\")\n",
        "matrixGridRoundCol(w_alpha_opt_test)\n",
        "print(\"\\n\\033[1;34;47m eigenvectors: all 3 eigvecs linearly independent\")\n",
        "matrixGridRoundCol(v_alpha_opt_test)\n",
        "\n",
        "w_alpha_optLA_test , v_alpha_optLA_test = LA.eig(alpha_optLA[3])\n",
        "print(\"\\n\\033[1;37;40m Testing letter |\", alpha_index[3], \n",
        "      \"| non-diagonalisable \")\n",
        "print(\"\\n\\033[1;35;47m eigenvalues:\")\n",
        "matrixGridRoundCol(w_alpha_optLA_test)\n",
        "print(\"\\n\\033[1;34;47m eigenvectors: only 1 eigvec linearly independent(col=2)\")\n",
        "matrixGridRoundCol(v_alpha_optLA_test) \n",
        "\n",
        "w_alpha_optLA_test , v_alpha_optLA_test = LA.eig(alpha_optLA[20])\n",
        "print(\"\\n\\033[1;37;40m Testing letter |\", alpha_index[20], \n",
        "      \"| non-diagonalisable \")\n",
        "print(\"\\n\\033[1;35;47m eigenvalues:\")\n",
        "matrixGridRoundCol(w_alpha_optLA_test)\n",
        "print(\"\\n\\033[1;34;47m eigenvectors: only 1 eigvec linearly independent(col=1)\")\n",
        "matrixGridRoundCol(v_alpha_optLA_test) "
      ],
      "metadata": {
        "id": "8Vc03NgD9dG4",
        "colab": {
          "base_uri": "https://localhost:8080/",
          "height": 1000
        },
        "outputId": "3c2c04e2-0c28-4300-cf71-ae67a7f2d90a"
      },
      "execution_count": null,
      "outputs": [
        {
          "output_type": "stream",
          "name": "stdout",
          "text": [
            "\u001b[1;37;40m Testing letter | b | diagonalisable \n",
            "\n",
            "\u001b[1;35;47m eigenvalues:\n"
          ]
        },
        {
          "output_type": "display_data",
          "data": {
            "text/plain": [
              "<pandas.io.formats.style.Styler at 0x7fdb66843f10>"
            ],
            "text/html": [
              "<style type=\"text/css\">\n",
              "#T_7a3ae_row0_col0, #T_7a3ae_row2_col0 {\n",
              "  background-color: #800000;\n",
              "  color: #f1f1f1;\n",
              "}\n",
              "#T_7a3ae_row1_col0 {\n",
              "  background-color: #00004c;\n",
              "  color: #f1f1f1;\n",
              "}\n",
              "</style>\n",
              "<table id=\"T_7a3ae_\" class=\"dataframe\">\n",
              "  <thead>\n",
              "    <tr>\n",
              "      <th class=\"blank level0\" >&nbsp;</th>\n",
              "      <th class=\"col_heading level0 col0\" >0</th>\n",
              "    </tr>\n",
              "  </thead>\n",
              "  <tbody>\n",
              "    <tr>\n",
              "      <th id=\"T_7a3ae_level0_row0\" class=\"row_heading level0 row0\" >0</th>\n",
              "      <td id=\"T_7a3ae_row0_col0\" class=\"data row0 col0\" >0.000000</td>\n",
              "    </tr>\n",
              "    <tr>\n",
              "      <th id=\"T_7a3ae_level0_row1\" class=\"row_heading level0 row1\" >1</th>\n",
              "      <td id=\"T_7a3ae_row1_col0\" class=\"data row1 col0\" >1.000000</td>\n",
              "    </tr>\n",
              "    <tr>\n",
              "      <th id=\"T_7a3ae_level0_row2\" class=\"row_heading level0 row2\" >2</th>\n",
              "      <td id=\"T_7a3ae_row2_col0\" class=\"data row2 col0\" >0.000000</td>\n",
              "    </tr>\n",
              "  </tbody>\n",
              "</table>\n"
            ]
          },
          "metadata": {}
        },
        {
          "output_type": "stream",
          "name": "stdout",
          "text": [
            "\n",
            "\u001b[1;34;47m eigenvectors: all 3 eigvecs linearly independent\n"
          ]
        },
        {
          "output_type": "display_data",
          "data": {
            "text/plain": [
              "<pandas.io.formats.style.Styler at 0x7fdb66956090>"
            ],
            "text/html": [
              "<style type=\"text/css\">\n",
              "#T_c6488_row0_col0, #T_c6488_row0_col2, #T_c6488_row1_col2, #T_c6488_row2_col0, #T_c6488_row2_col1 {\n",
              "  background-color: #800000;\n",
              "  color: #f1f1f1;\n",
              "}\n",
              "#T_c6488_row0_col1, #T_c6488_row1_col1 {\n",
              "  background-color: #2d2dff;\n",
              "  color: #f1f1f1;\n",
              "}\n",
              "#T_c6488_row1_col0, #T_c6488_row2_col2 {\n",
              "  background-color: #00004c;\n",
              "  color: #f1f1f1;\n",
              "}\n",
              "</style>\n",
              "<table id=\"T_c6488_\" class=\"dataframe\">\n",
              "  <thead>\n",
              "    <tr>\n",
              "      <th class=\"blank level0\" >&nbsp;</th>\n",
              "      <th class=\"col_heading level0 col0\" >0</th>\n",
              "      <th class=\"col_heading level0 col1\" >1</th>\n",
              "      <th class=\"col_heading level0 col2\" >2</th>\n",
              "    </tr>\n",
              "  </thead>\n",
              "  <tbody>\n",
              "    <tr>\n",
              "      <th id=\"T_c6488_level0_row0\" class=\"row_heading level0 row0\" >0</th>\n",
              "      <td id=\"T_c6488_row0_col0\" class=\"data row0 col0\" >0.000000</td>\n",
              "      <td id=\"T_c6488_row0_col1\" class=\"data row0 col1\" >0.707000</td>\n",
              "      <td id=\"T_c6488_row0_col2\" class=\"data row0 col2\" >0.000000</td>\n",
              "    </tr>\n",
              "    <tr>\n",
              "      <th id=\"T_c6488_level0_row1\" class=\"row_heading level0 row1\" >1</th>\n",
              "      <td id=\"T_c6488_row1_col0\" class=\"data row1 col0\" >1.000000</td>\n",
              "      <td id=\"T_c6488_row1_col1\" class=\"data row1 col1\" >0.707000</td>\n",
              "      <td id=\"T_c6488_row1_col2\" class=\"data row1 col2\" >0.000000</td>\n",
              "    </tr>\n",
              "    <tr>\n",
              "      <th id=\"T_c6488_level0_row2\" class=\"row_heading level0 row2\" >2</th>\n",
              "      <td id=\"T_c6488_row2_col0\" class=\"data row2 col0\" >0.000000</td>\n",
              "      <td id=\"T_c6488_row2_col1\" class=\"data row2 col1\" >0.000000</td>\n",
              "      <td id=\"T_c6488_row2_col2\" class=\"data row2 col2\" >1.000000</td>\n",
              "    </tr>\n",
              "  </tbody>\n",
              "</table>\n"
            ]
          },
          "metadata": {}
        },
        {
          "output_type": "stream",
          "name": "stdout",
          "text": [
            "\n",
            "\u001b[1;37;40m Testing letter | f | diagonalisable \n",
            "\n",
            "\u001b[1;35;47m eigenvalues:\n"
          ]
        },
        {
          "output_type": "display_data",
          "data": {
            "text/plain": [
              "<pandas.io.formats.style.Styler at 0x7fdb66885fd0>"
            ],
            "text/html": [
              "<style type=\"text/css\">\n",
              "#T_2bbde_row0_col0 {\n",
              "  background-color: #00004c;\n",
              "  color: #f1f1f1;\n",
              "}\n",
              "#T_2bbde_row1_col0 {\n",
              "  background-color: #800000;\n",
              "  color: #f1f1f1;\n",
              "}\n",
              "#T_2bbde_row2_col0 {\n",
              "  background-color: #ff1919;\n",
              "  color: #f1f1f1;\n",
              "}\n",
              "</style>\n",
              "<table id=\"T_2bbde_\" class=\"dataframe\">\n",
              "  <thead>\n",
              "    <tr>\n",
              "      <th class=\"blank level0\" >&nbsp;</th>\n",
              "      <th class=\"col_heading level0 col0\" >0</th>\n",
              "    </tr>\n",
              "  </thead>\n",
              "  <tbody>\n",
              "    <tr>\n",
              "      <th id=\"T_2bbde_level0_row0\" class=\"row_heading level0 row0\" >0</th>\n",
              "      <td id=\"T_2bbde_row0_col0\" class=\"data row0 col0\" >1.618000</td>\n",
              "    </tr>\n",
              "    <tr>\n",
              "      <th id=\"T_2bbde_level0_row1\" class=\"row_heading level0 row1\" >1</th>\n",
              "      <td id=\"T_2bbde_row1_col0\" class=\"data row1 col0\" >-0.618000</td>\n",
              "    </tr>\n",
              "    <tr>\n",
              "      <th id=\"T_2bbde_level0_row2\" class=\"row_heading level0 row2\" >2</th>\n",
              "      <td id=\"T_2bbde_row2_col0\" class=\"data row2 col0\" >0.000000</td>\n",
              "    </tr>\n",
              "  </tbody>\n",
              "</table>\n"
            ]
          },
          "metadata": {}
        },
        {
          "output_type": "stream",
          "name": "stdout",
          "text": [
            "\n",
            "\u001b[1;34;47m eigenvectors: all 3 eigvecs linearly independent\n"
          ]
        },
        {
          "output_type": "display_data",
          "data": {
            "text/plain": [
              "<pandas.io.formats.style.Styler at 0x7fdb6699b290>"
            ],
            "text/html": [
              "<style type=\"text/css\">\n",
              "#T_4b7cb_row0_col0, #T_4b7cb_row1_col1 {\n",
              "  background-color: #000090;\n",
              "  color: #f1f1f1;\n",
              "}\n",
              "#T_4b7cb_row0_col1 {\n",
              "  background-color: #800000;\n",
              "  color: #f1f1f1;\n",
              "}\n",
              "#T_4b7cb_row0_col2, #T_4b7cb_row1_col2, #T_4b7cb_row2_col0, #T_4b7cb_row2_col1 {\n",
              "  background-color: #ff6161;\n",
              "  color: #f1f1f1;\n",
              "}\n",
              "#T_4b7cb_row1_col0 {\n",
              "  background-color: #3d3dff;\n",
              "  color: #f1f1f1;\n",
              "}\n",
              "#T_4b7cb_row2_col2 {\n",
              "  background-color: #00004c;\n",
              "  color: #f1f1f1;\n",
              "}\n",
              "</style>\n",
              "<table id=\"T_4b7cb_\" class=\"dataframe\">\n",
              "  <thead>\n",
              "    <tr>\n",
              "      <th class=\"blank level0\" >&nbsp;</th>\n",
              "      <th class=\"col_heading level0 col0\" >0</th>\n",
              "      <th class=\"col_heading level0 col1\" >1</th>\n",
              "      <th class=\"col_heading level0 col2\" >2</th>\n",
              "    </tr>\n",
              "  </thead>\n",
              "  <tbody>\n",
              "    <tr>\n",
              "      <th id=\"T_4b7cb_level0_row0\" class=\"row_heading level0 row0\" >0</th>\n",
              "      <td id=\"T_4b7cb_row0_col0\" class=\"data row0 col0\" >0.851000</td>\n",
              "      <td id=\"T_4b7cb_row0_col1\" class=\"data row0 col1\" >-0.526000</td>\n",
              "      <td id=\"T_4b7cb_row0_col2\" class=\"data row0 col2\" >0.000000</td>\n",
              "    </tr>\n",
              "    <tr>\n",
              "      <th id=\"T_4b7cb_level0_row1\" class=\"row_heading level0 row1\" >1</th>\n",
              "      <td id=\"T_4b7cb_row1_col0\" class=\"data row1 col0\" >0.526000</td>\n",
              "      <td id=\"T_4b7cb_row1_col1\" class=\"data row1 col1\" >0.851000</td>\n",
              "      <td id=\"T_4b7cb_row1_col2\" class=\"data row1 col2\" >0.000000</td>\n",
              "    </tr>\n",
              "    <tr>\n",
              "      <th id=\"T_4b7cb_level0_row2\" class=\"row_heading level0 row2\" >2</th>\n",
              "      <td id=\"T_4b7cb_row2_col0\" class=\"data row2 col0\" >0.000000</td>\n",
              "      <td id=\"T_4b7cb_row2_col1\" class=\"data row2 col1\" >0.000000</td>\n",
              "      <td id=\"T_4b7cb_row2_col2\" class=\"data row2 col2\" >1.000000</td>\n",
              "    </tr>\n",
              "  </tbody>\n",
              "</table>\n"
            ]
          },
          "metadata": {}
        },
        {
          "output_type": "stream",
          "name": "stdout",
          "text": [
            "\n",
            "\u001b[1;37;40m Testing letter | d | non-diagonalisable \n",
            "\n",
            "\u001b[1;35;47m eigenvalues:\n"
          ]
        },
        {
          "output_type": "display_data",
          "data": {
            "text/plain": [
              "<pandas.io.formats.style.Styler at 0x7fdb668785d0>"
            ],
            "text/html": [
              "<style type=\"text/css\">\n",
              "#T_509c9_row0_col0, #T_509c9_row1_col0 {\n",
              "  background-color: #00004c;\n",
              "  color: #f1f1f1;\n",
              "}\n",
              "#T_509c9_row2_col0 {\n",
              "  background-color: #800000;\n",
              "  color: #f1f1f1;\n",
              "}\n",
              "</style>\n",
              "<table id=\"T_509c9_\" class=\"dataframe\">\n",
              "  <thead>\n",
              "    <tr>\n",
              "      <th class=\"blank level0\" >&nbsp;</th>\n",
              "      <th class=\"col_heading level0 col0\" >0</th>\n",
              "    </tr>\n",
              "  </thead>\n",
              "  <tbody>\n",
              "    <tr>\n",
              "      <th id=\"T_509c9_level0_row0\" class=\"row_heading level0 row0\" >0</th>\n",
              "      <td id=\"T_509c9_row0_col0\" class=\"data row0 col0\" >1.000000</td>\n",
              "    </tr>\n",
              "    <tr>\n",
              "      <th id=\"T_509c9_level0_row1\" class=\"row_heading level0 row1\" >1</th>\n",
              "      <td id=\"T_509c9_row1_col0\" class=\"data row1 col0\" >1.000000</td>\n",
              "    </tr>\n",
              "    <tr>\n",
              "      <th id=\"T_509c9_level0_row2\" class=\"row_heading level0 row2\" >2</th>\n",
              "      <td id=\"T_509c9_row2_col0\" class=\"data row2 col0\" >0.000000</td>\n",
              "    </tr>\n",
              "  </tbody>\n",
              "</table>\n"
            ]
          },
          "metadata": {}
        },
        {
          "output_type": "stream",
          "name": "stdout",
          "text": [
            "\n",
            "\u001b[1;34;47m eigenvectors: only 1 eigvec linearly independent (col=2)\n"
          ]
        },
        {
          "output_type": "display_data",
          "data": {
            "text/plain": [
              "<pandas.io.formats.style.Styler at 0x7fdb66956c10>"
            ],
            "text/html": [
              "<style type=\"text/css\">\n",
              "#T_a4d17_row0_col0, #T_a4d17_row2_col2 {\n",
              "  background-color: #00004c;\n",
              "  color: #f1f1f1;\n",
              "}\n",
              "#T_a4d17_row0_col1 {\n",
              "  background-color: #800000;\n",
              "  color: #f1f1f1;\n",
              "}\n",
              "#T_a4d17_row0_col2, #T_a4d17_row1_col0, #T_a4d17_row1_col1, #T_a4d17_row1_col2, #T_a4d17_row2_col0, #T_a4d17_row2_col1 {\n",
              "  background-color: #fdfdff;\n",
              "  color: #000000;\n",
              "}\n",
              "</style>\n",
              "<table id=\"T_a4d17_\" class=\"dataframe\">\n",
              "  <thead>\n",
              "    <tr>\n",
              "      <th class=\"blank level0\" >&nbsp;</th>\n",
              "      <th class=\"col_heading level0 col0\" >0</th>\n",
              "      <th class=\"col_heading level0 col1\" >1</th>\n",
              "      <th class=\"col_heading level0 col2\" >2</th>\n",
              "    </tr>\n",
              "  </thead>\n",
              "  <tbody>\n",
              "    <tr>\n",
              "      <th id=\"T_a4d17_level0_row0\" class=\"row_heading level0 row0\" >0</th>\n",
              "      <td id=\"T_a4d17_row0_col0\" class=\"data row0 col0\" >1.000000</td>\n",
              "      <td id=\"T_a4d17_row0_col1\" class=\"data row0 col1\" >-1.000000</td>\n",
              "      <td id=\"T_a4d17_row0_col2\" class=\"data row0 col2\" >0.000000</td>\n",
              "    </tr>\n",
              "    <tr>\n",
              "      <th id=\"T_a4d17_level0_row1\" class=\"row_heading level0 row1\" >1</th>\n",
              "      <td id=\"T_a4d17_row1_col0\" class=\"data row1 col0\" >0.000000</td>\n",
              "      <td id=\"T_a4d17_row1_col1\" class=\"data row1 col1\" >0.000000</td>\n",
              "      <td id=\"T_a4d17_row1_col2\" class=\"data row1 col2\" >0.000000</td>\n",
              "    </tr>\n",
              "    <tr>\n",
              "      <th id=\"T_a4d17_level0_row2\" class=\"row_heading level0 row2\" >2</th>\n",
              "      <td id=\"T_a4d17_row2_col0\" class=\"data row2 col0\" >0.000000</td>\n",
              "      <td id=\"T_a4d17_row2_col1\" class=\"data row2 col1\" >0.000000</td>\n",
              "      <td id=\"T_a4d17_row2_col2\" class=\"data row2 col2\" >1.000000</td>\n",
              "    </tr>\n",
              "  </tbody>\n",
              "</table>\n"
            ]
          },
          "metadata": {}
        },
        {
          "output_type": "stream",
          "name": "stdout",
          "text": [
            "\n",
            "\u001b[1;37;40m Testing letter | u | non-diagonalisable \n",
            "\n",
            "\u001b[1;35;47m eigenvalues:\n"
          ]
        },
        {
          "output_type": "display_data",
          "data": {
            "text/plain": [
              "<pandas.io.formats.style.Styler at 0x7fdb668c7710>"
            ],
            "text/html": [
              "<style type=\"text/css\">\n",
              "#T_1a9d4_row0_col0, #T_1a9d4_row2_col0 {\n",
              "  background-color: #800000;\n",
              "  color: #f1f1f1;\n",
              "}\n",
              "#T_1a9d4_row1_col0 {\n",
              "  background-color: #00004c;\n",
              "  color: #f1f1f1;\n",
              "}\n",
              "</style>\n",
              "<table id=\"T_1a9d4_\" class=\"dataframe\">\n",
              "  <thead>\n",
              "    <tr>\n",
              "      <th class=\"blank level0\" >&nbsp;</th>\n",
              "      <th class=\"col_heading level0 col0\" >0</th>\n",
              "    </tr>\n",
              "  </thead>\n",
              "  <tbody>\n",
              "    <tr>\n",
              "      <th id=\"T_1a9d4_level0_row0\" class=\"row_heading level0 row0\" >0</th>\n",
              "      <td id=\"T_1a9d4_row0_col0\" class=\"data row0 col0\" >0.000000</td>\n",
              "    </tr>\n",
              "    <tr>\n",
              "      <th id=\"T_1a9d4_level0_row1\" class=\"row_heading level0 row1\" >1</th>\n",
              "      <td id=\"T_1a9d4_row1_col0\" class=\"data row1 col0\" >1.000000</td>\n",
              "    </tr>\n",
              "    <tr>\n",
              "      <th id=\"T_1a9d4_level0_row2\" class=\"row_heading level0 row2\" >2</th>\n",
              "      <td id=\"T_1a9d4_row2_col0\" class=\"data row2 col0\" >0.000000</td>\n",
              "    </tr>\n",
              "  </tbody>\n",
              "</table>\n"
            ]
          },
          "metadata": {}
        },
        {
          "output_type": "stream",
          "name": "stdout",
          "text": [
            "\n",
            "\u001b[1;34;47m eigenvectors: only 1 eigvec linearly independent (col=1)\n"
          ]
        },
        {
          "output_type": "display_data",
          "data": {
            "text/plain": [
              "<pandas.io.formats.style.Styler at 0x7fdb668ca050>"
            ],
            "text/html": [
              "<style type=\"text/css\">\n",
              "#T_9387e_row0_col0, #T_9387e_row0_col2, #T_9387e_row1_col0, #T_9387e_row1_col1, #T_9387e_row1_col2 {\n",
              "  background-color: #fdfdff;\n",
              "  color: #000000;\n",
              "}\n",
              "#T_9387e_row0_col1, #T_9387e_row2_col1 {\n",
              "  background-color: #0000b4;\n",
              "  color: #f1f1f1;\n",
              "}\n",
              "#T_9387e_row2_col0 {\n",
              "  background-color: #00004c;\n",
              "  color: #f1f1f1;\n",
              "}\n",
              "#T_9387e_row2_col2 {\n",
              "  background-color: #800000;\n",
              "  color: #f1f1f1;\n",
              "}\n",
              "</style>\n",
              "<table id=\"T_9387e_\" class=\"dataframe\">\n",
              "  <thead>\n",
              "    <tr>\n",
              "      <th class=\"blank level0\" >&nbsp;</th>\n",
              "      <th class=\"col_heading level0 col0\" >0</th>\n",
              "      <th class=\"col_heading level0 col1\" >1</th>\n",
              "      <th class=\"col_heading level0 col2\" >2</th>\n",
              "    </tr>\n",
              "  </thead>\n",
              "  <tbody>\n",
              "    <tr>\n",
              "      <th id=\"T_9387e_level0_row0\" class=\"row_heading level0 row0\" >0</th>\n",
              "      <td id=\"T_9387e_row0_col0\" class=\"data row0 col0\" >0.000000</td>\n",
              "      <td id=\"T_9387e_row0_col1\" class=\"data row0 col1\" >0.707000</td>\n",
              "      <td id=\"T_9387e_row0_col2\" class=\"data row0 col2\" >0.000000</td>\n",
              "    </tr>\n",
              "    <tr>\n",
              "      <th id=\"T_9387e_level0_row1\" class=\"row_heading level0 row1\" >1</th>\n",
              "      <td id=\"T_9387e_row1_col0\" class=\"data row1 col0\" >0.000000</td>\n",
              "      <td id=\"T_9387e_row1_col1\" class=\"data row1 col1\" >0.000000</td>\n",
              "      <td id=\"T_9387e_row1_col2\" class=\"data row1 col2\" >0.000000</td>\n",
              "    </tr>\n",
              "    <tr>\n",
              "      <th id=\"T_9387e_level0_row2\" class=\"row_heading level0 row2\" >2</th>\n",
              "      <td id=\"T_9387e_row2_col0\" class=\"data row2 col0\" >1.000000</td>\n",
              "      <td id=\"T_9387e_row2_col1\" class=\"data row2 col1\" >0.707000</td>\n",
              "      <td id=\"T_9387e_row2_col2\" class=\"data row2 col2\" >-1.000000</td>\n",
              "    </tr>\n",
              "  </tbody>\n",
              "</table>\n"
            ]
          },
          "metadata": {}
        }
      ]
    },
    {
      "cell_type": "markdown",
      "source": [
        "*   Corresponds to ***Section 2.3*** in dissertation\n",
        "  *   **2.3.4 Authentication algorithm 4:** \n",
        "      1. Convert into square matrix via matmul with its transport AA' or A'A\n",
        "      2. Check equality of eigenvalues if matrices are similar"
      ],
      "metadata": {
        "id": "R77dZC4iDsPe"
      }
    },
    {
      "cell_type": "markdown",
      "source": [
        "***Method 1: Generate square matrix via AA'***"
      ],
      "metadata": {
        "id": "GoH345H9f3Z7"
      }
    },
    {
      "cell_type": "code",
      "source": [
        "## Instead of creating dummy array can use linear algebra rules ##\n",
        "## Create square matrix (AA') and check eigevalues / eigenvectors ##\n",
        "t1 = time.process_time()\n",
        "\n",
        "c = 0\n",
        "while(c<len(alpha)):\n",
        "    alpha[c] = np.matmul(alpha[c], np.transpose(alpha[c]))\n",
        "    alpha_opt[c] = np.matmul(alpha_opt[c], np.transpose(alpha_opt[c]))\n",
        "    alpha_optLA[c] = np.matmul(alpha_optLA[c], np.transpose(alpha_optLA[c]))\n",
        "    c = c + 1\n",
        "\n",
        "t2 = time.process_time()\n",
        "print('time taken to run:',t2-t1)\n",
        "\n",
        "print(alpha[0])"
      ],
      "metadata": {
        "colab": {
          "base_uri": "https://localhost:8080/"
        },
        "id": "2jYOvkHUf1kZ",
        "outputId": "e4380589-89a2-4d6e-99ee-e45a2636b4aa"
      },
      "execution_count": null,
      "outputs": [
        {
          "output_type": "stream",
          "name": "stdout",
          "text": [
            "time taken to run: 0.0006742760000015835\n",
            "[[1 0 0]\n",
            " [0 0 0]\n",
            " [0 0 0]]\n"
          ]
        }
      ]
    },
    {
      "cell_type": "markdown",
      "source": [
        "***Method 2: Generate square matrix via A'A***"
      ],
      "metadata": {
        "id": "kaYkl5ZXfsgS"
      }
    },
    {
      "cell_type": "code",
      "source": [
        "## Alt: Create square matrix (A'A) and check eigevalues / eigenvectors ##\n",
        "t1 = time.process_time()\n",
        "\n",
        "c = 0\n",
        "while(c<len(alpha)):\n",
        "    alpha[c] = np.matmul(np.transpose(alpha[c]), alpha[c])\n",
        "    alpha_opt[c] = np.matmul(np.transpose(alpha_opt[c]), alpha_opt[c])\n",
        "    alpha_optLA[c] = np.matmul(np.transpose(alpha_optLA[c]), alpha_optLA[c])\n",
        "    c = c + 1\n",
        "\n",
        "t2 = time.process_time()\n",
        "print('time taken to run:',t2-t1)\n",
        "\n",
        "print(alpha[0])"
      ],
      "metadata": {
        "id": "QCgBJm8FK3NA",
        "colab": {
          "base_uri": "https://localhost:8080/"
        },
        "outputId": "03c60d49-b4c7-487b-fa7b-c4fd906f1d41"
      },
      "execution_count": null,
      "outputs": [
        {
          "output_type": "stream",
          "name": "stdout",
          "text": [
            "time taken to run: 0.0012399469999984092\n",
            "[[1 0]\n",
            " [0 0]]\n"
          ]
        }
      ]
    },
    {
      "cell_type": "code",
      "source": [
        "## Loop check for Method 1, 2 and 3 ##\n",
        "from numpy import linalg as LA\n",
        "\n",
        "c = 0\n",
        "LA_w_alpha = [0] * len(alpha)\n",
        "LA_v_alpha = [0] * len(alpha)\n",
        "LA_w_alpha_opt = [0] * len(alpha)\n",
        "LA_v_alpha_opt = [0] * len(alpha)\n",
        "LA_w_alpha_optLA = [0] * len(alpha)\n",
        "LA_v_alpha_optLA = [0] * len(alpha)\n",
        "\n",
        "while(c<len(alpha)):\n",
        "  LA_w_alpha[c], LA_v_alpha[c] = LA.eig(alpha[c])\n",
        "  LA_w_alpha_opt[c], LA_v_alpha_opt[c] = LA.eig(alpha_opt[c])\n",
        "  LA_w_alpha_optLA[c], LA_v_alpha_optLA[c] = LA.eig(alpha_optLA[c])\n",
        "  c = c + 1"
      ],
      "metadata": {
        "id": "PzHxkgo2PyWA"
      },
      "execution_count": null,
      "outputs": []
    },
    {
      "cell_type": "code",
      "source": [
        "## Checking All Methods Commutative Rule ##\n",
        "t = 0 # tracker\n",
        "for i in range(0,26,1):\n",
        "    LA_check_w_opt = np.all(LA_w_alpha[i] == LA_w_alpha_opt[i])\n",
        "    if LA_check_w_opt == False:\n",
        "      t = t + 1\n",
        "    LA_check_v_opt = np.all(LA_v_alpha[i] == LA_v_alpha_opt[i])\n",
        "    if LA_check_v_opt == False:\n",
        "      t = t + 1\n",
        "    LA_check_w_optLA = np.all(LA_w_alpha_opt[i] == LA_w_alpha_optLA[i])\n",
        "    if LA_check_w_optLA == False:\n",
        "      t = t + 1\n",
        "    LA_check_v_optLA = np.all(LA_v_alpha_opt[i] == LA_v_alpha_optLA[i])\n",
        "    if LA_check_v_optLA == False:\n",
        "      t = t + 1\n",
        "\n",
        "print(\"\\033[1;37;40m Authentication algorithm 4: Method 2 (AA') \")\n",
        "if t != 0:\n",
        "  print(\"False - at least one letter does not match\")\n",
        "else:\n",
        "  print(\"\\033[1;34;47m True - equality of both eigenvalues and eigenvectors |\"\n",
        "  \" all distinct letters match across Methods 1, 2 & 3\")\n",
        "\n",
        "# Bug testing if algorithm detects as expected #\n",
        "bug_test_w = np.all(LA_w_alpha[4] == LA_w_alpha_opt[8])\n",
        "bug_test_v = np.all(LA_v_alpha[4] == LA_v_alpha_opt[8])\n",
        "if bug_test_w == True:\n",
        "  if bug_test_v == True:\n",
        "    print(\"\\n\\033[1;31;47m Bug test: FAIL | \", bug_test_w, \"please check!\", \n",
        "\"\\033[1;37;41m example letters yielding equality | \",\n",
        " alpha_index[4], \",\", alpha_index[8], \"\")\n",
        "else:\n",
        "  print(\"\\n\\033[1;32;47m Bug test: PASS | \", bug_test_w, \"as expected!\")"
      ],
      "metadata": {
        "id": "e9UY2ewpNmX5",
        "colab": {
          "base_uri": "https://localhost:8080/"
        },
        "outputId": "2450ab0c-9f52-414a-f139-a06cf4fac2ce"
      },
      "execution_count": null,
      "outputs": [
        {
          "output_type": "stream",
          "name": "stdout",
          "text": [
            "\u001b[1;37;40m Authentication algorithm 4: Method 2 (AA') \n",
            "\u001b[1;34;47m True - equality of both eigenvalues and eigenvectors | all distinct letters match across Methods 1, 2 & 3\n",
            "\n",
            "\u001b[1;31;47m Bug test: FAIL |  True please check! \u001b[1;37;41m example letters yielding equality |  e , i \n"
          ]
        }
      ]
    },
    {
      "cell_type": "markdown",
      "source": [
        "***BUG TEST FAIL DEBUGGED: Why is converting to square matrix via matmult with transpose not unique?*** \n",
        "\n",
        "Proof lies in invariance up to a permutation that is orthogonal"
      ],
      "metadata": {
        "id": "w0dlGKvcouay"
      }
    },
    {
      "cell_type": "code",
      "source": [
        "combinations = 26*25\n",
        "check_invar = [None] * combinations\n",
        "\n",
        "c = 0\n",
        "print(\"\\033[1;37;40m List of distinct letters that are equal under AA'       \")\n",
        "while(c<combinations):\n",
        "  for i in range(0,26,1):\n",
        "    for j in range(25,-1,-1):\n",
        "      if i != j:\n",
        "        check_invar[c] = np.all(alpha[i] == alpha[j])\n",
        "        if check_invar[c] == True:\n",
        "          print(\"\\033[1;34;47m Equality holds for \\033[1;31;47m | letters:\", \n",
        "alpha_index[i], \",\", alpha_index[j], \" \\033[1;32;47m | indices:\", i, \",\", j,\" \")\n",
        "        c = c + 1"
      ],
      "metadata": {
        "id": "ZICSYoK1WHwL",
        "colab": {
          "base_uri": "https://localhost:8080/"
        },
        "outputId": "d26e2bc3-c7d9-434c-9459-3a3bbb160591"
      },
      "execution_count": null,
      "outputs": [
        {
          "output_type": "stream",
          "name": "stdout",
          "text": [
            "\u001b[1;37;40m List of distinct letters that are equal under AA'        \n",
            "\u001b[1;34;47m Equality holds for \u001b[1;31;47m | letters: d , f  \u001b[1;32;47m | indices: 3 , 5   \n",
            "\u001b[1;34;47m Equality holds for \u001b[1;31;47m | letters: e , i  \u001b[1;32;47m | indices: 4 , 8   \n",
            "\u001b[1;34;47m Equality holds for \u001b[1;31;47m | letters: f , d  \u001b[1;32;47m | indices: 5 , 3   \n",
            "\u001b[1;34;47m Equality holds for \u001b[1;31;47m | letters: h , j  \u001b[1;32;47m | indices: 7 , 9   \n",
            "\u001b[1;34;47m Equality holds for \u001b[1;31;47m | letters: i , e  \u001b[1;32;47m | indices: 8 , 4   \n",
            "\u001b[1;34;47m Equality holds for \u001b[1;31;47m | letters: j , h  \u001b[1;32;47m | indices: 9 , 7   \n",
            "\u001b[1;34;47m Equality holds for \u001b[1;31;47m | letters: r , w  \u001b[1;32;47m | indices: 17 , 22   \n",
            "\u001b[1;34;47m Equality holds for \u001b[1;31;47m | letters: w , r  \u001b[1;32;47m | indices: 22 , 17   \n"
          ]
        }
      ]
    },
    {
      "cell_type": "code",
      "source": [
        "non_unique = 0\n",
        "for i in range(650):\n",
        "  final_check = np.all(check_invar[i] == True)\n",
        "  if final_check == True:\n",
        "    non_unique = non_unique + 1\n",
        "\n",
        "print(\"\\033[1;33;40m FAIL: at least one pair of distinct letters are equal\")\n",
        "print(\"\\033[1;37;40m Number of non-unique or repeated values | \", non_unique,\"\")"
      ],
      "metadata": {
        "colab": {
          "base_uri": "https://localhost:8080/"
        },
        "id": "rNdbXilrGeMQ",
        "outputId": "23f60148-22c8-4f9e-a3c8-9fe09c2b2fd9"
      },
      "execution_count": null,
      "outputs": [
        {
          "output_type": "stream",
          "name": "stdout",
          "text": [
            "\u001b[1;33;40m FAIL: at least one pair of distinct letters are equal\n",
            "\u001b[1;37;40m Number of non-unique or repeated values |  8 \n"
          ]
        }
      ]
    },
    {
      "cell_type": "code",
      "source": [
        "## Function to get unique values ##\n",
        "\n",
        "x = np.array(alpha)\n",
        "\n",
        "unique, index, counts = np.unique(x, axis=0, return_index=True, \n",
        "                                  return_counts=True)\n",
        "\n",
        "print(\"\\033[1;34;47m Unique set of indices from alpha list: \\n\", index)\n",
        "print(\"\\n\\033[1;32;47m Counts of unique set from alpha list, respectively: \\n\",\n",
        "      counts)\n",
        "print(\"\\n\\033[1;35;47m Total number of unique letters with freq = 1 | \", \n",
        "      counts.tolist().count(1))"
      ],
      "metadata": {
        "id": "0a9hplufdwxD",
        "colab": {
          "base_uri": "https://localhost:8080/"
        },
        "outputId": "5733f4d0-1a53-4280-dac3-bdb39a395ea6"
      },
      "execution_count": null,
      "outputs": [
        {
          "output_type": "stream",
          "name": "stdout",
          "text": [
            "\u001b[1;34;47m Unique set of indices from alpha list: \n",
            " [ 0  4 18 10 20 14 25  1  7 19 11 21 17  2 12 23  3 13 15 24  6 16]\n",
            "\n",
            "\u001b[1;32;47m Counts of unique set from alpha list, respectively: \n",
            " [1 2 1 1 1 1 1 1 2 1 1 1 2 1 1 1 2 1 1 1 1 1]\n",
            "\n",
            "\u001b[1;35;47m Total number of unique letters with freq = 1 |  18\n"
          ]
        }
      ]
    },
    {
      "cell_type": "markdown",
      "source": [
        "**Proof for (AP)(AP)' so AA'**"
      ],
      "metadata": {
        "id": "lbq5RF5kaoM2"
      }
    },
    {
      "cell_type": "code",
      "source": [
        "## General proof for permutation that is orthogonal ## \n",
        "import itertools \n",
        "from itertools import permutations \n",
        "print(\"\\033[1;37;40m List of permutation matrices for (AP)(AP)'\")\n",
        "def I(n):\n",
        "    I = np.identity(n)\n",
        "    return I\n",
        "print(\"\\033[1;37;44m\")\n",
        "I = I(3)\n",
        "p = permutations(I)\n",
        "# Print the obtained permutations \n",
        "for j in list(p): \n",
        "  print('\\n'.join(str(row) for row in j))\n",
        "  print('')"
      ],
      "metadata": {
        "colab": {
          "base_uri": "https://localhost:8080/"
        },
        "id": "IT-4O0fCI2Ph",
        "outputId": "1c0caa76-137d-44f3-f78f-ded53aaca31e"
      },
      "execution_count": null,
      "outputs": [
        {
          "output_type": "stream",
          "name": "stdout",
          "text": [
            "\u001b[1;37;40m List of permutation matrices for (AP)(AP)'\n",
            "\u001b[1;37;44m\n",
            "[1. 0. 0.]\n",
            "[0. 1. 0.]\n",
            "[0. 0. 1.]\n",
            "\n",
            "[1. 0. 0.]\n",
            "[0. 0. 1.]\n",
            "[0. 1. 0.]\n",
            "\n",
            "[0. 1. 0.]\n",
            "[1. 0. 0.]\n",
            "[0. 0. 1.]\n",
            "\n",
            "[0. 1. 0.]\n",
            "[0. 0. 1.]\n",
            "[1. 0. 0.]\n",
            "\n",
            "[0. 0. 1.]\n",
            "[1. 0. 0.]\n",
            "[0. 1. 0.]\n",
            "\n",
            "[0. 0. 1.]\n",
            "[0. 1. 0.]\n",
            "[1. 0. 0.]\n",
            "\n"
          ]
        }
      ]
    },
    {
      "cell_type": "code",
      "source": [
        "# Create all permutation matrices for 3x3 #\n",
        "cell_100 = np.array([1, 0, 0])\n",
        "cell_010 = np.array([0, 1, 0])\n",
        "cell_001 = np.array([0, 0, 1])\n",
        "\n",
        "perm_1 = np.array([cell_100, cell_010, cell_001])\n",
        "perm_2 = np.array([cell_100, cell_001, cell_010])\n",
        "perm_3 = np.array([cell_010, cell_100, cell_001])\n",
        "perm_4 = np.array([cell_010, cell_001, cell_100])\n",
        "perm_5 = np.array([cell_001, cell_100, cell_010])\n",
        "perm_6 = np.array([cell_001, cell_010, cell_100])\n",
        "\n",
        "perm_matrices = [perm_1, perm_2, perm_3, perm_4, perm_5, perm_6]"
      ],
      "metadata": {
        "id": "2V7zjJ7vWAMS"
      },
      "execution_count": null,
      "outputs": []
    },
    {
      "cell_type": "code",
      "source": [
        "## checking orthogonality of permutation matrices ## \n",
        "\n",
        "def isOrthogonal(alpha_i):\n",
        "  transpose = alpha_i.T\n",
        "  mat_transpose = np.matmul(transpose, alpha_i) \n",
        "  identity = np.identity(alpha_i.shape[1])\n",
        "  print(np.all(mat_transpose == identity))\n",
        "\n",
        "print(\"\\033[1;37;40m All permutation matrices are orthogonal?\")\n",
        "print(\"\\033[1;37;45m\")\n",
        "for i in range(len(perm_matrices)):\n",
        "  isOrthogonal(perm_matrices[i])"
      ],
      "metadata": {
        "colab": {
          "base_uri": "https://localhost:8080/"
        },
        "id": "AqFnUD9KQtX-",
        "outputId": "e36768a1-7478-4586-ee41-9c681ed12696"
      },
      "execution_count": null,
      "outputs": [
        {
          "output_type": "stream",
          "name": "stdout",
          "text": [
            "\u001b[1;37;40m All permutation matrices are orthogonal?\n",
            "\u001b[1;37;45m\n",
            "True\n",
            "True\n",
            "True\n",
            "True\n",
            "True\n",
            "True\n"
          ]
        }
      ]
    },
    {
      "cell_type": "code",
      "source": [
        "# Testing general rule  for alpha[0] unique # \n",
        "c = 0\n",
        "test_alpha = 22\n",
        "for j in range(6):\n",
        "  perm_alpha = np.matmul(alpha[test_alpha], perm_matrices[j])\n",
        "  for i in range(0,26,1):\n",
        "    if i != test_alpha:\n",
        "      check_non_unique = np.all(perm_alpha == alpha[i])\n",
        "      if check_non_unique == True:\n",
        "        c = c + 1\n",
        "print(\"Freq of invariance under permutation |\", c, \"| for alphabet index number\",\n",
        "      test_alpha, \"letter\", alpha_index[test_alpha])"
      ],
      "metadata": {
        "colab": {
          "base_uri": "https://localhost:8080/"
        },
        "id": "03cwxsXwcL9K",
        "outputId": "f71b1a60-6490-47a9-e11e-ce9edce49758"
      },
      "execution_count": null,
      "outputs": [
        {
          "output_type": "stream",
          "name": "stdout",
          "text": [
            "Freq of invariance under permutation | 2 | for alphabet index number 22 letter w\n"
          ]
        }
      ]
    },
    {
      "cell_type": "code",
      "source": [
        "# Testing general rule  for alpha[0] unique # \n",
        "\n",
        "c = 0\n",
        "for n in range(0,26,1):\n",
        "  for j in range(6):\n",
        "    perm_alpha = np.matmul(alpha[n], perm_matrices[j])\n",
        "    for i in range(0,26,1):\n",
        "      if i != n:\n",
        "        check_non_unique = np.all(perm_alpha == alpha[i])\n",
        "        if check_non_unique == True:\n",
        "          print(\"\\033[1;34;47m Invariance under permutation \\033[1;31;47m |\", \n",
        "                \"letters:\", alpha_index[n], \",\", alpha_index[i], \n",
        "                \" \\033[1;32;47m | indices:\", n, \",\", i, \"  \")\n",
        "          c = c + 1\n",
        "print(\"\\n\\033[1;37;40m Total number of letter pairs equal up to permutation:\", \n",
        "      c, \"\")"
      ],
      "metadata": {
        "colab": {
          "base_uri": "https://localhost:8080/"
        },
        "id": "1m2UjAwPX3Ke",
        "outputId": "a03839d7-1a91-4a20-b09e-81f48504d34d"
      },
      "execution_count": null,
      "outputs": [
        {
          "output_type": "stream",
          "name": "stdout",
          "text": [
            "\u001b[1;34;47m Invariance under permutation \u001b[1;31;47m | letters: d , f  \u001b[1;32;47m | indices: 3 , 5   \n",
            "\u001b[1;34;47m Invariance under permutation \u001b[1;31;47m | letters: e , i  \u001b[1;32;47m | indices: 4 , 8   \n",
            "\u001b[1;34;47m Invariance under permutation \u001b[1;31;47m | letters: f , d  \u001b[1;32;47m | indices: 5 , 3   \n",
            "\u001b[1;34;47m Invariance under permutation \u001b[1;31;47m | letters: h , j  \u001b[1;32;47m | indices: 7 , 9   \n",
            "\u001b[1;34;47m Invariance under permutation \u001b[1;31;47m | letters: i , e  \u001b[1;32;47m | indices: 8 , 4   \n",
            "\u001b[1;34;47m Invariance under permutation \u001b[1;31;47m | letters: j , h  \u001b[1;32;47m | indices: 9 , 7   \n",
            "\u001b[1;34;47m Invariance under permutation \u001b[1;31;47m | letters: r , w  \u001b[1;32;47m | indices: 17 , 22   \n",
            "\u001b[1;34;47m Invariance under permutation \u001b[1;31;47m | letters: r , w  \u001b[1;32;47m | indices: 17 , 22   \n",
            "\u001b[1;34;47m Invariance under permutation \u001b[1;31;47m | letters: w , r  \u001b[1;32;47m | indices: 22 , 17   \n",
            "\u001b[1;34;47m Invariance under permutation \u001b[1;31;47m | letters: w , r  \u001b[1;32;47m | indices: 22 , 17   \n",
            "\n",
            "\u001b[1;37;40m Total number of letter pairs equal up to permutation: 10 \n"
          ]
        }
      ]
    },
    {
      "cell_type": "markdown",
      "source": [
        "**Proof for (PA)'(PA) so A'A**"
      ],
      "metadata": {
        "id": "wh2J5RsRgPpX"
      }
    },
    {
      "cell_type": "code",
      "source": [
        "print(\"\\033[1;37;40m List of permutation matrices for (PA)'(PA)\")\n",
        "def I(n):\n",
        "    I = np.identity(n)\n",
        "    return I\n",
        "print(\"\\033[1;37;44m\")\n",
        "I = I(2)\n",
        "p = permutations(I)\n",
        "\n",
        "# Print the obtained permutations \n",
        "for j in list(p): \n",
        "  print('\\n'.join(str(row) for row in j))\n",
        "  print('')"
      ],
      "metadata": {
        "colab": {
          "base_uri": "https://localhost:8080/"
        },
        "id": "7QQQuqptgOQY",
        "outputId": "cd796b66-858e-4e3d-d13e-59b2bb72d425"
      },
      "execution_count": null,
      "outputs": [
        {
          "output_type": "stream",
          "name": "stdout",
          "text": [
            "\u001b[1;37;40m List of permutation matrices for (PA)'(PA)\n",
            "\u001b[1;37;44m\n",
            "[1. 0.]\n",
            "[0. 1.]\n",
            "\n",
            "[0. 1.]\n",
            "[1. 0.]\n",
            "\n"
          ]
        }
      ]
    },
    {
      "cell_type": "code",
      "source": [
        "# Create all permutation matrices for 3x3 #\n",
        "cell_10 = np.array([1, 0])\n",
        "cell_01 = np.array([0, 1])\n",
        "\n",
        "perm_1 = np.array([cell_10, cell_01])\n",
        "perm_2 = np.array([cell_01, cell_10])\n",
        "\n",
        "perm_matrices = [perm_1, perm_2]"
      ],
      "metadata": {
        "id": "PfItIGCngmdw"
      },
      "execution_count": null,
      "outputs": []
    },
    {
      "cell_type": "code",
      "source": [
        "## checking orthogonality of permutation matrices ## \n",
        "\n",
        "print(\"\\033[1;37;40m All permutation matrices are orthogonal?\")\n",
        "print(\"\\033[1;37;45m\")\n",
        "for i in range(len(perm_matrices)):\n",
        "  isOrthogonal(perm_matrices[i])"
      ],
      "metadata": {
        "colab": {
          "base_uri": "https://localhost:8080/"
        },
        "id": "p6GrwxqIgKXs",
        "outputId": "5953df10-514b-44fa-b373-1768266221b5"
      },
      "execution_count": null,
      "outputs": [
        {
          "output_type": "stream",
          "name": "stdout",
          "text": [
            "\u001b[1;37;40m All permutation matrices are orthogonal?\n",
            "\u001b[1;37;45m\n",
            "True\n",
            "True\n"
          ]
        }
      ]
    },
    {
      "cell_type": "code",
      "source": [
        "# Testing general rule  for alpha[0] unique # \n",
        "c = 0\n",
        "test_alpha = 6\n",
        "for j in range(2):\n",
        "  perm_alpha = np.matmul(perm_matrices[j], alpha[test_alpha])\n",
        "  for i in range(0,26,1):\n",
        "    if i != test_alpha:\n",
        "      check_non_unique = np.all(perm_alpha == alpha[i])\n",
        "      if check_non_unique == True:\n",
        "        c = c + 1\n",
        "print(\"Freq of invariance under permutation |\", c, \"| for alphabet index number\",\n",
        "      test_alpha, \"letter\", alpha_index[test_alpha])"
      ],
      "metadata": {
        "colab": {
          "base_uri": "https://localhost:8080/"
        },
        "id": "seYVMMgNg1Ti",
        "outputId": "200ad1b5-6a20-4fdd-bf8e-70e8f86f0717"
      },
      "execution_count": null,
      "outputs": [
        {
          "output_type": "stream",
          "name": "stdout",
          "text": [
            "Freq of invariance under permutation | 2 | for alphabet index number 6 letter g\n"
          ]
        }
      ]
    },
    {
      "cell_type": "code",
      "source": [
        "# Testing general rule  for alpha[0] unique # \n",
        "\n",
        "c = 0\n",
        "for n in range(0,26,1):\n",
        "  for j in range(2):\n",
        "    perm_alpha = np.matmul(perm_matrices[j], alpha[n])\n",
        "    for i in range(0,26,1):\n",
        "      if i != n:\n",
        "        check_non_unique = np.all(perm_alpha == alpha[i])\n",
        "        if check_non_unique == True:\n",
        "          print(\"\\033[1;34;47m Invariance under permutation \\033[1;31;47m |\", \n",
        "                \"letters:\", alpha_index[n], \",\", alpha_index[i], \n",
        "                \" \\033[1;32;47m | indices:\", n, \",\", i, \"  \")\n",
        "          c = c + 1\n",
        "print(\"\\n\\033[1;37;40m Total number of letter pairs equal up to permutation:\", \n",
        "      c, \"\")"
      ],
      "metadata": {
        "colab": {
          "base_uri": "https://localhost:8080/"
        },
        "id": "hXUUNoTNg34r",
        "outputId": "98e51327-a4c0-4512-d717-c99c12938dd8"
      },
      "execution_count": null,
      "outputs": [
        {
          "output_type": "stream",
          "name": "stdout",
          "text": [
            "\u001b[1;34;47m Invariance under permutation \u001b[1;31;47m | letters: b , k  \u001b[1;32;47m | indices: 1 , 10   \n",
            "\u001b[1;34;47m Invariance under permutation \u001b[1;31;47m | letters: d , j  \u001b[1;32;47m | indices: 3 , 9   \n",
            "\u001b[1;34;47m Invariance under permutation \u001b[1;31;47m | letters: e , i  \u001b[1;32;47m | indices: 4 , 8   \n",
            "\u001b[1;34;47m Invariance under permutation \u001b[1;31;47m | letters: f , h  \u001b[1;32;47m | indices: 5 , 7   \n",
            "\u001b[1;34;47m Invariance under permutation \u001b[1;31;47m | letters: f , m  \u001b[1;32;47m | indices: 5 , 12   \n",
            "\u001b[1;34;47m Invariance under permutation \u001b[1;31;47m | letters: f , u  \u001b[1;32;47m | indices: 5 , 20   \n",
            "\u001b[1;34;47m Invariance under permutation \u001b[1;31;47m | letters: g , x  \u001b[1;32;47m | indices: 6 , 23   \n",
            "\u001b[1;34;47m Invariance under permutation \u001b[1;31;47m | letters: g , x  \u001b[1;32;47m | indices: 6 , 23   \n",
            "\u001b[1;34;47m Invariance under permutation \u001b[1;31;47m | letters: h , f  \u001b[1;32;47m | indices: 7 , 5   \n",
            "\u001b[1;34;47m Invariance under permutation \u001b[1;31;47m | letters: h , m  \u001b[1;32;47m | indices: 7 , 12   \n",
            "\u001b[1;34;47m Invariance under permutation \u001b[1;31;47m | letters: h , u  \u001b[1;32;47m | indices: 7 , 20   \n",
            "\u001b[1;34;47m Invariance under permutation \u001b[1;31;47m | letters: i , e  \u001b[1;32;47m | indices: 8 , 4   \n",
            "\u001b[1;34;47m Invariance under permutation \u001b[1;31;47m | letters: j , d  \u001b[1;32;47m | indices: 9 , 3   \n",
            "\u001b[1;34;47m Invariance under permutation \u001b[1;31;47m | letters: k , b  \u001b[1;32;47m | indices: 10 , 1   \n",
            "\u001b[1;34;47m Invariance under permutation \u001b[1;31;47m | letters: m , f  \u001b[1;32;47m | indices: 12 , 5   \n",
            "\u001b[1;34;47m Invariance under permutation \u001b[1;31;47m | letters: m , h  \u001b[1;32;47m | indices: 12 , 7   \n",
            "\u001b[1;34;47m Invariance under permutation \u001b[1;31;47m | letters: m , u  \u001b[1;32;47m | indices: 12 , 20   \n",
            "\u001b[1;34;47m Invariance under permutation \u001b[1;31;47m | letters: n , t  \u001b[1;32;47m | indices: 13 , 19   \n",
            "\u001b[1;34;47m Invariance under permutation \u001b[1;31;47m | letters: n , z  \u001b[1;32;47m | indices: 13 , 25   \n",
            "\u001b[1;34;47m Invariance under permutation \u001b[1;31;47m | letters: o , s  \u001b[1;32;47m | indices: 14 , 18   \n",
            "\u001b[1;34;47m Invariance under permutation \u001b[1;31;47m | letters: p , r  \u001b[1;32;47m | indices: 15 , 17   \n",
            "\u001b[1;34;47m Invariance under permutation \u001b[1;31;47m | letters: p , v  \u001b[1;32;47m | indices: 15 , 21   \n",
            "\u001b[1;34;47m Invariance under permutation \u001b[1;31;47m | letters: r , p  \u001b[1;32;47m | indices: 17 , 15   \n",
            "\u001b[1;34;47m Invariance under permutation \u001b[1;31;47m | letters: r , v  \u001b[1;32;47m | indices: 17 , 21   \n",
            "\u001b[1;34;47m Invariance under permutation \u001b[1;31;47m | letters: s , o  \u001b[1;32;47m | indices: 18 , 14   \n",
            "\u001b[1;34;47m Invariance under permutation \u001b[1;31;47m | letters: t , n  \u001b[1;32;47m | indices: 19 , 13   \n",
            "\u001b[1;34;47m Invariance under permutation \u001b[1;31;47m | letters: t , z  \u001b[1;32;47m | indices: 19 , 25   \n",
            "\u001b[1;34;47m Invariance under permutation \u001b[1;31;47m | letters: u , f  \u001b[1;32;47m | indices: 20 , 5   \n",
            "\u001b[1;34;47m Invariance under permutation \u001b[1;31;47m | letters: u , h  \u001b[1;32;47m | indices: 20 , 7   \n",
            "\u001b[1;34;47m Invariance under permutation \u001b[1;31;47m | letters: u , m  \u001b[1;32;47m | indices: 20 , 12   \n",
            "\u001b[1;34;47m Invariance under permutation \u001b[1;31;47m | letters: v , p  \u001b[1;32;47m | indices: 21 , 15   \n",
            "\u001b[1;34;47m Invariance under permutation \u001b[1;31;47m | letters: v , r  \u001b[1;32;47m | indices: 21 , 17   \n",
            "\u001b[1;34;47m Invariance under permutation \u001b[1;31;47m | letters: x , g  \u001b[1;32;47m | indices: 23 , 6   \n",
            "\u001b[1;34;47m Invariance under permutation \u001b[1;31;47m | letters: x , g  \u001b[1;32;47m | indices: 23 , 6   \n",
            "\u001b[1;34;47m Invariance under permutation \u001b[1;31;47m | letters: z , n  \u001b[1;32;47m | indices: 25 , 13   \n",
            "\u001b[1;34;47m Invariance under permutation \u001b[1;31;47m | letters: z , t  \u001b[1;32;47m | indices: 25 , 19   \n",
            "\n",
            "\u001b[1;37;40m Total number of letter pairs equal up to permutation: 36 \n"
          ]
        }
      ]
    },
    {
      "cell_type": "markdown",
      "source": [
        "*   Corresponds to ***Section 2.3*** in dissertation\n",
        "  *  **2.3.5 Authentication algorithm 5:** Using randomisation, as below\n",
        "  * Let v = (A-M)x, v=0 iff A=M, \n",
        "      1. Given A, M matrices with natural number entries only, and\n",
        "      2. x random vector, with random samples from uniform distribution over (0, 1)"
      ],
      "metadata": {
        "id": "xYDQ32MGC5i_"
      }
    },
    {
      "cell_type": "code",
      "source": [
        "## More unique generalisable way to check using LA ##\n",
        "\n",
        "x = np.random.rand(2 ,1)\n",
        "print(\"\\033[1;37;40m Random vector x:\\n\\033[1;37;44m\", x)\n",
        "\n",
        "for i in range(0,26,1):\n",
        "  diff_1 = np.subtract(alpha[i], alpha_opt[i])\n",
        "  v_1 = np.matmul(diff_1, x)\n",
        "\n",
        "for i in range(0,26,1):\n",
        "  diff_2 = np.subtract(alpha[i], alpha_optLA[i])\n",
        "  v_2 = np.matmul(diff_2, x)\n",
        "\n",
        "if v_1.shape == v_2.shape:\n",
        "  zeros_matrix = np.zeros(v_1.shape)\n",
        "\n",
        "print(\"\\n\\033[1;37;40m Authentication algorithm 5:\")\n",
        "if np.all(v_1 == zeros_matrix):\n",
        "  if np.all(v_2 == zeros_matrix):\n",
        "    print(\"\\033[1;34;47m True | v = 0 for all, \"\n",
        "    \"therefore all distinct letters match across Methods 1, 2 & 3!\")\n",
        "else:\n",
        "  print(\"False - at least one pair of matrices are not equal, please check!\")\n",
        "\n",
        "# Bug testing if algorithm detects as expected #\n",
        "bug_test = np.subtract(alpha[0], alpha_opt[1])\n",
        "v_bug_test = np.matmul(bug_test, x)\n",
        "zeros_matrix_bug_test = np.zeros(v_bug_test.shape)\n",
        "if np.all(v_bug_test == zeros_matrix_bug_test):\n",
        "  print(\"\\n\\033[1;31;47m Bug test: FAIL | \", v_bug_test, \"please check!\")\n",
        "else:\n",
        "  print(\"\\n\\033[1;32;47m Bug test: PASS | v ≠ 0, as expected for different \"\n",
        "  \"letters! \\n \", v_bug_test)"
      ],
      "metadata": {
        "id": "cqhkhnHBMWGP",
        "colab": {
          "base_uri": "https://localhost:8080/"
        },
        "outputId": "72f20526-0379-4763-9214-468c3f3af550"
      },
      "execution_count": null,
      "outputs": [
        {
          "output_type": "stream",
          "name": "stdout",
          "text": [
            "\u001b[1;37;40m Random vector x:\n",
            "\u001b[1;37;44m [[0.4701]\n",
            " [0.3731]]\n",
            "\n",
            "\u001b[1;37;40m Authentication algorithm 5:\n",
            "\u001b[1;34;47m True | v = 0 for all, therefore all distinct letters match across Methods 1, 2 & 3!\n",
            "\n",
            "\u001b[1;32;47m Bug test: PASS | v ≠ 0, as expected for different letters! \n",
            " [[ 0.    ]\n",
            " [-0.4701]\n",
            " [ 0.    ]]\n"
          ]
        }
      ]
    },
    {
      "cell_type": "markdown",
      "source": [
        "*   Corresponds to ***Section 2.3*** in dissertation\n",
        "  *  **2.3.6 Authentication algorithm 6:** Using randomisation, as below\n",
        "  * Let Ax = a, Mx = m, then a = m iff A = M \n",
        "      1. Given A, M matrices with natural number entries only, and\n",
        "      2. x random vector, with random samples from uniform distribution over (0, 1)"
      ],
      "metadata": {
        "id": "JBkSjSxYMqnz"
      }
    },
    {
      "cell_type": "code",
      "source": [
        "## Another unique generalisable way to check using LA ##\n",
        "# Note: random vector, x, as above #\n",
        "\n",
        "for i in range(0,26,1):\n",
        "  alpha_check = np.matmul(alpha[i], x)\n",
        "  alpha_opt_check = np.matmul(alpha_opt[i], x)\n",
        "  alpha_optLA_check = np.matmul(alpha_optLA[i], x)\n",
        "\n",
        "print(\"\\n\\033[1;37;40m Authentication algorithm 6:\")\n",
        "\n",
        "if np.all(alpha_check == alpha_opt_check):\n",
        "  if np.all(alpha_check == alpha_optLA_check):\n",
        "    print(\"\\033[1;34;47m True | a = m for all, \"\n",
        "    \"therefore all distinct letters match across Methods 1, 2 & 3!\")\n",
        "else:\n",
        "  print(\"False - at least one pair of matrices are not equal, please check!\")\n",
        "\n",
        "# Bug testing if algorithm detects as expected #\n",
        "bug_test_1 = np.matmul(alpha[0], x)\n",
        "bug_test_2 = np.matmul(alpha_opt[1], x)\n",
        "if np.all(bug_test_1 == bug_test_2):\n",
        "  print(\"\\n\\033[1;31;47m Bug test: FAIL | a = m, please check!\")\n",
        "else:\n",
        "  print(\"\\n\\033[1;32;47m Bug test:PASS|a ≠ m, as expected for different letters!\")"
      ],
      "metadata": {
        "id": "Dn1yCBHhPq8P",
        "colab": {
          "base_uri": "https://localhost:8080/"
        },
        "outputId": "75056d6b-d46f-417a-e233-797b15bd8489"
      },
      "execution_count": null,
      "outputs": [
        {
          "output_type": "stream",
          "name": "stdout",
          "text": [
            "\n",
            "\u001b[1;37;40m Authentication algorithm 6:\n",
            "\u001b[1;34;47m True | a = m for all, therefore all distinct letters match across Methods 1, 2 & 3!\n",
            "\n",
            "\u001b[1;32;47m Bug test: PASS | a ≠ m, as expected for different letters!\n"
          ]
        }
      ]
    },
    {
      "cell_type": "markdown",
      "source": [
        "*   Corresponds to ***Section 2.3*** in dissertation\n",
        "  *  **2.3.7 Authentication algorithm 7:** Using null space property, as below\n",
        "  * If null_space(A - M) = identity matrix, then (A - M) = 0, so A = M\n",
        "      1. Given A, M matrices with natural number entries only"
      ],
      "metadata": {
        "id": "yNNQn2a-SVdk"
      }
    },
    {
      "cell_type": "code",
      "source": [
        "from scipy.linalg import null_space\n",
        "t = 0 # tracker\n",
        "print(\"\\n\\033[1;37;40m Authentication algorithm 7:\")\n",
        "for i in range(0,26,1):\n",
        "  diff_1 = np.subtract(alpha[i], alpha_opt[i])\n",
        "  ns_1 = null_space(diff_1)\n",
        "  diff_2 = np.subtract(alpha[i], alpha_optLA[i])\n",
        "  ns_2 = null_space(diff_2)\n",
        "\n",
        "  if np.all(ns_1 != np.identity(2)):\n",
        "    print(\"False - null space not equal to identity for at least 1 letter!\", \n",
        "          \"check letter index #\", i)\n",
        "    if np.all(ns_2 != np.identity(2)):\n",
        "      print(\"False - null space not equal to identity for at least 1 letter!\",\n",
        "            \"check letter index #\", i)\n",
        "    t = t + 1\n",
        "\n",
        "if t == 0:\n",
        "  print(\"\\033[1;34;47m True | null space = identity for same letters, \"\n",
        "    \"therefore all distinct letters match across Methods 1, 2 & 3!\")\n",
        "  \n",
        "# Bug testing if algorithm detects as expected #\n",
        "ns_bug_test = null_space(np.subtract(alpha[0], alpha_opt[1]))\n",
        "bug_test = np.all(ns_bug_test == np.identity(2))\n",
        "if bug_test == False:\n",
        "  print(\"\\n\\033[1;32;47m Bug test: PASS | null space ≠ identity matrix,\",\n",
        "        \"'\",bug_test,\"'\", \"as expected for different letters!\")\n",
        "else:\n",
        "  print(\"\\n\\033[1;31;47m Bug test: FAIL | \", bug_test, \"please check!\")"
      ],
      "metadata": {
        "colab": {
          "base_uri": "https://localhost:8080/"
        },
        "id": "_SpLPvp7S2-g",
        "outputId": "86f7d0b0-b8a4-45cf-a609-239520fff621"
      },
      "execution_count": null,
      "outputs": [
        {
          "output_type": "stream",
          "name": "stdout",
          "text": [
            "\n",
            "\u001b[1;37;40m Authentication algorithm 7:\n",
            "\u001b[1;34;47m True | null space = identity for same letters, therefore all distinct letters match across Methods 1, 2 & 3!\n",
            "\n",
            "\u001b[1;32;47m Bug test: PASS | null space ≠ identity matrix, ' False ' as expected for different letters!\n"
          ]
        }
      ]
    },
    {
      "cell_type": "code",
      "source": [
        "## Null space illustration - test on all zero matrix ## \n",
        "zeros_arr_test = np.array([[0, 0], [0, 0], [0, 0]])\n",
        "print(\"\\n\\033[1;37;40m Zeros matrix (test):\")\n",
        "matrixGrid(zeros_arr_test)\n",
        "\n",
        "ns = null_space(zeros_arr_test)\n",
        "print(\"\\n\\033[1;37;40m Null space of zeros matrix (test):\")\n",
        "matrixGrid(ns)\n",
        "\n",
        "test = np.matmul(zeros_arr_test, ns)\n",
        "print(\"\\n\\033[1;37;40m Matrix multiplication(null space, zeros matrix):\")\n",
        "matrixGrid(test.round(decimals=0))"
      ],
      "metadata": {
        "colab": {
          "base_uri": "https://localhost:8080/",
          "height": 474
        },
        "id": "UVTStTsEKFJB",
        "outputId": "1964ee07-d180-4b1a-babb-bdb1bfe8133c"
      },
      "execution_count": null,
      "outputs": [
        {
          "output_type": "stream",
          "name": "stdout",
          "text": [
            "\n",
            "\u001b[1;37;40m Zeros matrix (test):\n"
          ]
        },
        {
          "output_type": "display_data",
          "data": {
            "text/plain": [
              "<pandas.io.formats.style.Styler at 0x7f302af8ca10>"
            ],
            "text/html": [
              "<style type=\"text/css\">\n",
              "#T_75b7c_row0_col0, #T_75b7c_row0_col1, #T_75b7c_row1_col0, #T_75b7c_row1_col1, #T_75b7c_row2_col0, #T_75b7c_row2_col1 {\n",
              "  background-color: #ff0000;\n",
              "  color: #f1f1f1;\n",
              "}\n",
              "</style>\n",
              "<table id=\"T_75b7c_\" class=\"dataframe\">\n",
              "  <thead>\n",
              "    <tr>\n",
              "      <th class=\"blank level0\" >&nbsp;</th>\n",
              "      <th class=\"col_heading level0 col0\" >0</th>\n",
              "      <th class=\"col_heading level0 col1\" >1</th>\n",
              "    </tr>\n",
              "  </thead>\n",
              "  <tbody>\n",
              "    <tr>\n",
              "      <th id=\"T_75b7c_level0_row0\" class=\"row_heading level0 row0\" >0</th>\n",
              "      <td id=\"T_75b7c_row0_col0\" class=\"data row0 col0\" >0</td>\n",
              "      <td id=\"T_75b7c_row0_col1\" class=\"data row0 col1\" >0</td>\n",
              "    </tr>\n",
              "    <tr>\n",
              "      <th id=\"T_75b7c_level0_row1\" class=\"row_heading level0 row1\" >1</th>\n",
              "      <td id=\"T_75b7c_row1_col0\" class=\"data row1 col0\" >0</td>\n",
              "      <td id=\"T_75b7c_row1_col1\" class=\"data row1 col1\" >0</td>\n",
              "    </tr>\n",
              "    <tr>\n",
              "      <th id=\"T_75b7c_level0_row2\" class=\"row_heading level0 row2\" >2</th>\n",
              "      <td id=\"T_75b7c_row2_col0\" class=\"data row2 col0\" >0</td>\n",
              "      <td id=\"T_75b7c_row2_col1\" class=\"data row2 col1\" >0</td>\n",
              "    </tr>\n",
              "  </tbody>\n",
              "</table>\n"
            ]
          },
          "metadata": {}
        },
        {
          "output_type": "stream",
          "name": "stdout",
          "text": [
            "\n",
            "\u001b[1;37;40m Null space of zeros matrix (test):\n"
          ]
        },
        {
          "output_type": "display_data",
          "data": {
            "text/plain": [
              "<pandas.io.formats.style.Styler at 0x7f302af8ced0>"
            ],
            "text/html": [
              "<style type=\"text/css\">\n",
              "#T_76420_row0_col0, #T_76420_row1_col1 {\n",
              "  background-color: #54ff00;\n",
              "  color: #000000;\n",
              "}\n",
              "#T_76420_row0_col1, #T_76420_row1_col0 {\n",
              "  background-color: #ff0000;\n",
              "  color: #f1f1f1;\n",
              "}\n",
              "</style>\n",
              "<table id=\"T_76420_\" class=\"dataframe\">\n",
              "  <thead>\n",
              "    <tr>\n",
              "      <th class=\"blank level0\" >&nbsp;</th>\n",
              "      <th class=\"col_heading level0 col0\" >0</th>\n",
              "      <th class=\"col_heading level0 col1\" >1</th>\n",
              "    </tr>\n",
              "  </thead>\n",
              "  <tbody>\n",
              "    <tr>\n",
              "      <th id=\"T_76420_level0_row0\" class=\"row_heading level0 row0\" >0</th>\n",
              "      <td id=\"T_76420_row0_col0\" class=\"data row0 col0\" >1</td>\n",
              "      <td id=\"T_76420_row0_col1\" class=\"data row0 col1\" >0</td>\n",
              "    </tr>\n",
              "    <tr>\n",
              "      <th id=\"T_76420_level0_row1\" class=\"row_heading level0 row1\" >1</th>\n",
              "      <td id=\"T_76420_row1_col0\" class=\"data row1 col0\" >0</td>\n",
              "      <td id=\"T_76420_row1_col1\" class=\"data row1 col1\" >1</td>\n",
              "    </tr>\n",
              "  </tbody>\n",
              "</table>\n"
            ]
          },
          "metadata": {}
        },
        {
          "output_type": "stream",
          "name": "stdout",
          "text": [
            "\n",
            "\u001b[1;37;40m Matrix multiplication(null space, zeros matrix):\n"
          ]
        },
        {
          "output_type": "display_data",
          "data": {
            "text/plain": [
              "<pandas.io.formats.style.Styler at 0x7f3028c76610>"
            ],
            "text/html": [
              "<style type=\"text/css\">\n",
              "#T_e2474_row0_col0, #T_e2474_row0_col1, #T_e2474_row1_col0, #T_e2474_row1_col1, #T_e2474_row2_col0, #T_e2474_row2_col1 {\n",
              "  background-color: #ff0000;\n",
              "  color: #f1f1f1;\n",
              "}\n",
              "</style>\n",
              "<table id=\"T_e2474_\" class=\"dataframe\">\n",
              "  <thead>\n",
              "    <tr>\n",
              "      <th class=\"blank level0\" >&nbsp;</th>\n",
              "      <th class=\"col_heading level0 col0\" >0</th>\n",
              "      <th class=\"col_heading level0 col1\" >1</th>\n",
              "    </tr>\n",
              "  </thead>\n",
              "  <tbody>\n",
              "    <tr>\n",
              "      <th id=\"T_e2474_level0_row0\" class=\"row_heading level0 row0\" >0</th>\n",
              "      <td id=\"T_e2474_row0_col0\" class=\"data row0 col0\" >0</td>\n",
              "      <td id=\"T_e2474_row0_col1\" class=\"data row0 col1\" >0</td>\n",
              "    </tr>\n",
              "    <tr>\n",
              "      <th id=\"T_e2474_level0_row1\" class=\"row_heading level0 row1\" >1</th>\n",
              "      <td id=\"T_e2474_row1_col0\" class=\"data row1 col0\" >0</td>\n",
              "      <td id=\"T_e2474_row1_col1\" class=\"data row1 col1\" >0</td>\n",
              "    </tr>\n",
              "    <tr>\n",
              "      <th id=\"T_e2474_level0_row2\" class=\"row_heading level0 row2\" >2</th>\n",
              "      <td id=\"T_e2474_row2_col0\" class=\"data row2 col0\" >0</td>\n",
              "      <td id=\"T_e2474_row2_col1\" class=\"data row2 col1\" >0</td>\n",
              "    </tr>\n",
              "  </tbody>\n",
              "</table>\n"
            ]
          },
          "metadata": {}
        }
      ]
    },
    {
      "cell_type": "markdown",
      "source": [
        "**Braille games: linear algebra back-end** \n",
        "\n",
        "*   Corresponds to ***Section 3.2*** in dissertation\n",
        "  *   3.2 Word game of Braille auto-correct: using SVD"
      ],
      "metadata": {
        "id": "HzzHnE3xnEyH"
      }
    },
    {
      "cell_type": "markdown",
      "source": [
        "**Autocorrect game of 'but' vs 'bat' vs 'bet'**"
      ],
      "metadata": {
        "id": "3dydRtzMFgFV"
      }
    },
    {
      "cell_type": "code",
      "source": [
        "## Autocorrect setup for 'but' mising 'u' ##\n",
        "print(\"\\033[1;34;47m\")\n",
        "\n",
        "but_tuple = (b, u, t)\n",
        "but = np.hstack(but_tuple)\n",
        "print(\"Braille (binary) representation of 'but': \\n\")\n",
        "matrixGrid(but)\n",
        "\n",
        "print(\"\\033[1;34;47m\")\n",
        "ones = np.ones((3,6),int)\n",
        "#print(ones)\n",
        "but_dense = np.add(but,ones)\n",
        "print(\"Braille (dense) representation of 'but': \\n\")\n",
        "matrixGrid(but_dense)\n",
        "\n",
        "print(\"\\033[1;31;47m\")\n",
        "missing = np.zeros((3,2), int)\n",
        "#print(missing)\n",
        "b_t = np.hstack([but_dense[:,[0,1]], missing, but_dense[:,[4,5]]])\n",
        "print(\"Braille (dense) representation of 'b_t': \\n\")\n",
        "matrixGrid(b_t)"
      ],
      "metadata": {
        "id": "t_YfH7R6WjKF",
        "colab": {
          "base_uri": "https://localhost:8080/",
          "height": 560
        },
        "outputId": "3d9d8bac-f750-4f1a-fdee-9eac93350799"
      },
      "execution_count": null,
      "outputs": [
        {
          "output_type": "stream",
          "name": "stdout",
          "text": [
            "\u001b[1;34;47m\n",
            "Braille (binary) representation of 'but': \n",
            "\n"
          ]
        },
        {
          "output_type": "display_data",
          "data": {
            "text/plain": [
              "<pandas.io.formats.style.Styler at 0x7fe686e076d0>"
            ],
            "text/html": [
              "<style type=\"text/css\">\n",
              "#T_1d1a9_row0_col0, #T_1d1a9_row0_col2, #T_1d1a9_row0_col5, #T_1d1a9_row1_col0, #T_1d1a9_row1_col4, #T_1d1a9_row1_col5, #T_1d1a9_row2_col2, #T_1d1a9_row2_col3, #T_1d1a9_row2_col4 {\n",
              "  background-color: #54ff00;\n",
              "  color: #000000;\n",
              "}\n",
              "#T_1d1a9_row0_col1, #T_1d1a9_row0_col3, #T_1d1a9_row0_col4, #T_1d1a9_row1_col1, #T_1d1a9_row1_col2, #T_1d1a9_row1_col3, #T_1d1a9_row2_col0, #T_1d1a9_row2_col1, #T_1d1a9_row2_col5 {\n",
              "  background-color: #ff0000;\n",
              "  color: #f1f1f1;\n",
              "}\n",
              "</style>\n",
              "<table id=\"T_1d1a9_\" class=\"dataframe\">\n",
              "  <thead>\n",
              "    <tr>\n",
              "      <th class=\"blank level0\" >&nbsp;</th>\n",
              "      <th class=\"col_heading level0 col0\" >0</th>\n",
              "      <th class=\"col_heading level0 col1\" >1</th>\n",
              "      <th class=\"col_heading level0 col2\" >2</th>\n",
              "      <th class=\"col_heading level0 col3\" >3</th>\n",
              "      <th class=\"col_heading level0 col4\" >4</th>\n",
              "      <th class=\"col_heading level0 col5\" >5</th>\n",
              "    </tr>\n",
              "  </thead>\n",
              "  <tbody>\n",
              "    <tr>\n",
              "      <th id=\"T_1d1a9_level0_row0\" class=\"row_heading level0 row0\" >0</th>\n",
              "      <td id=\"T_1d1a9_row0_col0\" class=\"data row0 col0\" >1</td>\n",
              "      <td id=\"T_1d1a9_row0_col1\" class=\"data row0 col1\" >0</td>\n",
              "      <td id=\"T_1d1a9_row0_col2\" class=\"data row0 col2\" >1</td>\n",
              "      <td id=\"T_1d1a9_row0_col3\" class=\"data row0 col3\" >0</td>\n",
              "      <td id=\"T_1d1a9_row0_col4\" class=\"data row0 col4\" >0</td>\n",
              "      <td id=\"T_1d1a9_row0_col5\" class=\"data row0 col5\" >1</td>\n",
              "    </tr>\n",
              "    <tr>\n",
              "      <th id=\"T_1d1a9_level0_row1\" class=\"row_heading level0 row1\" >1</th>\n",
              "      <td id=\"T_1d1a9_row1_col0\" class=\"data row1 col0\" >1</td>\n",
              "      <td id=\"T_1d1a9_row1_col1\" class=\"data row1 col1\" >0</td>\n",
              "      <td id=\"T_1d1a9_row1_col2\" class=\"data row1 col2\" >0</td>\n",
              "      <td id=\"T_1d1a9_row1_col3\" class=\"data row1 col3\" >0</td>\n",
              "      <td id=\"T_1d1a9_row1_col4\" class=\"data row1 col4\" >1</td>\n",
              "      <td id=\"T_1d1a9_row1_col5\" class=\"data row1 col5\" >1</td>\n",
              "    </tr>\n",
              "    <tr>\n",
              "      <th id=\"T_1d1a9_level0_row2\" class=\"row_heading level0 row2\" >2</th>\n",
              "      <td id=\"T_1d1a9_row2_col0\" class=\"data row2 col0\" >0</td>\n",
              "      <td id=\"T_1d1a9_row2_col1\" class=\"data row2 col1\" >0</td>\n",
              "      <td id=\"T_1d1a9_row2_col2\" class=\"data row2 col2\" >1</td>\n",
              "      <td id=\"T_1d1a9_row2_col3\" class=\"data row2 col3\" >1</td>\n",
              "      <td id=\"T_1d1a9_row2_col4\" class=\"data row2 col4\" >1</td>\n",
              "      <td id=\"T_1d1a9_row2_col5\" class=\"data row2 col5\" >0</td>\n",
              "    </tr>\n",
              "  </tbody>\n",
              "</table>\n"
            ]
          },
          "metadata": {}
        },
        {
          "output_type": "stream",
          "name": "stdout",
          "text": [
            "\u001b[1;34;47m\n",
            "Braille (dense) representation of 'but': \n",
            "\n"
          ]
        },
        {
          "output_type": "display_data",
          "data": {
            "text/plain": [
              "<pandas.io.formats.style.Styler at 0x7fe686335a90>"
            ],
            "text/html": [
              "<style type=\"text/css\">\n",
              "#T_b8e95_row0_col0, #T_b8e95_row0_col2, #T_b8e95_row0_col5, #T_b8e95_row1_col0, #T_b8e95_row1_col4, #T_b8e95_row1_col5, #T_b8e95_row2_col2, #T_b8e95_row2_col3, #T_b8e95_row2_col4 {\n",
              "  background-color: #54ff00;\n",
              "  color: #000000;\n",
              "}\n",
              "#T_b8e95_row0_col1, #T_b8e95_row0_col3, #T_b8e95_row0_col4, #T_b8e95_row1_col1, #T_b8e95_row1_col2, #T_b8e95_row1_col3, #T_b8e95_row2_col0, #T_b8e95_row2_col1, #T_b8e95_row2_col5 {\n",
              "  background-color: #ff0000;\n",
              "  color: #f1f1f1;\n",
              "}\n",
              "</style>\n",
              "<table id=\"T_b8e95_\" class=\"dataframe\">\n",
              "  <thead>\n",
              "    <tr>\n",
              "      <th class=\"blank level0\" >&nbsp;</th>\n",
              "      <th class=\"col_heading level0 col0\" >0</th>\n",
              "      <th class=\"col_heading level0 col1\" >1</th>\n",
              "      <th class=\"col_heading level0 col2\" >2</th>\n",
              "      <th class=\"col_heading level0 col3\" >3</th>\n",
              "      <th class=\"col_heading level0 col4\" >4</th>\n",
              "      <th class=\"col_heading level0 col5\" >5</th>\n",
              "    </tr>\n",
              "  </thead>\n",
              "  <tbody>\n",
              "    <tr>\n",
              "      <th id=\"T_b8e95_level0_row0\" class=\"row_heading level0 row0\" >0</th>\n",
              "      <td id=\"T_b8e95_row0_col0\" class=\"data row0 col0\" >2</td>\n",
              "      <td id=\"T_b8e95_row0_col1\" class=\"data row0 col1\" >1</td>\n",
              "      <td id=\"T_b8e95_row0_col2\" class=\"data row0 col2\" >2</td>\n",
              "      <td id=\"T_b8e95_row0_col3\" class=\"data row0 col3\" >1</td>\n",
              "      <td id=\"T_b8e95_row0_col4\" class=\"data row0 col4\" >1</td>\n",
              "      <td id=\"T_b8e95_row0_col5\" class=\"data row0 col5\" >2</td>\n",
              "    </tr>\n",
              "    <tr>\n",
              "      <th id=\"T_b8e95_level0_row1\" class=\"row_heading level0 row1\" >1</th>\n",
              "      <td id=\"T_b8e95_row1_col0\" class=\"data row1 col0\" >2</td>\n",
              "      <td id=\"T_b8e95_row1_col1\" class=\"data row1 col1\" >1</td>\n",
              "      <td id=\"T_b8e95_row1_col2\" class=\"data row1 col2\" >1</td>\n",
              "      <td id=\"T_b8e95_row1_col3\" class=\"data row1 col3\" >1</td>\n",
              "      <td id=\"T_b8e95_row1_col4\" class=\"data row1 col4\" >2</td>\n",
              "      <td id=\"T_b8e95_row1_col5\" class=\"data row1 col5\" >2</td>\n",
              "    </tr>\n",
              "    <tr>\n",
              "      <th id=\"T_b8e95_level0_row2\" class=\"row_heading level0 row2\" >2</th>\n",
              "      <td id=\"T_b8e95_row2_col0\" class=\"data row2 col0\" >1</td>\n",
              "      <td id=\"T_b8e95_row2_col1\" class=\"data row2 col1\" >1</td>\n",
              "      <td id=\"T_b8e95_row2_col2\" class=\"data row2 col2\" >2</td>\n",
              "      <td id=\"T_b8e95_row2_col3\" class=\"data row2 col3\" >2</td>\n",
              "      <td id=\"T_b8e95_row2_col4\" class=\"data row2 col4\" >2</td>\n",
              "      <td id=\"T_b8e95_row2_col5\" class=\"data row2 col5\" >1</td>\n",
              "    </tr>\n",
              "  </tbody>\n",
              "</table>\n"
            ]
          },
          "metadata": {}
        },
        {
          "output_type": "stream",
          "name": "stdout",
          "text": [
            "\u001b[1;31;47m\n",
            "Braille (dense) representation of 'b_t': \n",
            "\n"
          ]
        },
        {
          "output_type": "display_data",
          "data": {
            "text/plain": [
              "<pandas.io.formats.style.Styler at 0x7fe686361510>"
            ],
            "text/html": [
              "<style type=\"text/css\">\n",
              "#T_99a09_row0_col0, #T_99a09_row0_col5, #T_99a09_row1_col0, #T_99a09_row1_col4, #T_99a09_row1_col5, #T_99a09_row2_col4 {\n",
              "  background-color: #54ff00;\n",
              "  color: #000000;\n",
              "}\n",
              "#T_99a09_row0_col1, #T_99a09_row0_col4, #T_99a09_row1_col1, #T_99a09_row2_col0, #T_99a09_row2_col1, #T_99a09_row2_col5 {\n",
              "  background-color: #ffd700;\n",
              "  color: #000000;\n",
              "}\n",
              "#T_99a09_row0_col2, #T_99a09_row0_col3, #T_99a09_row1_col2, #T_99a09_row1_col3, #T_99a09_row2_col2, #T_99a09_row2_col3 {\n",
              "  background-color: #ff0000;\n",
              "  color: #f1f1f1;\n",
              "}\n",
              "</style>\n",
              "<table id=\"T_99a09_\" class=\"dataframe\">\n",
              "  <thead>\n",
              "    <tr>\n",
              "      <th class=\"blank level0\" >&nbsp;</th>\n",
              "      <th class=\"col_heading level0 col0\" >0</th>\n",
              "      <th class=\"col_heading level0 col1\" >1</th>\n",
              "      <th class=\"col_heading level0 col2\" >2</th>\n",
              "      <th class=\"col_heading level0 col3\" >3</th>\n",
              "      <th class=\"col_heading level0 col4\" >4</th>\n",
              "      <th class=\"col_heading level0 col5\" >5</th>\n",
              "    </tr>\n",
              "  </thead>\n",
              "  <tbody>\n",
              "    <tr>\n",
              "      <th id=\"T_99a09_level0_row0\" class=\"row_heading level0 row0\" >0</th>\n",
              "      <td id=\"T_99a09_row0_col0\" class=\"data row0 col0\" >2</td>\n",
              "      <td id=\"T_99a09_row0_col1\" class=\"data row0 col1\" >1</td>\n",
              "      <td id=\"T_99a09_row0_col2\" class=\"data row0 col2\" >0</td>\n",
              "      <td id=\"T_99a09_row0_col3\" class=\"data row0 col3\" >0</td>\n",
              "      <td id=\"T_99a09_row0_col4\" class=\"data row0 col4\" >1</td>\n",
              "      <td id=\"T_99a09_row0_col5\" class=\"data row0 col5\" >2</td>\n",
              "    </tr>\n",
              "    <tr>\n",
              "      <th id=\"T_99a09_level0_row1\" class=\"row_heading level0 row1\" >1</th>\n",
              "      <td id=\"T_99a09_row1_col0\" class=\"data row1 col0\" >2</td>\n",
              "      <td id=\"T_99a09_row1_col1\" class=\"data row1 col1\" >1</td>\n",
              "      <td id=\"T_99a09_row1_col2\" class=\"data row1 col2\" >0</td>\n",
              "      <td id=\"T_99a09_row1_col3\" class=\"data row1 col3\" >0</td>\n",
              "      <td id=\"T_99a09_row1_col4\" class=\"data row1 col4\" >2</td>\n",
              "      <td id=\"T_99a09_row1_col5\" class=\"data row1 col5\" >2</td>\n",
              "    </tr>\n",
              "    <tr>\n",
              "      <th id=\"T_99a09_level0_row2\" class=\"row_heading level0 row2\" >2</th>\n",
              "      <td id=\"T_99a09_row2_col0\" class=\"data row2 col0\" >1</td>\n",
              "      <td id=\"T_99a09_row2_col1\" class=\"data row2 col1\" >1</td>\n",
              "      <td id=\"T_99a09_row2_col2\" class=\"data row2 col2\" >0</td>\n",
              "      <td id=\"T_99a09_row2_col3\" class=\"data row2 col3\" >0</td>\n",
              "      <td id=\"T_99a09_row2_col4\" class=\"data row2 col4\" >2</td>\n",
              "      <td id=\"T_99a09_row2_col5\" class=\"data row2 col5\" >1</td>\n",
              "    </tr>\n",
              "  </tbody>\n",
              "</table>\n"
            ]
          },
          "metadata": {}
        }
      ]
    },
    {
      "cell_type": "code",
      "source": [
        "## Autocorrect setup for 'bat' mising 'a' ##\n",
        "print(\"\\033[1;34;47m\")\n",
        "\n",
        "bat_tuple = (b, a, t)\n",
        "bat = np.hstack(bat_tuple)\n",
        "print(\"Braille (binary) representation of 'bat': \\n\")\n",
        "matrixGrid(bat)\n",
        "\n",
        "print(\"\\033[1;34;47m\")\n",
        "ones = np.ones((3,6),int)\n",
        "#print(ones)\n",
        "bat_dense = np.add(bat,ones)\n",
        "print(\"Braille (dense) representation of 'bat': \\n\")\n",
        "matrixGrid(bat_dense)\n",
        "\n",
        "print(\"\\033[1;31;47m\")\n",
        "missing = np.zeros((3,2), int)\n",
        "#print(missing)\n",
        "b_t = np.hstack([bat_dense[:,[0,1]], missing, bat_dense[:,[4,5]]])\n",
        "print(\"Braille (dense) representation of 'b_t': \\n\")\n",
        "matrixGrid(b_t)"
      ],
      "metadata": {
        "colab": {
          "base_uri": "https://localhost:8080/",
          "height": 560
        },
        "id": "OVtiI336QEx4",
        "outputId": "894ca58d-2e85-41b2-969f-f2dd24c6a0db"
      },
      "execution_count": null,
      "outputs": [
        {
          "output_type": "stream",
          "name": "stdout",
          "text": [
            "\u001b[1;34;47m\n",
            "Braille (binary) representation of 'bat': \n",
            "\n"
          ]
        },
        {
          "output_type": "display_data",
          "data": {
            "text/plain": [
              "<pandas.io.formats.style.Styler at 0x7f28337addd0>"
            ],
            "text/html": [
              "<style type=\"text/css\">\n",
              "#T_13d46_row0_col0, #T_13d46_row0_col2, #T_13d46_row0_col5, #T_13d46_row1_col0, #T_13d46_row1_col4, #T_13d46_row1_col5, #T_13d46_row2_col4 {\n",
              "  background-color: #54ff00;\n",
              "  color: #000000;\n",
              "}\n",
              "#T_13d46_row0_col1, #T_13d46_row0_col3, #T_13d46_row0_col4, #T_13d46_row1_col1, #T_13d46_row1_col2, #T_13d46_row1_col3, #T_13d46_row2_col0, #T_13d46_row2_col1, #T_13d46_row2_col2, #T_13d46_row2_col3, #T_13d46_row2_col5 {\n",
              "  background-color: #ff0000;\n",
              "  color: #f1f1f1;\n",
              "}\n",
              "</style>\n",
              "<table id=\"T_13d46_\" class=\"dataframe\">\n",
              "  <thead>\n",
              "    <tr>\n",
              "      <th class=\"blank level0\" >&nbsp;</th>\n",
              "      <th class=\"col_heading level0 col0\" >0</th>\n",
              "      <th class=\"col_heading level0 col1\" >1</th>\n",
              "      <th class=\"col_heading level0 col2\" >2</th>\n",
              "      <th class=\"col_heading level0 col3\" >3</th>\n",
              "      <th class=\"col_heading level0 col4\" >4</th>\n",
              "      <th class=\"col_heading level0 col5\" >5</th>\n",
              "    </tr>\n",
              "  </thead>\n",
              "  <tbody>\n",
              "    <tr>\n",
              "      <th id=\"T_13d46_level0_row0\" class=\"row_heading level0 row0\" >0</th>\n",
              "      <td id=\"T_13d46_row0_col0\" class=\"data row0 col0\" >1</td>\n",
              "      <td id=\"T_13d46_row0_col1\" class=\"data row0 col1\" >0</td>\n",
              "      <td id=\"T_13d46_row0_col2\" class=\"data row0 col2\" >1</td>\n",
              "      <td id=\"T_13d46_row0_col3\" class=\"data row0 col3\" >0</td>\n",
              "      <td id=\"T_13d46_row0_col4\" class=\"data row0 col4\" >0</td>\n",
              "      <td id=\"T_13d46_row0_col5\" class=\"data row0 col5\" >1</td>\n",
              "    </tr>\n",
              "    <tr>\n",
              "      <th id=\"T_13d46_level0_row1\" class=\"row_heading level0 row1\" >1</th>\n",
              "      <td id=\"T_13d46_row1_col0\" class=\"data row1 col0\" >1</td>\n",
              "      <td id=\"T_13d46_row1_col1\" class=\"data row1 col1\" >0</td>\n",
              "      <td id=\"T_13d46_row1_col2\" class=\"data row1 col2\" >0</td>\n",
              "      <td id=\"T_13d46_row1_col3\" class=\"data row1 col3\" >0</td>\n",
              "      <td id=\"T_13d46_row1_col4\" class=\"data row1 col4\" >1</td>\n",
              "      <td id=\"T_13d46_row1_col5\" class=\"data row1 col5\" >1</td>\n",
              "    </tr>\n",
              "    <tr>\n",
              "      <th id=\"T_13d46_level0_row2\" class=\"row_heading level0 row2\" >2</th>\n",
              "      <td id=\"T_13d46_row2_col0\" class=\"data row2 col0\" >0</td>\n",
              "      <td id=\"T_13d46_row2_col1\" class=\"data row2 col1\" >0</td>\n",
              "      <td id=\"T_13d46_row2_col2\" class=\"data row2 col2\" >0</td>\n",
              "      <td id=\"T_13d46_row2_col3\" class=\"data row2 col3\" >0</td>\n",
              "      <td id=\"T_13d46_row2_col4\" class=\"data row2 col4\" >1</td>\n",
              "      <td id=\"T_13d46_row2_col5\" class=\"data row2 col5\" >0</td>\n",
              "    </tr>\n",
              "  </tbody>\n",
              "</table>\n"
            ]
          },
          "metadata": {}
        },
        {
          "output_type": "stream",
          "name": "stdout",
          "text": [
            "\u001b[1;34;47m\n",
            "Braille (dense) representation of 'bat': \n",
            "\n"
          ]
        },
        {
          "output_type": "display_data",
          "data": {
            "text/plain": [
              "<pandas.io.formats.style.Styler at 0x7f28337addd0>"
            ],
            "text/html": [
              "<style type=\"text/css\">\n",
              "#T_2bd68_row0_col0, #T_2bd68_row0_col2, #T_2bd68_row0_col5, #T_2bd68_row1_col0, #T_2bd68_row1_col4, #T_2bd68_row1_col5, #T_2bd68_row2_col4 {\n",
              "  background-color: #54ff00;\n",
              "  color: #000000;\n",
              "}\n",
              "#T_2bd68_row0_col1, #T_2bd68_row0_col3, #T_2bd68_row0_col4, #T_2bd68_row1_col1, #T_2bd68_row1_col2, #T_2bd68_row1_col3, #T_2bd68_row2_col0, #T_2bd68_row2_col1, #T_2bd68_row2_col2, #T_2bd68_row2_col3, #T_2bd68_row2_col5 {\n",
              "  background-color: #ff0000;\n",
              "  color: #f1f1f1;\n",
              "}\n",
              "</style>\n",
              "<table id=\"T_2bd68_\" class=\"dataframe\">\n",
              "  <thead>\n",
              "    <tr>\n",
              "      <th class=\"blank level0\" >&nbsp;</th>\n",
              "      <th class=\"col_heading level0 col0\" >0</th>\n",
              "      <th class=\"col_heading level0 col1\" >1</th>\n",
              "      <th class=\"col_heading level0 col2\" >2</th>\n",
              "      <th class=\"col_heading level0 col3\" >3</th>\n",
              "      <th class=\"col_heading level0 col4\" >4</th>\n",
              "      <th class=\"col_heading level0 col5\" >5</th>\n",
              "    </tr>\n",
              "  </thead>\n",
              "  <tbody>\n",
              "    <tr>\n",
              "      <th id=\"T_2bd68_level0_row0\" class=\"row_heading level0 row0\" >0</th>\n",
              "      <td id=\"T_2bd68_row0_col0\" class=\"data row0 col0\" >2</td>\n",
              "      <td id=\"T_2bd68_row0_col1\" class=\"data row0 col1\" >1</td>\n",
              "      <td id=\"T_2bd68_row0_col2\" class=\"data row0 col2\" >2</td>\n",
              "      <td id=\"T_2bd68_row0_col3\" class=\"data row0 col3\" >1</td>\n",
              "      <td id=\"T_2bd68_row0_col4\" class=\"data row0 col4\" >1</td>\n",
              "      <td id=\"T_2bd68_row0_col5\" class=\"data row0 col5\" >2</td>\n",
              "    </tr>\n",
              "    <tr>\n",
              "      <th id=\"T_2bd68_level0_row1\" class=\"row_heading level0 row1\" >1</th>\n",
              "      <td id=\"T_2bd68_row1_col0\" class=\"data row1 col0\" >2</td>\n",
              "      <td id=\"T_2bd68_row1_col1\" class=\"data row1 col1\" >1</td>\n",
              "      <td id=\"T_2bd68_row1_col2\" class=\"data row1 col2\" >1</td>\n",
              "      <td id=\"T_2bd68_row1_col3\" class=\"data row1 col3\" >1</td>\n",
              "      <td id=\"T_2bd68_row1_col4\" class=\"data row1 col4\" >2</td>\n",
              "      <td id=\"T_2bd68_row1_col5\" class=\"data row1 col5\" >2</td>\n",
              "    </tr>\n",
              "    <tr>\n",
              "      <th id=\"T_2bd68_level0_row2\" class=\"row_heading level0 row2\" >2</th>\n",
              "      <td id=\"T_2bd68_row2_col0\" class=\"data row2 col0\" >1</td>\n",
              "      <td id=\"T_2bd68_row2_col1\" class=\"data row2 col1\" >1</td>\n",
              "      <td id=\"T_2bd68_row2_col2\" class=\"data row2 col2\" >1</td>\n",
              "      <td id=\"T_2bd68_row2_col3\" class=\"data row2 col3\" >1</td>\n",
              "      <td id=\"T_2bd68_row2_col4\" class=\"data row2 col4\" >2</td>\n",
              "      <td id=\"T_2bd68_row2_col5\" class=\"data row2 col5\" >1</td>\n",
              "    </tr>\n",
              "  </tbody>\n",
              "</table>\n"
            ]
          },
          "metadata": {}
        },
        {
          "output_type": "stream",
          "name": "stdout",
          "text": [
            "\u001b[1;31;47m\n",
            "Braille (dense) representation of 'b_t': \n",
            "\n"
          ]
        },
        {
          "output_type": "display_data",
          "data": {
            "text/plain": [
              "<pandas.io.formats.style.Styler at 0x7f2833646410>"
            ],
            "text/html": [
              "<style type=\"text/css\">\n",
              "#T_f5037_row0_col0, #T_f5037_row0_col5, #T_f5037_row1_col0, #T_f5037_row1_col4, #T_f5037_row1_col5, #T_f5037_row2_col4 {\n",
              "  background-color: #54ff00;\n",
              "  color: #000000;\n",
              "}\n",
              "#T_f5037_row0_col1, #T_f5037_row0_col4, #T_f5037_row1_col1, #T_f5037_row2_col0, #T_f5037_row2_col1, #T_f5037_row2_col5 {\n",
              "  background-color: #ffd700;\n",
              "  color: #000000;\n",
              "}\n",
              "#T_f5037_row0_col2, #T_f5037_row0_col3, #T_f5037_row1_col2, #T_f5037_row1_col3, #T_f5037_row2_col2, #T_f5037_row2_col3 {\n",
              "  background-color: #ff0000;\n",
              "  color: #f1f1f1;\n",
              "}\n",
              "</style>\n",
              "<table id=\"T_f5037_\" class=\"dataframe\">\n",
              "  <thead>\n",
              "    <tr>\n",
              "      <th class=\"blank level0\" >&nbsp;</th>\n",
              "      <th class=\"col_heading level0 col0\" >0</th>\n",
              "      <th class=\"col_heading level0 col1\" >1</th>\n",
              "      <th class=\"col_heading level0 col2\" >2</th>\n",
              "      <th class=\"col_heading level0 col3\" >3</th>\n",
              "      <th class=\"col_heading level0 col4\" >4</th>\n",
              "      <th class=\"col_heading level0 col5\" >5</th>\n",
              "    </tr>\n",
              "  </thead>\n",
              "  <tbody>\n",
              "    <tr>\n",
              "      <th id=\"T_f5037_level0_row0\" class=\"row_heading level0 row0\" >0</th>\n",
              "      <td id=\"T_f5037_row0_col0\" class=\"data row0 col0\" >2</td>\n",
              "      <td id=\"T_f5037_row0_col1\" class=\"data row0 col1\" >1</td>\n",
              "      <td id=\"T_f5037_row0_col2\" class=\"data row0 col2\" >0</td>\n",
              "      <td id=\"T_f5037_row0_col3\" class=\"data row0 col3\" >0</td>\n",
              "      <td id=\"T_f5037_row0_col4\" class=\"data row0 col4\" >1</td>\n",
              "      <td id=\"T_f5037_row0_col5\" class=\"data row0 col5\" >2</td>\n",
              "    </tr>\n",
              "    <tr>\n",
              "      <th id=\"T_f5037_level0_row1\" class=\"row_heading level0 row1\" >1</th>\n",
              "      <td id=\"T_f5037_row1_col0\" class=\"data row1 col0\" >2</td>\n",
              "      <td id=\"T_f5037_row1_col1\" class=\"data row1 col1\" >1</td>\n",
              "      <td id=\"T_f5037_row1_col2\" class=\"data row1 col2\" >0</td>\n",
              "      <td id=\"T_f5037_row1_col3\" class=\"data row1 col3\" >0</td>\n",
              "      <td id=\"T_f5037_row1_col4\" class=\"data row1 col4\" >2</td>\n",
              "      <td id=\"T_f5037_row1_col5\" class=\"data row1 col5\" >2</td>\n",
              "    </tr>\n",
              "    <tr>\n",
              "      <th id=\"T_f5037_level0_row2\" class=\"row_heading level0 row2\" >2</th>\n",
              "      <td id=\"T_f5037_row2_col0\" class=\"data row2 col0\" >1</td>\n",
              "      <td id=\"T_f5037_row2_col1\" class=\"data row2 col1\" >1</td>\n",
              "      <td id=\"T_f5037_row2_col2\" class=\"data row2 col2\" >0</td>\n",
              "      <td id=\"T_f5037_row2_col3\" class=\"data row2 col3\" >0</td>\n",
              "      <td id=\"T_f5037_row2_col4\" class=\"data row2 col4\" >2</td>\n",
              "      <td id=\"T_f5037_row2_col5\" class=\"data row2 col5\" >1</td>\n",
              "    </tr>\n",
              "  </tbody>\n",
              "</table>\n"
            ]
          },
          "metadata": {}
        }
      ]
    },
    {
      "cell_type": "code",
      "source": [
        "## Autocorrect setup for 'bet' mising 'e' ##\n",
        "print(\"\\033[1;34;47m\")\n",
        "\n",
        "bet_tuple = (b, e, t)\n",
        "bet = np.hstack(bet_tuple)\n",
        "print(\"Braille (binary) representation of 'bet': \\n\")\n",
        "matrixGrid(bet)\n",
        "\n",
        "print(\"\\033[1;34;47m\")\n",
        "ones = np.ones((3,6),int)\n",
        "#print(ones)\n",
        "bet_dense = np.add(bet,ones)\n",
        "print(\"Braille (dense) representation of 'bet': \\n\")\n",
        "matrixGrid(bet_dense)\n",
        "\n",
        "print(\"\\033[1;31;47m\")\n",
        "missing = np.zeros((3,2), int)\n",
        "#print(missing)\n",
        "b_t = np.hstack([bet_dense[:,[0,1]], missing, bet_dense[:,[4,5]]])\n",
        "print(\"Braille (dense) representation of 'b_t': \\n\")\n",
        "matrixGrid(b_t)"
      ],
      "metadata": {
        "colab": {
          "base_uri": "https://localhost:8080/",
          "height": 560
        },
        "id": "Pil0JV3b9q4s",
        "outputId": "e3eecc4f-a90a-4fc2-8deb-915c4f0f6267"
      },
      "execution_count": null,
      "outputs": [
        {
          "output_type": "stream",
          "name": "stdout",
          "text": [
            "\u001b[1;34;47m\n",
            "Braille (binary) representation of 'bet': \n",
            "\n"
          ]
        },
        {
          "output_type": "display_data",
          "data": {
            "text/plain": [
              "<pandas.io.formats.style.Styler at 0x7f283368dbd0>"
            ],
            "text/html": [
              "<style type=\"text/css\">\n",
              "#T_056ae_row0_col0, #T_056ae_row0_col2, #T_056ae_row0_col5, #T_056ae_row1_col0, #T_056ae_row1_col3, #T_056ae_row1_col4, #T_056ae_row1_col5, #T_056ae_row2_col4 {\n",
              "  background-color: #54ff00;\n",
              "  color: #000000;\n",
              "}\n",
              "#T_056ae_row0_col1, #T_056ae_row0_col3, #T_056ae_row0_col4, #T_056ae_row1_col1, #T_056ae_row1_col2, #T_056ae_row2_col0, #T_056ae_row2_col1, #T_056ae_row2_col2, #T_056ae_row2_col3, #T_056ae_row2_col5 {\n",
              "  background-color: #ff0000;\n",
              "  color: #f1f1f1;\n",
              "}\n",
              "</style>\n",
              "<table id=\"T_056ae_\" class=\"dataframe\">\n",
              "  <thead>\n",
              "    <tr>\n",
              "      <th class=\"blank level0\" >&nbsp;</th>\n",
              "      <th class=\"col_heading level0 col0\" >0</th>\n",
              "      <th class=\"col_heading level0 col1\" >1</th>\n",
              "      <th class=\"col_heading level0 col2\" >2</th>\n",
              "      <th class=\"col_heading level0 col3\" >3</th>\n",
              "      <th class=\"col_heading level0 col4\" >4</th>\n",
              "      <th class=\"col_heading level0 col5\" >5</th>\n",
              "    </tr>\n",
              "  </thead>\n",
              "  <tbody>\n",
              "    <tr>\n",
              "      <th id=\"T_056ae_level0_row0\" class=\"row_heading level0 row0\" >0</th>\n",
              "      <td id=\"T_056ae_row0_col0\" class=\"data row0 col0\" >1</td>\n",
              "      <td id=\"T_056ae_row0_col1\" class=\"data row0 col1\" >0</td>\n",
              "      <td id=\"T_056ae_row0_col2\" class=\"data row0 col2\" >1</td>\n",
              "      <td id=\"T_056ae_row0_col3\" class=\"data row0 col3\" >0</td>\n",
              "      <td id=\"T_056ae_row0_col4\" class=\"data row0 col4\" >0</td>\n",
              "      <td id=\"T_056ae_row0_col5\" class=\"data row0 col5\" >1</td>\n",
              "    </tr>\n",
              "    <tr>\n",
              "      <th id=\"T_056ae_level0_row1\" class=\"row_heading level0 row1\" >1</th>\n",
              "      <td id=\"T_056ae_row1_col0\" class=\"data row1 col0\" >1</td>\n",
              "      <td id=\"T_056ae_row1_col1\" class=\"data row1 col1\" >0</td>\n",
              "      <td id=\"T_056ae_row1_col2\" class=\"data row1 col2\" >0</td>\n",
              "      <td id=\"T_056ae_row1_col3\" class=\"data row1 col3\" >1</td>\n",
              "      <td id=\"T_056ae_row1_col4\" class=\"data row1 col4\" >1</td>\n",
              "      <td id=\"T_056ae_row1_col5\" class=\"data row1 col5\" >1</td>\n",
              "    </tr>\n",
              "    <tr>\n",
              "      <th id=\"T_056ae_level0_row2\" class=\"row_heading level0 row2\" >2</th>\n",
              "      <td id=\"T_056ae_row2_col0\" class=\"data row2 col0\" >0</td>\n",
              "      <td id=\"T_056ae_row2_col1\" class=\"data row2 col1\" >0</td>\n",
              "      <td id=\"T_056ae_row2_col2\" class=\"data row2 col2\" >0</td>\n",
              "      <td id=\"T_056ae_row2_col3\" class=\"data row2 col3\" >0</td>\n",
              "      <td id=\"T_056ae_row2_col4\" class=\"data row2 col4\" >1</td>\n",
              "      <td id=\"T_056ae_row2_col5\" class=\"data row2 col5\" >0</td>\n",
              "    </tr>\n",
              "  </tbody>\n",
              "</table>\n"
            ]
          },
          "metadata": {}
        },
        {
          "output_type": "stream",
          "name": "stdout",
          "text": [
            "\u001b[1;34;47m\n",
            "Braille (dense) representation of 'bet': \n",
            "\n"
          ]
        },
        {
          "output_type": "display_data",
          "data": {
            "text/plain": [
              "<pandas.io.formats.style.Styler at 0x7f283379ce50>"
            ],
            "text/html": [
              "<style type=\"text/css\">\n",
              "#T_a9355_row0_col0, #T_a9355_row0_col2, #T_a9355_row0_col5, #T_a9355_row1_col0, #T_a9355_row1_col3, #T_a9355_row1_col4, #T_a9355_row1_col5, #T_a9355_row2_col4 {\n",
              "  background-color: #54ff00;\n",
              "  color: #000000;\n",
              "}\n",
              "#T_a9355_row0_col1, #T_a9355_row0_col3, #T_a9355_row0_col4, #T_a9355_row1_col1, #T_a9355_row1_col2, #T_a9355_row2_col0, #T_a9355_row2_col1, #T_a9355_row2_col2, #T_a9355_row2_col3, #T_a9355_row2_col5 {\n",
              "  background-color: #ff0000;\n",
              "  color: #f1f1f1;\n",
              "}\n",
              "</style>\n",
              "<table id=\"T_a9355_\" class=\"dataframe\">\n",
              "  <thead>\n",
              "    <tr>\n",
              "      <th class=\"blank level0\" >&nbsp;</th>\n",
              "      <th class=\"col_heading level0 col0\" >0</th>\n",
              "      <th class=\"col_heading level0 col1\" >1</th>\n",
              "      <th class=\"col_heading level0 col2\" >2</th>\n",
              "      <th class=\"col_heading level0 col3\" >3</th>\n",
              "      <th class=\"col_heading level0 col4\" >4</th>\n",
              "      <th class=\"col_heading level0 col5\" >5</th>\n",
              "    </tr>\n",
              "  </thead>\n",
              "  <tbody>\n",
              "    <tr>\n",
              "      <th id=\"T_a9355_level0_row0\" class=\"row_heading level0 row0\" >0</th>\n",
              "      <td id=\"T_a9355_row0_col0\" class=\"data row0 col0\" >2</td>\n",
              "      <td id=\"T_a9355_row0_col1\" class=\"data row0 col1\" >1</td>\n",
              "      <td id=\"T_a9355_row0_col2\" class=\"data row0 col2\" >2</td>\n",
              "      <td id=\"T_a9355_row0_col3\" class=\"data row0 col3\" >1</td>\n",
              "      <td id=\"T_a9355_row0_col4\" class=\"data row0 col4\" >1</td>\n",
              "      <td id=\"T_a9355_row0_col5\" class=\"data row0 col5\" >2</td>\n",
              "    </tr>\n",
              "    <tr>\n",
              "      <th id=\"T_a9355_level0_row1\" class=\"row_heading level0 row1\" >1</th>\n",
              "      <td id=\"T_a9355_row1_col0\" class=\"data row1 col0\" >2</td>\n",
              "      <td id=\"T_a9355_row1_col1\" class=\"data row1 col1\" >1</td>\n",
              "      <td id=\"T_a9355_row1_col2\" class=\"data row1 col2\" >1</td>\n",
              "      <td id=\"T_a9355_row1_col3\" class=\"data row1 col3\" >2</td>\n",
              "      <td id=\"T_a9355_row1_col4\" class=\"data row1 col4\" >2</td>\n",
              "      <td id=\"T_a9355_row1_col5\" class=\"data row1 col5\" >2</td>\n",
              "    </tr>\n",
              "    <tr>\n",
              "      <th id=\"T_a9355_level0_row2\" class=\"row_heading level0 row2\" >2</th>\n",
              "      <td id=\"T_a9355_row2_col0\" class=\"data row2 col0\" >1</td>\n",
              "      <td id=\"T_a9355_row2_col1\" class=\"data row2 col1\" >1</td>\n",
              "      <td id=\"T_a9355_row2_col2\" class=\"data row2 col2\" >1</td>\n",
              "      <td id=\"T_a9355_row2_col3\" class=\"data row2 col3\" >1</td>\n",
              "      <td id=\"T_a9355_row2_col4\" class=\"data row2 col4\" >2</td>\n",
              "      <td id=\"T_a9355_row2_col5\" class=\"data row2 col5\" >1</td>\n",
              "    </tr>\n",
              "  </tbody>\n",
              "</table>\n"
            ]
          },
          "metadata": {}
        },
        {
          "output_type": "stream",
          "name": "stdout",
          "text": [
            "\u001b[1;31;47m\n",
            "Braille (dense) representation of 'b_t': \n",
            "\n"
          ]
        },
        {
          "output_type": "display_data",
          "data": {
            "text/plain": [
              "<pandas.io.formats.style.Styler at 0x7f28336bf190>"
            ],
            "text/html": [
              "<style type=\"text/css\">\n",
              "#T_7dc16_row0_col0, #T_7dc16_row0_col5, #T_7dc16_row1_col0, #T_7dc16_row1_col4, #T_7dc16_row1_col5, #T_7dc16_row2_col4 {\n",
              "  background-color: #54ff00;\n",
              "  color: #000000;\n",
              "}\n",
              "#T_7dc16_row0_col1, #T_7dc16_row0_col4, #T_7dc16_row1_col1, #T_7dc16_row2_col0, #T_7dc16_row2_col1, #T_7dc16_row2_col5 {\n",
              "  background-color: #ffd700;\n",
              "  color: #000000;\n",
              "}\n",
              "#T_7dc16_row0_col2, #T_7dc16_row0_col3, #T_7dc16_row1_col2, #T_7dc16_row1_col3, #T_7dc16_row2_col2, #T_7dc16_row2_col3 {\n",
              "  background-color: #ff0000;\n",
              "  color: #f1f1f1;\n",
              "}\n",
              "</style>\n",
              "<table id=\"T_7dc16_\" class=\"dataframe\">\n",
              "  <thead>\n",
              "    <tr>\n",
              "      <th class=\"blank level0\" >&nbsp;</th>\n",
              "      <th class=\"col_heading level0 col0\" >0</th>\n",
              "      <th class=\"col_heading level0 col1\" >1</th>\n",
              "      <th class=\"col_heading level0 col2\" >2</th>\n",
              "      <th class=\"col_heading level0 col3\" >3</th>\n",
              "      <th class=\"col_heading level0 col4\" >4</th>\n",
              "      <th class=\"col_heading level0 col5\" >5</th>\n",
              "    </tr>\n",
              "  </thead>\n",
              "  <tbody>\n",
              "    <tr>\n",
              "      <th id=\"T_7dc16_level0_row0\" class=\"row_heading level0 row0\" >0</th>\n",
              "      <td id=\"T_7dc16_row0_col0\" class=\"data row0 col0\" >2</td>\n",
              "      <td id=\"T_7dc16_row0_col1\" class=\"data row0 col1\" >1</td>\n",
              "      <td id=\"T_7dc16_row0_col2\" class=\"data row0 col2\" >0</td>\n",
              "      <td id=\"T_7dc16_row0_col3\" class=\"data row0 col3\" >0</td>\n",
              "      <td id=\"T_7dc16_row0_col4\" class=\"data row0 col4\" >1</td>\n",
              "      <td id=\"T_7dc16_row0_col5\" class=\"data row0 col5\" >2</td>\n",
              "    </tr>\n",
              "    <tr>\n",
              "      <th id=\"T_7dc16_level0_row1\" class=\"row_heading level0 row1\" >1</th>\n",
              "      <td id=\"T_7dc16_row1_col0\" class=\"data row1 col0\" >2</td>\n",
              "      <td id=\"T_7dc16_row1_col1\" class=\"data row1 col1\" >1</td>\n",
              "      <td id=\"T_7dc16_row1_col2\" class=\"data row1 col2\" >0</td>\n",
              "      <td id=\"T_7dc16_row1_col3\" class=\"data row1 col3\" >0</td>\n",
              "      <td id=\"T_7dc16_row1_col4\" class=\"data row1 col4\" >2</td>\n",
              "      <td id=\"T_7dc16_row1_col5\" class=\"data row1 col5\" >2</td>\n",
              "    </tr>\n",
              "    <tr>\n",
              "      <th id=\"T_7dc16_level0_row2\" class=\"row_heading level0 row2\" >2</th>\n",
              "      <td id=\"T_7dc16_row2_col0\" class=\"data row2 col0\" >1</td>\n",
              "      <td id=\"T_7dc16_row2_col1\" class=\"data row2 col1\" >1</td>\n",
              "      <td id=\"T_7dc16_row2_col2\" class=\"data row2 col2\" >0</td>\n",
              "      <td id=\"T_7dc16_row2_col3\" class=\"data row2 col3\" >0</td>\n",
              "      <td id=\"T_7dc16_row2_col4\" class=\"data row2 col4\" >2</td>\n",
              "      <td id=\"T_7dc16_row2_col5\" class=\"data row2 col5\" >1</td>\n",
              "    </tr>\n",
              "  </tbody>\n",
              "</table>\n"
            ]
          },
          "metadata": {}
        }
      ]
    },
    {
      "cell_type": "code",
      "source": [
        "## Finding the 'u' or 'a' or 'e' ##\n",
        "print(\"\\033[1;34;47m\")\n",
        "sol = np.subtract(bet_dense, b_t) # REMEMBER TO CHANGE HERE ##\n",
        "print(\"Result of matrix subtraction of (bet_dense) - (b_t):\")\n",
        "matrixGrid(sol)"
      ],
      "metadata": {
        "colab": {
          "base_uri": "https://localhost:8080/",
          "height": 180
        },
        "id": "1a-GfTE5Q7Sd",
        "outputId": "ad60003b-9c96-4663-f4c3-8e769ee6d16f"
      },
      "execution_count": null,
      "outputs": [
        {
          "output_type": "stream",
          "name": "stdout",
          "text": [
            "\u001b[1;34;47m\n",
            "Result of matrix subtraction of (bet_dense) - (b_t):\n"
          ]
        },
        {
          "output_type": "display_data",
          "data": {
            "text/plain": [
              "<pandas.io.formats.style.Styler at 0x7f28336b6a10>"
            ],
            "text/html": [
              "<style type=\"text/css\">\n",
              "#T_63aaf_row0_col0, #T_63aaf_row0_col1, #T_63aaf_row0_col4, #T_63aaf_row0_col5, #T_63aaf_row1_col0, #T_63aaf_row1_col1, #T_63aaf_row1_col4, #T_63aaf_row1_col5, #T_63aaf_row2_col0, #T_63aaf_row2_col1, #T_63aaf_row2_col4, #T_63aaf_row2_col5 {\n",
              "  background-color: #ff0000;\n",
              "  color: #f1f1f1;\n",
              "}\n",
              "#T_63aaf_row0_col2, #T_63aaf_row1_col3 {\n",
              "  background-color: #54ff00;\n",
              "  color: #000000;\n",
              "}\n",
              "#T_63aaf_row0_col3, #T_63aaf_row1_col2, #T_63aaf_row2_col2, #T_63aaf_row2_col3 {\n",
              "  background-color: #ffd700;\n",
              "  color: #000000;\n",
              "}\n",
              "</style>\n",
              "<table id=\"T_63aaf_\" class=\"dataframe\">\n",
              "  <thead>\n",
              "    <tr>\n",
              "      <th class=\"blank level0\" >&nbsp;</th>\n",
              "      <th class=\"col_heading level0 col0\" >0</th>\n",
              "      <th class=\"col_heading level0 col1\" >1</th>\n",
              "      <th class=\"col_heading level0 col2\" >2</th>\n",
              "      <th class=\"col_heading level0 col3\" >3</th>\n",
              "      <th class=\"col_heading level0 col4\" >4</th>\n",
              "      <th class=\"col_heading level0 col5\" >5</th>\n",
              "    </tr>\n",
              "  </thead>\n",
              "  <tbody>\n",
              "    <tr>\n",
              "      <th id=\"T_63aaf_level0_row0\" class=\"row_heading level0 row0\" >0</th>\n",
              "      <td id=\"T_63aaf_row0_col0\" class=\"data row0 col0\" >0</td>\n",
              "      <td id=\"T_63aaf_row0_col1\" class=\"data row0 col1\" >0</td>\n",
              "      <td id=\"T_63aaf_row0_col2\" class=\"data row0 col2\" >2</td>\n",
              "      <td id=\"T_63aaf_row0_col3\" class=\"data row0 col3\" >1</td>\n",
              "      <td id=\"T_63aaf_row0_col4\" class=\"data row0 col4\" >0</td>\n",
              "      <td id=\"T_63aaf_row0_col5\" class=\"data row0 col5\" >0</td>\n",
              "    </tr>\n",
              "    <tr>\n",
              "      <th id=\"T_63aaf_level0_row1\" class=\"row_heading level0 row1\" >1</th>\n",
              "      <td id=\"T_63aaf_row1_col0\" class=\"data row1 col0\" >0</td>\n",
              "      <td id=\"T_63aaf_row1_col1\" class=\"data row1 col1\" >0</td>\n",
              "      <td id=\"T_63aaf_row1_col2\" class=\"data row1 col2\" >1</td>\n",
              "      <td id=\"T_63aaf_row1_col3\" class=\"data row1 col3\" >2</td>\n",
              "      <td id=\"T_63aaf_row1_col4\" class=\"data row1 col4\" >0</td>\n",
              "      <td id=\"T_63aaf_row1_col5\" class=\"data row1 col5\" >0</td>\n",
              "    </tr>\n",
              "    <tr>\n",
              "      <th id=\"T_63aaf_level0_row2\" class=\"row_heading level0 row2\" >2</th>\n",
              "      <td id=\"T_63aaf_row2_col0\" class=\"data row2 col0\" >0</td>\n",
              "      <td id=\"T_63aaf_row2_col1\" class=\"data row2 col1\" >0</td>\n",
              "      <td id=\"T_63aaf_row2_col2\" class=\"data row2 col2\" >1</td>\n",
              "      <td id=\"T_63aaf_row2_col3\" class=\"data row2 col3\" >1</td>\n",
              "      <td id=\"T_63aaf_row2_col4\" class=\"data row2 col4\" >0</td>\n",
              "      <td id=\"T_63aaf_row2_col5\" class=\"data row2 col5\" >0</td>\n",
              "    </tr>\n",
              "  </tbody>\n",
              "</table>\n"
            ]
          },
          "metadata": {}
        }
      ]
    },
    {
      "cell_type": "code",
      "source": [
        "## Longest word is 45 letters - good way to extract! ##\n",
        "## Generalisable way to get one missing letter ##\n",
        "print(\"\\033[1;35;47m\")\n",
        "gap = 2 # set this to '1' if first letter missing, '2' if second letter etc #\n",
        "for i in range(1,46,1):\n",
        "  if gap == i:\n",
        "    if gap == 1:\n",
        "      col_1 = i-1\n",
        "      col_2 = i\n",
        "    elif gap > 1:\n",
        "      col_1 = i\n",
        "      col_2 = i+1\n",
        "    print(\"First Braille column of missing letter: \", col_1)\n",
        "    print(\"Second Braille column of missing letter:\", col_2)\n",
        "\n",
        "sol_extracted_dense = sol[:,[col_1,col_2]]\n",
        "print(\"\\n \\033[1;31;47m Extracted solution for missing letter: \")\n",
        "print(\"\\n \\033[1;32;47m Dense \")\n",
        "matrixGrid(sol_extracted_dense)"
      ],
      "metadata": {
        "colab": {
          "base_uri": "https://localhost:8080/",
          "height": 271
        },
        "id": "8BP1NPBEVrjp",
        "outputId": "7005787b-76d1-446f-9493-e22555ad3582"
      },
      "execution_count": null,
      "outputs": [
        {
          "output_type": "stream",
          "name": "stdout",
          "text": [
            "\u001b[1;35;47m\n",
            "First Braille column of missing letter:  2\n",
            "Second Braille column of missing letter: 3\n",
            "\n",
            " \u001b[1;31;47m Extracted solution for missing letter: \n",
            "\n",
            " \u001b[1;32;47m Dense \n"
          ]
        },
        {
          "output_type": "display_data",
          "data": {
            "text/plain": [
              "<pandas.io.formats.style.Styler at 0x7f283365f8d0>"
            ],
            "text/html": [
              "<style type=\"text/css\">\n",
              "#T_ad8d3_row0_col0, #T_ad8d3_row1_col1 {\n",
              "  background-color: #54ff00;\n",
              "  color: #000000;\n",
              "}\n",
              "#T_ad8d3_row0_col1, #T_ad8d3_row1_col0, #T_ad8d3_row2_col0, #T_ad8d3_row2_col1 {\n",
              "  background-color: #ff0000;\n",
              "  color: #f1f1f1;\n",
              "}\n",
              "</style>\n",
              "<table id=\"T_ad8d3_\" class=\"dataframe\">\n",
              "  <thead>\n",
              "    <tr>\n",
              "      <th class=\"blank level0\" >&nbsp;</th>\n",
              "      <th class=\"col_heading level0 col0\" >0</th>\n",
              "      <th class=\"col_heading level0 col1\" >1</th>\n",
              "    </tr>\n",
              "  </thead>\n",
              "  <tbody>\n",
              "    <tr>\n",
              "      <th id=\"T_ad8d3_level0_row0\" class=\"row_heading level0 row0\" >0</th>\n",
              "      <td id=\"T_ad8d3_row0_col0\" class=\"data row0 col0\" >2</td>\n",
              "      <td id=\"T_ad8d3_row0_col1\" class=\"data row0 col1\" >1</td>\n",
              "    </tr>\n",
              "    <tr>\n",
              "      <th id=\"T_ad8d3_level0_row1\" class=\"row_heading level0 row1\" >1</th>\n",
              "      <td id=\"T_ad8d3_row1_col0\" class=\"data row1 col0\" >1</td>\n",
              "      <td id=\"T_ad8d3_row1_col1\" class=\"data row1 col1\" >2</td>\n",
              "    </tr>\n",
              "    <tr>\n",
              "      <th id=\"T_ad8d3_level0_row2\" class=\"row_heading level0 row2\" >2</th>\n",
              "      <td id=\"T_ad8d3_row2_col0\" class=\"data row2 col0\" >1</td>\n",
              "      <td id=\"T_ad8d3_row2_col1\" class=\"data row2 col1\" >1</td>\n",
              "    </tr>\n",
              "  </tbody>\n",
              "</table>\n"
            ]
          },
          "metadata": {}
        }
      ]
    },
    {
      "cell_type": "code",
      "source": [
        "sol_extracted = np.subtract(sol_extracted_dense, ones[:,[0,1]])\n",
        "print(\"\\n \\033[1;32;47m Sparse \")\n",
        "matrixGrid(sol_extracted)"
      ],
      "metadata": {
        "colab": {
          "base_uri": "https://localhost:8080/",
          "height": 180
        },
        "id": "R_h02Ano_EZk",
        "outputId": "1e40ffdf-0c05-4567-ab40-d7a2e58b6e04"
      },
      "execution_count": null,
      "outputs": [
        {
          "output_type": "stream",
          "name": "stdout",
          "text": [
            "\n",
            " \u001b[1;32;47m Sparse \n"
          ]
        },
        {
          "output_type": "display_data",
          "data": {
            "text/plain": [
              "<pandas.io.formats.style.Styler at 0x7f283365f490>"
            ],
            "text/html": [
              "<style type=\"text/css\">\n",
              "#T_f96df_row0_col0, #T_f96df_row1_col1 {\n",
              "  background-color: #54ff00;\n",
              "  color: #000000;\n",
              "}\n",
              "#T_f96df_row0_col1, #T_f96df_row1_col0, #T_f96df_row2_col0, #T_f96df_row2_col1 {\n",
              "  background-color: #ff0000;\n",
              "  color: #f1f1f1;\n",
              "}\n",
              "</style>\n",
              "<table id=\"T_f96df_\" class=\"dataframe\">\n",
              "  <thead>\n",
              "    <tr>\n",
              "      <th class=\"blank level0\" >&nbsp;</th>\n",
              "      <th class=\"col_heading level0 col0\" >0</th>\n",
              "      <th class=\"col_heading level0 col1\" >1</th>\n",
              "    </tr>\n",
              "  </thead>\n",
              "  <tbody>\n",
              "    <tr>\n",
              "      <th id=\"T_f96df_level0_row0\" class=\"row_heading level0 row0\" >0</th>\n",
              "      <td id=\"T_f96df_row0_col0\" class=\"data row0 col0\" >1</td>\n",
              "      <td id=\"T_f96df_row0_col1\" class=\"data row0 col1\" >0</td>\n",
              "    </tr>\n",
              "    <tr>\n",
              "      <th id=\"T_f96df_level0_row1\" class=\"row_heading level0 row1\" >1</th>\n",
              "      <td id=\"T_f96df_row1_col0\" class=\"data row1 col0\" >0</td>\n",
              "      <td id=\"T_f96df_row1_col1\" class=\"data row1 col1\" >1</td>\n",
              "    </tr>\n",
              "    <tr>\n",
              "      <th id=\"T_f96df_level0_row2\" class=\"row_heading level0 row2\" >2</th>\n",
              "      <td id=\"T_f96df_row2_col0\" class=\"data row2 col0\" >0</td>\n",
              "      <td id=\"T_f96df_row2_col1\" class=\"data row2 col1\" >0</td>\n",
              "    </tr>\n",
              "  </tbody>\n",
              "</table>\n"
            ]
          },
          "metadata": {}
        }
      ]
    },
    {
      "cell_type": "code",
      "source": [
        "print(\"\\033[2;37;40m\")\n",
        "print(\"Direct code solution \")\n",
        "\n",
        "for i in range(0,26,1):\n",
        "  if np.all(alpha[i] == sol_extracted):\n",
        "    #print(alpha[i])\n",
        "    print(\"\\033[1;30;47m\")\n",
        "    print(\"Missing letter: \\n \", alpha_index[i])\n",
        "    print(\"\\033[1;34;47m\")\n",
        "    print(\"Position of missing letter in alphabet: \\n\", i+1)"
      ],
      "metadata": {
        "colab": {
          "base_uri": "https://localhost:8080/"
        },
        "id": "6gjRFKiR3_yf",
        "outputId": "5e9cafdc-fe9e-4ca5-ab5c-73288f9fae11"
      },
      "execution_count": null,
      "outputs": [
        {
          "output_type": "stream",
          "name": "stdout",
          "text": [
            "\u001b[2;37;40m\n",
            "Direct code solution \n",
            "\u001b[1;30;47m\n",
            "Missing letter: \n",
            "  e\n",
            "\u001b[1;34;47m\n",
            "Position of missing letter in alphabet: \n",
            " 5\n"
          ]
        }
      ]
    },
    {
      "cell_type": "code",
      "source": [
        "ones_LA = np.ones((3,2), int)\n",
        "# print(ones_LA)\n",
        "b_t = np.hstack([but_dense[:,[0,1]], ones_LA, but_dense[:,[4,5]]])\n",
        "print(\"\\033[1;31;47m\")\n",
        "print(\"Braille (dense) representation of 'b_t': \\n\")\n",
        "matrixGrid(b_t)"
      ],
      "metadata": {
        "colab": {
          "base_uri": "https://localhost:8080/",
          "height": 198
        },
        "id": "-Gffuoxmv26e",
        "outputId": "28b05258-2938-429a-e87d-d8943838dddc"
      },
      "execution_count": null,
      "outputs": [
        {
          "output_type": "stream",
          "name": "stdout",
          "text": [
            "\u001b[1;31;47m\n",
            "Braille (dense) representation of 'b_t': \n",
            "\n"
          ]
        },
        {
          "output_type": "display_data",
          "data": {
            "text/plain": [
              "<pandas.io.formats.style.Styler at 0x7f2833686ad0>"
            ],
            "text/html": [
              "<style type=\"text/css\">\n",
              "#T_12a63_row0_col0, #T_12a63_row0_col5, #T_12a63_row1_col0, #T_12a63_row1_col4, #T_12a63_row1_col5, #T_12a63_row2_col4 {\n",
              "  background-color: #54ff00;\n",
              "  color: #000000;\n",
              "}\n",
              "#T_12a63_row0_col1, #T_12a63_row0_col2, #T_12a63_row0_col3, #T_12a63_row0_col4, #T_12a63_row1_col1, #T_12a63_row1_col2, #T_12a63_row1_col3, #T_12a63_row2_col0, #T_12a63_row2_col1, #T_12a63_row2_col2, #T_12a63_row2_col3, #T_12a63_row2_col5 {\n",
              "  background-color: #ff0000;\n",
              "  color: #f1f1f1;\n",
              "}\n",
              "</style>\n",
              "<table id=\"T_12a63_\" class=\"dataframe\">\n",
              "  <thead>\n",
              "    <tr>\n",
              "      <th class=\"blank level0\" >&nbsp;</th>\n",
              "      <th class=\"col_heading level0 col0\" >0</th>\n",
              "      <th class=\"col_heading level0 col1\" >1</th>\n",
              "      <th class=\"col_heading level0 col2\" >2</th>\n",
              "      <th class=\"col_heading level0 col3\" >3</th>\n",
              "      <th class=\"col_heading level0 col4\" >4</th>\n",
              "      <th class=\"col_heading level0 col5\" >5</th>\n",
              "    </tr>\n",
              "  </thead>\n",
              "  <tbody>\n",
              "    <tr>\n",
              "      <th id=\"T_12a63_level0_row0\" class=\"row_heading level0 row0\" >0</th>\n",
              "      <td id=\"T_12a63_row0_col0\" class=\"data row0 col0\" >2</td>\n",
              "      <td id=\"T_12a63_row0_col1\" class=\"data row0 col1\" >1</td>\n",
              "      <td id=\"T_12a63_row0_col2\" class=\"data row0 col2\" >1</td>\n",
              "      <td id=\"T_12a63_row0_col3\" class=\"data row0 col3\" >1</td>\n",
              "      <td id=\"T_12a63_row0_col4\" class=\"data row0 col4\" >1</td>\n",
              "      <td id=\"T_12a63_row0_col5\" class=\"data row0 col5\" >2</td>\n",
              "    </tr>\n",
              "    <tr>\n",
              "      <th id=\"T_12a63_level0_row1\" class=\"row_heading level0 row1\" >1</th>\n",
              "      <td id=\"T_12a63_row1_col0\" class=\"data row1 col0\" >2</td>\n",
              "      <td id=\"T_12a63_row1_col1\" class=\"data row1 col1\" >1</td>\n",
              "      <td id=\"T_12a63_row1_col2\" class=\"data row1 col2\" >1</td>\n",
              "      <td id=\"T_12a63_row1_col3\" class=\"data row1 col3\" >1</td>\n",
              "      <td id=\"T_12a63_row1_col4\" class=\"data row1 col4\" >2</td>\n",
              "      <td id=\"T_12a63_row1_col5\" class=\"data row1 col5\" >2</td>\n",
              "    </tr>\n",
              "    <tr>\n",
              "      <th id=\"T_12a63_level0_row2\" class=\"row_heading level0 row2\" >2</th>\n",
              "      <td id=\"T_12a63_row2_col0\" class=\"data row2 col0\" >1</td>\n",
              "      <td id=\"T_12a63_row2_col1\" class=\"data row2 col1\" >1</td>\n",
              "      <td id=\"T_12a63_row2_col2\" class=\"data row2 col2\" >1</td>\n",
              "      <td id=\"T_12a63_row2_col3\" class=\"data row2 col3\" >1</td>\n",
              "      <td id=\"T_12a63_row2_col4\" class=\"data row2 col4\" >2</td>\n",
              "      <td id=\"T_12a63_row2_col5\" class=\"data row2 col5\" >1</td>\n",
              "    </tr>\n",
              "  </tbody>\n",
              "</table>\n"
            ]
          },
          "metadata": {}
        }
      ]
    },
    {
      "cell_type": "code",
      "source": [
        "rank(b_t)"
      ],
      "metadata": {
        "colab": {
          "base_uri": "https://localhost:8080/"
        },
        "id": "lZhfJ5Oxf3ul",
        "outputId": "98bd4bd9-b43f-4fc0-cdd0-b78e2f485d2f"
      },
      "execution_count": null,
      "outputs": [
        {
          "output_type": "execute_result",
          "data": {
            "text/plain": [
              "3"
            ]
          },
          "metadata": {},
          "execution_count": 28
        }
      ]
    },
    {
      "cell_type": "code",
      "source": [
        "A_LA = b_t\n",
        "b_LA = sol_extracted_dense\n",
        "print(\"A:\\n \\033[1;31;47m Braille (dense) representation of 'b_t': \\n\")\n",
        "matrixGridSolType1(A_LA)\n",
        "print(\"\\n b: \\n \\033[1;31;47m Braille (dense) representation of 'e': \\n\")\n",
        "matrixGridSolType1(b_LA)\n",
        "#rank(A_LA)"
      ],
      "metadata": {
        "colab": {
          "base_uri": "https://localhost:8080/",
          "height": 397
        },
        "id": "84oRQ7ReuylB",
        "outputId": "6bc46bf0-5599-4cf0-d13c-d41dcefb64c8"
      },
      "execution_count": null,
      "outputs": [
        {
          "output_type": "stream",
          "name": "stdout",
          "text": [
            "A:\n",
            " \u001b[1;31;47m Braille (dense) representation of 'b_t': \n",
            "\n"
          ]
        },
        {
          "output_type": "display_data",
          "data": {
            "text/plain": [
              "<pandas.io.formats.style.Styler at 0x7f2833686190>"
            ],
            "text/html": [
              "<style type=\"text/css\">\n",
              "#T_d1fe0_row0_col0, #T_d1fe0_row0_col5, #T_d1fe0_row1_col0, #T_d1fe0_row1_col4, #T_d1fe0_row1_col5, #T_d1fe0_row2_col4 {\n",
              "  background-color: #000000;\n",
              "  color: #f1f1f1;\n",
              "}\n",
              "#T_d1fe0_row0_col1, #T_d1fe0_row0_col2, #T_d1fe0_row0_col3, #T_d1fe0_row0_col4, #T_d1fe0_row1_col1, #T_d1fe0_row1_col2, #T_d1fe0_row1_col3, #T_d1fe0_row2_col0, #T_d1fe0_row2_col1, #T_d1fe0_row2_col2, #T_d1fe0_row2_col3, #T_d1fe0_row2_col5 {\n",
              "  background-color: #ff0000;\n",
              "  color: #f1f1f1;\n",
              "}\n",
              "</style>\n",
              "<table id=\"T_d1fe0_\" class=\"dataframe\">\n",
              "  <thead>\n",
              "    <tr>\n",
              "      <th class=\"blank level0\" >&nbsp;</th>\n",
              "      <th class=\"col_heading level0 col0\" >0</th>\n",
              "      <th class=\"col_heading level0 col1\" >1</th>\n",
              "      <th class=\"col_heading level0 col2\" >2</th>\n",
              "      <th class=\"col_heading level0 col3\" >3</th>\n",
              "      <th class=\"col_heading level0 col4\" >4</th>\n",
              "      <th class=\"col_heading level0 col5\" >5</th>\n",
              "    </tr>\n",
              "  </thead>\n",
              "  <tbody>\n",
              "    <tr>\n",
              "      <th id=\"T_d1fe0_level0_row0\" class=\"row_heading level0 row0\" >0</th>\n",
              "      <td id=\"T_d1fe0_row0_col0\" class=\"data row0 col0\" >2</td>\n",
              "      <td id=\"T_d1fe0_row0_col1\" class=\"data row0 col1\" >1</td>\n",
              "      <td id=\"T_d1fe0_row0_col2\" class=\"data row0 col2\" >1</td>\n",
              "      <td id=\"T_d1fe0_row0_col3\" class=\"data row0 col3\" >1</td>\n",
              "      <td id=\"T_d1fe0_row0_col4\" class=\"data row0 col4\" >1</td>\n",
              "      <td id=\"T_d1fe0_row0_col5\" class=\"data row0 col5\" >2</td>\n",
              "    </tr>\n",
              "    <tr>\n",
              "      <th id=\"T_d1fe0_level0_row1\" class=\"row_heading level0 row1\" >1</th>\n",
              "      <td id=\"T_d1fe0_row1_col0\" class=\"data row1 col0\" >2</td>\n",
              "      <td id=\"T_d1fe0_row1_col1\" class=\"data row1 col1\" >1</td>\n",
              "      <td id=\"T_d1fe0_row1_col2\" class=\"data row1 col2\" >1</td>\n",
              "      <td id=\"T_d1fe0_row1_col3\" class=\"data row1 col3\" >1</td>\n",
              "      <td id=\"T_d1fe0_row1_col4\" class=\"data row1 col4\" >2</td>\n",
              "      <td id=\"T_d1fe0_row1_col5\" class=\"data row1 col5\" >2</td>\n",
              "    </tr>\n",
              "    <tr>\n",
              "      <th id=\"T_d1fe0_level0_row2\" class=\"row_heading level0 row2\" >2</th>\n",
              "      <td id=\"T_d1fe0_row2_col0\" class=\"data row2 col0\" >1</td>\n",
              "      <td id=\"T_d1fe0_row2_col1\" class=\"data row2 col1\" >1</td>\n",
              "      <td id=\"T_d1fe0_row2_col2\" class=\"data row2 col2\" >1</td>\n",
              "      <td id=\"T_d1fe0_row2_col3\" class=\"data row2 col3\" >1</td>\n",
              "      <td id=\"T_d1fe0_row2_col4\" class=\"data row2 col4\" >2</td>\n",
              "      <td id=\"T_d1fe0_row2_col5\" class=\"data row2 col5\" >1</td>\n",
              "    </tr>\n",
              "  </tbody>\n",
              "</table>\n"
            ]
          },
          "metadata": {}
        },
        {
          "output_type": "stream",
          "name": "stdout",
          "text": [
            "\n",
            " b: \n",
            " \u001b[1;31;47m Braille (dense) representation of 'e': \n",
            "\n"
          ]
        },
        {
          "output_type": "display_data",
          "data": {
            "text/plain": [
              "<pandas.io.formats.style.Styler at 0x7f28336b63d0>"
            ],
            "text/html": [
              "<style type=\"text/css\">\n",
              "#T_5a523_row0_col0, #T_5a523_row1_col1 {\n",
              "  background-color: #000000;\n",
              "  color: #f1f1f1;\n",
              "}\n",
              "#T_5a523_row0_col1, #T_5a523_row1_col0, #T_5a523_row2_col0, #T_5a523_row2_col1 {\n",
              "  background-color: #ff0000;\n",
              "  color: #f1f1f1;\n",
              "}\n",
              "</style>\n",
              "<table id=\"T_5a523_\" class=\"dataframe\">\n",
              "  <thead>\n",
              "    <tr>\n",
              "      <th class=\"blank level0\" >&nbsp;</th>\n",
              "      <th class=\"col_heading level0 col0\" >0</th>\n",
              "      <th class=\"col_heading level0 col1\" >1</th>\n",
              "    </tr>\n",
              "  </thead>\n",
              "  <tbody>\n",
              "    <tr>\n",
              "      <th id=\"T_5a523_level0_row0\" class=\"row_heading level0 row0\" >0</th>\n",
              "      <td id=\"T_5a523_row0_col0\" class=\"data row0 col0\" >2</td>\n",
              "      <td id=\"T_5a523_row0_col1\" class=\"data row0 col1\" >1</td>\n",
              "    </tr>\n",
              "    <tr>\n",
              "      <th id=\"T_5a523_level0_row1\" class=\"row_heading level0 row1\" >1</th>\n",
              "      <td id=\"T_5a523_row1_col0\" class=\"data row1 col0\" >1</td>\n",
              "      <td id=\"T_5a523_row1_col1\" class=\"data row1 col1\" >2</td>\n",
              "    </tr>\n",
              "    <tr>\n",
              "      <th id=\"T_5a523_level0_row2\" class=\"row_heading level0 row2\" >2</th>\n",
              "      <td id=\"T_5a523_row2_col0\" class=\"data row2 col0\" >1</td>\n",
              "      <td id=\"T_5a523_row2_col1\" class=\"data row2 col1\" >1</td>\n",
              "    </tr>\n",
              "  </tbody>\n",
              "</table>\n"
            ]
          },
          "metadata": {}
        }
      ]
    },
    {
      "cell_type": "code",
      "source": [
        "# u,s,vt = svd(A)\n",
        "# svd(A)\n",
        "sol = sol_svd(A_LA,b_LA)\n",
        "print(\"x: \\n \\033[1;35;47m SVD solution for matrix 'x' for 'bet' autocorrect\")\n",
        "matrixGridRound(sol) "
      ],
      "metadata": {
        "colab": {
          "base_uri": "https://localhost:8080/",
          "height": 274
        },
        "id": "W7G8JkXwwYrW",
        "outputId": "1d0837a7-ad8c-4524-95d6-00b54202f2c2"
      },
      "execution_count": null,
      "outputs": [
        {
          "output_type": "stream",
          "name": "stdout",
          "text": [
            "x: \n",
            " \u001b[1;35;47m SVD solution for matrix 'x' for 'bet' autocorrect\n"
          ]
        },
        {
          "output_type": "display_data",
          "data": {
            "text/plain": [
              "<pandas.io.formats.style.Styler at 0x7f28336b6d90>"
            ],
            "text/html": [
              "<style type=\"text/css\">\n",
              "#T_575a7_row0_col0, #T_575a7_row5_col0 {\n",
              "  background-color: #ffd700;\n",
              "  color: #000000;\n",
              "}\n",
              "#T_575a7_row0_col1, #T_575a7_row5_col1 {\n",
              "  background-color: #a300cf;\n",
              "  color: #f1f1f1;\n",
              "}\n",
              "#T_575a7_row1_col0, #T_575a7_row2_col0, #T_575a7_row3_col0, #T_575a7_row4_col1 {\n",
              "  background-color: #54ff00;\n",
              "  color: #000000;\n",
              "}\n",
              "#T_575a7_row1_col1, #T_575a7_row2_col1, #T_575a7_row3_col1 {\n",
              "  background-color: #0d00ff;\n",
              "  color: #f1f1f1;\n",
              "}\n",
              "#T_575a7_row4_col0 {\n",
              "  background-color: #ff0000;\n",
              "  color: #f1f1f1;\n",
              "}\n",
              "</style>\n",
              "<table id=\"T_575a7_\" class=\"dataframe\">\n",
              "  <thead>\n",
              "    <tr>\n",
              "      <th class=\"blank level0\" >&nbsp;</th>\n",
              "      <th class=\"col_heading level0 col0\" >0</th>\n",
              "      <th class=\"col_heading level0 col1\" >1</th>\n",
              "    </tr>\n",
              "  </thead>\n",
              "  <tbody>\n",
              "    <tr>\n",
              "      <th id=\"T_575a7_level0_row0\" class=\"row_heading level0 row0\" >0</th>\n",
              "      <td id=\"T_575a7_row0_col0\" class=\"data row0 col0\" >0.000000</td>\n",
              "      <td id=\"T_575a7_row0_col1\" class=\"data row0 col1\" >0.500000</td>\n",
              "    </tr>\n",
              "    <tr>\n",
              "      <th id=\"T_575a7_level0_row1\" class=\"row_heading level0 row1\" >1</th>\n",
              "      <td id=\"T_575a7_row1_col0\" class=\"data row1 col0\" >1.000000</td>\n",
              "      <td id=\"T_575a7_row1_col1\" class=\"data row1 col1\" >-0.667000</td>\n",
              "    </tr>\n",
              "    <tr>\n",
              "      <th id=\"T_575a7_level0_row2\" class=\"row_heading level0 row2\" >2</th>\n",
              "      <td id=\"T_575a7_row2_col0\" class=\"data row2 col0\" >1.000000</td>\n",
              "      <td id=\"T_575a7_row2_col1\" class=\"data row2 col1\" >-0.667000</td>\n",
              "    </tr>\n",
              "    <tr>\n",
              "      <th id=\"T_575a7_level0_row3\" class=\"row_heading level0 row3\" >3</th>\n",
              "      <td id=\"T_575a7_row3_col0\" class=\"data row3 col0\" >1.000000</td>\n",
              "      <td id=\"T_575a7_row3_col1\" class=\"data row3 col1\" >-0.667000</td>\n",
              "    </tr>\n",
              "    <tr>\n",
              "      <th id=\"T_575a7_level0_row4\" class=\"row_heading level0 row4\" >4</th>\n",
              "      <td id=\"T_575a7_row4_col0\" class=\"data row4 col0\" >-1.000000</td>\n",
              "      <td id=\"T_575a7_row4_col1\" class=\"data row4 col1\" >1.000000</td>\n",
              "    </tr>\n",
              "    <tr>\n",
              "      <th id=\"T_575a7_level0_row5\" class=\"row_heading level0 row5\" >5</th>\n",
              "      <td id=\"T_575a7_row5_col0\" class=\"data row5 col0\" >-0.000000</td>\n",
              "      <td id=\"T_575a7_row5_col1\" class=\"data row5 col1\" >0.500000</td>\n",
              "    </tr>\n",
              "  </tbody>\n",
              "</table>\n"
            ]
          },
          "metadata": {}
        }
      ]
    },
    {
      "cell_type": "code",
      "source": [
        "print(\"\\033[1;31;47m\")\n",
        "sol_check = np.matmul(A_LA, sol)\n",
        "print(\"CHECK: Solution obtained via linear system Ax multiplication: \\n\")\n",
        "print(\"\\033[1;32;47m Dense \")\n",
        "matrixGridSolType2(sol_check)\n",
        "sol_check_sparse = np.absolute(np.ndarray.round(np.subtract(sol_check, \n",
        "                                                            ones[:,[0,1]]),0))\n",
        "print(\"\\n \\033[1;32;47m Sparse\")\n",
        "matrixGrid(sol_check_sparse)"
      ],
      "metadata": {
        "colab": {
          "base_uri": "https://localhost:8080/",
          "height": 379
        },
        "id": "Qwz_4bQF34vs",
        "outputId": "4b763a77-5fdb-4acb-b790-9f30a03f3d99"
      },
      "execution_count": null,
      "outputs": [
        {
          "output_type": "stream",
          "name": "stdout",
          "text": [
            "\u001b[1;31;47m\n",
            "CHECK: Solution obtained via linear system Ax multiplication: \n",
            "\n",
            "\u001b[1;32;47m Dense \n"
          ]
        },
        {
          "output_type": "display_data",
          "data": {
            "text/plain": [
              "<pandas.io.formats.style.Styler at 0x7f2833646dd0>"
            ],
            "text/html": [
              "<style type=\"text/css\">\n",
              "#T_ab76b_row0_col0, #T_ab76b_row1_col1 {\n",
              "  background-color: #8000ff;\n",
              "  color: #f1f1f1;\n",
              "}\n",
              "#T_ab76b_row0_col1, #T_ab76b_row1_col0, #T_ab76b_row2_col0, #T_ab76b_row2_col1 {\n",
              "  background-color: #ff0000;\n",
              "  color: #f1f1f1;\n",
              "}\n",
              "</style>\n",
              "<table id=\"T_ab76b_\" class=\"dataframe\">\n",
              "  <thead>\n",
              "    <tr>\n",
              "      <th class=\"blank level0\" >&nbsp;</th>\n",
              "      <th class=\"col_heading level0 col0\" >0</th>\n",
              "      <th class=\"col_heading level0 col1\" >1</th>\n",
              "    </tr>\n",
              "  </thead>\n",
              "  <tbody>\n",
              "    <tr>\n",
              "      <th id=\"T_ab76b_level0_row0\" class=\"row_heading level0 row0\" >0</th>\n",
              "      <td id=\"T_ab76b_row0_col0\" class=\"data row0 col0\" >2</td>\n",
              "      <td id=\"T_ab76b_row0_col1\" class=\"data row0 col1\" >1</td>\n",
              "    </tr>\n",
              "    <tr>\n",
              "      <th id=\"T_ab76b_level0_row1\" class=\"row_heading level0 row1\" >1</th>\n",
              "      <td id=\"T_ab76b_row1_col0\" class=\"data row1 col0\" >1</td>\n",
              "      <td id=\"T_ab76b_row1_col1\" class=\"data row1 col1\" >2</td>\n",
              "    </tr>\n",
              "    <tr>\n",
              "      <th id=\"T_ab76b_level0_row2\" class=\"row_heading level0 row2\" >2</th>\n",
              "      <td id=\"T_ab76b_row2_col0\" class=\"data row2 col0\" >1</td>\n",
              "      <td id=\"T_ab76b_row2_col1\" class=\"data row2 col1\" >1</td>\n",
              "    </tr>\n",
              "  </tbody>\n",
              "</table>\n"
            ]
          },
          "metadata": {}
        },
        {
          "output_type": "stream",
          "name": "stdout",
          "text": [
            "\n",
            " \u001b[1;32;47m Sparse\n"
          ]
        },
        {
          "output_type": "display_data",
          "data": {
            "text/plain": [
              "<pandas.io.formats.style.Styler at 0x7f28337cf950>"
            ],
            "text/html": [
              "<style type=\"text/css\">\n",
              "#T_45594_row0_col0, #T_45594_row1_col1 {\n",
              "  background-color: #54ff00;\n",
              "  color: #000000;\n",
              "}\n",
              "#T_45594_row0_col1, #T_45594_row1_col0, #T_45594_row2_col0, #T_45594_row2_col1 {\n",
              "  background-color: #ff0000;\n",
              "  color: #f1f1f1;\n",
              "}\n",
              "</style>\n",
              "<table id=\"T_45594_\" class=\"dataframe\">\n",
              "  <thead>\n",
              "    <tr>\n",
              "      <th class=\"blank level0\" >&nbsp;</th>\n",
              "      <th class=\"col_heading level0 col0\" >0</th>\n",
              "      <th class=\"col_heading level0 col1\" >1</th>\n",
              "    </tr>\n",
              "  </thead>\n",
              "  <tbody>\n",
              "    <tr>\n",
              "      <th id=\"T_45594_level0_row0\" class=\"row_heading level0 row0\" >0</th>\n",
              "      <td id=\"T_45594_row0_col0\" class=\"data row0 col0\" >1</td>\n",
              "      <td id=\"T_45594_row0_col1\" class=\"data row0 col1\" >0</td>\n",
              "    </tr>\n",
              "    <tr>\n",
              "      <th id=\"T_45594_level0_row1\" class=\"row_heading level0 row1\" >1</th>\n",
              "      <td id=\"T_45594_row1_col0\" class=\"data row1 col0\" >0</td>\n",
              "      <td id=\"T_45594_row1_col1\" class=\"data row1 col1\" >1</td>\n",
              "    </tr>\n",
              "    <tr>\n",
              "      <th id=\"T_45594_level0_row2\" class=\"row_heading level0 row2\" >2</th>\n",
              "      <td id=\"T_45594_row2_col0\" class=\"data row2 col0\" >0</td>\n",
              "      <td id=\"T_45594_row2_col1\" class=\"data row2 col1\" >0</td>\n",
              "    </tr>\n",
              "  </tbody>\n",
              "</table>\n"
            ]
          },
          "metadata": {}
        }
      ]
    },
    {
      "cell_type": "code",
      "source": [
        "print(\"\\033[2;37;40m\")\n",
        "print(\"SVD solution via NLA\")\n",
        "\n",
        "for i in range(0,26,1):\n",
        "  if np.all(alpha[i] == sol_check_sparse):\n",
        "    #print(alpha[i])\n",
        "    print(\"\\033[1;30;47m\")\n",
        "    print(\"Missing letter: \\n \", alpha_index[i])\n",
        "    print(\"\\033[1;34;47m\")\n",
        "    print(\"Position of missing letter in alphabet: \\n\", i+1)\n"
      ],
      "metadata": {
        "colab": {
          "base_uri": "https://localhost:8080/"
        },
        "id": "G-RaMtCD8aEA",
        "outputId": "087c47ac-91db-469d-96a1-7b0de3a685a6"
      },
      "execution_count": null,
      "outputs": [
        {
          "output_type": "stream",
          "name": "stdout",
          "text": [
            "\u001b[2;37;40m\n",
            "SVD solution via NLA\n",
            "\u001b[1;30;47m\n",
            "Missing letter: \n",
            "  e\n",
            "\u001b[1;34;47m\n",
            "Position of missing letter in alphabet: \n",
            " 5\n"
          ]
        }
      ]
    },
    {
      "cell_type": "code",
      "source": [
        "## Try it this way, save data other than zero for all Braille in back up ## \n",
        "## -- check memory storage RAM ## \n",
        "\n",
        "from scipy.sparse import csr_matrix\n",
        "# sparsematrix_a = csr_matrix(a)\n",
        "# densematrix_a = sparsematrix_a.todense()\n",
        "sparsematrix_but = csr_matrix(but)\n",
        "print(\"Sparse rep for 'but' matrix: \\n\", sparsematrix_but)\n",
        "sparsematrix_bat = csr_matrix(bat)\n",
        "#print(\"Sparse rep for 'bat' matrix: \\n\", sparsematrix_bat)\n",
        "sparsematrix_bet = csr_matrix(bet)\n",
        "#print(\"Sparse rep for 'bet' matrix: \\n\", sparsematrix_bet)"
      ],
      "metadata": {
        "colab": {
          "base_uri": "https://localhost:8080/"
        },
        "id": "sdpEinB-FFHU",
        "outputId": "fb50fb8f-c99d-43f4-e538-0d4790733a5f"
      },
      "execution_count": null,
      "outputs": [
        {
          "output_type": "stream",
          "name": "stdout",
          "text": [
            "Sparse rep for 'but' matrix: \n",
            "   (0, 0)\t1\n",
            "  (0, 2)\t1\n",
            "  (0, 5)\t1\n",
            "  (1, 0)\t1\n",
            "  (1, 4)\t1\n",
            "  (1, 5)\t1\n",
            "  (2, 2)\t1\n",
            "  (2, 3)\t1\n",
            "  (2, 4)\t1\n"
          ]
        }
      ]
    },
    {
      "cell_type": "code",
      "source": [
        "import math, sys\n",
        "print(\"\\033[1;32;47m\")\n",
        "print(\"Size of full matrix storage for sparse 'but','bat','bet':\\n\\033[1;34;47m\", \n",
        "      sys.getsizeof(but), \"bytes\")\n",
        "print(\"\\033[1;32;47m\")\n",
        "print(\"Size of only sparse storage for sparse 'but','bat','bet':\\n\\033[1;34;47m\", \n",
        "      sys.getsizeof(sparsematrix_but), \"bytes\")"
      ],
      "metadata": {
        "colab": {
          "base_uri": "https://localhost:8080/"
        },
        "id": "jXBFSMjurcCQ",
        "outputId": "a19924db-9535-4c6e-b971-50d5ce08da64"
      },
      "execution_count": null,
      "outputs": [
        {
          "output_type": "stream",
          "name": "stdout",
          "text": [
            "\u001b[1;32;47m\n",
            "Size of full matrix storage for sparse 'but', 'bat', 'bet': \n",
            " \u001b[1;34;47m 264 bytes\n",
            "\u001b[1;32;47m\n",
            "Size of only sparse storage for sparse 'but', 'bat', 'bet': \n",
            " \u001b[1;34;47m 64 bytes\n"
          ]
        }
      ]
    },
    {
      "cell_type": "markdown",
      "source": [
        "**Braille games: linear algebra back-end** \n",
        "\n",
        "*   Corresponds to ***Section 3.3*** in dissertation\n",
        "  *   3.3 Word game of Braille \"Boggle'' using SVD and English letter frequencies database"
      ],
      "metadata": {
        "id": "CnaXOp7LG62G"
      }
    },
    {
      "cell_type": "code",
      "source": [
        "from google.colab import files\n",
        "uploaded = files.upload()"
      ],
      "metadata": {
        "colab": {
          "resources": {
            "http://localhost:8080/nbextensions/google.colab/files.js": {
              "data": "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",
              "ok": true,
              "headers": [
                [
                  "content-type",
                  "application/javascript"
                ]
              ],
              "status": 200,
              "status_text": ""
            }
          },
          "base_uri": "https://localhost:8080/",
          "height": 73
        },
        "id": "-D-mgXQo6YzA",
        "outputId": "73bc9f8e-3aa5-46f1-8eb2-db2b2cd4867e"
      },
      "execution_count": null,
      "outputs": [
        {
          "output_type": "display_data",
          "data": {
            "text/plain": [
              "<IPython.core.display.HTML object>"
            ],
            "text/html": [
              "\n",
              "     <input type=\"file\" id=\"files-34f564bb-1a85-488b-8dee-d3941ceadc7e\" name=\"files[]\" multiple disabled\n",
              "        style=\"border:none\" />\n",
              "     <output id=\"result-34f564bb-1a85-488b-8dee-d3941ceadc7e\">\n",
              "      Upload widget is only available when the cell has been executed in the\n",
              "      current browser session. Please rerun this cell to enable.\n",
              "      </output>\n",
              "      <script src=\"/nbextensions/google.colab/files.js\"></script> "
            ]
          },
          "metadata": {}
        },
        {
          "output_type": "stream",
          "name": "stdout",
          "text": [
            "Saving letter_frequencies.txt to letter_frequencies.txt\n"
          ]
        }
      ]
    },
    {
      "cell_type": "code",
      "source": [
        "# Open text file in read mode\n",
        "text_file = open(\"letter_frequencies.txt\", \"r\")\n",
        " \n",
        "# Read whole file to a string\n",
        "data = text_file.read()\n",
        " \n",
        "# Close file\n",
        "text_file.close()\n",
        " \n",
        "print(\"The following is a result of an analysis of letters occurring in words\",\n",
        "    \"listed in Concise Oxford Dictionary (1995) by University of Notre Dame:\")\n",
        "print(data)"
      ],
      "metadata": {
        "colab": {
          "base_uri": "https://localhost:8080/"
        },
        "id": "pAb13vJB-sjq",
        "outputId": "d64f33b1-d76e-4c32-85a1-8c8be77bfae1"
      },
      "execution_count": null,
      "outputs": [
        {
          "output_type": "stream",
          "name": "stdout",
          "text": [
            "The following is a result of an analysis of letters occurring in words listed in Concise Oxford Dictionary (9th edition, 1995) by University of Notre Dame:\n",
            "##############################################\n",
            "#letter\tfreq\tprop\t\n",
            "##############################################\n",
            "e\t11.1607 56.88\t\n",
            "a\t8.4966\t43.31\t\n",
            "r\t7.5809\t38.64\t\n",
            "i\t7.5448\t38.45\t\n",
            "o\t7.1635\t36.51\t\n",
            "t\t6.9509\t35.43\t\n",
            "n\t6.6544\t33.92\t\n",
            "s\t5.7351\t29.23\t\n",
            "l\t5.4893\t27.98\t\n",
            "c\t4.5388\t23.13\t\n",
            "u\t3.6308\t18.51\t\n",
            "d\t3.3844\t17.25\t\n",
            "p\t3.1671\t16.14\t\n",
            "m\t3.0129\t15.36\n",
            "h\t3.0034\t15.31\n",
            "g\t2.4705\t12.59\n",
            "b\t2.0720\t10.56\n",
            "f\t1.8121\t9.24\n",
            "y\t1.7779\t9.06\n",
            "w\t1.2899\t6.57\n",
            "k\t1.1016\t5.61\n",
            "v\t1.0074\t5.13\n",
            "x\t0.2902\t1.48\n",
            "z\t0.2722\t1.39\n",
            "j\t0.1965\t1.00\n",
            "q\t0.1962\t(1)\n",
            "\n",
            "\n"
          ]
        }
      ]
    },
    {
      "cell_type": "code",
      "source": [
        "letter_list = np.loadtxt('letter_frequencies.txt', dtype=str, comments=\"#\", \n",
        "                         usecols=(0))\n",
        "# print(letter_list) # in order of most common letter to least common #\n",
        "print(\"\\033[2;30;47m\")\n",
        "print(\"Letters listed in order of most to least common:\")\n",
        "print(\"\\033[2;36;47m\")\n",
        "letter_df = pd.DataFrame (letter_list)\n",
        "print(letter_df)"
      ],
      "metadata": {
        "id": "uL3iXe2oAWUg"
      },
      "execution_count": null,
      "outputs": []
    },
    {
      "cell_type": "code",
      "source": [
        "letter_freq = np.loadtxt('letter_frequencies.txt', comments=\"#\", usecols=(1))\n",
        "# print(letter_freq) # in order of most common letter to least common #\n",
        "matrixGridRoundCol(letter_freq)"
      ],
      "metadata": {
        "id": "uxI__WrP6dm2"
      },
      "execution_count": null,
      "outputs": []
    },
    {
      "cell_type": "markdown",
      "source": [
        "**GAME 1: 'but' vs 'bat'**"
      ],
      "metadata": {
        "id": "qY7IHGdb-pGk"
      }
    },
    {
      "cell_type": "code",
      "source": [
        "import random\n",
        "letters_gameOne = [0, 1, 19, 20]\n",
        "random.shuffle(letters_gameOne)\n",
        "game_separator_row = np.full((1, 5), -1)\n",
        "game_separator_col = np.full((3, 1), -1)\n",
        "\n",
        "row1 = np.concatenate((alpha[letters_gameOne[0]], game_separator_col, \n",
        "                       alpha[letters_gameOne[1]]), axis=1)\n",
        "row2 = np.concatenate((alpha[letters_gameOne[2]], game_separator_col, \n",
        "                       alpha[letters_gameOne[3]]), axis=1)\n",
        "boggle_gameOne = np.concatenate((row1, game_separator_row, row2), axis=0)\n",
        "# print(boggle_gameOne)\n",
        "print(boggle_gameOne.shape)\n",
        "matrixGrid(boggle_gameOne)"
      ],
      "metadata": {
        "colab": {
          "base_uri": "https://localhost:8080/",
          "height": 286
        },
        "id": "DBqRJ1UmCmHT",
        "outputId": "e686f7d3-828c-4737-ca25-e002ba447cea"
      },
      "execution_count": null,
      "outputs": [
        {
          "output_type": "stream",
          "name": "stdout",
          "text": [
            "(7, 5)\n"
          ]
        },
        {
          "output_type": "display_data",
          "data": {
            "text/plain": [
              "<pandas.io.formats.style.Styler at 0x7f3fa5dfb150>"
            ],
            "text/html": [
              "<style type=\"text/css\">\n",
              "#T_73ee5_row0_col0, #T_73ee5_row0_col4, #T_73ee5_row1_col4, #T_73ee5_row2_col1, #T_73ee5_row2_col3, #T_73ee5_row2_col4, #T_73ee5_row4_col1, #T_73ee5_row4_col4, #T_73ee5_row5_col0, #T_73ee5_row5_col1, #T_73ee5_row5_col3, #T_73ee5_row5_col4, #T_73ee5_row6_col0, #T_73ee5_row6_col1 {\n",
              "  background-color: #ffd700;\n",
              "  color: #000000;\n",
              "}\n",
              "#T_73ee5_row0_col1, #T_73ee5_row0_col3, #T_73ee5_row1_col0, #T_73ee5_row1_col1, #T_73ee5_row1_col3, #T_73ee5_row2_col0, #T_73ee5_row4_col0, #T_73ee5_row4_col3, #T_73ee5_row6_col3, #T_73ee5_row6_col4 {\n",
              "  background-color: #54ff00;\n",
              "  color: #000000;\n",
              "}\n",
              "#T_73ee5_row0_col2, #T_73ee5_row1_col2, #T_73ee5_row2_col2, #T_73ee5_row3_col0, #T_73ee5_row3_col1, #T_73ee5_row3_col2, #T_73ee5_row3_col3, #T_73ee5_row3_col4, #T_73ee5_row4_col2, #T_73ee5_row5_col2, #T_73ee5_row6_col2 {\n",
              "  background-color: #ff0000;\n",
              "  color: #f1f1f1;\n",
              "}\n",
              "</style>\n",
              "<table id=\"T_73ee5_\" class=\"dataframe\">\n",
              "  <thead>\n",
              "    <tr>\n",
              "      <th class=\"blank level0\" >&nbsp;</th>\n",
              "      <th class=\"col_heading level0 col0\" >0</th>\n",
              "      <th class=\"col_heading level0 col1\" >1</th>\n",
              "      <th class=\"col_heading level0 col2\" >2</th>\n",
              "      <th class=\"col_heading level0 col3\" >3</th>\n",
              "      <th class=\"col_heading level0 col4\" >4</th>\n",
              "    </tr>\n",
              "  </thead>\n",
              "  <tbody>\n",
              "    <tr>\n",
              "      <th id=\"T_73ee5_level0_row0\" class=\"row_heading level0 row0\" >0</th>\n",
              "      <td id=\"T_73ee5_row0_col0\" class=\"data row0 col0\" >0</td>\n",
              "      <td id=\"T_73ee5_row0_col1\" class=\"data row0 col1\" >1</td>\n",
              "      <td id=\"T_73ee5_row0_col2\" class=\"data row0 col2\" >-1</td>\n",
              "      <td id=\"T_73ee5_row0_col3\" class=\"data row0 col3\" >1</td>\n",
              "      <td id=\"T_73ee5_row0_col4\" class=\"data row0 col4\" >0</td>\n",
              "    </tr>\n",
              "    <tr>\n",
              "      <th id=\"T_73ee5_level0_row1\" class=\"row_heading level0 row1\" >1</th>\n",
              "      <td id=\"T_73ee5_row1_col0\" class=\"data row1 col0\" >1</td>\n",
              "      <td id=\"T_73ee5_row1_col1\" class=\"data row1 col1\" >1</td>\n",
              "      <td id=\"T_73ee5_row1_col2\" class=\"data row1 col2\" >-1</td>\n",
              "      <td id=\"T_73ee5_row1_col3\" class=\"data row1 col3\" >1</td>\n",
              "      <td id=\"T_73ee5_row1_col4\" class=\"data row1 col4\" >0</td>\n",
              "    </tr>\n",
              "    <tr>\n",
              "      <th id=\"T_73ee5_level0_row2\" class=\"row_heading level0 row2\" >2</th>\n",
              "      <td id=\"T_73ee5_row2_col0\" class=\"data row2 col0\" >1</td>\n",
              "      <td id=\"T_73ee5_row2_col1\" class=\"data row2 col1\" >0</td>\n",
              "      <td id=\"T_73ee5_row2_col2\" class=\"data row2 col2\" >-1</td>\n",
              "      <td id=\"T_73ee5_row2_col3\" class=\"data row2 col3\" >0</td>\n",
              "      <td id=\"T_73ee5_row2_col4\" class=\"data row2 col4\" >0</td>\n",
              "    </tr>\n",
              "    <tr>\n",
              "      <th id=\"T_73ee5_level0_row3\" class=\"row_heading level0 row3\" >3</th>\n",
              "      <td id=\"T_73ee5_row3_col0\" class=\"data row3 col0\" >-1</td>\n",
              "      <td id=\"T_73ee5_row3_col1\" class=\"data row3 col1\" >-1</td>\n",
              "      <td id=\"T_73ee5_row3_col2\" class=\"data row3 col2\" >-1</td>\n",
              "      <td id=\"T_73ee5_row3_col3\" class=\"data row3 col3\" >-1</td>\n",
              "      <td id=\"T_73ee5_row3_col4\" class=\"data row3 col4\" >-1</td>\n",
              "    </tr>\n",
              "    <tr>\n",
              "      <th id=\"T_73ee5_level0_row4\" class=\"row_heading level0 row4\" >4</th>\n",
              "      <td id=\"T_73ee5_row4_col0\" class=\"data row4 col0\" >1</td>\n",
              "      <td id=\"T_73ee5_row4_col1\" class=\"data row4 col1\" >0</td>\n",
              "      <td id=\"T_73ee5_row4_col2\" class=\"data row4 col2\" >-1</td>\n",
              "      <td id=\"T_73ee5_row4_col3\" class=\"data row4 col3\" >1</td>\n",
              "      <td id=\"T_73ee5_row4_col4\" class=\"data row4 col4\" >0</td>\n",
              "    </tr>\n",
              "    <tr>\n",
              "      <th id=\"T_73ee5_level0_row5\" class=\"row_heading level0 row5\" >5</th>\n",
              "      <td id=\"T_73ee5_row5_col0\" class=\"data row5 col0\" >0</td>\n",
              "      <td id=\"T_73ee5_row5_col1\" class=\"data row5 col1\" >0</td>\n",
              "      <td id=\"T_73ee5_row5_col2\" class=\"data row5 col2\" >-1</td>\n",
              "      <td id=\"T_73ee5_row5_col3\" class=\"data row5 col3\" >0</td>\n",
              "      <td id=\"T_73ee5_row5_col4\" class=\"data row5 col4\" >0</td>\n",
              "    </tr>\n",
              "    <tr>\n",
              "      <th id=\"T_73ee5_level0_row6\" class=\"row_heading level0 row6\" >6</th>\n",
              "      <td id=\"T_73ee5_row6_col0\" class=\"data row6 col0\" >0</td>\n",
              "      <td id=\"T_73ee5_row6_col1\" class=\"data row6 col1\" >0</td>\n",
              "      <td id=\"T_73ee5_row6_col2\" class=\"data row6 col2\" >-1</td>\n",
              "      <td id=\"T_73ee5_row6_col3\" class=\"data row6 col3\" >1</td>\n",
              "      <td id=\"T_73ee5_row6_col4\" class=\"data row6 col4\" >1</td>\n",
              "    </tr>\n",
              "  </tbody>\n",
              "</table>\n"
            ]
          },
          "metadata": {}
        }
      ]
    },
    {
      "cell_type": "code",
      "source": [
        "block1 = boggle_gameOne[0:3, 0:2]\n",
        "block2 = boggle_gameOne[0:3, 3:5]\n",
        "block3 = boggle_gameOne[4:7, 0:2]\n",
        "block4 = boggle_gameOne[4:7, 3:5]\n",
        "print(np.all(block1 == alpha[letters_gameOne[0]]))\n",
        "print(np.all(block2 == alpha[letters_gameOne[1]]))\n",
        "print(np.all(block3 == alpha[letters_gameOne[2]]))\n",
        "print(np.all(block4 == alpha[letters_gameOne[3]]))"
      ],
      "metadata": {
        "colab": {
          "base_uri": "https://localhost:8080/"
        },
        "id": "lg_llyrQQrsF",
        "outputId": "1e0fca70-8c07-4513-cdfc-82c7f1054f05"
      },
      "execution_count": null,
      "outputs": [
        {
          "output_type": "stream",
          "name": "stdout",
          "text": [
            "True\n",
            "True\n",
            "True\n",
            "True\n"
          ]
        }
      ]
    },
    {
      "cell_type": "code",
      "source": [
        "# let a = green, b = cyan, t = dark blue, u = pink #  \n",
        "letter_a_block = np.ones((3,2))\n",
        "letter_b_block = np.full((3, 2), 2)\n",
        "letter_t_block = np.full((3, 2), 3)\n",
        "letter_u_block = np.full((3, 2), 4)\n",
        "\n",
        "block_colour = [0] * len(letters_gameOne)\n",
        "\n",
        "for i in range(len(letters_gameOne)):\n",
        "  if letters_gameOne[i] == 0:\n",
        "    block_colour[i] = letter_a_block\n",
        "  elif letters_gameOne[i] == 1:\n",
        "    block_colour[i] = letter_b_block\n",
        "  elif letters_gameOne[i] == 19:\n",
        "    block_colour[i] = letter_t_block\n",
        "  elif letters_gameOne[i] == 20:\n",
        "    block_colour[i] = letter_u_block \n",
        "\n",
        "\n",
        "row1_block = np.concatenate((block_colour[0], game_separator_col, \n",
        "                             block_colour[1]), axis=1)\n",
        "row2_block = np.concatenate((block_colour[2], game_separator_col, \n",
        "                             block_colour[3]), axis=1)\n",
        "game_block_layout = np.concatenate((row1_block, game_separator_row, row2_block),\n",
        "                                   axis=0)\n",
        "gameLayout_colRainbowR(game_block_layout)\n",
        "plt.savefig('game_block_layout.png', bbox_inches='tight', pad_inches = 0)"
      ],
      "metadata": {
        "colab": {
          "base_uri": "https://localhost:8080/",
          "height": 248
        },
        "id": "Vo58gK8DM65N",
        "outputId": "d954f53d-00d4-492f-de26-2f00aa5c302b"
      },
      "execution_count": null,
      "outputs": [
        {
          "output_type": "display_data",
          "data": {
            "text/plain": [
              "<Figure size 432x288 with 1 Axes>"
            ],
            "image/png": "[encoded data removed]"
          },
          "metadata": {}
        }
      ]
    },
    {
      "cell_type": "code",
      "source": [
        "# Initialise game, start at 'b' #\n",
        "# b is index 1 of alpha # \n",
        "\n",
        "blocks_list = [block1, block2, block3, block4]\n",
        "\n",
        "index_b = 1\n",
        "for i in range(len(letters_gameOne)):\n",
        "  if np.all(blocks_list[i] == alpha[index_b]):\n",
        "    start_block = i+1\n",
        "    print(\"\\033[2;33;40m\")\n",
        "    print(\"Start at Block\", start_block)\n",
        "\n",
        "# Find end of word, 't' # \n",
        "# t is index 19 of alpha # \n",
        "\n",
        "index_t = 19\n",
        "for i in range(len(letters_gameOne)):\n",
        "  if np.all(blocks_list[i] == alpha[index_t]):\n",
        "    finish_block = i+1\n",
        "    print(\"\\033[2;33;40m\")\n",
        "    print(\"Finish at Block\", finish_block)"
      ],
      "metadata": {
        "colab": {
          "base_uri": "https://localhost:8080/"
        },
        "id": "Zagw-44efoQ1",
        "outputId": "fb0a4959-79e1-4b4c-cee7-7cf04dfdade1"
      },
      "execution_count": null,
      "outputs": [
        {
          "output_type": "stream",
          "name": "stdout",
          "text": [
            "\u001b[2;33;40m\n",
            "Start at Block 2\n",
            "\u001b[2;33;40m\n",
            "Finish at Block 1\n"
          ]
        }
      ]
    },
    {
      "cell_type": "code",
      "source": [
        "blocks_OutOfPlay = [(start_block), (finish_block)]\n",
        "all_blocks = [1, 2, 3, 4]\n",
        "\n",
        "blocks_ToPlay =list(set(all_blocks).symmetric_difference(set(blocks_OutOfPlay)))\n",
        "print(\"\\033[2;37;40m\")\n",
        "print(\"blocks_ToPlay | \", blocks_ToPlay)\n",
        "\n",
        "# First move to form first word # \n",
        "blocks_list_index = ['block1', 'block2', 'block3', 'block4']\n",
        "print(\"\\033[2;37;40m\")\n",
        "for i in range(0,26,1):\n",
        "  if np.all(alpha[i] == blocks_list[blocks_ToPlay[0]-1]):\n",
        "    letter_blockOption1 = alpha_index[i]\n",
        "    index_blockOption1 = i\n",
        "    print(blocks_list_index[blocks_ToPlay[0]-1], \"is:\", letter_blockOption1, \n",
        "          \" \\n index in alpha list: \", index_blockOption1, \"\\n\")\n",
        "  if np.all(alpha[i] == blocks_list[blocks_ToPlay[1]-1]):\n",
        "    letter_blockOption2 = alpha_index[i]\n",
        "    index_blockOption2 = i\n",
        "    print(blocks_list_index[blocks_ToPlay[1]-1], \"is:\", letter_blockOption2, \n",
        "          \" \\n index in alpha list: \", index_blockOption2)\n",
        "\n",
        "print(\"\\033[2;37;40m\")\n",
        "for i in range(0,26,1):\n",
        "  if letter_list[i] == alpha_index[index_blockOption1]:\n",
        "    freq_blockOption1_index = i\n",
        "    print(\"Letter\", letter_blockOption1, \"index in letter_list:\", i)\n",
        "  if letter_list[i] == alpha_index[index_blockOption2]:\n",
        "    freq_blockOption2_index = i \n",
        "    print(\"Letter\", letter_blockOption2, \"index in letter_list:\", i)"
      ],
      "metadata": {
        "colab": {
          "base_uri": "https://localhost:8080/"
        },
        "id": "bovVjywGl8bx",
        "outputId": "7e108f97-85eb-4f14-b1ea-bf8925374371"
      },
      "execution_count": null,
      "outputs": [
        {
          "output_type": "stream",
          "name": "stdout",
          "text": [
            "\u001b[2;37;40m\n",
            "blocks_ToPlay |  [3, 4]\n",
            "\u001b[2;37;40m\n",
            "block3 is: a  \n",
            " index in alpha list:  0 \n",
            "\n",
            "block4 is: u  \n",
            " index in alpha list:  20\n",
            "\u001b[2;37;40m\n",
            "Letter a index in letter_list: 1\n",
            "Letter u index in letter_list: 10\n"
          ]
        }
      ]
    },
    {
      "cell_type": "code",
      "source": [
        "print(\"\\033[2;37;40m\")\n",
        "if letter_freq[freq_blockOption1_index] > letter_freq[freq_blockOption2_index]:\n",
        "  first_iter_gameOne = letter_blockOption1\n",
        "  first_iter_index_gameOne = index_blockOption1\n",
        "  second_iter_gameOne = letter_blockOption2\n",
        "  second_iter_index_gameOne = index_blockOption2\n",
        "  print(\"First iteration move is to choose letter:\", first_iter_gameOne, \n",
        "        \" | index in alpha list:\", first_iter_index_gameOne)  \n",
        "  print(\"Second iteration move is to choose letter:\", second_iter_gameOne, \n",
        "        \" | index in alpha list:\", second_iter_index_gameOne) \n",
        "else:\n",
        "  first_iter_gameOne = letter_blockOption2\n",
        "  first_iter_index_gameOne = index_blockOption2\n",
        "  second_iter_gameOne = letter_blockOption1\n",
        "  second_iter_index_gameOne = index_blockOption1\n",
        "  print(\"First iteration move is to choose letter:\", first_iter_gameOne, \n",
        "        \" | index in alpha list:\", first_iter_index_gameOne)  \n",
        "  print(\"Second iteration move is to choose letter:\", second_iter_gameOne, \n",
        "        \" | index in alpha list:\", second_iter_index_gameOne) \n",
        "\n",
        "print(\"\\033[2;33;40m\")\n",
        "for i in range(len(letters_gameOne)):\n",
        "  if np.all(blocks_list[i] == alpha[first_iter_index_gameOne]):\n",
        "    first_iter_block_gameOne = i+1\n",
        "    print(\"First iteration: after selecting 'b' & 't', go to Block\", \n",
        "          first_iter_block_gameOne, \"to complete the first word\")\n",
        "\n",
        "for i in range(len(letters_gameOne)):\n",
        "  if np.all(blocks_list[i] == alpha[second_iter_index_gameOne]):\n",
        "    second_iter_block_gameOne = i+1\n",
        "    print(\"Second iteration: after selecting 'b' & 't', go to Block\", \n",
        "          second_iter_block_gameOne, \"to complete the second word\")\n",
        "\n",
        "print(\"\\033[2;37;44m\")\n",
        "# full game sequence # \n",
        "print(\"First iteration of game | Block\", start_block, \"->\", \"Block\", \n",
        "      first_iter_block_gameOne, \"->\", \"Block\", finish_block)\n",
        "print(\"Second iteration of game | Block\", start_block, \"->\", \"Block\", \n",
        "      second_iter_block_gameOne, \"->\", \"Block\", finish_block)"
      ],
      "metadata": {
        "colab": {
          "base_uri": "https://localhost:8080/"
        },
        "id": "eKpGeTf8rzuS",
        "outputId": "86ef423c-18bd-4b34-a24c-4006b8571337"
      },
      "execution_count": null,
      "outputs": [
        {
          "output_type": "stream",
          "name": "stdout",
          "text": [
            "\u001b[2;37;40m\n",
            "First iteration move is to choose letter: a  | index in alpha list: 0\n",
            "Second iteration move is to choose letter: u  | index in alpha list: 20\n",
            "\u001b[2;33;40m\n",
            "First iteration move after selecting 'b' and 't' is to fill in by going to Block 3\n",
            "Second iteration move after selecting 'b' and 't' is to fill in by going to Block 4\n",
            "\u001b[2;37;44m\n",
            "First iteration of game | Block 2 -> Block 3 -> Block 1\n",
            "Second iteration of game | Block 2 -> Block 4 -> Block 1\n"
          ]
        }
      ]
    },
    {
      "cell_type": "markdown",
      "source": [
        "**GAME 2: 'bat' vs 'bet'**"
      ],
      "metadata": {
        "id": "y1hsEym7COIP"
      }
    },
    {
      "cell_type": "code",
      "source": [
        "letters_gameTwo = [0, 1, 4, 19]\n",
        "random.shuffle(letters_gameTwo)\n",
        "game_separator_row = np.full((1, 5), -1)\n",
        "game_separator_col = np.full((3, 1), -1)\n",
        "\n",
        "row1 = np.concatenate((alpha[letters_gameTwo[0]], game_separator_col, \n",
        "                       alpha[letters_gameTwo[1]]), axis=1)\n",
        "row2 = np.concatenate((alpha[letters_gameTwo[2]], game_separator_col, \n",
        "                       alpha[letters_gameTwo[3]]), axis=1)\n",
        "boggle_gameTwo = np.concatenate((row1, game_separator_row, row2), axis=0)\n",
        "# print(boggle_gameTwo)\n",
        "print(boggle_gameTwo.shape)\n",
        "matrixGrid(boggle_gameTwo)"
      ],
      "metadata": {
        "colab": {
          "base_uri": "https://localhost:8080/",
          "height": 286
        },
        "id": "aXI8jvqwCUV2",
        "outputId": "25e05fdb-0f28-410b-ad94-7a991e8ae70d"
      },
      "execution_count": null,
      "outputs": [
        {
          "output_type": "stream",
          "name": "stdout",
          "text": [
            "(7, 5)\n"
          ]
        },
        {
          "output_type": "display_data",
          "data": {
            "text/plain": [
              "<pandas.io.formats.style.Styler at 0x7f3fa5d93b90>"
            ],
            "text/html": [
              "<style type=\"text/css\">\n",
              "#T_c6c80_row0_col0, #T_c6c80_row0_col4, #T_c6c80_row1_col0, #T_c6c80_row1_col3, #T_c6c80_row1_col4, #T_c6c80_row2_col3, #T_c6c80_row4_col0, #T_c6c80_row4_col3, #T_c6c80_row5_col4 {\n",
              "  background-color: #54ff00;\n",
              "  color: #000000;\n",
              "}\n",
              "#T_c6c80_row0_col1, #T_c6c80_row0_col3, #T_c6c80_row1_col1, #T_c6c80_row2_col0, #T_c6c80_row2_col1, #T_c6c80_row2_col4, #T_c6c80_row4_col1, #T_c6c80_row4_col4, #T_c6c80_row5_col0, #T_c6c80_row5_col1, #T_c6c80_row5_col3, #T_c6c80_row6_col0, #T_c6c80_row6_col1, #T_c6c80_row6_col3, #T_c6c80_row6_col4 {\n",
              "  background-color: #ffd700;\n",
              "  color: #000000;\n",
              "}\n",
              "#T_c6c80_row0_col2, #T_c6c80_row1_col2, #T_c6c80_row2_col2, #T_c6c80_row3_col0, #T_c6c80_row3_col1, #T_c6c80_row3_col2, #T_c6c80_row3_col3, #T_c6c80_row3_col4, #T_c6c80_row4_col2, #T_c6c80_row5_col2, #T_c6c80_row6_col2 {\n",
              "  background-color: #ff0000;\n",
              "  color: #f1f1f1;\n",
              "}\n",
              "</style>\n",
              "<table id=\"T_c6c80_\" class=\"dataframe\">\n",
              "  <thead>\n",
              "    <tr>\n",
              "      <th class=\"blank level0\" >&nbsp;</th>\n",
              "      <th class=\"col_heading level0 col0\" >0</th>\n",
              "      <th class=\"col_heading level0 col1\" >1</th>\n",
              "      <th class=\"col_heading level0 col2\" >2</th>\n",
              "      <th class=\"col_heading level0 col3\" >3</th>\n",
              "      <th class=\"col_heading level0 col4\" >4</th>\n",
              "    </tr>\n",
              "  </thead>\n",
              "  <tbody>\n",
              "    <tr>\n",
              "      <th id=\"T_c6c80_level0_row0\" class=\"row_heading level0 row0\" >0</th>\n",
              "      <td id=\"T_c6c80_row0_col0\" class=\"data row0 col0\" >1</td>\n",
              "      <td id=\"T_c6c80_row0_col1\" class=\"data row0 col1\" >0</td>\n",
              "      <td id=\"T_c6c80_row0_col2\" class=\"data row0 col2\" >-1</td>\n",
              "      <td id=\"T_c6c80_row0_col3\" class=\"data row0 col3\" >0</td>\n",
              "      <td id=\"T_c6c80_row0_col4\" class=\"data row0 col4\" >1</td>\n",
              "    </tr>\n",
              "    <tr>\n",
              "      <th id=\"T_c6c80_level0_row1\" class=\"row_heading level0 row1\" >1</th>\n",
              "      <td id=\"T_c6c80_row1_col0\" class=\"data row1 col0\" >1</td>\n",
              "      <td id=\"T_c6c80_row1_col1\" class=\"data row1 col1\" >0</td>\n",
              "      <td id=\"T_c6c80_row1_col2\" class=\"data row1 col2\" >-1</td>\n",
              "      <td id=\"T_c6c80_row1_col3\" class=\"data row1 col3\" >1</td>\n",
              "      <td id=\"T_c6c80_row1_col4\" class=\"data row1 col4\" >1</td>\n",
              "    </tr>\n",
              "    <tr>\n",
              "      <th id=\"T_c6c80_level0_row2\" class=\"row_heading level0 row2\" >2</th>\n",
              "      <td id=\"T_c6c80_row2_col0\" class=\"data row2 col0\" >0</td>\n",
              "      <td id=\"T_c6c80_row2_col1\" class=\"data row2 col1\" >0</td>\n",
              "      <td id=\"T_c6c80_row2_col2\" class=\"data row2 col2\" >-1</td>\n",
              "      <td id=\"T_c6c80_row2_col3\" class=\"data row2 col3\" >1</td>\n",
              "      <td id=\"T_c6c80_row2_col4\" class=\"data row2 col4\" >0</td>\n",
              "    </tr>\n",
              "    <tr>\n",
              "      <th id=\"T_c6c80_level0_row3\" class=\"row_heading level0 row3\" >3</th>\n",
              "      <td id=\"T_c6c80_row3_col0\" class=\"data row3 col0\" >-1</td>\n",
              "      <td id=\"T_c6c80_row3_col1\" class=\"data row3 col1\" >-1</td>\n",
              "      <td id=\"T_c6c80_row3_col2\" class=\"data row3 col2\" >-1</td>\n",
              "      <td id=\"T_c6c80_row3_col3\" class=\"data row3 col3\" >-1</td>\n",
              "      <td id=\"T_c6c80_row3_col4\" class=\"data row3 col4\" >-1</td>\n",
              "    </tr>\n",
              "    <tr>\n",
              "      <th id=\"T_c6c80_level0_row4\" class=\"row_heading level0 row4\" >4</th>\n",
              "      <td id=\"T_c6c80_row4_col0\" class=\"data row4 col0\" >1</td>\n",
              "      <td id=\"T_c6c80_row4_col1\" class=\"data row4 col1\" >0</td>\n",
              "      <td id=\"T_c6c80_row4_col2\" class=\"data row4 col2\" >-1</td>\n",
              "      <td id=\"T_c6c80_row4_col3\" class=\"data row4 col3\" >1</td>\n",
              "      <td id=\"T_c6c80_row4_col4\" class=\"data row4 col4\" >0</td>\n",
              "    </tr>\n",
              "    <tr>\n",
              "      <th id=\"T_c6c80_level0_row5\" class=\"row_heading level0 row5\" >5</th>\n",
              "      <td id=\"T_c6c80_row5_col0\" class=\"data row5 col0\" >0</td>\n",
              "      <td id=\"T_c6c80_row5_col1\" class=\"data row5 col1\" >0</td>\n",
              "      <td id=\"T_c6c80_row5_col2\" class=\"data row5 col2\" >-1</td>\n",
              "      <td id=\"T_c6c80_row5_col3\" class=\"data row5 col3\" >0</td>\n",
              "      <td id=\"T_c6c80_row5_col4\" class=\"data row5 col4\" >1</td>\n",
              "    </tr>\n",
              "    <tr>\n",
              "      <th id=\"T_c6c80_level0_row6\" class=\"row_heading level0 row6\" >6</th>\n",
              "      <td id=\"T_c6c80_row6_col0\" class=\"data row6 col0\" >0</td>\n",
              "      <td id=\"T_c6c80_row6_col1\" class=\"data row6 col1\" >0</td>\n",
              "      <td id=\"T_c6c80_row6_col2\" class=\"data row6 col2\" >-1</td>\n",
              "      <td id=\"T_c6c80_row6_col3\" class=\"data row6 col3\" >0</td>\n",
              "      <td id=\"T_c6c80_row6_col4\" class=\"data row6 col4\" >0</td>\n",
              "    </tr>\n",
              "  </tbody>\n",
              "</table>\n"
            ]
          },
          "metadata": {}
        }
      ]
    },
    {
      "cell_type": "code",
      "source": [
        "block1 = boggle_gameTwo[0:3, 0:2]\n",
        "block2 = boggle_gameTwo[0:3, 3:5]\n",
        "block3 = boggle_gameTwo[4:7, 0:2]\n",
        "block4 = boggle_gameTwo[4:7, 3:5]\n",
        "print(np.all(block1 == alpha[letters_gameTwo[0]]))\n",
        "print(np.all(block2 == alpha[letters_gameTwo[1]]))\n",
        "print(np.all(block3 == alpha[letters_gameTwo[2]]))\n",
        "print(np.all(block4 == alpha[letters_gameTwo[3]]))"
      ],
      "metadata": {
        "colab": {
          "base_uri": "https://localhost:8080/"
        },
        "id": "ctMf7VGACcVT",
        "outputId": "f9eb53b7-d784-45a9-c784-b8bf98793f08"
      },
      "execution_count": null,
      "outputs": [
        {
          "output_type": "stream",
          "name": "stdout",
          "text": [
            "True\n",
            "True\n",
            "True\n",
            "True\n"
          ]
        }
      ]
    },
    {
      "cell_type": "code",
      "source": [
        "# let a = green, b = cyan, t = dark blue, u = pink #  \n",
        "letter_a_block = np.ones((3,2))\n",
        "letter_b_block = np.full((3, 2), 2)\n",
        "letter_t_block = np.full((3, 2), 3)\n",
        "letter_e_block = np.full((3, 2), 4)\n",
        "\n",
        "block_colour = [0] * len(letters_gameTwo)\n",
        "\n",
        "for i in range(len(letters_gameTwo)):\n",
        "  if letters_gameTwo[i] == 0: \n",
        "    block_colour[i] = letter_a_block\n",
        "  elif letters_gameTwo[i] == 1:\n",
        "    block_colour[i] = letter_b_block\n",
        "  elif letters_gameTwo[i] == 19:\n",
        "    block_colour[i] = letter_t_block\n",
        "  elif letters_gameTwo[i] == 4:\n",
        "    block_colour[i] = letter_u_block \n",
        "\n",
        "\n",
        "row1_block = np.concatenate((block_colour[0], game_separator_col, \n",
        "                             block_colour[1]), axis=1)\n",
        "row2_block = np.concatenate((block_colour[2], game_separator_col, \n",
        "                             block_colour[3]), axis=1)\n",
        "game_block_layout_gameTwo = np.concatenate((row1_block, game_separator_row, \n",
        "                                            row2_block), axis=0)\n",
        "gameLayout_colRainbowR(game_block_layout_gameTwo)\n",
        "plt.savefig('game_block_layout_gameTwo.png', bbox_inches='tight', \n",
        "            pad_inches = 0)"
      ],
      "metadata": {
        "colab": {
          "base_uri": "https://localhost:8080/",
          "height": 248
        },
        "id": "2gRrNzx5C1uK",
        "outputId": "7c5cab35-db80-4f94-b5ac-f8b998700de7"
      },
      "execution_count": null,
      "outputs": [
        {
          "output_type": "display_data",
          "data": {
            "text/plain": [
              "<Figure size 432x288 with 1 Axes>"
            ],
            "image/png": "[encoded data removed]"
          },
          "metadata": {}
        }
      ]
    },
    {
      "cell_type": "code",
      "source": [
        "# Initialise game, start at 'b' #\n",
        "# b is index 1 of alpha # \n",
        "\n",
        "blocks_list = [block1, block2, block3, block4]\n",
        "\n",
        "index_b = 1\n",
        "for i in range(len(letters_gameOne)):\n",
        "  if np.all(blocks_list[i] == alpha[index_b]):\n",
        "    start_block = i+1\n",
        "    print(\"\\033[2;33;40m\")\n",
        "    print(\"Start at Block\", start_block)\n",
        "\n",
        "# Find end of word, 't' # \n",
        "# t is index 19 of alpha # \n",
        "\n",
        "index_t = 19\n",
        "for i in range(len(letters_gameOne)):\n",
        "  if np.all(blocks_list[i] == alpha[index_t]):\n",
        "    finish_block = i+1\n",
        "    print(\"\\033[2;33;40m\")\n",
        "    print(\"Finish at Block\", finish_block)"
      ],
      "metadata": {
        "colab": {
          "base_uri": "https://localhost:8080/"
        },
        "id": "PAeBNqyQC7K0",
        "outputId": "700834f0-3439-492e-ed89-c2d4af526820"
      },
      "execution_count": null,
      "outputs": [
        {
          "output_type": "stream",
          "name": "stdout",
          "text": [
            "\u001b[2;33;40m\n",
            "Start at Block 1\n",
            "\u001b[2;33;40m\n",
            "Finish at Block 2\n"
          ]
        }
      ]
    },
    {
      "cell_type": "code",
      "source": [
        "blocks_OutOfPlay = [(start_block), (finish_block)]\n",
        "all_blocks = [1, 2, 3, 4]\n",
        "\n",
        "blocks_ToPlay =list(set(all_blocks).symmetric_difference(set(blocks_OutOfPlay)))\n",
        "print(\"\\033[2;37;40m\")\n",
        "print(\"blocks_ToPlay | \", blocks_ToPlay)\n",
        "\n",
        "# First move to form first word # \n",
        "blocks_list_index = ['block1', 'block2', 'block3', 'block4']\n",
        "print(\"\\033[2;37;40m\")\n",
        "for i in range(0,26,1):\n",
        "  if np.all(alpha[i] == blocks_list[blocks_ToPlay[0]-1]):\n",
        "    letter_blockOption1 = alpha_index[i]\n",
        "    index_blockOption1 = i\n",
        "    print(blocks_list_index[blocks_ToPlay[0]-1], \"is:\", letter_blockOption1, \n",
        "          \" \\n index in alpha list: \", index_blockOption1, \"\\n\")\n",
        "  if np.all(alpha[i] == blocks_list[blocks_ToPlay[1]-1]):\n",
        "    letter_blockOption2 = alpha_index[i]\n",
        "    index_blockOption2 = i\n",
        "    print(blocks_list_index[blocks_ToPlay[1]-1], \"is:\", letter_blockOption2, \n",
        "          \" \\n index in alpha list: \", index_blockOption2)\n",
        "\n",
        "print(\"\\033[2;37;40m\")\n",
        "for i in range(0,26,1):\n",
        "  if letter_list[i] == alpha_index[index_blockOption1]:\n",
        "    freq_blockOption1_index = i\n",
        "    print(\"Letter\", letter_blockOption1, \"index in letter_list:\", i)\n",
        "  if letter_list[i] == alpha_index[index_blockOption2]:\n",
        "    freq_blockOption2_index = i \n",
        "    print(\"Letter\", letter_blockOption2, \"index in letter_list:\", i)"
      ],
      "metadata": {
        "colab": {
          "base_uri": "https://localhost:8080/"
        },
        "id": "BN6qZsjxEbRs",
        "outputId": "e5310582-5ecb-4de5-989e-9041fa52cdae"
      },
      "execution_count": null,
      "outputs": [
        {
          "output_type": "stream",
          "name": "stdout",
          "text": [
            "\u001b[2;37;40m\n",
            "blocks_ToPlay |  [3, 4]\n",
            "\u001b[2;37;40m\n",
            "block3 is: a  \n",
            " index in alpha list:  0 \n",
            "\n",
            "block4 is: e  \n",
            " index in alpha list:  4\n",
            "\u001b[2;37;40m\n",
            "Letter e index in letter_list: 0\n",
            "Letter a index in letter_list: 1\n"
          ]
        }
      ]
    },
    {
      "cell_type": "code",
      "source": [
        "print(\"\\033[2;37;40m\")\n",
        "if letter_freq[freq_blockOption1_index] > letter_freq[freq_blockOption2_index]:\n",
        "  first_iter_gameTwo = letter_blockOption1\n",
        "  first_iter_index_gameTwo = index_blockOption1\n",
        "  second_iter_gameTwo = letter_blockOption2\n",
        "  second_iter_index_gameTwo = index_blockOption2\n",
        "  print(\"First iteration move is to choose letter:\", first_iter_gameTwo, \n",
        "        \" | index in alpha list:\", first_iter_index_gameTwo)  \n",
        "  print(\"Second iteration move is to choose letter:\", second_iter_gameTwo, \n",
        "        \" | index in alpha list:\", second_iter_index_gameTwo) \n",
        "else:\n",
        "  first_iter_gameTwo = letter_blockOption2\n",
        "  first_iter_index_gameTwo = index_blockOption2\n",
        "  second_iter_gameTwo = letter_blockOption1\n",
        "  second_iter_index_gameTwo = index_blockOption1\n",
        "  print(\"First iteration move is to choose letter:\", first_iter_gameTwo, \n",
        "        \" | index in alpha list:\", first_iter_index_gameTwo)  \n",
        "  print(\"Second iteration move is to choose letter:\", second_iter_gameTwo, \n",
        "        \" | index in alpha list:\", second_iter_index_gameTwo) \n",
        "\n",
        "print(\"\\033[2;33;40m\")\n",
        "for i in range(len(letters_gameTwo)):\n",
        "  if np.all(blocks_list[i] == alpha[first_iter_index_gameTwo]):\n",
        "    first_iter_block_gameTwo = i+1\n",
        "    print(\"First iteration: after selecting 'b' & 't', go to Block\", \n",
        "          first_iter_block_gameTwo, \"to complete first word\")\n",
        "\n",
        "for i in range(len(letters_gameTwo)):\n",
        "  if np.all(blocks_list[i] == alpha[second_iter_index_gameTwo]):\n",
        "    second_iter_block_gameTwo = i+1\n",
        "    print(\"Second iteration: after selecting 'b' & 't', go to Block\", \n",
        "          second_iter_block_gameTwo, \"to complete second word\")\n",
        "\n",
        "print(\"\\033[2;37;44m\")\n",
        "# full game sequence # \n",
        "print(\"First iteration of game | Block\", start_block, \"->\", \"Block\", \n",
        "      first_iter_block_gameTwo, \"->\", \"Block\", finish_block)\n",
        "print(\"Second iteration of game | Block\", start_block, \"->\", \"Block\", \n",
        "      second_iter_block_gameTwo, \"->\", \"Block\", finish_block)"
      ],
      "metadata": {
        "colab": {
          "base_uri": "https://localhost:8080/"
        },
        "id": "xeYzS-xMEhkx",
        "outputId": "ddfd21cb-a007-4542-fb70-1fcc1cde1374"
      },
      "execution_count": null,
      "outputs": [
        {
          "output_type": "stream",
          "name": "stdout",
          "text": [
            "\u001b[2;37;40m\n",
            "First iteration move is to choose letter: e  | index in alpha list: 4\n",
            "Second iteration move is to choose letter: a  | index in alpha list: 0\n",
            "\u001b[2;33;40m\n",
            "First iteration move after selecting 'b' and 't' is to fill in by going to Block 4\n",
            "Second iteration move after selecting 'b' and 't' is to fill in by going to Block 3\n",
            "\u001b[2;37;44m\n",
            "First iteration of game | Block 1 -> Block 4 -> Block 2\n",
            "Second iteration of game | Block 1 -> Block 3 -> Block 2\n"
          ]
        }
      ]
    },
    {
      "cell_type": "markdown",
      "source": [
        "**Braille games: linear algebra and machine learning back-end** \n",
        "\n",
        "*   Corresponds to ***Section 4*** in dissertation\n",
        "  *   4.2 Game I:``Complete-the-Braille-Sentence''\n",
        "        *   4.2.1 One-hot, binary vector encoding approach"
      ],
      "metadata": {
        "id": "nhh4bmoxX3R_"
      }
    },
    {
      "cell_type": "code",
      "source": [
        "sentence_1 = \"Hi, how are you?\"\n",
        "print(sentence_1)"
      ],
      "metadata": {
        "id": "8R-6xKm6YA2g",
        "colab": {
          "base_uri": "https://localhost:8080/"
        },
        "outputId": "7bcaac38-473c-4a13-9efe-4486539cbb01"
      },
      "execution_count": null,
      "outputs": [
        {
          "output_type": "stream",
          "name": "stdout",
          "text": [
            "Hi, how are you?\n"
          ]
        }
      ]
    },
    {
      "cell_type": "code",
      "source": [
        "import re\n",
        "\n",
        "def remove_noise(input_sentence):\n",
        "  input_sentence = re.sub(\"(\\,|\\?)\",\"\", input_sentence)\n",
        "  return input_sentence\n",
        "\n",
        "standardise_sentence_1 = remove_noise(sentence_1.lower())\n",
        "print(standardise_sentence_1)"
      ],
      "metadata": {
        "colab": {
          "base_uri": "https://localhost:8080/"
        },
        "id": "QcJNmtGMF-ad",
        "outputId": "8d1668e5-8d91-455a-c663-06c227415290"
      },
      "execution_count": null,
      "outputs": [
        {
          "output_type": "stream",
          "name": "stdout",
          "text": [
            "hi how are you\n"
          ]
        }
      ]
    },
    {
      "cell_type": "code",
      "source": [
        "import string\n",
        "\n",
        "tokenized_sentence_1 = standardise_sentence_1.split()\n",
        "print(tokenized_sentence_1)"
      ],
      "metadata": {
        "colab": {
          "base_uri": "https://localhost:8080/"
        },
        "id": "cZYy8YzAGt-W",
        "outputId": "2cd3a436-8fcf-4b04-d734-fe27b4e0b993"
      },
      "execution_count": null,
      "outputs": [
        {
          "output_type": "stream",
          "name": "stdout",
          "text": [
            "['hi', 'how', 'are', 'you']\n"
          ]
        }
      ]
    },
    {
      "cell_type": "code",
      "source": [
        "import tensorflow as tf\n",
        "from tensorflow.keras.layers import TextVectorization\n",
        "\n",
        "text_vectorization = TextVectorization(max_tokens = len(tokenized_sentence_1), \n",
        "                                       output_mode=\"multi_hot\")\n",
        "text_vectorization.adapt(tokenized_sentence_1)"
      ],
      "metadata": {
        "id": "gvvPqU2YKmYv"
      },
      "execution_count": null,
      "outputs": []
    },
    {
      "cell_type": "code",
      "source": [
        "vectorized_sentence_1 = text_vectorization(tokenized_sentence_1)\n",
        "print(vectorized_sentence_1)"
      ],
      "metadata": {
        "colab": {
          "base_uri": "https://localhost:8080/"
        },
        "id": "bqTMmZQHLCYD",
        "outputId": "c517f612-73eb-4b0f-e171-47566c4a8379"
      },
      "execution_count": null,
      "outputs": [
        {
          "output_type": "stream",
          "name": "stdout",
          "text": [
            "tf.Tensor(\n",
            "[[0. 0. 0. 1.]\n",
            " [0. 0. 1. 0.]\n",
            " [1. 0. 0. 0.]\n",
            " [0. 1. 0. 0.]], shape=(4, 4), dtype=float32)\n"
          ]
        }
      ]
    },
    {
      "cell_type": "code",
      "source": [
        "import tracemalloc\n",
        "tracemalloc.start()\n",
        "\n",
        "t1 = time.process_time()\n",
        "\n",
        "complete_sent_Game1 = \"Hi, how you\"\n",
        "standardise_complete_sent_Game1 = remove_noise(complete_sent_Game1.lower())\n",
        "print(standardise_complete_sent_Game1)\n",
        "tokenized_complete_sent_Game1 = standardise_complete_sent_Game1.split()\n",
        "print(tokenized_complete_sent_Game1)\n",
        "\n",
        "t2 = time.process_time()\n",
        "print('time taken to run:',t2-t1)\n",
        "\n",
        "print(tracemalloc.get_traced_memory())\n",
        "tracemalloc.stop()"
      ],
      "metadata": {
        "colab": {
          "base_uri": "https://localhost:8080/"
        },
        "id": "Uaxc_rv6G5Ts",
        "outputId": "bb4bd1b9-d584-42e5-da3d-e166e0fcdc89"
      },
      "execution_count": null,
      "outputs": [
        {
          "output_type": "stream",
          "name": "stdout",
          "text": [
            "hi how you\n",
            "['hi', 'how', 'you']\n",
            "time taken to run: 0.0016275119999136223\n",
            "(2789, 13083)\n"
          ]
        }
      ]
    },
    {
      "cell_type": "code",
      "source": [
        "complete_sent_Game1_matrix = np.zeros(vectorized_sentence_1.shape)\n",
        "print(complete_sent_Game1_matrix)"
      ],
      "metadata": {
        "colab": {
          "base_uri": "https://localhost:8080/"
        },
        "id": "qSmHPwMGBZIB",
        "outputId": "2cb56446-f963-4fb9-df21-2ba3f2f69f7d"
      },
      "execution_count": null,
      "outputs": [
        {
          "output_type": "stream",
          "name": "stdout",
          "text": [
            "[[0. 0. 0. 0.]\n",
            " [0. 0. 0. 0.]\n",
            " [0. 0. 0. 0.]\n",
            " [0. 0. 0. 0.]]\n"
          ]
        }
      ]
    },
    {
      "cell_type": "code",
      "source": [
        "for i in range(len(tokenized_sentence_1)):\n",
        "  if tokenized_complete_sent_Game1[0] == tokenized_sentence_1[i]:\n",
        "    print(\"First word is index number: \", i)\n",
        "    print(\"First word is: \", tokenized_sentence_1[i])\n",
        "    extracted_vector1 = vectorized_sentence_1[:,i]\n",
        "    print(\"First word vector: \", extracted_vector1)\n",
        "    complete_sent_Game1_matrix[:,i] = extracted_vector1\n",
        "    print(complete_sent_Game1_matrix)"
      ],
      "metadata": {
        "colab": {
          "base_uri": "https://localhost:8080/"
        },
        "id": "hM_mPpi3AIhG",
        "outputId": "48ec3225-7a49-403d-af31-5bf044e9f39f"
      },
      "execution_count": null,
      "outputs": [
        {
          "output_type": "stream",
          "name": "stdout",
          "text": [
            "First word is index number:  0\n",
            "First word is:  hi\n",
            "First word vector:  tf.Tensor([0. 0. 1. 0.], shape=(4,), dtype=float32)\n",
            "[[0. 0. 0. 0.]\n",
            " [0. 0. 0. 0.]\n",
            " [1. 0. 0. 0.]\n",
            " [0. 0. 0. 0.]]\n"
          ]
        }
      ]
    },
    {
      "cell_type": "code",
      "source": [
        "for j in range(1, len(tokenized_complete_sent_Game1)):\n",
        "  for i in range(len(tokenized_sentence_1)):\n",
        "    if tokenized_complete_sent_Game1[j] == tokenized_sentence_1[i]:\n",
        "      print(\"Next word is index number: \", i)\n",
        "      print(\"Next word is: \", tokenized_sentence_1[i])\n",
        "      extracted_vector = vectorized_sentence_1[:,i]\n",
        "      print(\"Next word vector: \", extracted_vector)\n",
        "      complete_sent_Game1_matrix[:,i] = extracted_vector\n",
        "print(complete_sent_Game1_matrix)"
      ],
      "metadata": {
        "colab": {
          "base_uri": "https://localhost:8080/"
        },
        "id": "eyW5MhGj7ZM4",
        "outputId": "e6897026-c0ab-461b-d7f5-b5b9c9059e82"
      },
      "execution_count": null,
      "outputs": [
        {
          "output_type": "stream",
          "name": "stdout",
          "text": [
            "Next word is index number:  1\n",
            "Next word is:  how\n",
            "Next word vector:  tf.Tensor([0. 0. 0. 1.], shape=(4,), dtype=float32)\n",
            "Next word is index number:  3\n",
            "Next word is:  you\n",
            "Next word vector:  tf.Tensor([1. 0. 0. 0.], shape=(4,), dtype=float32)\n",
            "[[0. 0. 0. 1.]\n",
            " [0. 0. 0. 0.]\n",
            " [1. 0. 0. 0.]\n",
            " [0. 1. 0. 0.]]\n"
          ]
        }
      ]
    },
    {
      "cell_type": "code",
      "source": [
        "missing_word_vec = np.zeros(4)\n",
        "print(missing_word_vec)\n",
        "\n",
        "for i in range(len(tokenized_sentence_1)):\n",
        "  if np.all(missing_word_vec == complete_sent_Game1_matrix[:,i]):\n",
        "    print(\"index in sentence missing: \", i)\n",
        "    print(\"missing word: \", tokenized_sentence_1[i])"
      ],
      "metadata": {
        "colab": {
          "base_uri": "https://localhost:8080/"
        },
        "id": "lp6ip90aFtiB",
        "outputId": "706c8676-094e-4908-f355-706c1322fb2a"
      },
      "execution_count": null,
      "outputs": [
        {
          "output_type": "stream",
          "name": "stdout",
          "text": [
            "[0. 0. 0. 0.]\n",
            "index in sentence missing:  2\n",
            "missing word:  are\n"
          ]
        }
      ]
    },
    {
      "cell_type": "markdown",
      "source": [
        "*   Corresponds to ***Section 4*** in dissertation\n",
        "  *   4.2 Game I:``Complete-the-Braille-Sentence''\n",
        "        *   4.2.3 Leveraging self-attention matrices in NLP\n"
      ],
      "metadata": {
        "id": "eNZ4DHJoOTR2"
      }
    },
    {
      "cell_type": "code",
      "source": [
        "tokenized_sentence_1"
      ],
      "metadata": {
        "colab": {
          "base_uri": "https://localhost:8080/"
        },
        "id": "SfBlTpH8-WzV",
        "outputId": "542bfa5a-22b4-4a4a-a12e-6d8ee57f3b5a"
      },
      "execution_count": null,
      "outputs": [
        {
          "output_type": "execute_result",
          "data": {
            "text/plain": [
              "['hi', 'how', 'are', 'you']"
            ]
          },
          "metadata": {},
          "execution_count": 140
        }
      ]
    },
    {
      "cell_type": "code",
      "source": [
        "self_attention_matrix = np.array([[1, 0.8, 0.6, 0.4], [0.8, 1, 0.8, 0.6], \n",
        "                                  [0.6, 0.8, 1, 0.8], [0.4, 0.6, 0.8, 1]])\n",
        "print(\"\\033[1;30;47m Self-Attention Matrix: \")\n",
        "matrixGridRoundCol(self_attention_matrix)"
      ],
      "metadata": {
        "colab": {
          "base_uri": "https://localhost:8080/",
          "height": 192
        },
        "id": "mZCrZPlFGhES",
        "outputId": "6a2f7a97-b258-43d9-fb62-1e277352931d"
      },
      "execution_count": null,
      "outputs": [
        {
          "output_type": "stream",
          "name": "stdout",
          "text": [
            "\u001b[1;30;47m Self-Attention Matrix: \n"
          ]
        },
        {
          "output_type": "display_data",
          "data": {
            "text/plain": [
              "<pandas.io.formats.style.Styler at 0x7f283156d5d0>"
            ],
            "text/html": [
              "<style type=\"text/css\">\n",
              "#T_7fb40_row0_col0, #T_7fb40_row1_col1, #T_7fb40_row2_col2, #T_7fb40_row3_col3 {\n",
              "  background-color: #00004c;\n",
              "  color: #f1f1f1;\n",
              "}\n",
              "#T_7fb40_row0_col1, #T_7fb40_row1_col0, #T_7fb40_row1_col2, #T_7fb40_row2_col1, #T_7fb40_row2_col3, #T_7fb40_row3_col2 {\n",
              "  background-color: #5555ff;\n",
              "  color: #f1f1f1;\n",
              "}\n",
              "#T_7fb40_row0_col2, #T_7fb40_row1_col3, #T_7fb40_row2_col0, #T_7fb40_row3_col1 {\n",
              "  background-color: #ff5555;\n",
              "  color: #f1f1f1;\n",
              "}\n",
              "#T_7fb40_row0_col3, #T_7fb40_row3_col0 {\n",
              "  background-color: #800000;\n",
              "  color: #f1f1f1;\n",
              "}\n",
              "</style>\n",
              "<table id=\"T_7fb40_\" class=\"dataframe\">\n",
              "  <thead>\n",
              "    <tr>\n",
              "      <th class=\"blank level0\" >&nbsp;</th>\n",
              "      <th class=\"col_heading level0 col0\" >0</th>\n",
              "      <th class=\"col_heading level0 col1\" >1</th>\n",
              "      <th class=\"col_heading level0 col2\" >2</th>\n",
              "      <th class=\"col_heading level0 col3\" >3</th>\n",
              "    </tr>\n",
              "  </thead>\n",
              "  <tbody>\n",
              "    <tr>\n",
              "      <th id=\"T_7fb40_level0_row0\" class=\"row_heading level0 row0\" >0</th>\n",
              "      <td id=\"T_7fb40_row0_col0\" class=\"data row0 col0\" >1.000000</td>\n",
              "      <td id=\"T_7fb40_row0_col1\" class=\"data row0 col1\" >0.800000</td>\n",
              "      <td id=\"T_7fb40_row0_col2\" class=\"data row0 col2\" >0.600000</td>\n",
              "      <td id=\"T_7fb40_row0_col3\" class=\"data row0 col3\" >0.400000</td>\n",
              "    </tr>\n",
              "    <tr>\n",
              "      <th id=\"T_7fb40_level0_row1\" class=\"row_heading level0 row1\" >1</th>\n",
              "      <td id=\"T_7fb40_row1_col0\" class=\"data row1 col0\" >0.800000</td>\n",
              "      <td id=\"T_7fb40_row1_col1\" class=\"data row1 col1\" >1.000000</td>\n",
              "      <td id=\"T_7fb40_row1_col2\" class=\"data row1 col2\" >0.800000</td>\n",
              "      <td id=\"T_7fb40_row1_col3\" class=\"data row1 col3\" >0.600000</td>\n",
              "    </tr>\n",
              "    <tr>\n",
              "      <th id=\"T_7fb40_level0_row2\" class=\"row_heading level0 row2\" >2</th>\n",
              "      <td id=\"T_7fb40_row2_col0\" class=\"data row2 col0\" >0.600000</td>\n",
              "      <td id=\"T_7fb40_row2_col1\" class=\"data row2 col1\" >0.800000</td>\n",
              "      <td id=\"T_7fb40_row2_col2\" class=\"data row2 col2\" >1.000000</td>\n",
              "      <td id=\"T_7fb40_row2_col3\" class=\"data row2 col3\" >0.800000</td>\n",
              "    </tr>\n",
              "    <tr>\n",
              "      <th id=\"T_7fb40_level0_row3\" class=\"row_heading level0 row3\" >3</th>\n",
              "      <td id=\"T_7fb40_row3_col0\" class=\"data row3 col0\" >0.400000</td>\n",
              "      <td id=\"T_7fb40_row3_col1\" class=\"data row3 col1\" >0.600000</td>\n",
              "      <td id=\"T_7fb40_row3_col2\" class=\"data row3 col2\" >0.800000</td>\n",
              "      <td id=\"T_7fb40_row3_col3\" class=\"data row3 col3\" >1.000000</td>\n",
              "    </tr>\n",
              "  </tbody>\n",
              "</table>\n"
            ]
          },
          "metadata": {}
        }
      ]
    },
    {
      "cell_type": "code",
      "source": [
        "# If First word is missing \n",
        "missing_word = tokenized_sentence_1[0]\n",
        "print(\"missing word: \", missing_word)\n",
        "\n",
        "for i in range(len(tokenized_sentence_1)):\n",
        "  highest_sim = max(self_attention_matrix[[1,2,3],0])\n",
        "  if self_attention_matrix[i, 0] == highest_sim:\n",
        "    print(\"conext word index: \", i)\n",
        "    print(\"context word : \", tokenized_sentence_1[i])"
      ],
      "metadata": {
        "colab": {
          "base_uri": "https://localhost:8080/"
        },
        "id": "Z5ARuvEX-VgR",
        "outputId": "d2aec034-6173-41e5-de2f-302cb2ed4f22"
      },
      "execution_count": null,
      "outputs": [
        {
          "output_type": "stream",
          "name": "stdout",
          "text": [
            "missing word:  hi\n",
            "conext word index:  1\n",
            "context word :  how\n"
          ]
        }
      ]
    },
    {
      "cell_type": "code",
      "source": [
        "# If Second word is missing\n",
        "\n",
        "missing_word = tokenized_sentence_1[1]\n",
        "print(\"missing word: \", missing_word)\n",
        "\n",
        "for i in range(len(tokenized_sentence_1)):\n",
        "  highest_sim = max(self_attention_matrix[[0,2,3],1])\n",
        "  if self_attention_matrix[i, 1] == highest_sim:\n",
        "    print(\"conext word index: \", i)\n",
        "    print(\"context word : \", tokenized_sentence_1[i])"
      ],
      "metadata": {
        "colab": {
          "base_uri": "https://localhost:8080/"
        },
        "id": "zgPerZlT_lkE",
        "outputId": "0b37765c-b900-4215-8d51-2726dc7a3ecb"
      },
      "execution_count": null,
      "outputs": [
        {
          "output_type": "stream",
          "name": "stdout",
          "text": [
            "missing word:  how\n",
            "conext word index:  0\n",
            "context word :  hi\n",
            "conext word index:  2\n",
            "context word :  are\n"
          ]
        }
      ]
    },
    {
      "cell_type": "code",
      "source": [
        "# If Third word is missing\n",
        "\n",
        "missing_word = tokenized_sentence_1[2]\n",
        "print(\"missing word: \", missing_word)\n",
        "\n",
        "for i in range(len(tokenized_sentence_1)):\n",
        "  highest_sim = max(self_attention_matrix[[0,1,3],2])\n",
        "  if self_attention_matrix[i, 2] == highest_sim:\n",
        "    print(\"conext word index: \", i)\n",
        "    print(\"context word : \", tokenized_sentence_1[i])"
      ],
      "metadata": {
        "colab": {
          "base_uri": "https://localhost:8080/"
        },
        "id": "EP8xtosiAAuL",
        "outputId": "2f61d4de-76f1-4a84-d896-f1e24126fe45"
      },
      "execution_count": null,
      "outputs": [
        {
          "output_type": "stream",
          "name": "stdout",
          "text": [
            "missing word:  are\n",
            "conext word index:  1\n",
            "context word :  how\n",
            "conext word index:  3\n",
            "context word :  you\n"
          ]
        }
      ]
    },
    {
      "cell_type": "code",
      "source": [
        "# If Last word is missing\n",
        "missing_word = tokenized_sentence_1[3]\n",
        "print(\"missing word: \", missing_word)\n",
        "\n",
        "for i in range(len(tokenized_sentence_1)):\n",
        "  highest_sim = max(self_attention_matrix[[0,1,2],3])\n",
        "  if self_attention_matrix[i, 3] == highest_sim:\n",
        "    print(\"conext word index: \", i)\n",
        "    print(\"context word : \", tokenized_sentence_1[i])"
      ],
      "metadata": {
        "colab": {
          "base_uri": "https://localhost:8080/"
        },
        "id": "WVr1zdUyAIiZ",
        "outputId": "065af1c3-acd2-4072-8030-c6b4d810e302"
      },
      "execution_count": null,
      "outputs": [
        {
          "output_type": "stream",
          "name": "stdout",
          "text": [
            "missing word:  you\n",
            "conext word index:  2\n",
            "context word :  are\n"
          ]
        }
      ]
    },
    {
      "cell_type": "markdown",
      "source": [
        "*   Corresponds to ***Section 4*** in dissertation\n",
        "  *   4.2 Game I:``Complete-the-Braille-Sentence''\n",
        "        *   4.2.2 Using Google's Word2Vec model: Skip-grams method\n"
      ],
      "metadata": {
        "id": "PQytDbimOdU_"
      }
    },
    {
      "cell_type": "code",
      "source": [
        "\"\"\"https://www.tensorflow.org/tutorials/text/word2vec#vectorize_\n",
        "                                                      sentences_from_the_corpus\n",
        "\"\"\"\n",
        "import io\n",
        "import re\n",
        "import string\n",
        "import tqdm\n",
        "\n",
        "import numpy as np\n",
        "\n",
        "import tensorflow as tf\n",
        "from tensorflow.keras import layers"
      ],
      "metadata": {
        "id": "yR4003CJOxHC"
      },
      "execution_count": null,
      "outputs": []
    },
    {
      "cell_type": "code",
      "source": [
        "# Load the TensorBoard notebook extension\n",
        "%load_ext tensorboard"
      ],
      "metadata": {
        "id": "au8rmMvTO4Lc"
      },
      "execution_count": null,
      "outputs": []
    },
    {
      "cell_type": "code",
      "source": [
        "SEED = 42\n",
        "AUTOTUNE = tf.data.AUTOTUNE"
      ],
      "metadata": {
        "id": "rN0ZxFPXWr3R"
      },
      "execution_count": null,
      "outputs": []
    },
    {
      "cell_type": "code",
      "source": [
        "tokens = tokenized_sentence_1\n",
        "print(len(tokens))"
      ],
      "metadata": {
        "colab": {
          "base_uri": "https://localhost:8080/"
        },
        "id": "MrMt72MhWtWw",
        "outputId": "52ee6b91-c963-4376-b636-e82990db3c00"
      },
      "execution_count": null,
      "outputs": [
        {
          "output_type": "stream",
          "name": "stdout",
          "text": [
            "4\n"
          ]
        }
      ]
    },
    {
      "cell_type": "code",
      "source": [
        "vocab, index = {}, 1  # start indexing from 1\n",
        "vocab['<pad>'] = 0  # add a padding token\n",
        "for token in tokens:\n",
        "  if token not in vocab:\n",
        "    vocab[token] = index\n",
        "    index += 1\n",
        "vocab_size = len(vocab)\n",
        "print(vocab)"
      ],
      "metadata": {
        "colab": {
          "base_uri": "https://localhost:8080/"
        },
        "id": "wyFMWh-aWyXi",
        "outputId": "91875f2a-ccab-4887-b969-7d284f5ccfb6"
      },
      "execution_count": null,
      "outputs": [
        {
          "output_type": "stream",
          "name": "stdout",
          "text": [
            "{'<pad>': 0, 'hi': 1, 'how': 2, 'are': 3, 'you': 4}\n"
          ]
        }
      ]
    },
    {
      "cell_type": "code",
      "source": [
        "inverse_vocab = {index: token for token, index in vocab.items()}\n",
        "print(inverse_vocab)"
      ],
      "metadata": {
        "colab": {
          "base_uri": "https://localhost:8080/"
        },
        "id": "gf9hGV-vW05Q",
        "outputId": "399eae41-5077-4f5a-f9e4-d0a0d3092489"
      },
      "execution_count": null,
      "outputs": [
        {
          "output_type": "stream",
          "name": "stdout",
          "text": [
            "{0: '<pad>', 1: 'hi', 2: 'how', 3: 'are', 4: 'you'}\n"
          ]
        }
      ]
    },
    {
      "cell_type": "code",
      "source": [
        "example_sequence = [vocab[word] for word in tokens]\n",
        "print(example_sequence)"
      ],
      "metadata": {
        "colab": {
          "base_uri": "https://localhost:8080/"
        },
        "id": "HMlMA_tqXNOn",
        "outputId": "24da2631-1b06-491c-bc59-2323fd7039fe"
      },
      "execution_count": null,
      "outputs": [
        {
          "output_type": "stream",
          "name": "stdout",
          "text": [
            "[1, 2, 3, 4]\n"
          ]
        }
      ]
    },
    {
      "cell_type": "code",
      "source": [
        "window_size = 1\n",
        "positive_skip_grams, _ = tf.keras.preprocessing.sequence.skipgrams(\n",
        "      example_sequence,\n",
        "      vocabulary_size=vocab_size,\n",
        "      window_size=window_size,\n",
        "      negative_samples=0)\n",
        "print(len(positive_skip_grams))"
      ],
      "metadata": {
        "colab": {
          "base_uri": "https://localhost:8080/"
        },
        "id": "GEB6euaUXSXq",
        "outputId": "68cbc362-c492-46f8-ed21-b1ba85196aab"
      },
      "execution_count": null,
      "outputs": [
        {
          "output_type": "stream",
          "name": "stdout",
          "text": [
            "6\n"
          ]
        }
      ]
    },
    {
      "cell_type": "code",
      "source": [
        "for target, context in positive_skip_grams:\n",
        "  print(f\"({target},{context}):({inverse_vocab[target]},{inverse_vocab[context]})\")"
      ],
      "metadata": {
        "colab": {
          "base_uri": "https://localhost:8080/"
        },
        "id": "wDf6NUQlXWJ_",
        "outputId": "d82ceb5b-30c3-4797-814d-510b1282ebcb"
      },
      "execution_count": null,
      "outputs": [
        {
          "output_type": "stream",
          "name": "stdout",
          "text": [
            "(1, 2): (hi, how)\n",
            "(2, 3): (how, are)\n",
            "(2, 1): (how, hi)\n",
            "(3, 2): (are, how)\n",
            "(3, 4): (are, you)\n",
            "(4, 3): (you, are)\n"
          ]
        }
      ]
    },
    {
      "cell_type": "code",
      "source": [
        "# If First word = missing \n",
        "checkerFirstWord_1 = 0      # uses skip-gram (hi, how) \n",
        "\n",
        "# If Second word = missing\n",
        "checkerSecondWord_1 = 1     # uses skip-gram (how, are)\n",
        "checkerSecondWord_2 = 2     # uses skip-gram (how, hi)\n",
        "\n",
        "# If Third word = missing\n",
        "checkerThirdWord_1 = 3      # uses skip-gram (are, how)\n",
        "checkerThirdWord_2 = 4      # uses skip-gram (are, you)\n",
        "\n",
        "# If Last word = missing\n",
        "checkerLastWord_1 = 5       # uses skip-gram (you, are)"
      ],
      "metadata": {
        "id": "m3t4E6U77uhe"
      },
      "execution_count": null,
      "outputs": []
    },
    {
      "cell_type": "code",
      "source": [
        "# Get target and context words for one positive skip-gram.\n",
        "target_word, context_word = positive_skip_grams[checkerLastWord_1]\n",
        "\n",
        "# Set the number of negative samples per positive context.\n",
        "num_ns = 4\n",
        "\n",
        "context_class = tf.reshape(tf.constant(context_word, dtype=\"int64\"), (1, 1))\n",
        "negative_sampling_candidates, _, _ = tf.random.log_uniform_candidate_sampler(\n",
        "    true_classes=context_class,  # class that should be sampled as 'positive'\n",
        "    num_true=1,  # each positive skip-gram has 1 positive context class\n",
        "    num_sampled=num_ns,  # number of negative context words to sample\n",
        "    unique=True,  # all the negative samples should be unique\n",
        "    range_max=vocab_size,  # pick index of the samples from [0, vocab_size]\n",
        "    seed=SEED,  # seed for reproducibility\n",
        "    name=\"negative_sampling\"  # name of this operation\n",
        ")\n",
        "print(negative_sampling_candidates)\n",
        "print([inverse_vocab[index.numpy()] for index in negative_sampling_candidates])"
      ],
      "metadata": {
        "colab": {
          "base_uri": "https://localhost:8080/"
        },
        "id": "W9eBXqHFXZeq",
        "outputId": "b1ad1564-e184-4e84-b5dd-6a513d02bfd4"
      },
      "execution_count": null,
      "outputs": [
        {
          "output_type": "stream",
          "name": "stdout",
          "text": [
            "tf.Tensor([1 0 2 3], shape=(4,), dtype=int64)\n",
            "['hi', '<pad>', 'how', 'are']\n"
          ]
        }
      ]
    },
    {
      "cell_type": "code",
      "source": [
        "# Add dimension so you can use concatenation (in next step)\n",
        "negative_sampling_candidates = tf.expand_dims(negative_sampling_candidates, 1)\n",
        "\n",
        "# Concatenate a positive context word with negative sampled words\n",
        "context = tf.concat([context_class, negative_sampling_candidates], 0)\n",
        "\n",
        "# Label first context word as `1` (positive) then `num_ns` `0`s (negative)\n",
        "label = tf.constant([1] + [0]*num_ns, dtype=\"int64\")\n",
        "\n",
        "# Reshape target to shape `(1,)` and context + label to `(num_ns+1,)`\n",
        "target = tf.squeeze(target_word)\n",
        "context = tf.squeeze(context)\n",
        "label = tf.squeeze(label)"
      ],
      "metadata": {
        "id": "jEJw2QpZYI-a"
      },
      "execution_count": null,
      "outputs": []
    },
    {
      "cell_type": "code",
      "source": [
        "print(f\"target_index    : {target}\")\n",
        "print(f\"target_word     : {inverse_vocab[target_word]}\")\n",
        "print(f\"context_indices : {context}\")\n",
        "print(f\"context_words   : {[inverse_vocab[c.numpy()] for c in context]}\")\n",
        "print(f\"label           : {label}\")"
      ],
      "metadata": {
        "colab": {
          "base_uri": "https://localhost:8080/"
        },
        "id": "dy54-u4WYsBD",
        "outputId": "0d1b887f-e832-4f45-ea27-ab4af4a4ec0a"
      },
      "execution_count": null,
      "outputs": [
        {
          "output_type": "stream",
          "name": "stdout",
          "text": [
            "target_index    : 4\n",
            "target_word     : you\n",
            "context_indices : [3 1 0 2 3]\n",
            "context_words   : ['are', 'hi', '<pad>', 'how', 'are']\n",
            "label           : [1 0 0 0 0]\n"
          ]
        }
      ]
    },
    {
      "cell_type": "code",
      "source": [
        "print(\"target  :\", target)\n",
        "print(\"context :\", context)\n",
        "print(\"label   :\", label)"
      ],
      "metadata": {
        "colab": {
          "base_uri": "https://localhost:8080/"
        },
        "id": "cDvMWvm7YuA3",
        "outputId": "f65106c0-3352-4adc-de6e-aa085b134a38"
      },
      "execution_count": null,
      "outputs": [
        {
          "output_type": "stream",
          "name": "stdout",
          "text": [
            "target  : tf.Tensor(4, shape=(), dtype=int32)\n",
            "context : tf.Tensor([3 1 0 2 3], shape=(5,), dtype=int64)\n",
            "label   : tf.Tensor([1 0 0 0 0], shape=(5,), dtype=int64)\n"
          ]
        }
      ]
    },
    {
      "cell_type": "markdown",
      "source": [
        "*   Corresponds to ***Section 4*** in dissertation\n",
        "    *   4.3 Leveraging Facebook's Fasttext Model\n",
        "        *   4.3.1 Game II: Animals vs Shapes (pre-trained embeddings), print 2D shapes via linear systems"
      ],
      "metadata": {
        "id": "_8Mj41GmO4de"
      }
    },
    {
      "cell_type": "markdown",
      "source": [
        "Which word is the *odd* one?"
      ],
      "metadata": {
        "id": "6VtYKCpq8B-9"
      }
    },
    {
      "cell_type": "code",
      "source": [
        "import gensim.downloader as api"
      ],
      "metadata": {
        "id": "gNr34jzo-nK7"
      },
      "execution_count": null,
      "outputs": []
    },
    {
      "cell_type": "code",
      "source": [
        "# download pre-trained world embeddings: fasttext\n",
        "# built on large corpuses of common text data \n",
        "fasttext_model300 = api.load('fasttext-wiki-news-subwords-300')"
      ],
      "metadata": {
        "colab": {
          "base_uri": "https://localhost:8080/"
        },
        "id": "G7pStZaz-nin",
        "outputId": "3b8fea69-7b16-4c6a-d015-edfa00cca8d3"
      },
      "execution_count": null,
      "outputs": [
        {
          "metadata": {
            "tags": null
          },
          "name": "stdout",
          "output_type": "stream",
          "text": [
            "[==================================================] 100.0% 958.5/958.4MB downloaded\n"
          ]
        }
      ]
    },
    {
      "cell_type": "code",
      "source": [
        "animals_list = ['tiger', 'fox', 'dog', 'cat']\n",
        "shapes_list = ['circle', 'triangle', 'square', 'rectangle']"
      ],
      "metadata": {
        "id": "6RycKw2o-po5"
      },
      "execution_count": null,
      "outputs": []
    },
    {
      "cell_type": "code",
      "source": [
        "import random\n",
        "\n",
        "if len(animals_list) == len(shapes_list):\n",
        "  rand_index = random.randint(0, len(animals_list)-1)\n",
        "  print(\"OK: proceed\")\n",
        "else:\n",
        "  print(\"WARNING: lists not same length\")"
      ],
      "metadata": {
        "colab": {
          "base_uri": "https://localhost:8080/"
        },
        "id": "_5dupY0KAgXC",
        "outputId": "7e9d27a2-dd54-4909-827b-aae4d82c7714"
      },
      "execution_count": null,
      "outputs": [
        {
          "output_type": "stream",
          "name": "stdout",
          "text": [
            "OK: proceed\n"
          ]
        }
      ]
    },
    {
      "cell_type": "code",
      "source": [
        "# Which word from the given list doesn't go with the others?\n",
        "game_s_1 = ['tiger', 'fox', 'dog', 'cat', shapes_list[rand_index]]\n",
        "odd_word_1 = fasttext_model300.doesnt_match(game_s_1)\n",
        "print(odd_word_1)  "
      ],
      "metadata": {
        "colab": {
          "base_uri": "https://localhost:8080/"
        },
        "id": "5mBQkmuIAirk",
        "outputId": "8cef3a2e-ec9e-4882-9373-40b74e95c172"
      },
      "execution_count": null,
      "outputs": [
        {
          "output_type": "stream",
          "name": "stdout",
          "text": [
            "triangle\n"
          ]
        },
        {
          "output_type": "stream",
          "name": "stderr",
          "text": [
            "/usr/local/lib/python3.7/dist-packages/gensim/models/keyedvectors.py:895: FutureWarning: arrays to stack must be passed as a \"sequence\" type such as list or tuple. Support for non-sequence iterables such as generators is deprecated as of NumPy 1.16 and will raise an error in the future.\n",
            "  vectors = vstack(self.word_vec(word, use_norm=True) for word in used_words).astype(REAL)\n"
          ]
        }
      ]
    },
    {
      "cell_type": "code",
      "source": [
        "# Which word from the given list doesn't go with the others?\n",
        "game_s_2 =['triangle', 'square', 'circle', 'rectangle',animals_list[rand_index]]\n",
        "odd_word_2 = fasttext_model300.doesnt_match(game_s_2) \n",
        "print(odd_word_2)  "
      ],
      "metadata": {
        "colab": {
          "base_uri": "https://localhost:8080/"
        },
        "id": "itbb85dsAmiR",
        "outputId": "71ba3b54-e299-46c5-b6b0-9fcb80b9b1b3"
      },
      "execution_count": null,
      "outputs": [
        {
          "output_type": "stream",
          "name": "stdout",
          "text": [
            "fox\n"
          ]
        },
        {
          "output_type": "stream",
          "name": "stderr",
          "text": [
            "/usr/local/lib/python3.7/dist-packages/gensim/models/keyedvectors.py:895: FutureWarning: arrays to stack must be passed as a \"sequence\" type such as list or tuple. Support for non-sequence iterables such as generators is deprecated as of NumPy 1.16 and will raise an error in the future.\n",
            "  vectors = vstack(self.word_vec(word, use_norm=True) for word in used_words).astype(REAL)\n"
          ]
        }
      ]
    },
    {
      "cell_type": "code",
      "source": [
        "# convert game_s_1, game_s_2, odd_word_1, odd_word_2 to braille as shown before\n",
        "# under game_s_1 print the shape to teach kid"
      ],
      "metadata": {
        "id": "zeZar37kAqXx"
      },
      "execution_count": null,
      "outputs": []
    },
    {
      "cell_type": "markdown",
      "source": [
        "Print 2D shapes using linear algebra back-end "
      ],
      "metadata": {
        "id": "Q0aFnLpbaqqs"
      }
    },
    {
      "cell_type": "code",
      "source": [
        "# Triangle via NLA\n",
        "# EQUATION 1: x - y = 0\n",
        "# EQUATION 2: x + y = 20\n",
        "# EQUATION 3:     y = 2\n",
        "\n",
        "A_1 = np.array([[1, -1], [1, 1]])\n",
        "b_1 = np.array([0, 20])\n",
        "x_1 = np.linalg.solve(A_1, b_1)\n",
        "x1, y1 = x_1\n",
        "print(\"First vertex of triangle: \\n x1 = \", x1, \" | y1 = \", y1, \"\\n\")\n",
        "\n",
        "A_2 = np.array([[1, -1], [0, 1]])\n",
        "b_2 = np.array([0, 2])\n",
        "x_2 = np.linalg.solve(A_2, b_2)\n",
        "x2, y2 = x_2\n",
        "print(\"Second vertex of triangle: \\n x2 = \", x2, \" | y2 = \", y2, \"\\n\")\n",
        "\n",
        "A_3 = np.array([[1, 1], [0, 1]])\n",
        "b_3 = np.array([20, 2])\n",
        "x_3 = np.linalg.solve(A_3, b_3)\n",
        "x3, y3 = x_3\n",
        "print(\"Third vertex of triangle: \\n x3 = \", x3, \" | y3 = \", y3)\n",
        "\n",
        "triangle = plt.figure()\n",
        "\n",
        "x = [x1, x2, x3, x1]\n",
        "y = [y1, y2, y3, y1]\n",
        "\n",
        "plt.plot(x, y, 'go-', linewidth=2, markersize=12)\n",
        "plt.axis(\"equal\")\n",
        "plt.savefig('triangle.png')\n",
        "plt.show()"
      ],
      "metadata": {
        "colab": {
          "base_uri": "https://localhost:8080/",
          "height": 404
        },
        "id": "KXylgzW8i47e",
        "outputId": "b33790b8-3fca-4244-c513-5880c2cbd40c"
      },
      "execution_count": null,
      "outputs": [
        {
          "output_type": "stream",
          "name": "stdout",
          "text": [
            "First vertex of triangle: \n",
            " x1 =  10.0  | y1 =  10.0 \n",
            "\n",
            "Second vertex of triangle: \n",
            " x2 =  2.0  | y2 =  2.0 \n",
            "\n",
            "Third vertex of triangle: \n",
            " x3 =  18.0  | y3 =  2.0\n"
          ]
        },
        {
          "output_type": "display_data",
          "data": {
            "text/plain": [
              "<Figure size 432x288 with 1 Axes>"
            ],
            "image/png": "[encoded data removed]"
          },
          "metadata": {
            "needs_background": "light"
          }
        }
      ]
    },
    {
      "cell_type": "code",
      "source": [
        "# Circle via LA\n",
        "# EQUATION 1: x^2 + y^2 - 1 = 0\n",
        "\n",
        "# Use NLA to derive x, y equation \n",
        "# let x = 2 and y = 4, should be 2^2 + 4^2 - 1 = 19\n",
        "\n",
        "x = 2\n",
        "x_squared = 2**2\n",
        "y = 4\n",
        "y_squared = 4**2 \n",
        "\n",
        "y_vector = np.array([1, y, y_squared])\n",
        "constants_vector = np.array([[-1, 0, 1], [0, 0, 0], [1, 0, 0]])\n",
        "x_vector = np.array([[1], [x], [x_squared]])\n",
        "circle_eq_step1 = np.matmul(y_vector, constants_vector)\n",
        "circle_eq_full = np.matmul(circle_eq_step1, x_vector)\n",
        "\n",
        "if circle_eq_full == (2**2 + 4**2 - 1):\n",
        "  print(\"Equation of circle: x^2 + y^2 = 1\")\n",
        "\n",
        "# transform to polar coordinates \n",
        "\n",
        "circle = plt.figure()\n",
        "\n",
        "phi = np.linspace(0, 2*np.pi, 200)\n",
        "r = 1\n",
        "x = r*np.cos(phi)\n",
        "y = r*np.sin(phi)\n",
        "\n",
        "plt.plot(x, y, 'co-')\n",
        "plt.axis(\"equal\")\n",
        "plt.savefig('circle.png')\n",
        "plt.show()"
      ],
      "metadata": {
        "colab": {
          "base_uri": "https://localhost:8080/",
          "height": 283
        },
        "id": "WWlMKnk3m0Kc",
        "outputId": "5809ddd0-b434-43a6-87ae-40ccf5767cdc"
      },
      "execution_count": null,
      "outputs": [
        {
          "output_type": "stream",
          "name": "stdout",
          "text": [
            "Equation of circle: x^2 + y^2 = 1\n"
          ]
        },
        {
          "output_type": "display_data",
          "data": {
            "text/plain": [
              "<Figure size 432x288 with 1 Axes>"
            ],
            "image/png": "[encoded data removed]"
          },
          "metadata": {
            "needs_background": "light"
          }
        }
      ]
    },
    {
      "cell_type": "code",
      "source": [
        "# Square via NLA\n",
        "# EQUATION 1: x = 2\n",
        "# EQUATION 2: x = 20\n",
        "# EQUATION 3: y = 20\n",
        "# EQUATION 4: y = 2\n",
        "\n",
        "A_1 = np.identity(2)\n",
        "b_1 = np.array([2, 2])\n",
        "x_1 = np.linalg.solve(A_1, b_1)\n",
        "x1, y1 = x_1\n",
        "print(\"First vertex of square: \\n x1 = \", x1, \" | y1 = \", y1, \"\\n\")\n",
        "\n",
        "A_2 = np.identity(2)\n",
        "b_2 = np.array([2, 20])\n",
        "x_2 = np.linalg.solve(A_2, b_2)\n",
        "x2, y2 = x_2\n",
        "print(\"Second vertex of square: \\n x2 = \", x2, \" | y2 = \", y2, \"\\n\")\n",
        "\n",
        "A_3 = np.identity(2)\n",
        "b_3 = np.array([20, 20])\n",
        "x_3 = np.linalg.solve(A_3, b_3)\n",
        "x3, y3 = x_3\n",
        "print(\"Third vertex of square: \\n x3 = \", x3, \" | y3 = \", y3, \"\\n \")\n",
        "\n",
        "A_4 = np.identity(2)\n",
        "b_4 = np.array([20, 2])\n",
        "x_4 = np.linalg.solve(A_4, b_4)\n",
        "x4, y4 = x_4\n",
        "print(\"Fourth vertex of square: \\n x4 = \", x4, \" | y4 = \", y4)\n",
        "\n",
        "square = plt.figure()\n",
        "\n",
        "x = [x1, x2, x3, x4, x1]\n",
        "y = [y1, y2, y3, y4, y1]\n",
        "\n",
        "plt.plot(x, y, 'mo-', linewidth=2, markersize=12)\n",
        "plt.axis(\"equal\")\n",
        "plt.savefig('square.png')\n",
        "plt.show()"
      ],
      "metadata": {
        "colab": {
          "base_uri": "https://localhost:8080/",
          "height": 456
        },
        "id": "3EcJtlp2sGKD",
        "outputId": "3199c7ff-6874-41b2-ef54-450e595ead0f"
      },
      "execution_count": null,
      "outputs": [
        {
          "output_type": "stream",
          "name": "stdout",
          "text": [
            "First vertex of square: \n",
            " x1 =  2.0  | y1 =  2.0 \n",
            "\n",
            "Second vertex of square: \n",
            " x2 =  2.0  | y2 =  20.0 \n",
            "\n",
            "Third vertex of square: \n",
            " x3 =  20.0  | y3 =  20.0 \n",
            " \n",
            "Fourth vertex of square: \n",
            " x4 =  20.0  | y4 =  2.0\n"
          ]
        },
        {
          "output_type": "display_data",
          "data": {
            "text/plain": [
              "<Figure size 432x288 with 1 Axes>"
            ],
            "image/png": "[encoded data removed]"
          },
          "metadata": {
            "needs_background": "light"
          }
        }
      ]
    },
    {
      "cell_type": "code",
      "source": [
        "# Rectangle via NLA\n",
        "# EQUATION 1: x = 2\n",
        "# EQUATION 2: x = 40\n",
        "# EQUATION 3: y = 20\n",
        "# EQUATION 4: y = 2\n",
        "\n",
        "A_1 = np.identity(2)\n",
        "b_1 = np.array([2, 2])\n",
        "x_1 = np.linalg.solve(A_1, b_1)\n",
        "x1, y1 = x_1\n",
        "print(\"First vertex of rectangle: \\n x1 = \", x1, \" | y1 = \", y1, \"\\n\")\n",
        "\n",
        "A_2 = np.identity(2)\n",
        "b_2 = np.array([2, 20])\n",
        "x_2 = np.linalg.solve(A_2, b_2)\n",
        "x2, y2 = x_2\n",
        "print(\"Second vertex of rectangle: \\n x2 = \", x2, \" | y2 = \", y2, \"\\n\")\n",
        "\n",
        "A_3 = np.identity(2)\n",
        "b_3 = np.array([40, 20])\n",
        "x_3 = np.linalg.solve(A_3, b_3)\n",
        "x3, y3 = x_3\n",
        "print(\"Third vertex of rectangle: \\n x3 = \", x3, \" | y3 = \", y3, \"\\n \")\n",
        "\n",
        "A_4 = np.identity(2)\n",
        "b_4 = np.array([40, 2])\n",
        "x_4 = np.linalg.solve(A_4, b_4)\n",
        "x4, y4 = x_4\n",
        "print(\"Fourth vertex of rectangle: \\n x4 = \", x4, \" | y4 = \", y4)\n",
        "\n",
        "rectangle = plt.figure()\n",
        "\n",
        "x = [x1, x2, x3, x4, x1]\n",
        "y = [y1, y2, y3, y4, y1]\n",
        "\n",
        "plt.plot(x, y, 'bo-', linewidth=2, markersize=12)\n",
        "plt.axis(\"equal\")\n",
        "plt.savefig('rectangle.png')\n",
        "plt.show()"
      ],
      "metadata": {
        "colab": {
          "base_uri": "https://localhost:8080/",
          "height": 456
        },
        "id": "_1t-dcrbxax_",
        "outputId": "8e7585b5-e476-4d1d-fca0-8d6a746ae5db"
      },
      "execution_count": null,
      "outputs": [
        {
          "output_type": "stream",
          "name": "stdout",
          "text": [
            "First vertex of rectangle: \n",
            " x1 =  2.0  | y1 =  2.0 \n",
            "\n",
            "Second vertex of rectangle: \n",
            " x2 =  2.0  | y2 =  20.0 \n",
            "\n",
            "Third vertex of rectangle: \n",
            " x3 =  40.0  | y3 =  20.0 \n",
            " \n",
            "Fourth vertex of rectangle: \n",
            " x4 =  40.0  | y4 =  2.0\n"
          ]
        },
        {
          "output_type": "display_data",
          "data": {
            "text/plain": [
              "<Figure size 432x288 with 1 Axes>"
            ],
            "image/png": "[encoded data removed]"
          },
          "metadata": {
            "needs_background": "light"
          }
        }
      ]
    },
    {
      "cell_type": "markdown",
      "source": [
        "*   Corresponds to ***Section 4*** in dissertation\n",
        "    *   4.3 Leveraging Facebook's Fasttext Model\n",
        "        *   4.3.2 Game III: Learn common English synonyms"
      ],
      "metadata": {
        "id": "_fI7-RrcPFaC"
      }
    },
    {
      "cell_type": "code",
      "source": [
        "fasttext_model300.most_similar(positive=\"lovely\", topn=2)"
      ],
      "metadata": {
        "colab": {
          "base_uri": "https://localhost:8080/"
        },
        "id": "WLgJUGE0Aubc",
        "outputId": "5d98488e-2894-4c60-bd33-dd2da64582da"
      },
      "execution_count": null,
      "outputs": [
        {
          "output_type": "execute_result",
          "data": {
            "text/plain": [
              "[('beautiful', 0.870550811290741), ('gorgeous', 0.8430044054985046)]"
            ]
          },
          "metadata": {},
          "execution_count": 8
        }
      ]
    },
    {
      "cell_type": "code",
      "source": [
        "# compute cosine disances from given word or vector to all words in other vector\n",
        "print(fasttext_model300.distances('lovely', ['beautiful', 'gorgeous', \n",
        "                                             'distasteful'])) "
      ],
      "metadata": {
        "colab": {
          "base_uri": "https://localhost:8080/"
        },
        "id": "-ISe1hWqA2o0",
        "outputId": "f802f3f0-06b7-48e2-daf3-c2368ef167e8"
      },
      "execution_count": null,
      "outputs": [
        {
          "output_type": "stream",
          "name": "stdout",
          "text": [
            "[0.12944931 0.1569956  0.41322458]\n"
          ]
        }
      ]
    },
    {
      "cell_type": "code",
      "source": [
        "# compute cosine similarities (orthogonal)\n",
        "print(fasttext_model300.cosine_similarities(fasttext_model300['lovely'], \n",
        "    vectors_all=(fasttext_model300['beautiful'], fasttext_model300['gorgeous'], \n",
        "                   fasttext_model300['distasteful'])))  "
      ],
      "metadata": {
        "colab": {
          "base_uri": "https://localhost:8080/"
        },
        "id": "LdugRBIHA35m",
        "outputId": "69a32543-d6eb-42ec-e559-4ceaf627c164"
      },
      "execution_count": null,
      "outputs": [
        {
          "output_type": "stream",
          "name": "stdout",
          "text": [
            "[0.8705507 0.8430044 0.5867754]\n"
          ]
        }
      ]
    },
    {
      "cell_type": "code",
      "source": [
        "fasttext_model300.wv['lovely']"
      ],
      "metadata": {
        "id": "bpDOgggi11x1"
      },
      "execution_count": null,
      "outputs": []
    },
    {
      "cell_type": "code",
      "source": [
        "from google.colab import files\n",
        "uploaded = files.upload()"
      ],
      "metadata": {
        "colab": {
          "resources": {
            "http://localhost:8080/nbextensions/google.colab/files.js": {
              "data": "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",
              "ok": true,
              "headers": [
                [
                  "content-type",
                  "application/javascript"
                ]
              ],
              "status": 200,
              "status_text": ""
            }
          },
          "base_uri": "https://localhost:8080/",
          "height": 73
        },
        "id": "O7yDsWn6BZ-6",
        "outputId": "63680814-b999-4c19-8e6b-b46a9409dad7"
      },
      "execution_count": null,
      "outputs": [
        {
          "output_type": "display_data",
          "data": {
            "text/plain": [
              "<IPython.core.display.HTML object>"
            ],
            "text/html": [
              "\n",
              "     <input type=\"file\" id=\"files-e3a00f3c-2d4c-42e0-8456-bd4a1c917907\" name=\"files[]\" multiple disabled\n",
              "        style=\"border:none\" />\n",
              "     <output id=\"result-e3a00f3c-2d4c-42e0-8456-bd4a1c917907\">\n",
              "      Upload widget is only available when the cell has been executed in the\n",
              "      current browser session. Please rerun this cell to enable.\n",
              "      </output>\n",
              "      <script src=\"/nbextensions/google.colab/files.js\"></script> "
            ]
          },
          "metadata": {}
        },
        {
          "output_type": "stream",
          "name": "stdout",
          "text": [
            "Saving questions-words.txt to questions-words.txt\n"
          ]
        }
      ]
    },
    {
      "cell_type": "code",
      "source": [
        "# fasttext_accuracy\n",
        "fasttext_model300.evaluate_word_analogies(analogies=\"questions-words.txt\")[0]"
      ],
      "metadata": {
        "colab": {
          "base_uri": "https://localhost:8080/"
        },
        "id": "Cff4uliqA8V3",
        "outputId": "5e3e581a-e6bd-4bf6-fbd0-87708358552b"
      },
      "execution_count": null,
      "outputs": [
        {
          "output_type": "execute_result",
          "data": {
            "text/plain": [
              "0.8827876424099353"
            ]
          },
          "metadata": {},
          "execution_count": 12
        }
      ]
    },
    {
      "cell_type": "markdown",
      "source": [
        "*   Corresponds to ***Section 4*** in dissertation\n",
        "    *   4.3 Leveraging Facebook's Fasttext Model\n",
        "        *   4.3.3 Game IV: Braille trivia ``Guess the City/Country!\""
      ],
      "metadata": {
        "id": "CvFIV4hTPKOo"
      }
    },
    {
      "cell_type": "code",
      "source": [
        "def pp(obj):\n",
        "    print(pd.DataFrame(obj))\n",
        "    \n",
        "def analogy(worda, wordb, wordc):\n",
        "    result = fasttext_model300.most_similar(negative=[worda], \n",
        "                                positive=[wordb, wordc])\n",
        "    return result[0][0]\n",
        "\n",
        "countries = ['Greece', 'Canada', 'Germany', 'Egypt', 'Japan', 'Armenia']\n",
        "cities = [analogy('France', 'Paris', country) for country in countries]\n",
        "pp(zip(countries, cities))"
      ],
      "metadata": {
        "colab": {
          "base_uri": "https://localhost:8080/"
        },
        "id": "U3rU1_XjLCBK",
        "outputId": "314ad4ff-6810-467e-962f-40403d60ad6a"
      },
      "execution_count": null,
      "outputs": [
        {
          "output_type": "stream",
          "name": "stdout",
          "text": [
            "         0        1\n",
            "0   Greece   Athens\n",
            "1   Canada  Toronto\n",
            "2  Germany   Berlin\n",
            "3    Egypt    Cairo\n",
            "4    Japan    Tokyo\n",
            "5  Armenia  Yerevan\n"
          ]
        }
      ]
    },
    {
      "cell_type": "code",
      "source": [
        "from sklearn.decomposition import PCA\n",
        "\n",
        "def plot_data(orig_data, labels):\n",
        "    pca = PCA(n_components=2)\n",
        "    data = pca.fit_transform(orig_data)\n",
        "    plt.figure(figsize=(7, 5), dpi=100)\n",
        "    plt.plot(data[:,0], data[:,1], '.')\n",
        "    for i in range(len(data)):\n",
        "        plt.annotate(labels[i], xy = data[i])\n",
        "    for i in range(len(data)//2):\n",
        "        plt.annotate(\"\", xy=data[i], xytext=data[i+len(data)//2], \n",
        "                     arrowprops=dict(arrowstyle=\"->\", color=\"0.5\",\n",
        "                                shrinkA=5, shrinkB=5,\n",
        "                                patchA=None, patchB=None,\n",
        "                                connectionstyle=\"arc3,rad=0.\")\n",
        "                )\n",
        "               \n",
        "labels = countries + cities\n",
        "data = [fasttext_model300[w] for w in labels]\n",
        "plot_data(data, labels)"
      ],
      "metadata": {
        "colab": {
          "base_uri": "https://localhost:8080/",
          "height": 438
        },
        "id": "zncQPEqXZ0No",
        "outputId": "0f421f89-fe4d-405c-f64c-9aa2d9fac1bf"
      },
      "execution_count": null,
      "outputs": [
        {
          "output_type": "display_data",
          "data": {
            "text/plain": [
              "<Figure size 700x500 with 1 Axes>"
            ],
            "image/png": "[encoded data removed]"
          },
          "metadata": {}
        }
      ]
    },
    {
      "cell_type": "markdown",
      "source": [
        "*   Corresponds to ***Section 5*** in dissertation\n",
        "    *   5 Conclusion and Future Work \n",
        "          *   More advanced ML powered word games + how to translate to Braille"
      ],
      "metadata": {
        "id": "RGzfndZaOlFc"
      }
    },
    {
      "cell_type": "code",
      "source": [
        "import nltk\n",
        "nltk.download('punkt')\n",
        "nltk.download('averaged_perceptron_tagger')\n",
        "nltk.download('tagsets')"
      ],
      "metadata": {
        "colab": {
          "base_uri": "https://localhost:8080/"
        },
        "id": "Bgq_rsScI7Nw",
        "outputId": "bf65ea49-68cb-4e3c-d1e7-0bcdec005b03"
      },
      "execution_count": null,
      "outputs": [
        {
          "output_type": "stream",
          "name": "stdout",
          "text": [
            "[nltk_data] Downloading package punkt to /root/nltk_data...\n",
            "[nltk_data]   Package punkt is already up-to-date!\n",
            "[nltk_data] Downloading package averaged_perceptron_tagger to\n",
            "[nltk_data]     /root/nltk_data...\n",
            "[nltk_data]   Package averaged_perceptron_tagger is already up-to-\n",
            "[nltk_data]       date!\n",
            "[nltk_data] Downloading package tagsets to /root/nltk_data...\n",
            "[nltk_data]   Package tagsets is already up-to-date!\n"
          ]
        },
        {
          "output_type": "execute_result",
          "data": {
            "text/plain": [
              "True"
            ]
          },
          "metadata": {},
          "execution_count": 53
        }
      ]
    },
    {
      "cell_type": "code",
      "source": [
        "s1 = \"I enjoy learning\"\n",
        "s2 = \"I love chocolate\"\n",
        "s3 = \"We are friends\"\n",
        "s4 = \"You taste food\"\n",
        "\n",
        "tokens_s1 = nltk.word_tokenize(s1)\n",
        "tokens_s2 = nltk.word_tokenize(s2)\n",
        "tokens_s3 = nltk.word_tokenize(s3)\n",
        "tokens_s4 = nltk.word_tokenize(s4)"
      ],
      "metadata": {
        "id": "If68-7VjJG4z"
      },
      "execution_count": null,
      "outputs": []
    },
    {
      "cell_type": "code",
      "source": [
        "tags_s1 = nltk.pos_tag(tokens_s1)\n",
        "print(tags_s1)\n",
        "tags_s2 = nltk.pos_tag(tokens_s2)\n",
        "print(tags_s2)\n",
        "tags_s3 = nltk.pos_tag(tokens_s3)\n",
        "print(tags_s3)\n",
        "tags_s4 = nltk.pos_tag(tokens_s4)\n",
        "print(tags_s4)"
      ],
      "metadata": {
        "colab": {
          "base_uri": "https://localhost:8080/"
        },
        "id": "7ktXpKYnJRlP",
        "outputId": "ef818cd4-6da5-4ac3-f77e-9d99eeafc3ef"
      },
      "execution_count": null,
      "outputs": [
        {
          "output_type": "stream",
          "name": "stdout",
          "text": [
            "[('I', 'PRP'), ('enjoy', 'VBP'), ('learning', 'VBG')]\n",
            "[('I', 'PRP'), ('love', 'VBP'), ('chocolate', 'NN')]\n",
            "[('We', 'PRP'), ('are', 'VBP'), ('friends', 'NNS')]\n",
            "[('You', 'PRP'), ('taste', 'VBP'), ('food', 'NN')]\n"
          ]
        }
      ]
    },
    {
      "cell_type": "code",
      "source": [
        "nltk.help.upenn_tagset(\"VBG\")"
      ],
      "metadata": {
        "colab": {
          "base_uri": "https://localhost:8080/"
        },
        "id": "AvL7JRg-JXME",
        "outputId": "857751e2-8246-4f52-b7aa-8a4d091a78e6"
      },
      "execution_count": null,
      "outputs": [
        {
          "output_type": "stream",
          "name": "stdout",
          "text": [
            "VBG: verb, present participle or gerund\n",
            "    telegraphing stirring focusing angering judging stalling lactating\n",
            "    hankerin' alleging veering capping approaching traveling besieging\n",
            "    encrypting interrupting erasing wincing ...\n"
          ]
        }
      ]
    },
    {
      "cell_type": "code",
      "source": [
        "# Example of how it would be converted to Braille #\n",
        "\n",
        "tags_s1_extracted = [[tuple(l.split()) for l in list] for list in tags_s1]\n",
        "print(tags_s1_extracted)"
      ],
      "metadata": {
        "colab": {
          "base_uri": "https://localhost:8080/"
        },
        "id": "Jvpv5mN0zgEc",
        "outputId": "95d26d43-ec99-4068-c4cc-10671d30d83a"
      },
      "execution_count": null,
      "outputs": [
        {
          "output_type": "stream",
          "name": "stdout",
          "text": [
            "[[('I',), ('PRP',)], [('enjoy',), ('VBP',)], [('learning',), ('VBG',)]]\n"
          ]
        }
      ]
    },
    {
      "cell_type": "code",
      "source": [
        "len_first_word = len(tags_s1_extracted[0][0][0])\n",
        "len_first_tag = len(tags_s1_extracted[0][1][0])\n",
        "first_word = [0]*len_first_word\n",
        "first_tag = [0]*len_first_tag\n",
        "\n",
        "len_second_word = len(tags_s1_extracted[1][0][0])\n",
        "len_second_tag = len(tags_s1_extracted[1][1][0])\n",
        "second_word = [0]*len_second_word\n",
        "second_tag = [0]*len_second_tag\n",
        "\n",
        "len_third_word = len(tags_s1_extracted[2][0][0])\n",
        "len_third_tag = len(tags_s1_extracted[2][1][0])\n",
        "third_word = [0]*len_third_word\n",
        "third_tag = [0]*len_third_tag\n",
        "\n",
        "for i in range(len_first_word):\n",
        "  first_word[i] = (tags_s1_extracted[0][0][0][i])\n",
        "print(first_word)\n",
        "for i in range(len_first_tag):\n",
        "  first_tag[i] = (tags_s1_extracted[0][1][0][i])\n",
        "print(first_tag)\n",
        "\n",
        "for i in range(len_second_word):\n",
        "  second_word[i] = (tags_s1_extracted[1][0][0][i])\n",
        "print(second_word)\n",
        "for i in range(len_second_tag):\n",
        "  second_tag[i] = (tags_s1_extracted[1][1][0][i])\n",
        "print(second_tag)\n",
        "\n",
        "for i in range(len_third_word):\n",
        "  third_word[i] = (tags_s1_extracted[2][0][0][i])\n",
        "print(third_word)\n",
        "for i in range(len_third_tag):\n",
        "  third_tag[i] = (tags_s1_extracted[2][1][0][i])\n",
        "print(third_tag)"
      ],
      "metadata": {
        "colab": {
          "base_uri": "https://localhost:8080/"
        },
        "id": "W0iERO2d1R3h",
        "outputId": "7bb12fa0-69a2-47d1-d314-67c7e7618192"
      },
      "execution_count": null,
      "outputs": [
        {
          "output_type": "stream",
          "name": "stdout",
          "text": [
            "['I']\n",
            "['P', 'R', 'P']\n",
            "['e', 'n', 'j', 'o', 'y']\n",
            "['V', 'B', 'P']\n",
            "['l', 'e', 'a', 'r', 'n', 'i', 'n', 'g']\n",
            "['V', 'B', 'G']\n"
          ]
        }
      ]
    },
    {
      "cell_type": "code",
      "source": [
        "# Printing Braille form # \n",
        "for j in range(len_first_word):  # sample how to extract first word and its tag\n",
        "  for i in range(0,26,1):\n",
        "    if first_word[j] == alpha_capital_index[i]:\n",
        "      print(\"first word Alphabet, letter #\", j+1,\" : \\n\",alpha_capital_index[i])\n",
        "      print(\"first word Braille , letter #\", j+1,\" : \\n\",alpha_capital[i], \"\\n\")\n",
        "    elif first_word[j] == alpha_index[i]:\n",
        "      print(\"first word Alphabet, letter #\", j+1, \" : \\n\", alpha_index[i])\n",
        "      print(\"first word Braille, letter #\", j+1, \" : \\n\", alpha[i], \"\\n\")\n",
        "\n",
        "for j in range(len_first_tag):   \n",
        "  for i in range(0,26,1):\n",
        "    if first_tag[j] == alpha_capital_index[i]:\n",
        "      print(\"first tag Alphabet, letter #\", j+1, \" : \\n\",alpha_capital_index[i])\n",
        "      print(\"first tag Braille, letter #\", j+1, \" : \\n\", alpha_capital[i], \"\\n\")\n",
        "    elif first_tag[j] == alpha_index[i]:\n",
        "      print(\"first tag Alphabet, letter #\", j+1, \" : \\n\", alpha_index[i])\n",
        "      print(\"first tag Braille, letter #\", j+1, \" : \\n\", alpha[i], \"\\n\")\n",
        "\n",
        "# next step is to concatenate braille matrices for each word and tag separately"
      ],
      "metadata": {
        "colab": {
          "base_uri": "https://localhost:8080/"
        },
        "id": "vnj3vR-02dgV",
        "outputId": "06b42ed0-041c-49d0-bf32-3491407d6730"
      },
      "execution_count": null,
      "outputs": [
        {
          "output_type": "stream",
          "name": "stdout",
          "text": [
            "first word Alphabet, letter # 1  : \n",
            " I\n",
            "first word Braille , letter # 1  : \n",
            " [[0 0 0 1]\n",
            " [0 0 1 0]\n",
            " [0 1 0 0]] \n",
            "\n",
            "first tag Alphabet, letter # 1  : \n",
            " P\n",
            "first tag Braille, letter # 1  : \n",
            " [[0 0 1 1]\n",
            " [0 0 1 0]\n",
            " [0 1 1 0]] \n",
            "\n",
            "first tag Alphabet, letter # 2  : \n",
            " R\n",
            "first tag Braille, letter # 2  : \n",
            " [[0 0 1 0]\n",
            " [0 0 1 1]\n",
            " [0 1 1 0]] \n",
            "\n",
            "first tag Alphabet, letter # 3  : \n",
            " P\n",
            "first tag Braille, letter # 3  : \n",
            " [[0 0 1 1]\n",
            " [0 0 1 0]\n",
            " [0 1 1 0]] \n",
            "\n"
          ]
        }
      ]
    },
    {
      "cell_type": "code",
      "source": [
        "for j in range(len_second_word): # sample how to extract second word and its tag\n",
        "  for i in range(0,26,1):\n",
        "    if second_word[j] == alpha_capital_index[i]:\n",
        "      print(\"second word Alphabet, letter #\",j+1, \": \\n\",alpha_capital_index[i])\n",
        "      print(\"second word Braille , letter #\",j+1, \": \\n\",alpha_capital[i], \"\\n\")\n",
        "    elif second_word[j] == alpha_index[i]:\n",
        "      print(\"second word Alphabet, letter #\", j+1, \" : \\n\", alpha_index[i])\n",
        "      print(\"second word Braille, letter #\", j+1, \" : \\n\", alpha[i], \"\\n\")\n",
        "\n",
        "for j in range(len_second_tag):   \n",
        "  for i in range(0,26,1):\n",
        "    if second_tag[j] == alpha_capital_index[i]:\n",
        "      print(\"second tag Alphabet, letter #\",j+1, \" : \\n\",alpha_capital_index[i])\n",
        "      print(\"second tag Braille, letter #\", j+1, \" : \\n\",alpha_capital[i], \"\\n\")\n",
        "    elif second_tag[j] == alpha_index[i]:\n",
        "      print(\"second tag Alphabet, letter #\", j+1, \" : \\n\", alpha_index[i])\n",
        "      print(\"second tag Braille, letter #\", j+1, \" : \\n\", alpha[i], \"\\n\")\n",
        "\n",
        "# next step is to concatenate braille matrices for each word and tag separately"
      ],
      "metadata": {
        "colab": {
          "base_uri": "https://localhost:8080/"
        },
        "id": "EXuakMYPCa2d",
        "outputId": "80883384-4411-4f93-e4b8-788e4cef9948"
      },
      "execution_count": null,
      "outputs": [
        {
          "output_type": "stream",
          "name": "stdout",
          "text": [
            "second word Alphabet, letter # 1  : \n",
            " e\n",
            "second word Braille, letter # 1  : \n",
            " [[1 0]\n",
            " [0 1]\n",
            " [0 0]] \n",
            "\n",
            "second word Alphabet, letter # 2  : \n",
            " n\n",
            "second word Braille, letter # 2  : \n",
            " [[1 1]\n",
            " [0 1]\n",
            " [1 0]] \n",
            "\n",
            "second word Alphabet, letter # 3  : \n",
            " j\n",
            "second word Braille, letter # 3  : \n",
            " [[0 1]\n",
            " [1 1]\n",
            " [0 0]] \n",
            "\n",
            "second word Alphabet, letter # 4  : \n",
            " o\n",
            "second word Braille, letter # 4  : \n",
            " [[1 0]\n",
            " [0 1]\n",
            " [1 0]] \n",
            "\n",
            "second word Alphabet, letter # 5  : \n",
            " y\n",
            "second word Braille, letter # 5  : \n",
            " [[1 1]\n",
            " [0 1]\n",
            " [1 1]] \n",
            "\n",
            "second tag Alphabet, letter # 1  : \n",
            " V\n",
            "second tag Braille, letter # 1  : \n",
            " [[0 0 1 0]\n",
            " [0 0 1 0]\n",
            " [0 1 1 1]] \n",
            "\n",
            "second tag Alphabet, letter # 2  : \n",
            " B\n",
            "second tag Braille, letter # 2  : \n",
            " [[0 0 1 0]\n",
            " [0 0 1 0]\n",
            " [0 1 0 0]] \n",
            "\n",
            "second tag Alphabet, letter # 3  : \n",
            " P\n",
            "second tag Braille, letter # 3  : \n",
            " [[0 0 1 1]\n",
            " [0 0 1 0]\n",
            " [0 1 1 0]] \n",
            "\n"
          ]
        }
      ]
    },
    {
      "cell_type": "code",
      "source": [
        "for j in range(len_third_word): # sample how to extract third word and its tag\n",
        "  for i in range(0,26,1):\n",
        "    if third_word[j] == alpha_capital_index[i]:\n",
        "      print(\"third word Alphabet, letter #\",j+1, \" : \\n\",alpha_capital_index[i])\n",
        "      print(\"third word Braille , letter #\",j+1, \" : \\n\",alpha_capital[i], \"\\n\")\n",
        "    elif third_word[j] == alpha_index[i]:\n",
        "      print(\"third word Alphabet, letter #\", j+1, \" : \\n\", alpha_index[i])\n",
        "      print(\"third word Braille, letter #\", j+1, \" : \\n\", alpha[i], \"\\n\")\n",
        "\n",
        "for j in range(len_third_tag):   \n",
        "  for i in range(0,26,1):\n",
        "    if third_tag[j] == alpha_capital_index[i]:\n",
        "      print(\"third tag Alphabet, letter #\", j+1, \" : \\n\",alpha_capital_index[i])\n",
        "      print(\"third tag Braille, letter #\", j+1, \" : \\n\", alpha_capital[i], \"\\n\")\n",
        "    elif third_tag[j] == alpha_index[i]:\n",
        "      print(\"third tag Alphabet, letter #\", j+1, \" : \\n\", alpha_index[i])\n",
        "      print(\"third tag Braille, letter #\", j+1, \" : \\n\", alpha[i], \"\\n\")\n",
        "\n",
        "\n",
        "# next step is to concatenate braille matrices for each word and tag separately"
      ],
      "metadata": {
        "colab": {
          "base_uri": "https://localhost:8080/"
        },
        "id": "HQN9cKYaDYTs",
        "outputId": "1ff7f8cb-ad66-4104-cc6a-1dad38ccdb4c"
      },
      "execution_count": null,
      "outputs": [
        {
          "output_type": "stream",
          "name": "stdout",
          "text": [
            "third word Alphabet, letter # 1  : \n",
            " l\n",
            "third word Braille, letter # 1  : \n",
            " [[1 0]\n",
            " [1 0]\n",
            " [1 0]] \n",
            "\n",
            "third word Alphabet, letter # 2  : \n",
            " e\n",
            "third word Braille, letter # 2  : \n",
            " [[1 0]\n",
            " [0 1]\n",
            " [0 0]] \n",
            "\n",
            "third word Alphabet, letter # 3  : \n",
            " a\n",
            "third word Braille, letter # 3  : \n",
            " [[1 0]\n",
            " [0 0]\n",
            " [0 0]] \n",
            "\n",
            "third word Alphabet, letter # 4  : \n",
            " r\n",
            "third word Braille, letter # 4  : \n",
            " [[1 0]\n",
            " [1 1]\n",
            " [1 0]] \n",
            "\n",
            "third word Alphabet, letter # 5  : \n",
            " n\n",
            "third word Braille, letter # 5  : \n",
            " [[1 1]\n",
            " [0 1]\n",
            " [1 0]] \n",
            "\n",
            "third word Alphabet, letter # 6  : \n",
            " i\n",
            "third word Braille, letter # 6  : \n",
            " [[0 1]\n",
            " [1 0]\n",
            " [0 0]] \n",
            "\n",
            "third word Alphabet, letter # 7  : \n",
            " n\n",
            "third word Braille, letter # 7  : \n",
            " [[1 1]\n",
            " [0 1]\n",
            " [1 0]] \n",
            "\n",
            "third word Alphabet, letter # 8  : \n",
            " g\n",
            "third word Braille, letter # 8  : \n",
            " [[1 1]\n",
            " [1 1]\n",
            " [0 0]] \n",
            "\n",
            "third tag Alphabet, letter # 1  : \n",
            " V\n",
            "third tag Braille, letter # 1  : \n",
            " [[0 0 1 0]\n",
            " [0 0 1 0]\n",
            " [0 1 1 1]] \n",
            "\n",
            "third tag Alphabet, letter # 2  : \n",
            " B\n",
            "third tag Braille, letter # 2  : \n",
            " [[0 0 1 0]\n",
            " [0 0 1 0]\n",
            " [0 1 0 0]] \n",
            "\n",
            "third tag Alphabet, letter # 3  : \n",
            " G\n",
            "third tag Braille, letter # 3  : \n",
            " [[0 0 1 1]\n",
            " [0 0 1 1]\n",
            " [0 1 0 0]] \n",
            "\n"
          ]
        }
      ]
    }
  ]
}